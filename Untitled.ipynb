{
 "cells": [
  {
   "cell_type": "markdown",
   "id": "2476123f",
   "metadata": {},
   "source": [
    "# Ideas\n",
    "\n",
    "Have histograms distributions for the other variables within each variable section.\n",
    "\n",
    "Could lump together needs repair/non functional\n",
    "\n",
    "Have variables like \"installer = funder\" and such. Those variables seem to be very similar.\n",
    "\n",
    "Number of functional wells over the years, non functional wells over the years, etc.\n",
    "\n",
    "Use SMOTE for data with no null values, all known, and no one-time value variables."
   ]
  },
  {
   "cell_type": "code",
   "execution_count": 1,
   "id": "2fd19ab7",
   "metadata": {},
   "outputs": [
    {
     "name": "stdout",
     "output_type": "stream",
     "text": [
      "Intel MKL WARNING: Support of Intel(R) Streaming SIMD Extensions 4.2 (Intel(R) SSE4.2) enabled only processors has been deprecated. Intel oneAPI Math Kernel Library 2025.0 will require Intel(R) Advanced Vector Extensions (Intel(R) AVX) instructions.\n",
      "Intel MKL WARNING: Support of Intel(R) Streaming SIMD Extensions 4.2 (Intel(R) SSE4.2) enabled only processors has been deprecated. Intel oneAPI Math Kernel Library 2025.0 will require Intel(R) Advanced Vector Extensions (Intel(R) AVX) instructions.\n"
     ]
    }
   ],
   "source": [
    "import numpy as np\n",
    "import pandas as pd\n",
    "from tqdm import tqdm\n",
    "from sklearn.model_selection import train_test_split\n",
    "from sklearn.linear_model import LinearRegression, LogisticRegression\n",
    "from sklearn.preprocessing import MinMaxScaler, StandardScaler, OneHotEncoder\n",
    "from sklearn.metrics import accuracy_score\n",
    "from sklearn.tree import DecisionTreeClassifier\n",
    "from sklearn import tree\n",
    "from sklearn.model_selection import GridSearchCV\n",
    "from sklearn.neighbors import KNeighborsClassifier\n",
    "from sklearn.ensemble import BaggingClassifier, RandomForestClassifier\n",
    "from xgboost import XGBClassifier\n",
    "import matplotlib.pyplot as plt"
   ]
  },
  {
   "cell_type": "code",
   "execution_count": 2,
   "id": "6c692095",
   "metadata": {},
   "outputs": [],
   "source": [
    "X_test = pd.read_csv(\"tanzanian_water_wells/X_test.csv\")\n",
    "X_train = pd.read_csv(\"tanzanian_water_wells/X_train.csv\")\n",
    "y_train = pd.read_csv(\"tanzanian_water_wells/y_train.csv\")\n",
    "\n",
    "df = pd.concat([X_train, y_train], axis=1)"
   ]
  },
  {
   "cell_type": "code",
   "execution_count": 3,
   "id": "1ad219ae",
   "metadata": {},
   "outputs": [],
   "source": [
    "desc = {'amount_tsh': 'Total static head (amount water available to waterpoint)',\n",
    "                    'date_recorded': 'The date the row was entered',\n",
    "                    'funder': 'Who funded the well',\n",
    "                    'gps_height': 'Altitude of the well',\n",
    "                    'installer': 'Organization that installed the well',\n",
    "                    'longitude': 'GPS coordinate',\n",
    "                    'latitude': 'GPS coordinate',\n",
    "                    'wpt_name': 'Name of the waterpoint if there is one',\n",
    "                    'subvillage': 'Geographic location',\n",
    "                    'region': 'Geographic location',\n",
    "                    'region_code': 'Geographic location (coded)',\n",
    "                    'district_code': 'Geographic location (coded)',\n",
    "                    'lga': 'Geographic location',\n",
    "                    'ward': 'Geographic location',\n",
    "                    'population': 'Population around the well',\n",
    "                    'public_meeting': 'True/False',\n",
    "                    'recorded_by': 'Group entering this row of data',\n",
    "                    'scheme_management': 'Who operates the waterpoint',\n",
    "                    'scheme_name': 'Who operates the waterpoint',\n",
    "                    'permit': 'If the waterpoint is permitted',\n",
    "                    'construction_year': 'Year the waterpoint was constructed',\n",
    "                    'extraction_type': 'The kind of extraction the waterpoint uses',\n",
    "                    'extraction_type_group': 'The kind of extraction the waterpoint uses',\n",
    "                    'extraction_type_class': 'The kind of extraction the waterpoint uses',\n",
    "                    'management': 'How the waterpoint is managed',\n",
    "                    'management_group': 'How the waterpoint is managed',\n",
    "                    'payment': 'What the water costs',\n",
    "                    'payment_type': 'What the water costs',\n",
    "                    'water_quality': 'The quality of the water',\n",
    "                    'quality_group': 'The quality of the water',\n",
    "                    'quantity': 'The quantity of water',\n",
    "                    'quantity_group': 'The quantity of water',\n",
    "                    'source': 'The source of the water',\n",
    "                    'source_type': 'The source of the water',\n",
    "                    'source_class': 'The source of the water',\n",
    "                    'waterpoint_type': 'The kind of waterpoint',\n",
    "                    'waterpoint_type_group': 'The kind of waterpoint'}"
   ]
  },
  {
   "cell_type": "code",
   "execution_count": 4,
   "id": "474b21d9",
   "metadata": {},
   "outputs": [],
   "source": [
    "# Eliminating null values\n",
    "\n",
    "df.funder.fillna(\"Unknown\", inplace=True)\n",
    "df.installer.fillna(\"Unknown\", inplace=True)\n",
    "df.scheme_management.fillna(\"None\", inplace=True)\n",
    "df.permit.fillna('Unknown', inplace=True)\n",
    "df.scheme_name.fillna('Unknown', inplace=True)\n",
    "df.subvillage.fillna('Unknown', inplace=True)\n",
    "df.public_meeting.fillna('Unknown', inplace=True)"
   ]
  },
  {
   "cell_type": "code",
   "execution_count": 5,
   "id": "920f04c7",
   "metadata": {},
   "outputs": [],
   "source": [
    "# df['fundernum'] = df['funder'].map(df.funder.value_counts())\n",
    "\n",
    "# df['funder_installer'] = df['funder'] == df['installer']\n",
    "# df['funder_installer'] = df['funder_installer'].astype('int')\n",
    "\n",
    "# df['permit'] = df['permit'].map({True: 1, False: 0, 'Unknown': 2})\n",
    "\n",
    "# df['status_id'] = df['status_group'].map({'non functional': 0, 'functional needs repair': 1, 'functional': 2})"
   ]
  },
  {
   "cell_type": "markdown",
   "id": "f9a03a35",
   "metadata": {},
   "source": [
    "# Which variables will be good in a model?\n",
    "\n",
    "\n",
    "* amount_tsh\n",
    "* gps_height\n",
    "* region (not region_code)\n",
    "* district_code\n",
    "* population\n",
    "* public_meeting\n",
    "* scheme_management\n",
    "* Permit\n",
    "* construction_year\n",
    "* extraction_type_group or extraction_type_class\n",
    "* payment\n",
    "* management\n",
    "* quality_group\n",
    "* quantity\n",
    "* source\n",
    "* waterpoint_type"
   ]
  },
  {
   "cell_type": "markdown",
   "id": "4d3ce56b",
   "metadata": {},
   "source": [
    "# Defining the train and test sets"
   ]
  },
  {
   "cell_type": "code",
   "execution_count": 6,
   "id": "c2ec08b1",
   "metadata": {},
   "outputs": [
    {
     "name": "stderr",
     "output_type": "stream",
     "text": [
      "/var/folders/s6/jlb2zd1s5gq39tnl2x_y5z_r0000gn/T/ipykernel_65007/2539562764.py:23: FutureWarning: In a future version, the Index constructor will not infer numeric dtypes when passed object-dtype sequences (matching Series behavior)\n",
      "  X_cat = pd.get_dummies(X_cat)\n"
     ]
    }
   ],
   "source": [
    "X = df.copy()\n",
    "\n",
    "columns = ['amount_tsh', 'gps_height', 'region', \n",
    "           'district_code', 'population', 'public_meeting', \n",
    "           'scheme_management', 'permit', \n",
    "           'extraction_type_group', 'payment', 'management', \n",
    "           'quality_group', 'quantity', 'source', 'waterpoint_type']\n",
    "\n",
    "X = X[columns]\n",
    "\n",
    "X['public_meeting'] = X['public_meeting'].map({True: 'Yes', False: 'No', 'Unknown': 'Unknown'})\n",
    "X['permit'] = X['permit'].map({True: 'Yes', False: 'No', 'Unknown': 'Unknown'})\n",
    "X['gps_height'] = X['gps_height'].astype('float64')\n",
    "X['district_code'] = X['district_code'].astype('float64')\n",
    "X['population'] = X['population'].astype('float64')\n",
    "X['district_code'] = X['district_code'].astype('object')\n",
    "\n",
    "X_cat = X.drop(list(X.select_dtypes(['float64']).columns), axis=1)\n",
    "X_numeric = X[list(X.select_dtypes(['float64']).columns)]\n",
    "\n",
    "y = df['status_group']\n",
    "\n",
    "X_cat = pd.get_dummies(X_cat)\n",
    "\n",
    "X = pd.concat([X_numeric, X_cat], axis=1)\n",
    "\n",
    "X_train, X_test, y_train, y_test = train_test_split(X, y)\n",
    "\n",
    "scaler = StandardScaler()\n",
    "scaler.fit(X_train)\n",
    "X_train = pd.DataFrame(scaler.transform(X_train),\n",
    "                index = X_train.index,\n",
    "                columns = X_train.columns)\n",
    "X_test = pd.DataFrame(scaler.transform(X_test),\n",
    "                index = X_test.index,\n",
    "                columns = X_test.columns)"
   ]
  },
  {
   "cell_type": "markdown",
   "id": "d8ca3391",
   "metadata": {},
   "source": [
    "# Base Model – Logistic Regression, No Regularization"
   ]
  },
  {
   "cell_type": "code",
   "execution_count": 7,
   "id": "47d4b6d6",
   "metadata": {},
   "outputs": [
    {
     "data": {
      "text/plain": [
       "0.6942087542087542"
      ]
     },
     "execution_count": 7,
     "metadata": {},
     "output_type": "execute_result"
    }
   ],
   "source": [
    "base_model = LogisticRegression(solver='liblinear', fit_intercept=False)\n",
    "\n",
    "base_model.fit(X_train, y_train)\n",
    "\n",
    "base_y_hat_train = base_model.predict(X_train)\n",
    "base_y_hat_test = base_model.predict(X_test)\n",
    "\n",
    "accuracy_score(y_train, base_y_hat_train)"
   ]
  },
  {
   "cell_type": "markdown",
   "id": "4fd4181b",
   "metadata": {},
   "source": [
    "# Second Model – Decision Tree"
   ]
  },
  {
   "cell_type": "code",
   "execution_count": 34,
   "id": "661be811",
   "metadata": {},
   "outputs": [],
   "source": [
    "dtc = DecisionTreeClassifier()"
   ]
  },
  {
   "cell_type": "code",
   "execution_count": 36,
   "id": "1bf5971a",
   "metadata": {
    "scrolled": false
   },
   "outputs": [
    {
     "data": {
      "text/plain": [
       "{'criterion': 'gini',\n",
       " 'max_depth': 10,\n",
       " 'min_samples_leaf': 5,\n",
       " 'min_samples_split': 10,\n",
       " 'splitter': 'random'}"
      ]
     },
     "execution_count": 36,
     "metadata": {},
     "output_type": "execute_result"
    }
   ],
   "source": [
    "param_grid = {\n",
    "    'criterion': ['gini', 'entropy'],\n",
    "    'max_depth': [1, 2, 5, 10],\n",
    "    'min_samples_split': [5, 10, 20, 40],\n",
    "    'min_samples_leaf': [5, 10, 20],\n",
    "    'splitter': ['best', 'random']\n",
    "}\n",
    "\n",
    "gs_tree = GridSearchCV(dtc, param_grid, cv=3)\n",
    "gs_tree.fit(X_train, y_train)\n",
    "\n",
    "gs_tree.best_params_"
   ]
  },
  {
   "cell_type": "code",
   "execution_count": 37,
   "id": "bd8a35b8",
   "metadata": {},
   "outputs": [],
   "source": [
    "dtc = DecisionTreeClassifier(criterion= 'gini', max_depth= 10, min_samples_split= 10, min_samples_leaf=5, splitter='random')"
   ]
  },
  {
   "cell_type": "code",
   "execution_count": 38,
   "id": "80f08432",
   "metadata": {},
   "outputs": [
    {
     "data": {
      "text/html": [
       "<style>#sk-container-id-6 {color: black;background-color: white;}#sk-container-id-6 pre{padding: 0;}#sk-container-id-6 div.sk-toggleable {background-color: white;}#sk-container-id-6 label.sk-toggleable__label {cursor: pointer;display: block;width: 100%;margin-bottom: 0;padding: 0.3em;box-sizing: border-box;text-align: center;}#sk-container-id-6 label.sk-toggleable__label-arrow:before {content: \"▸\";float: left;margin-right: 0.25em;color: #696969;}#sk-container-id-6 label.sk-toggleable__label-arrow:hover:before {color: black;}#sk-container-id-6 div.sk-estimator:hover label.sk-toggleable__label-arrow:before {color: black;}#sk-container-id-6 div.sk-toggleable__content {max-height: 0;max-width: 0;overflow: hidden;text-align: left;background-color: #f0f8ff;}#sk-container-id-6 div.sk-toggleable__content pre {margin: 0.2em;color: black;border-radius: 0.25em;background-color: #f0f8ff;}#sk-container-id-6 input.sk-toggleable__control:checked~div.sk-toggleable__content {max-height: 200px;max-width: 100%;overflow: auto;}#sk-container-id-6 input.sk-toggleable__control:checked~label.sk-toggleable__label-arrow:before {content: \"▾\";}#sk-container-id-6 div.sk-estimator input.sk-toggleable__control:checked~label.sk-toggleable__label {background-color: #d4ebff;}#sk-container-id-6 div.sk-label input.sk-toggleable__control:checked~label.sk-toggleable__label {background-color: #d4ebff;}#sk-container-id-6 input.sk-hidden--visually {border: 0;clip: rect(1px 1px 1px 1px);clip: rect(1px, 1px, 1px, 1px);height: 1px;margin: -1px;overflow: hidden;padding: 0;position: absolute;width: 1px;}#sk-container-id-6 div.sk-estimator {font-family: monospace;background-color: #f0f8ff;border: 1px dotted black;border-radius: 0.25em;box-sizing: border-box;margin-bottom: 0.5em;}#sk-container-id-6 div.sk-estimator:hover {background-color: #d4ebff;}#sk-container-id-6 div.sk-parallel-item::after {content: \"\";width: 100%;border-bottom: 1px solid gray;flex-grow: 1;}#sk-container-id-6 div.sk-label:hover label.sk-toggleable__label {background-color: #d4ebff;}#sk-container-id-6 div.sk-serial::before {content: \"\";position: absolute;border-left: 1px solid gray;box-sizing: border-box;top: 0;bottom: 0;left: 50%;z-index: 0;}#sk-container-id-6 div.sk-serial {display: flex;flex-direction: column;align-items: center;background-color: white;padding-right: 0.2em;padding-left: 0.2em;position: relative;}#sk-container-id-6 div.sk-item {position: relative;z-index: 1;}#sk-container-id-6 div.sk-parallel {display: flex;align-items: stretch;justify-content: center;background-color: white;position: relative;}#sk-container-id-6 div.sk-item::before, #sk-container-id-6 div.sk-parallel-item::before {content: \"\";position: absolute;border-left: 1px solid gray;box-sizing: border-box;top: 0;bottom: 0;left: 50%;z-index: -1;}#sk-container-id-6 div.sk-parallel-item {display: flex;flex-direction: column;z-index: 1;position: relative;background-color: white;}#sk-container-id-6 div.sk-parallel-item:first-child::after {align-self: flex-end;width: 50%;}#sk-container-id-6 div.sk-parallel-item:last-child::after {align-self: flex-start;width: 50%;}#sk-container-id-6 div.sk-parallel-item:only-child::after {width: 0;}#sk-container-id-6 div.sk-dashed-wrapped {border: 1px dashed gray;margin: 0 0.4em 0.5em 0.4em;box-sizing: border-box;padding-bottom: 0.4em;background-color: white;}#sk-container-id-6 div.sk-label label {font-family: monospace;font-weight: bold;display: inline-block;line-height: 1.2em;}#sk-container-id-6 div.sk-label-container {text-align: center;}#sk-container-id-6 div.sk-container {/* jupyter's `normalize.less` sets `[hidden] { display: none; }` but bootstrap.min.css set `[hidden] { display: none !important; }` so we also need the `!important` here to be able to override the default hidden behavior on the sphinx rendered scikit-learn.org. See: https://github.com/scikit-learn/scikit-learn/issues/21755 */display: inline-block !important;position: relative;}#sk-container-id-6 div.sk-text-repr-fallback {display: none;}</style><div id=\"sk-container-id-6\" class=\"sk-top-container\"><div class=\"sk-text-repr-fallback\"><pre>DecisionTreeClassifier(max_depth=10, min_samples_leaf=5, min_samples_split=10,\n",
       "                       splitter=&#x27;random&#x27;)</pre><b>In a Jupyter environment, please rerun this cell to show the HTML representation or trust the notebook. <br />On GitHub, the HTML representation is unable to render, please try loading this page with nbviewer.org.</b></div><div class=\"sk-container\" hidden><div class=\"sk-item\"><div class=\"sk-estimator sk-toggleable\"><input class=\"sk-toggleable__control sk-hidden--visually\" id=\"sk-estimator-id-8\" type=\"checkbox\" checked><label for=\"sk-estimator-id-8\" class=\"sk-toggleable__label sk-toggleable__label-arrow\">DecisionTreeClassifier</label><div class=\"sk-toggleable__content\"><pre>DecisionTreeClassifier(max_depth=10, min_samples_leaf=5, min_samples_split=10,\n",
       "                       splitter=&#x27;random&#x27;)</pre></div></div></div></div></div>"
      ],
      "text/plain": [
       "DecisionTreeClassifier(max_depth=10, min_samples_leaf=5, min_samples_split=10,\n",
       "                       splitter='random')"
      ]
     },
     "execution_count": 38,
     "metadata": {},
     "output_type": "execute_result"
    }
   ],
   "source": [
    "dtc.fit(X_train, y_train)"
   ]
  },
  {
   "cell_type": "code",
   "execution_count": 39,
   "id": "2cd330d0",
   "metadata": {},
   "outputs": [
    {
     "data": {
      "text/plain": [
       "0.7468911335578002"
      ]
     },
     "execution_count": 39,
     "metadata": {},
     "output_type": "execute_result"
    }
   ],
   "source": [
    "dtc_y_hat_train = dtc.predict(X_train)\n",
    "dtc_y_hat_test = dtc.predict(X_test)\n",
    "\n",
    "accuracy_score(y_train, dtc_y_hat_train)"
   ]
  },
  {
   "cell_type": "code",
   "execution_count": 13,
   "id": "20fad8f1",
   "metadata": {},
   "outputs": [],
   "source": [
    "# plt.figure(figsize=(12,12), dpi=500)\n",
    "# tree.plot_tree(dtc, \n",
    "#                feature_names=X_train.columns,\n",
    "#                class_names=np.unique(y).astype('str'),\n",
    "#                filled=True, rounded=True)\n",
    "# plt.show()"
   ]
  },
  {
   "cell_type": "markdown",
   "id": "15b5a83d",
   "metadata": {},
   "source": [
    "# Third Model – K Nearest Neighbors"
   ]
  },
  {
   "cell_type": "code",
   "execution_count": 14,
   "id": "e50b597b",
   "metadata": {},
   "outputs": [
    {
     "data": {
      "text/html": [
       "<style>#sk-container-id-2 {color: black;background-color: white;}#sk-container-id-2 pre{padding: 0;}#sk-container-id-2 div.sk-toggleable {background-color: white;}#sk-container-id-2 label.sk-toggleable__label {cursor: pointer;display: block;width: 100%;margin-bottom: 0;padding: 0.3em;box-sizing: border-box;text-align: center;}#sk-container-id-2 label.sk-toggleable__label-arrow:before {content: \"▸\";float: left;margin-right: 0.25em;color: #696969;}#sk-container-id-2 label.sk-toggleable__label-arrow:hover:before {color: black;}#sk-container-id-2 div.sk-estimator:hover label.sk-toggleable__label-arrow:before {color: black;}#sk-container-id-2 div.sk-toggleable__content {max-height: 0;max-width: 0;overflow: hidden;text-align: left;background-color: #f0f8ff;}#sk-container-id-2 div.sk-toggleable__content pre {margin: 0.2em;color: black;border-radius: 0.25em;background-color: #f0f8ff;}#sk-container-id-2 input.sk-toggleable__control:checked~div.sk-toggleable__content {max-height: 200px;max-width: 100%;overflow: auto;}#sk-container-id-2 input.sk-toggleable__control:checked~label.sk-toggleable__label-arrow:before {content: \"▾\";}#sk-container-id-2 div.sk-estimator input.sk-toggleable__control:checked~label.sk-toggleable__label {background-color: #d4ebff;}#sk-container-id-2 div.sk-label input.sk-toggleable__control:checked~label.sk-toggleable__label {background-color: #d4ebff;}#sk-container-id-2 input.sk-hidden--visually {border: 0;clip: rect(1px 1px 1px 1px);clip: rect(1px, 1px, 1px, 1px);height: 1px;margin: -1px;overflow: hidden;padding: 0;position: absolute;width: 1px;}#sk-container-id-2 div.sk-estimator {font-family: monospace;background-color: #f0f8ff;border: 1px dotted black;border-radius: 0.25em;box-sizing: border-box;margin-bottom: 0.5em;}#sk-container-id-2 div.sk-estimator:hover {background-color: #d4ebff;}#sk-container-id-2 div.sk-parallel-item::after {content: \"\";width: 100%;border-bottom: 1px solid gray;flex-grow: 1;}#sk-container-id-2 div.sk-label:hover label.sk-toggleable__label {background-color: #d4ebff;}#sk-container-id-2 div.sk-serial::before {content: \"\";position: absolute;border-left: 1px solid gray;box-sizing: border-box;top: 0;bottom: 0;left: 50%;z-index: 0;}#sk-container-id-2 div.sk-serial {display: flex;flex-direction: column;align-items: center;background-color: white;padding-right: 0.2em;padding-left: 0.2em;position: relative;}#sk-container-id-2 div.sk-item {position: relative;z-index: 1;}#sk-container-id-2 div.sk-parallel {display: flex;align-items: stretch;justify-content: center;background-color: white;position: relative;}#sk-container-id-2 div.sk-item::before, #sk-container-id-2 div.sk-parallel-item::before {content: \"\";position: absolute;border-left: 1px solid gray;box-sizing: border-box;top: 0;bottom: 0;left: 50%;z-index: -1;}#sk-container-id-2 div.sk-parallel-item {display: flex;flex-direction: column;z-index: 1;position: relative;background-color: white;}#sk-container-id-2 div.sk-parallel-item:first-child::after {align-self: flex-end;width: 50%;}#sk-container-id-2 div.sk-parallel-item:last-child::after {align-self: flex-start;width: 50%;}#sk-container-id-2 div.sk-parallel-item:only-child::after {width: 0;}#sk-container-id-2 div.sk-dashed-wrapped {border: 1px dashed gray;margin: 0 0.4em 0.5em 0.4em;box-sizing: border-box;padding-bottom: 0.4em;background-color: white;}#sk-container-id-2 div.sk-label label {font-family: monospace;font-weight: bold;display: inline-block;line-height: 1.2em;}#sk-container-id-2 div.sk-label-container {text-align: center;}#sk-container-id-2 div.sk-container {/* jupyter's `normalize.less` sets `[hidden] { display: none; }` but bootstrap.min.css set `[hidden] { display: none !important; }` so we also need the `!important` here to be able to override the default hidden behavior on the sphinx rendered scikit-learn.org. See: https://github.com/scikit-learn/scikit-learn/issues/21755 */display: inline-block !important;position: relative;}#sk-container-id-2 div.sk-text-repr-fallback {display: none;}</style><div id=\"sk-container-id-2\" class=\"sk-top-container\"><div class=\"sk-text-repr-fallback\"><pre>KNeighborsClassifier(n_neighbors=3)</pre><b>In a Jupyter environment, please rerun this cell to show the HTML representation or trust the notebook. <br />On GitHub, the HTML representation is unable to render, please try loading this page with nbviewer.org.</b></div><div class=\"sk-container\" hidden><div class=\"sk-item\"><div class=\"sk-estimator sk-toggleable\"><input class=\"sk-toggleable__control sk-hidden--visually\" id=\"sk-estimator-id-2\" type=\"checkbox\" checked><label for=\"sk-estimator-id-2\" class=\"sk-toggleable__label sk-toggleable__label-arrow\">KNeighborsClassifier</label><div class=\"sk-toggleable__content\"><pre>KNeighborsClassifier(n_neighbors=3)</pre></div></div></div></div></div>"
      ],
      "text/plain": [
       "KNeighborsClassifier(n_neighbors=3)"
      ]
     },
     "execution_count": 14,
     "metadata": {},
     "output_type": "execute_result"
    }
   ],
   "source": [
    "clf = KNeighborsClassifier(n_neighbors=3)\n",
    "\n",
    "clf.fit(X_train, y_train)"
   ]
  },
  {
   "cell_type": "code",
   "execution_count": 15,
   "id": "1f0d53ed",
   "metadata": {},
   "outputs": [],
   "source": [
    "# clf_y_hat_train = clf.predict(X_train)\n",
    "# clf_y_hat_test = clf.predict(X_test)\n",
    "\n",
    "# accuracy_score(y_train, clf_y_hat_train)"
   ]
  },
  {
   "cell_type": "code",
   "execution_count": 16,
   "id": "e15e83fb",
   "metadata": {},
   "outputs": [],
   "source": [
    "# for sample in tqdm([X_train], desc=\"Predicting\"):\n",
    "#     clf_y_hat_train = clf.predict(sample)  # Your prediction step here"
   ]
  },
  {
   "cell_type": "code",
   "execution_count": 17,
   "id": "00e0bcb6",
   "metadata": {},
   "outputs": [],
   "source": [
    "# for sample in tqdm([X_test], desc=\"Predicting\"):\n",
    "#     clf_y_hat_test = knn.predict(sample)  # Your prediction step here"
   ]
  },
  {
   "cell_type": "code",
   "execution_count": 18,
   "id": "4602ab04",
   "metadata": {
    "scrolled": true
   },
   "outputs": [
    {
     "data": {
      "text/html": [
       "<div>\n",
       "<style scoped>\n",
       "    .dataframe tbody tr th:only-of-type {\n",
       "        vertical-align: middle;\n",
       "    }\n",
       "\n",
       "    .dataframe tbody tr th {\n",
       "        vertical-align: top;\n",
       "    }\n",
       "\n",
       "    .dataframe thead th {\n",
       "        text-align: right;\n",
       "    }\n",
       "</style>\n",
       "<table border=\"1\" class=\"dataframe\">\n",
       "  <thead>\n",
       "    <tr style=\"text-align: right;\">\n",
       "      <th></th>\n",
       "      <th>amount_tsh</th>\n",
       "      <th>gps_height</th>\n",
       "      <th>population</th>\n",
       "      <th>region_Arusha</th>\n",
       "      <th>region_Dar es Salaam</th>\n",
       "      <th>region_Dodoma</th>\n",
       "      <th>region_Iringa</th>\n",
       "      <th>region_Kagera</th>\n",
       "      <th>region_Kigoma</th>\n",
       "      <th>region_Kilimanjaro</th>\n",
       "      <th>...</th>\n",
       "      <th>source_shallow well</th>\n",
       "      <th>source_spring</th>\n",
       "      <th>source_unknown</th>\n",
       "      <th>waterpoint_type_cattle trough</th>\n",
       "      <th>waterpoint_type_communal standpipe</th>\n",
       "      <th>waterpoint_type_communal standpipe multiple</th>\n",
       "      <th>waterpoint_type_dam</th>\n",
       "      <th>waterpoint_type_hand pump</th>\n",
       "      <th>waterpoint_type_improved spring</th>\n",
       "      <th>waterpoint_type_other</th>\n",
       "    </tr>\n",
       "  </thead>\n",
       "  <tbody>\n",
       "    <tr>\n",
       "      <th>33449</th>\n",
       "      <td>-0.100679</td>\n",
       "      <td>-0.127923</td>\n",
       "      <td>-0.336825</td>\n",
       "      <td>-0.243002</td>\n",
       "      <td>-0.11694</td>\n",
       "      <td>-0.194568</td>\n",
       "      <td>-0.315583</td>\n",
       "      <td>-0.243365</td>\n",
       "      <td>-0.222585</td>\n",
       "      <td>-0.283998</td>\n",
       "      <td>...</td>\n",
       "      <td>1.590720</td>\n",
       "      <td>-0.634523</td>\n",
       "      <td>-0.03215</td>\n",
       "      <td>-0.043722</td>\n",
       "      <td>-0.961071</td>\n",
       "      <td>-0.338217</td>\n",
       "      <td>-0.009476</td>\n",
       "      <td>1.547264</td>\n",
       "      <td>-0.115152</td>\n",
       "      <td>-0.347011</td>\n",
       "    </tr>\n",
       "    <tr>\n",
       "      <th>52548</th>\n",
       "      <td>-0.100679</td>\n",
       "      <td>-0.966917</td>\n",
       "      <td>-0.378774</td>\n",
       "      <td>-0.243002</td>\n",
       "      <td>-0.11694</td>\n",
       "      <td>-0.194568</td>\n",
       "      <td>-0.315583</td>\n",
       "      <td>-0.243365</td>\n",
       "      <td>-0.222585</td>\n",
       "      <td>-0.283998</td>\n",
       "      <td>...</td>\n",
       "      <td>-0.628646</td>\n",
       "      <td>-0.634523</td>\n",
       "      <td>-0.03215</td>\n",
       "      <td>-0.043722</td>\n",
       "      <td>-0.961071</td>\n",
       "      <td>-0.338217</td>\n",
       "      <td>-0.009476</td>\n",
       "      <td>1.547264</td>\n",
       "      <td>-0.115152</td>\n",
       "      <td>-0.347011</td>\n",
       "    </tr>\n",
       "    <tr>\n",
       "      <th>59100</th>\n",
       "      <td>-0.025416</td>\n",
       "      <td>0.868202</td>\n",
       "      <td>4.759981</td>\n",
       "      <td>-0.243002</td>\n",
       "      <td>-0.11694</td>\n",
       "      <td>-0.194568</td>\n",
       "      <td>-0.315583</td>\n",
       "      <td>-0.243365</td>\n",
       "      <td>4.492663</td>\n",
       "      <td>-0.283998</td>\n",
       "      <td>...</td>\n",
       "      <td>-0.628646</td>\n",
       "      <td>-0.634523</td>\n",
       "      <td>-0.03215</td>\n",
       "      <td>-0.043722</td>\n",
       "      <td>1.040505</td>\n",
       "      <td>-0.338217</td>\n",
       "      <td>-0.009476</td>\n",
       "      <td>-0.646302</td>\n",
       "      <td>-0.115152</td>\n",
       "      <td>-0.347011</td>\n",
       "    </tr>\n",
       "    <tr>\n",
       "      <th>18730</th>\n",
       "      <td>-0.100679</td>\n",
       "      <td>-0.966917</td>\n",
       "      <td>-0.378774</td>\n",
       "      <td>-0.243002</td>\n",
       "      <td>-0.11694</td>\n",
       "      <td>-0.194568</td>\n",
       "      <td>-0.315583</td>\n",
       "      <td>4.109061</td>\n",
       "      <td>-0.222585</td>\n",
       "      <td>-0.283998</td>\n",
       "      <td>...</td>\n",
       "      <td>-0.628646</td>\n",
       "      <td>1.575987</td>\n",
       "      <td>-0.03215</td>\n",
       "      <td>-0.043722</td>\n",
       "      <td>-0.961071</td>\n",
       "      <td>-0.338217</td>\n",
       "      <td>-0.009476</td>\n",
       "      <td>-0.646302</td>\n",
       "      <td>8.684186</td>\n",
       "      <td>-0.347011</td>\n",
       "    </tr>\n",
       "    <tr>\n",
       "      <th>50136</th>\n",
       "      <td>0.049847</td>\n",
       "      <td>-0.530121</td>\n",
       "      <td>0.355334</td>\n",
       "      <td>-0.243002</td>\n",
       "      <td>-0.11694</td>\n",
       "      <td>-0.194568</td>\n",
       "      <td>-0.315583</td>\n",
       "      <td>-0.243365</td>\n",
       "      <td>-0.222585</td>\n",
       "      <td>-0.283998</td>\n",
       "      <td>...</td>\n",
       "      <td>1.590720</td>\n",
       "      <td>-0.634523</td>\n",
       "      <td>-0.03215</td>\n",
       "      <td>-0.043722</td>\n",
       "      <td>-0.961071</td>\n",
       "      <td>-0.338217</td>\n",
       "      <td>-0.009476</td>\n",
       "      <td>1.547264</td>\n",
       "      <td>-0.115152</td>\n",
       "      <td>-0.347011</td>\n",
       "    </tr>\n",
       "  </tbody>\n",
       "</table>\n",
       "<p>5 rows × 122 columns</p>\n",
       "</div>"
      ],
      "text/plain": [
       "       amount_tsh  gps_height  population  region_Arusha  \\\n",
       "33449   -0.100679   -0.127923   -0.336825      -0.243002   \n",
       "52548   -0.100679   -0.966917   -0.378774      -0.243002   \n",
       "59100   -0.025416    0.868202    4.759981      -0.243002   \n",
       "18730   -0.100679   -0.966917   -0.378774      -0.243002   \n",
       "50136    0.049847   -0.530121    0.355334      -0.243002   \n",
       "\n",
       "       region_Dar es Salaam  region_Dodoma  region_Iringa  region_Kagera  \\\n",
       "33449              -0.11694      -0.194568      -0.315583      -0.243365   \n",
       "52548              -0.11694      -0.194568      -0.315583      -0.243365   \n",
       "59100              -0.11694      -0.194568      -0.315583      -0.243365   \n",
       "18730              -0.11694      -0.194568      -0.315583       4.109061   \n",
       "50136              -0.11694      -0.194568      -0.315583      -0.243365   \n",
       "\n",
       "       region_Kigoma  region_Kilimanjaro  ...  source_shallow well  \\\n",
       "33449      -0.222585           -0.283998  ...             1.590720   \n",
       "52548      -0.222585           -0.283998  ...            -0.628646   \n",
       "59100       4.492663           -0.283998  ...            -0.628646   \n",
       "18730      -0.222585           -0.283998  ...            -0.628646   \n",
       "50136      -0.222585           -0.283998  ...             1.590720   \n",
       "\n",
       "       source_spring  source_unknown  waterpoint_type_cattle trough  \\\n",
       "33449      -0.634523        -0.03215                      -0.043722   \n",
       "52548      -0.634523        -0.03215                      -0.043722   \n",
       "59100      -0.634523        -0.03215                      -0.043722   \n",
       "18730       1.575987        -0.03215                      -0.043722   \n",
       "50136      -0.634523        -0.03215                      -0.043722   \n",
       "\n",
       "       waterpoint_type_communal standpipe  \\\n",
       "33449                           -0.961071   \n",
       "52548                           -0.961071   \n",
       "59100                            1.040505   \n",
       "18730                           -0.961071   \n",
       "50136                           -0.961071   \n",
       "\n",
       "       waterpoint_type_communal standpipe multiple  waterpoint_type_dam  \\\n",
       "33449                                    -0.338217            -0.009476   \n",
       "52548                                    -0.338217            -0.009476   \n",
       "59100                                    -0.338217            -0.009476   \n",
       "18730                                    -0.338217            -0.009476   \n",
       "50136                                    -0.338217            -0.009476   \n",
       "\n",
       "       waterpoint_type_hand pump  waterpoint_type_improved spring  \\\n",
       "33449                   1.547264                        -0.115152   \n",
       "52548                   1.547264                        -0.115152   \n",
       "59100                  -0.646302                        -0.115152   \n",
       "18730                  -0.646302                         8.684186   \n",
       "50136                   1.547264                        -0.115152   \n",
       "\n",
       "       waterpoint_type_other  \n",
       "33449              -0.347011  \n",
       "52548              -0.347011  \n",
       "59100              -0.347011  \n",
       "18730              -0.347011  \n",
       "50136              -0.347011  \n",
       "\n",
       "[5 rows x 122 columns]"
      ]
     },
     "execution_count": 18,
     "metadata": {},
     "output_type": "execute_result"
    }
   ],
   "source": [
    "testdf1 = X_train.iloc[:5]\n",
    "testdf1"
   ]
  },
  {
   "cell_type": "code",
   "execution_count": 19,
   "id": "a175f0c0",
   "metadata": {},
   "outputs": [
    {
     "data": {
      "text/plain": [
       "33449    non functional\n",
       "52548    non functional\n",
       "59100        functional\n",
       "18730        functional\n",
       "50136        functional\n",
       "Name: status_group, dtype: object"
      ]
     },
     "execution_count": 19,
     "metadata": {},
     "output_type": "execute_result"
    }
   ],
   "source": [
    "testdf2 = y_train.iloc[:5]\n",
    "testdf2"
   ]
  },
  {
   "cell_type": "code",
   "execution_count": 20,
   "id": "0729ff7c",
   "metadata": {},
   "outputs": [
    {
     "data": {
      "text/html": [
       "<div>\n",
       "<style scoped>\n",
       "    .dataframe tbody tr th:only-of-type {\n",
       "        vertical-align: middle;\n",
       "    }\n",
       "\n",
       "    .dataframe tbody tr th {\n",
       "        vertical-align: top;\n",
       "    }\n",
       "\n",
       "    .dataframe thead th {\n",
       "        text-align: right;\n",
       "    }\n",
       "</style>\n",
       "<table border=\"1\" class=\"dataframe\">\n",
       "  <thead>\n",
       "    <tr style=\"text-align: right;\">\n",
       "      <th></th>\n",
       "      <th>amount_tsh</th>\n",
       "      <th>gps_height</th>\n",
       "      <th>population</th>\n",
       "      <th>region_Arusha</th>\n",
       "      <th>region_Dar es Salaam</th>\n",
       "      <th>region_Dodoma</th>\n",
       "      <th>region_Iringa</th>\n",
       "      <th>region_Kagera</th>\n",
       "      <th>region_Kigoma</th>\n",
       "      <th>region_Kilimanjaro</th>\n",
       "      <th>...</th>\n",
       "      <th>source_shallow well</th>\n",
       "      <th>source_spring</th>\n",
       "      <th>source_unknown</th>\n",
       "      <th>waterpoint_type_cattle trough</th>\n",
       "      <th>waterpoint_type_communal standpipe</th>\n",
       "      <th>waterpoint_type_communal standpipe multiple</th>\n",
       "      <th>waterpoint_type_dam</th>\n",
       "      <th>waterpoint_type_hand pump</th>\n",
       "      <th>waterpoint_type_improved spring</th>\n",
       "      <th>waterpoint_type_other</th>\n",
       "    </tr>\n",
       "  </thead>\n",
       "  <tbody>\n",
       "    <tr>\n",
       "      <th>22883</th>\n",
       "      <td>-0.100679</td>\n",
       "      <td>-0.890513</td>\n",
       "      <td>-0.284389</td>\n",
       "      <td>-0.243002</td>\n",
       "      <td>-0.11694</td>\n",
       "      <td>-0.194568</td>\n",
       "      <td>-0.315583</td>\n",
       "      <td>-0.243365</td>\n",
       "      <td>-0.222585</td>\n",
       "      <td>-0.283998</td>\n",
       "      <td>...</td>\n",
       "      <td>-0.628646</td>\n",
       "      <td>-0.634523</td>\n",
       "      <td>-0.03215</td>\n",
       "      <td>-0.043722</td>\n",
       "      <td>1.040505</td>\n",
       "      <td>-0.338217</td>\n",
       "      <td>-0.009476</td>\n",
       "      <td>-0.646302</td>\n",
       "      <td>-0.115152</td>\n",
       "      <td>-0.347011</td>\n",
       "    </tr>\n",
       "    <tr>\n",
       "      <th>7704</th>\n",
       "      <td>-0.100679</td>\n",
       "      <td>1.222828</td>\n",
       "      <td>0.355334</td>\n",
       "      <td>4.115189</td>\n",
       "      <td>-0.11694</td>\n",
       "      <td>-0.194568</td>\n",
       "      <td>-0.315583</td>\n",
       "      <td>-0.243365</td>\n",
       "      <td>-0.222585</td>\n",
       "      <td>-0.283998</td>\n",
       "      <td>...</td>\n",
       "      <td>-0.628646</td>\n",
       "      <td>-0.634523</td>\n",
       "      <td>-0.03215</td>\n",
       "      <td>-0.043722</td>\n",
       "      <td>1.040505</td>\n",
       "      <td>-0.338217</td>\n",
       "      <td>-0.009476</td>\n",
       "      <td>-0.646302</td>\n",
       "      <td>-0.115152</td>\n",
       "      <td>-0.347011</td>\n",
       "    </tr>\n",
       "    <tr>\n",
       "      <th>42571</th>\n",
       "      <td>-0.091648</td>\n",
       "      <td>-0.701668</td>\n",
       "      <td>-0.169029</td>\n",
       "      <td>-0.243002</td>\n",
       "      <td>-0.11694</td>\n",
       "      <td>-0.194568</td>\n",
       "      <td>-0.315583</td>\n",
       "      <td>-0.243365</td>\n",
       "      <td>-0.222585</td>\n",
       "      <td>-0.283998</td>\n",
       "      <td>...</td>\n",
       "      <td>-0.628646</td>\n",
       "      <td>-0.634523</td>\n",
       "      <td>-0.03215</td>\n",
       "      <td>-0.043722</td>\n",
       "      <td>1.040505</td>\n",
       "      <td>-0.338217</td>\n",
       "      <td>-0.009476</td>\n",
       "      <td>-0.646302</td>\n",
       "      <td>-0.115152</td>\n",
       "      <td>-0.347011</td>\n",
       "    </tr>\n",
       "    <tr>\n",
       "      <th>27049</th>\n",
       "      <td>0.200372</td>\n",
       "      <td>-0.282171</td>\n",
       "      <td>-0.376676</td>\n",
       "      <td>-0.243002</td>\n",
       "      <td>-0.11694</td>\n",
       "      <td>-0.194568</td>\n",
       "      <td>-0.315583</td>\n",
       "      <td>-0.243365</td>\n",
       "      <td>-0.222585</td>\n",
       "      <td>-0.283998</td>\n",
       "      <td>...</td>\n",
       "      <td>-0.628646</td>\n",
       "      <td>-0.634523</td>\n",
       "      <td>-0.03215</td>\n",
       "      <td>-0.043722</td>\n",
       "      <td>-0.961071</td>\n",
       "      <td>-0.338217</td>\n",
       "      <td>-0.009476</td>\n",
       "      <td>1.547264</td>\n",
       "      <td>-0.115152</td>\n",
       "      <td>-0.347011</td>\n",
       "    </tr>\n",
       "    <tr>\n",
       "      <th>17698</th>\n",
       "      <td>-0.100679</td>\n",
       "      <td>-0.473900</td>\n",
       "      <td>0.820968</td>\n",
       "      <td>-0.243002</td>\n",
       "      <td>-0.11694</td>\n",
       "      <td>-0.194568</td>\n",
       "      <td>-0.315583</td>\n",
       "      <td>-0.243365</td>\n",
       "      <td>-0.222585</td>\n",
       "      <td>-0.283998</td>\n",
       "      <td>...</td>\n",
       "      <td>-0.628646</td>\n",
       "      <td>-0.634523</td>\n",
       "      <td>-0.03215</td>\n",
       "      <td>-0.043722</td>\n",
       "      <td>1.040505</td>\n",
       "      <td>-0.338217</td>\n",
       "      <td>-0.009476</td>\n",
       "      <td>-0.646302</td>\n",
       "      <td>-0.115152</td>\n",
       "      <td>-0.347011</td>\n",
       "    </tr>\n",
       "  </tbody>\n",
       "</table>\n",
       "<p>5 rows × 122 columns</p>\n",
       "</div>"
      ],
      "text/plain": [
       "       amount_tsh  gps_height  population  region_Arusha  \\\n",
       "22883   -0.100679   -0.890513   -0.284389      -0.243002   \n",
       "7704    -0.100679    1.222828    0.355334       4.115189   \n",
       "42571   -0.091648   -0.701668   -0.169029      -0.243002   \n",
       "27049    0.200372   -0.282171   -0.376676      -0.243002   \n",
       "17698   -0.100679   -0.473900    0.820968      -0.243002   \n",
       "\n",
       "       region_Dar es Salaam  region_Dodoma  region_Iringa  region_Kagera  \\\n",
       "22883              -0.11694      -0.194568      -0.315583      -0.243365   \n",
       "7704               -0.11694      -0.194568      -0.315583      -0.243365   \n",
       "42571              -0.11694      -0.194568      -0.315583      -0.243365   \n",
       "27049              -0.11694      -0.194568      -0.315583      -0.243365   \n",
       "17698              -0.11694      -0.194568      -0.315583      -0.243365   \n",
       "\n",
       "       region_Kigoma  region_Kilimanjaro  ...  source_shallow well  \\\n",
       "22883      -0.222585           -0.283998  ...            -0.628646   \n",
       "7704       -0.222585           -0.283998  ...            -0.628646   \n",
       "42571      -0.222585           -0.283998  ...            -0.628646   \n",
       "27049      -0.222585           -0.283998  ...            -0.628646   \n",
       "17698      -0.222585           -0.283998  ...            -0.628646   \n",
       "\n",
       "       source_spring  source_unknown  waterpoint_type_cattle trough  \\\n",
       "22883      -0.634523        -0.03215                      -0.043722   \n",
       "7704       -0.634523        -0.03215                      -0.043722   \n",
       "42571      -0.634523        -0.03215                      -0.043722   \n",
       "27049      -0.634523        -0.03215                      -0.043722   \n",
       "17698      -0.634523        -0.03215                      -0.043722   \n",
       "\n",
       "       waterpoint_type_communal standpipe  \\\n",
       "22883                            1.040505   \n",
       "7704                             1.040505   \n",
       "42571                            1.040505   \n",
       "27049                           -0.961071   \n",
       "17698                            1.040505   \n",
       "\n",
       "       waterpoint_type_communal standpipe multiple  waterpoint_type_dam  \\\n",
       "22883                                    -0.338217            -0.009476   \n",
       "7704                                     -0.338217            -0.009476   \n",
       "42571                                    -0.338217            -0.009476   \n",
       "27049                                    -0.338217            -0.009476   \n",
       "17698                                    -0.338217            -0.009476   \n",
       "\n",
       "       waterpoint_type_hand pump  waterpoint_type_improved spring  \\\n",
       "22883                  -0.646302                        -0.115152   \n",
       "7704                   -0.646302                        -0.115152   \n",
       "42571                  -0.646302                        -0.115152   \n",
       "27049                   1.547264                        -0.115152   \n",
       "17698                  -0.646302                        -0.115152   \n",
       "\n",
       "       waterpoint_type_other  \n",
       "22883              -0.347011  \n",
       "7704               -0.347011  \n",
       "42571              -0.347011  \n",
       "27049              -0.347011  \n",
       "17698              -0.347011  \n",
       "\n",
       "[5 rows x 122 columns]"
      ]
     },
     "execution_count": 20,
     "metadata": {},
     "output_type": "execute_result"
    }
   ],
   "source": [
    "testdf3 = X_test.iloc[:5]\n",
    "testdf3"
   ]
  },
  {
   "cell_type": "code",
   "execution_count": 21,
   "id": "ff34d914",
   "metadata": {},
   "outputs": [
    {
     "data": {
      "text/html": [
       "<style>#sk-container-id-3 {color: black;background-color: white;}#sk-container-id-3 pre{padding: 0;}#sk-container-id-3 div.sk-toggleable {background-color: white;}#sk-container-id-3 label.sk-toggleable__label {cursor: pointer;display: block;width: 100%;margin-bottom: 0;padding: 0.3em;box-sizing: border-box;text-align: center;}#sk-container-id-3 label.sk-toggleable__label-arrow:before {content: \"▸\";float: left;margin-right: 0.25em;color: #696969;}#sk-container-id-3 label.sk-toggleable__label-arrow:hover:before {color: black;}#sk-container-id-3 div.sk-estimator:hover label.sk-toggleable__label-arrow:before {color: black;}#sk-container-id-3 div.sk-toggleable__content {max-height: 0;max-width: 0;overflow: hidden;text-align: left;background-color: #f0f8ff;}#sk-container-id-3 div.sk-toggleable__content pre {margin: 0.2em;color: black;border-radius: 0.25em;background-color: #f0f8ff;}#sk-container-id-3 input.sk-toggleable__control:checked~div.sk-toggleable__content {max-height: 200px;max-width: 100%;overflow: auto;}#sk-container-id-3 input.sk-toggleable__control:checked~label.sk-toggleable__label-arrow:before {content: \"▾\";}#sk-container-id-3 div.sk-estimator input.sk-toggleable__control:checked~label.sk-toggleable__label {background-color: #d4ebff;}#sk-container-id-3 div.sk-label input.sk-toggleable__control:checked~label.sk-toggleable__label {background-color: #d4ebff;}#sk-container-id-3 input.sk-hidden--visually {border: 0;clip: rect(1px 1px 1px 1px);clip: rect(1px, 1px, 1px, 1px);height: 1px;margin: -1px;overflow: hidden;padding: 0;position: absolute;width: 1px;}#sk-container-id-3 div.sk-estimator {font-family: monospace;background-color: #f0f8ff;border: 1px dotted black;border-radius: 0.25em;box-sizing: border-box;margin-bottom: 0.5em;}#sk-container-id-3 div.sk-estimator:hover {background-color: #d4ebff;}#sk-container-id-3 div.sk-parallel-item::after {content: \"\";width: 100%;border-bottom: 1px solid gray;flex-grow: 1;}#sk-container-id-3 div.sk-label:hover label.sk-toggleable__label {background-color: #d4ebff;}#sk-container-id-3 div.sk-serial::before {content: \"\";position: absolute;border-left: 1px solid gray;box-sizing: border-box;top: 0;bottom: 0;left: 50%;z-index: 0;}#sk-container-id-3 div.sk-serial {display: flex;flex-direction: column;align-items: center;background-color: white;padding-right: 0.2em;padding-left: 0.2em;position: relative;}#sk-container-id-3 div.sk-item {position: relative;z-index: 1;}#sk-container-id-3 div.sk-parallel {display: flex;align-items: stretch;justify-content: center;background-color: white;position: relative;}#sk-container-id-3 div.sk-item::before, #sk-container-id-3 div.sk-parallel-item::before {content: \"\";position: absolute;border-left: 1px solid gray;box-sizing: border-box;top: 0;bottom: 0;left: 50%;z-index: -1;}#sk-container-id-3 div.sk-parallel-item {display: flex;flex-direction: column;z-index: 1;position: relative;background-color: white;}#sk-container-id-3 div.sk-parallel-item:first-child::after {align-self: flex-end;width: 50%;}#sk-container-id-3 div.sk-parallel-item:last-child::after {align-self: flex-start;width: 50%;}#sk-container-id-3 div.sk-parallel-item:only-child::after {width: 0;}#sk-container-id-3 div.sk-dashed-wrapped {border: 1px dashed gray;margin: 0 0.4em 0.5em 0.4em;box-sizing: border-box;padding-bottom: 0.4em;background-color: white;}#sk-container-id-3 div.sk-label label {font-family: monospace;font-weight: bold;display: inline-block;line-height: 1.2em;}#sk-container-id-3 div.sk-label-container {text-align: center;}#sk-container-id-3 div.sk-container {/* jupyter's `normalize.less` sets `[hidden] { display: none; }` but bootstrap.min.css set `[hidden] { display: none !important; }` so we also need the `!important` here to be able to override the default hidden behavior on the sphinx rendered scikit-learn.org. See: https://github.com/scikit-learn/scikit-learn/issues/21755 */display: inline-block !important;position: relative;}#sk-container-id-3 div.sk-text-repr-fallback {display: none;}</style><div id=\"sk-container-id-3\" class=\"sk-top-container\"><div class=\"sk-text-repr-fallback\"><pre>KNeighborsClassifier(metric=&#x27;euclidean&#x27;, n_neighbors=3)</pre><b>In a Jupyter environment, please rerun this cell to show the HTML representation or trust the notebook. <br />On GitHub, the HTML representation is unable to render, please try loading this page with nbviewer.org.</b></div><div class=\"sk-container\" hidden><div class=\"sk-item\"><div class=\"sk-estimator sk-toggleable\"><input class=\"sk-toggleable__control sk-hidden--visually\" id=\"sk-estimator-id-3\" type=\"checkbox\" checked><label for=\"sk-estimator-id-3\" class=\"sk-toggleable__label sk-toggleable__label-arrow\">KNeighborsClassifier</label><div class=\"sk-toggleable__content\"><pre>KNeighborsClassifier(metric=&#x27;euclidean&#x27;, n_neighbors=3)</pre></div></div></div></div></div>"
      ],
      "text/plain": [
       "KNeighborsClassifier(metric='euclidean', n_neighbors=3)"
      ]
     },
     "execution_count": 21,
     "metadata": {},
     "output_type": "execute_result"
    }
   ],
   "source": [
    "clf = KNeighborsClassifier(n_neighbors=3, metric='euclidean')\n",
    "clf.fit(testdf1, testdf2)"
   ]
  },
  {
   "cell_type": "code",
   "execution_count": 22,
   "id": "77ae6ece",
   "metadata": {},
   "outputs": [],
   "source": [
    "# clf.predict(testdf3)"
   ]
  },
  {
   "cell_type": "markdown",
   "id": "dca99492",
   "metadata": {},
   "source": [
    "# Bagging Classifier"
   ]
  },
  {
   "cell_type": "code",
   "execution_count": 59,
   "id": "ac272151",
   "metadata": {},
   "outputs": [
    {
     "data": {
      "text/html": [
       "<style>#sk-container-id-14 {color: black;background-color: white;}#sk-container-id-14 pre{padding: 0;}#sk-container-id-14 div.sk-toggleable {background-color: white;}#sk-container-id-14 label.sk-toggleable__label {cursor: pointer;display: block;width: 100%;margin-bottom: 0;padding: 0.3em;box-sizing: border-box;text-align: center;}#sk-container-id-14 label.sk-toggleable__label-arrow:before {content: \"▸\";float: left;margin-right: 0.25em;color: #696969;}#sk-container-id-14 label.sk-toggleable__label-arrow:hover:before {color: black;}#sk-container-id-14 div.sk-estimator:hover label.sk-toggleable__label-arrow:before {color: black;}#sk-container-id-14 div.sk-toggleable__content {max-height: 0;max-width: 0;overflow: hidden;text-align: left;background-color: #f0f8ff;}#sk-container-id-14 div.sk-toggleable__content pre {margin: 0.2em;color: black;border-radius: 0.25em;background-color: #f0f8ff;}#sk-container-id-14 input.sk-toggleable__control:checked~div.sk-toggleable__content {max-height: 200px;max-width: 100%;overflow: auto;}#sk-container-id-14 input.sk-toggleable__control:checked~label.sk-toggleable__label-arrow:before {content: \"▾\";}#sk-container-id-14 div.sk-estimator input.sk-toggleable__control:checked~label.sk-toggleable__label {background-color: #d4ebff;}#sk-container-id-14 div.sk-label input.sk-toggleable__control:checked~label.sk-toggleable__label {background-color: #d4ebff;}#sk-container-id-14 input.sk-hidden--visually {border: 0;clip: rect(1px 1px 1px 1px);clip: rect(1px, 1px, 1px, 1px);height: 1px;margin: -1px;overflow: hidden;padding: 0;position: absolute;width: 1px;}#sk-container-id-14 div.sk-estimator {font-family: monospace;background-color: #f0f8ff;border: 1px dotted black;border-radius: 0.25em;box-sizing: border-box;margin-bottom: 0.5em;}#sk-container-id-14 div.sk-estimator:hover {background-color: #d4ebff;}#sk-container-id-14 div.sk-parallel-item::after {content: \"\";width: 100%;border-bottom: 1px solid gray;flex-grow: 1;}#sk-container-id-14 div.sk-label:hover label.sk-toggleable__label {background-color: #d4ebff;}#sk-container-id-14 div.sk-serial::before {content: \"\";position: absolute;border-left: 1px solid gray;box-sizing: border-box;top: 0;bottom: 0;left: 50%;z-index: 0;}#sk-container-id-14 div.sk-serial {display: flex;flex-direction: column;align-items: center;background-color: white;padding-right: 0.2em;padding-left: 0.2em;position: relative;}#sk-container-id-14 div.sk-item {position: relative;z-index: 1;}#sk-container-id-14 div.sk-parallel {display: flex;align-items: stretch;justify-content: center;background-color: white;position: relative;}#sk-container-id-14 div.sk-item::before, #sk-container-id-14 div.sk-parallel-item::before {content: \"\";position: absolute;border-left: 1px solid gray;box-sizing: border-box;top: 0;bottom: 0;left: 50%;z-index: -1;}#sk-container-id-14 div.sk-parallel-item {display: flex;flex-direction: column;z-index: 1;position: relative;background-color: white;}#sk-container-id-14 div.sk-parallel-item:first-child::after {align-self: flex-end;width: 50%;}#sk-container-id-14 div.sk-parallel-item:last-child::after {align-self: flex-start;width: 50%;}#sk-container-id-14 div.sk-parallel-item:only-child::after {width: 0;}#sk-container-id-14 div.sk-dashed-wrapped {border: 1px dashed gray;margin: 0 0.4em 0.5em 0.4em;box-sizing: border-box;padding-bottom: 0.4em;background-color: white;}#sk-container-id-14 div.sk-label label {font-family: monospace;font-weight: bold;display: inline-block;line-height: 1.2em;}#sk-container-id-14 div.sk-label-container {text-align: center;}#sk-container-id-14 div.sk-container {/* jupyter's `normalize.less` sets `[hidden] { display: none; }` but bootstrap.min.css set `[hidden] { display: none !important; }` so we also need the `!important` here to be able to override the default hidden behavior on the sphinx rendered scikit-learn.org. See: https://github.com/scikit-learn/scikit-learn/issues/21755 */display: inline-block !important;position: relative;}#sk-container-id-14 div.sk-text-repr-fallback {display: none;}</style><div id=\"sk-container-id-14\" class=\"sk-top-container\"><div class=\"sk-text-repr-fallback\"><pre>BaggingClassifier(estimator=DecisionTreeClassifier(max_depth=10,\n",
       "                                                   min_samples_leaf=5,\n",
       "                                                   min_samples_split=10,\n",
       "                                                   splitter=&#x27;random&#x27;),\n",
       "                  n_estimators=1000)</pre><b>In a Jupyter environment, please rerun this cell to show the HTML representation or trust the notebook. <br />On GitHub, the HTML representation is unable to render, please try loading this page with nbviewer.org.</b></div><div class=\"sk-container\" hidden><div class=\"sk-item sk-dashed-wrapped\"><div class=\"sk-label-container\"><div class=\"sk-label sk-toggleable\"><input class=\"sk-toggleable__control sk-hidden--visually\" id=\"sk-estimator-id-24\" type=\"checkbox\" ><label for=\"sk-estimator-id-24\" class=\"sk-toggleable__label sk-toggleable__label-arrow\">BaggingClassifier</label><div class=\"sk-toggleable__content\"><pre>BaggingClassifier(estimator=DecisionTreeClassifier(max_depth=10,\n",
       "                                                   min_samples_leaf=5,\n",
       "                                                   min_samples_split=10,\n",
       "                                                   splitter=&#x27;random&#x27;),\n",
       "                  n_estimators=1000)</pre></div></div></div><div class=\"sk-parallel\"><div class=\"sk-parallel-item\"><div class=\"sk-item\"><div class=\"sk-label-container\"><div class=\"sk-label sk-toggleable\"><input class=\"sk-toggleable__control sk-hidden--visually\" id=\"sk-estimator-id-25\" type=\"checkbox\" ><label for=\"sk-estimator-id-25\" class=\"sk-toggleable__label sk-toggleable__label-arrow\">estimator: DecisionTreeClassifier</label><div class=\"sk-toggleable__content\"><pre>DecisionTreeClassifier(max_depth=10, min_samples_leaf=5, min_samples_split=10,\n",
       "                       splitter=&#x27;random&#x27;)</pre></div></div></div><div class=\"sk-serial\"><div class=\"sk-item\"><div class=\"sk-estimator sk-toggleable\"><input class=\"sk-toggleable__control sk-hidden--visually\" id=\"sk-estimator-id-26\" type=\"checkbox\" ><label for=\"sk-estimator-id-26\" class=\"sk-toggleable__label sk-toggleable__label-arrow\">DecisionTreeClassifier</label><div class=\"sk-toggleable__content\"><pre>DecisionTreeClassifier(max_depth=10, min_samples_leaf=5, min_samples_split=10,\n",
       "                       splitter=&#x27;random&#x27;)</pre></div></div></div></div></div></div></div></div></div></div>"
      ],
      "text/plain": [
       "BaggingClassifier(estimator=DecisionTreeClassifier(max_depth=10,\n",
       "                                                   min_samples_leaf=5,\n",
       "                                                   min_samples_split=10,\n",
       "                                                   splitter='random'),\n",
       "                  n_estimators=1000)"
      ]
     },
     "execution_count": 59,
     "metadata": {},
     "output_type": "execute_result"
    }
   ],
   "source": [
    "bagged_tree = BaggingClassifier(estimator=DecisionTreeClassifier(criterion= 'gini', max_depth= 10, min_samples_split= 10, min_samples_leaf=5, splitter='random'), n_estimators=1000)\n",
    "bagged_tree.fit(X_train, y_train)"
   ]
  },
  {
   "cell_type": "code",
   "execution_count": 60,
   "id": "c38f265e",
   "metadata": {},
   "outputs": [
    {
     "data": {
      "text/plain": [
       "0.7557126823793491"
      ]
     },
     "execution_count": 60,
     "metadata": {},
     "output_type": "execute_result"
    }
   ],
   "source": [
    "bagged_tree.score(X_train, y_train)"
   ]
  },
  {
   "cell_type": "markdown",
   "id": "2a77e8a1",
   "metadata": {},
   "source": [
    "# Random Forest"
   ]
  },
  {
   "cell_type": "code",
   "execution_count": 56,
   "id": "a7b07665",
   "metadata": {},
   "outputs": [
    {
     "data": {
      "text/plain": [
       "{'criterion': 'gini',\n",
       " 'max_depth': 10,\n",
       " 'min_samples_leaf': 5,\n",
       " 'min_samples_split': 10}"
      ]
     },
     "execution_count": 56,
     "metadata": {},
     "output_type": "execute_result"
    }
   ],
   "source": [
    "forest = RandomForestClassifier()\n",
    "\n",
    "param_grid = {\n",
    "    'criterion': ['gini', 'entropy'],\n",
    "    'max_depth': [1, 2, 5, 10],\n",
    "    'min_samples_split': [5, 10, 20, 40],\n",
    "    'min_samples_leaf': [5, 10, 20]\n",
    "}\n",
    "\n",
    "gs_forest = GridSearchCV(forest, param_grid, cv=3)\n",
    "gs_forest.fit(X_train, y_train)\n",
    "\n",
    "gs_forest.best_params_"
   ]
  },
  {
   "cell_type": "code",
   "execution_count": 58,
   "id": "5c951934",
   "metadata": {},
   "outputs": [
    {
     "data": {
      "text/plain": [
       "0.7477890011223345"
      ]
     },
     "execution_count": 58,
     "metadata": {},
     "output_type": "execute_result"
    }
   ],
   "source": [
    "# Training accuracy score\n",
    "gs_forest.score(X_train, y_train)"
   ]
  },
  {
   "cell_type": "markdown",
   "id": "c68c481b",
   "metadata": {},
   "source": [
    "# XGBoost"
   ]
  },
  {
   "cell_type": "code",
   "execution_count": 27,
   "id": "373df6ea",
   "metadata": {},
   "outputs": [],
   "source": [
    "xgboost_y_train = y_train.map({'non functional': 0, 'functional needs repair': 1, 'functional': 2})"
   ]
  },
  {
   "cell_type": "code",
   "execution_count": 28,
   "id": "2a06292a",
   "metadata": {},
   "outputs": [],
   "source": [
    "# clf = XGBClassifier()\n",
    "# clf.fit(X_train, xgboost_y_train)"
   ]
  },
  {
   "cell_type": "code",
   "execution_count": 29,
   "id": "a91cd97f",
   "metadata": {},
   "outputs": [],
   "source": [
    "# training_preds = clf.predict(X_train)\n",
    "# test_preds = clf.predict(X_test)"
   ]
  },
  {
   "cell_type": "code",
   "execution_count": 30,
   "id": "912814a9",
   "metadata": {},
   "outputs": [],
   "source": [
    "# training_accuracy = accuracy_score(xgboost_y_train, training_preds)"
   ]
  },
  {
   "cell_type": "code",
   "execution_count": 31,
   "id": "8272da88",
   "metadata": {},
   "outputs": [],
   "source": [
    "# training_accuracy"
   ]
  },
  {
   "cell_type": "markdown",
   "id": "46da8ac2",
   "metadata": {},
   "source": [
    "# Bagging Classifier with GridSearchCV"
   ]
  },
  {
   "cell_type": "code",
   "execution_count": null,
   "id": "0c7413a0",
   "metadata": {},
   "outputs": [],
   "source": [
    "bagged_tree = BaggingClassifier(DecisionTreeClassifier(), n_estimators=20)\n",
    "bagged_tree.fit(X_train, y_train)"
   ]
  },
  {
   "cell_type": "code",
   "execution_count": null,
   "id": "c1c70c93",
   "metadata": {},
   "outputs": [],
   "source": [
    "param_grid = {\n",
    "    'criterion': ['gini', 'entropy'],\n",
    "    'max_depth': [1, 2, 5, 10],\n",
    "    'min_samples_split': [5, 10, 20]\n",
    "}\n",
    "\n",
    "gs_tree = GridSearchCV(dtc, param_grid, cv=3)\n",
    "gs_tree.fit(X_train, y_train)\n",
    "\n",
    "gs_tree.best_params_"
   ]
  }
 ],
 "metadata": {
  "kernelspec": {
   "display_name": "Python (learn-env)",
   "language": "python",
   "name": "learn-env"
  },
  "language_info": {
   "codemirror_mode": {
    "name": "ipython",
    "version": 3
   },
   "file_extension": ".py",
   "mimetype": "text/x-python",
   "name": "python",
   "nbconvert_exporter": "python",
   "pygments_lexer": "ipython3",
   "version": "3.9.15"
  }
 },
 "nbformat": 4,
 "nbformat_minor": 5
}
