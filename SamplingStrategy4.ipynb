{
 "cells": [
  {
   "cell_type": "code",
   "execution_count": 2,
   "id": "2fd19ab7",
   "metadata": {},
   "outputs": [],
   "source": [
    "import numpy as np\n",
    "import pandas as pd\n",
    "from tqdm import tqdm\n",
    "from sklearn.model_selection import train_test_split, cross_val_score, StratifiedKFold\n",
    "from sklearn.linear_model import LinearRegression, LogisticRegression, Ridge, Lasso\n",
    "from sklearn.preprocessing import MinMaxScaler, StandardScaler, OneHotEncoder\n",
    "from sklearn.metrics import accuracy_score, get_scorer_names, confusion_matrix, classification_report\n",
    "from sklearn.tree import DecisionTreeClassifier\n",
    "from sklearn import tree\n",
    "from sklearn.model_selection import GridSearchCV\n",
    "from sklearn.neighbors import KNeighborsClassifier\n",
    "from sklearn.ensemble import BaggingClassifier, RandomForestClassifier, AdaBoostClassifier, GradientBoostingClassifier, VotingClassifier\n",
    "from sklearn.ensemble import HistGradientBoostingClassifier, ExtraTreesClassifier\n",
    "from sklearn.naive_bayes import GaussianNB, CategoricalNB\n",
    "from xgboost import XGBClassifier\n",
    "import xgboost as xgb\n",
    "import matplotlib.pyplot as plt\n",
    "from sklearn.pipeline import Pipeline\n",
    "from imblearn.over_sampling import SMOTE\n",
    "import warnings\n",
    "warnings.simplefilter(action='ignore', category=FutureWarning)\n",
    "from statistics import mode as md\n",
    "from IPython.display import clear_output\n",
    "from sklearn.ensemble import StackingClassifier"
   ]
  },
  {
   "cell_type": "code",
   "execution_count": 3,
   "id": "a35cf7f7",
   "metadata": {},
   "outputs": [],
   "source": [
    "strategies = ['auto', 2, 3, 4]\n",
    "resampling = [False, True]\n",
    "\n",
    "strategy = strategies[0]\n",
    "resampling = resampling[0]"
   ]
  },
  {
   "cell_type": "code",
   "execution_count": 4,
   "id": "a37b6d25",
   "metadata": {},
   "outputs": [],
   "source": [
    "def cval(X, y, cval, estimator, xgboost = False, resample = False):\n",
    "    \n",
    "    reports = []\n",
    "    matrices = []\n",
    "    numpy_reports = []\n",
    "    numpy_matrices = []\n",
    "    \n",
    "    report_columns = ['functional', 'functional needs repair', \n",
    "                      'non functional', 'accuracy', 'macro avg', \n",
    "                      'weighted avg']\n",
    "    \n",
    "    report_rows = ['precision', 'recall', \n",
    "                   'f1-score', 'support']\n",
    "    \n",
    "    matrix_labels = ['functional', 'functional needs repair', \n",
    "                     'non functional']\n",
    "    \n",
    "    idx = list(X.index)\n",
    "    np.random.shuffle(idx)\n",
    "    \n",
    "    for i in list(range(cval)):\n",
    "        arrs = np.array_split(idx, cval)\n",
    "        \n",
    "        test = arrs.pop(i)\n",
    "        train = np.concatenate(arrs)\n",
    "        \n",
    "        test_x = X.take(test)\n",
    "        train_x = X.take(train)\n",
    "        test_y = y.take(test)\n",
    "        train_y = y.take(train)\n",
    "            \n",
    "        if resample:\n",
    "            if xgboost:\n",
    "                strategy = {1: int((len(train_x))/2)}\n",
    "            else:\n",
    "                strategy = {'functional needs repair': int((len(train_x))/2)}\n",
    "            \n",
    "            smote = SMOTE(sampling_strategy=strategy)\n",
    "            \n",
    "            train_x_resampled, train_y_resampled = smote.fit_resample(train_x, train_y)\n",
    "            model = estimator\n",
    "            model.fit(train_x_resampled, train_y_resampled)\n",
    "            \n",
    "        else:\n",
    "            if xgboost:\n",
    "                test_y = test_y.map({'non functional': 0, 'functional needs repair': 1, 'functional': 2})\n",
    "                train_y = train_y.map({'non functional': 0, 'functional needs repair': 1, 'functional': 2})\n",
    "            model = estimator\n",
    "            model.fit(train_x, train_y)\n",
    "            \n",
    "        preds = model.predict(test_x)\n",
    "        \n",
    "        report = pd.DataFrame(classification_report(test_y, preds, output_dict=True))\n",
    "        reports.append(report)\n",
    "        numpy_reports.append(np.array(report))\n",
    "        \n",
    "        matrix = pd.DataFrame(confusion_matrix(test_y, preds))\n",
    "        matrices.append(matrix)\n",
    "        numpy_matrices.append(np.array(matrix))\n",
    "        \n",
    "        clear_output(wait=True)\n",
    "        print(f\"Fold #{i+1} out of {cval} done.\")\n",
    "    \n",
    "    numpy_report = pd.DataFrame(np.sum(numpy_reports, axis=0)/cval, \n",
    "                                columns=report_columns, index=report_rows)\n",
    "    \n",
    "    numpy_matrix = pd.DataFrame(np.sum(numpy_matrices, axis=0)/cval, \n",
    "                                columns=matrix_labels, index=matrix_labels)\n",
    "    \n",
    "    print(\"Analyis complete.\")\n",
    "    \n",
    "    return reports, matrices, numpy_report, numpy_matrix"
   ]
  },
  {
   "cell_type": "code",
   "execution_count": 5,
   "id": "6c692095",
   "metadata": {},
   "outputs": [],
   "source": [
    "X_test = pd.read_csv(\"tanzanian_water_wells/X_test.csv\")\n",
    "X_train = pd.read_csv(\"tanzanian_water_wells/X_train.csv\")\n",
    "y_train = pd.read_csv(\"tanzanian_water_wells/y_train.csv\")\n",
    "\n",
    "df = pd.concat([X_train, y_train], axis=1)"
   ]
  },
  {
   "cell_type": "code",
   "execution_count": 6,
   "id": "1ad219ae",
   "metadata": {},
   "outputs": [],
   "source": [
    "desc = {'amount_tsh': 'Total static head (amount water available to waterpoint)',\n",
    "                    'date_recorded': 'The date the row was entered',\n",
    "                    'funder': 'Who funded the well',\n",
    "                    'gps_height': 'Altitude of the well',\n",
    "                    'installer': 'Organization that installed the well',\n",
    "                    'longitude': 'GPS coordinate',\n",
    "                    'latitude': 'GPS coordinate',\n",
    "                    'wpt_name': 'Name of the waterpoint if there is one',\n",
    "                    'subvillage': 'Geographic location',\n",
    "                    'region': 'Geographic location',\n",
    "                    'region_code': 'Geographic location (coded)',\n",
    "                    'district_code': 'Geographic location (coded)',\n",
    "                    'lga': 'Geographic location',\n",
    "                    'ward': 'Geographic location',\n",
    "                    'population': 'Population around the well',\n",
    "                    'public_meeting': 'True/False',\n",
    "                    'recorded_by': 'Group entering this row of data',\n",
    "                    'scheme_management': 'Who operates the waterpoint',\n",
    "                    'scheme_name': 'Who operates the waterpoint',\n",
    "                    'permit': 'If the waterpoint is permitted',\n",
    "                    'construction_year': 'Year the waterpoint was constructed',\n",
    "                    'extraction_type': 'The kind of extraction the waterpoint uses',\n",
    "                    'extraction_type_group': 'The kind of extraction the waterpoint uses',\n",
    "                    'extraction_type_class': 'The kind of extraction the waterpoint uses',\n",
    "                    'management': 'How the waterpoint is managed',\n",
    "                    'management_group': 'How the waterpoint is managed',\n",
    "                    'payment': 'What the water costs',\n",
    "                    'payment_type': 'What the water costs',\n",
    "                    'water_quality': 'The quality of the water',\n",
    "                    'quality_group': 'The quality of the water',\n",
    "                    'quantity': 'The quantity of water',\n",
    "                    'quantity_group': 'The quantity of water',\n",
    "                    'source': 'The source of the water',\n",
    "                    'source_type': 'The source of the water',\n",
    "                    'source_class': 'The source of the water',\n",
    "                    'waterpoint_type': 'The kind of waterpoint',\n",
    "                    'waterpoint_type_group': 'The kind of waterpoint'}"
   ]
  },
  {
   "cell_type": "code",
   "execution_count": 7,
   "id": "474b21d9",
   "metadata": {},
   "outputs": [],
   "source": [
    "# Eliminating null values\n",
    "\n",
    "df.funder.fillna(\"Unknown\", inplace=True)\n",
    "df.installer.fillna(\"Unknown\", inplace=True)\n",
    "df.scheme_management.fillna(\"None\", inplace=True)\n",
    "df.permit.fillna('Unknown', inplace=True)\n",
    "df.scheme_name.fillna('Unknown', inplace=True)\n",
    "df.subvillage.fillna('Unknown', inplace=True)\n",
    "df.public_meeting.fillna('Unknown', inplace=True)"
   ]
  },
  {
   "cell_type": "markdown",
   "id": "89146789",
   "metadata": {},
   "source": [
    "# Defining the train and test sets"
   ]
  },
  {
   "cell_type": "code",
   "execution_count": 8,
   "id": "c2ec08b1",
   "metadata": {},
   "outputs": [],
   "source": [
    "X = df.copy()\n",
    "\n",
    "columns = ['amount_tsh', 'gps_height', 'population', 'region', 'lga', \n",
    "           'scheme_management', 'permit', 'construction_year',\n",
    "           'extraction_type_group', 'payment', 'management', \n",
    "           'quality_group', 'quantity', 'source', 'waterpoint_type']\n",
    "\n",
    "X = X[columns]\n",
    "\n",
    "# X['public_meeting'] = X['public_meeting'].map({True: 'Yes', False: 'No', 'Unknown': 'Unknown'})\n",
    "X['permit'] = X['permit'].map({True: 'Yes', False: 'No', 'Unknown': 'Unknown'})\n",
    "X['gps_height'] = X['gps_height'].astype('float64')\n",
    "# X['district_code'] = X['district_code'].astype('float64')\n",
    "X['population'] = X['population'].astype('float64')\n",
    "# X['district_code'] = X['district_code'].astype('object')\n",
    "\n",
    "X_cat = X.drop(list(X.select_dtypes(['float64']).columns), axis=1)\n",
    "X_numeric = X[list(X.select_dtypes(['float64']).columns)]\n",
    "\n",
    "y = df['status_group']\n",
    "\n",
    "X_cat = pd.get_dummies(X_cat)\n",
    "\n",
    "X = pd.concat([X_numeric, X_cat], axis=1)\n",
    "\n",
    "X_train, X_test, y_train, y_test = train_test_split(X, y)\n",
    "\n",
    "scaler = StandardScaler()\n",
    "scaler.fit(X_train)\n",
    "X_train = pd.DataFrame(scaler.transform(X_train),\n",
    "                index = X_train.index,\n",
    "                columns = X_train.columns)\n",
    "X_test = pd.DataFrame(scaler.transform(X_test),\n",
    "                index = X_test.index,\n",
    "                columns = X_test.columns)\n",
    "\n",
    "X_train.reset_index(inplace=True, drop=True)\n",
    "y_train = y_train.reset_index(drop=True)"
   ]
  },
  {
   "cell_type": "markdown",
   "id": "d8ca3391",
   "metadata": {},
   "source": [
    "# Base Model – Logistic Regression, No Regularization"
   ]
  },
  {
   "cell_type": "code",
   "execution_count": 9,
   "id": "ead9fbf8",
   "metadata": {
    "scrolled": false
   },
   "outputs": [
    {
     "name": "stdout",
     "output_type": "stream",
     "text": [
      "Fold #5 out of 5 done.\n",
      "Analyis complete.\n"
     ]
    }
   ],
   "source": [
    "estimator = LogisticRegression(solver='liblinear', fit_intercept=False)\n",
    "reports, matrices, numpy_report, numpy_matrix = cval(X_train, y_train, 5, estimator)"
   ]
  },
  {
   "cell_type": "code",
   "execution_count": 10,
   "id": "ba544bf4",
   "metadata": {},
   "outputs": [
    {
     "data": {
      "text/html": [
       "<div>\n",
       "<style scoped>\n",
       "    .dataframe tbody tr th:only-of-type {\n",
       "        vertical-align: middle;\n",
       "    }\n",
       "\n",
       "    .dataframe tbody tr th {\n",
       "        vertical-align: top;\n",
       "    }\n",
       "\n",
       "    .dataframe thead th {\n",
       "        text-align: right;\n",
       "    }\n",
       "</style>\n",
       "<table border=\"1\" class=\"dataframe\">\n",
       "  <thead>\n",
       "    <tr style=\"text-align: right;\">\n",
       "      <th></th>\n",
       "      <th>functional</th>\n",
       "      <th>functional needs repair</th>\n",
       "      <th>non functional</th>\n",
       "      <th>accuracy</th>\n",
       "      <th>macro avg</th>\n",
       "      <th>weighted avg</th>\n",
       "    </tr>\n",
       "  </thead>\n",
       "  <tbody>\n",
       "    <tr>\n",
       "      <th>precision</th>\n",
       "      <td>0.766942</td>\n",
       "      <td>0.232447</td>\n",
       "      <td>0.808717</td>\n",
       "      <td>0.700561</td>\n",
       "      <td>0.602702</td>\n",
       "      <td>0.744061</td>\n",
       "    </tr>\n",
       "    <tr>\n",
       "      <th>recall</th>\n",
       "      <td>0.786003</td>\n",
       "      <td>0.470264</td>\n",
       "      <td>0.623073</td>\n",
       "      <td>0.700561</td>\n",
       "      <td>0.626447</td>\n",
       "      <td>0.700561</td>\n",
       "    </tr>\n",
       "    <tr>\n",
       "      <th>f1-score</th>\n",
       "      <td>0.776336</td>\n",
       "      <td>0.311054</td>\n",
       "      <td>0.703779</td>\n",
       "      <td>0.700561</td>\n",
       "      <td>0.597056</td>\n",
       "      <td>0.714663</td>\n",
       "    </tr>\n",
       "    <tr>\n",
       "      <th>support</th>\n",
       "      <td>4845.800000</td>\n",
       "      <td>648.600000</td>\n",
       "      <td>3415.600000</td>\n",
       "      <td>0.700561</td>\n",
       "      <td>8910.000000</td>\n",
       "      <td>8910.000000</td>\n",
       "    </tr>\n",
       "  </tbody>\n",
       "</table>\n",
       "</div>"
      ],
      "text/plain": [
       "            functional  functional needs repair  non functional  accuracy  \\\n",
       "precision     0.766942                 0.232447        0.808717  0.700561   \n",
       "recall        0.786003                 0.470264        0.623073  0.700561   \n",
       "f1-score      0.776336                 0.311054        0.703779  0.700561   \n",
       "support    4845.800000               648.600000     3415.600000  0.700561   \n",
       "\n",
       "             macro avg  weighted avg  \n",
       "precision     0.602702      0.744061  \n",
       "recall        0.626447      0.700561  \n",
       "f1-score      0.597056      0.714663  \n",
       "support    8910.000000   8910.000000  "
      ]
     },
     "execution_count": 10,
     "metadata": {},
     "output_type": "execute_result"
    }
   ],
   "source": [
    "numpy_report"
   ]
  },
  {
   "cell_type": "code",
   "execution_count": 11,
   "id": "0b71a7c7",
   "metadata": {},
   "outputs": [
    {
     "data": {
      "text/html": [
       "<div>\n",
       "<style scoped>\n",
       "    .dataframe tbody tr th:only-of-type {\n",
       "        vertical-align: middle;\n",
       "    }\n",
       "\n",
       "    .dataframe tbody tr th {\n",
       "        vertical-align: top;\n",
       "    }\n",
       "\n",
       "    .dataframe thead th {\n",
       "        text-align: right;\n",
       "    }\n",
       "</style>\n",
       "<table border=\"1\" class=\"dataframe\">\n",
       "  <thead>\n",
       "    <tr style=\"text-align: right;\">\n",
       "      <th></th>\n",
       "      <th>functional</th>\n",
       "      <th>functional needs repair</th>\n",
       "      <th>non functional</th>\n",
       "    </tr>\n",
       "  </thead>\n",
       "  <tbody>\n",
       "    <tr>\n",
       "      <th>functional</th>\n",
       "      <td>3809.0</td>\n",
       "      <td>611.8</td>\n",
       "      <td>425.0</td>\n",
       "    </tr>\n",
       "    <tr>\n",
       "      <th>functional needs repair</th>\n",
       "      <td>265.0</td>\n",
       "      <td>304.8</td>\n",
       "      <td>78.8</td>\n",
       "    </tr>\n",
       "    <tr>\n",
       "      <th>non functional</th>\n",
       "      <td>892.4</td>\n",
       "      <td>395.0</td>\n",
       "      <td>2128.2</td>\n",
       "    </tr>\n",
       "  </tbody>\n",
       "</table>\n",
       "</div>"
      ],
      "text/plain": [
       "                         functional  functional needs repair  non functional\n",
       "functional                   3809.0                    611.8           425.0\n",
       "functional needs repair       265.0                    304.8            78.8\n",
       "non functional                892.4                    395.0          2128.2"
      ]
     },
     "execution_count": 11,
     "metadata": {},
     "output_type": "execute_result"
    }
   ],
   "source": [
    "numpy_matrix"
   ]
  },
  {
   "cell_type": "markdown",
   "id": "4fd4181b",
   "metadata": {},
   "source": [
    "# Second Model – Decision Tree"
   ]
  },
  {
   "cell_type": "code",
   "execution_count": 12,
   "id": "08d6a65e",
   "metadata": {},
   "outputs": [],
   "source": [
    "dtc = DecisionTreeClassifier()"
   ]
  },
  {
   "cell_type": "code",
   "execution_count": 13,
   "id": "f2b48de3",
   "metadata": {},
   "outputs": [
    {
     "name": "stdout",
     "output_type": "stream",
     "text": [
      "Fold #5 out of 5 done.\n",
      "Analyis complete.\n"
     ]
    }
   ],
   "source": [
    "dtc_reports, dtc_matrices, dtc_numpy_report, dtc_numpy_matrix = cval(X_train, y_train, 5, dtc)"
   ]
  },
  {
   "cell_type": "code",
   "execution_count": 14,
   "id": "6121bdb5",
   "metadata": {},
   "outputs": [
    {
     "data": {
      "text/html": [
       "<div>\n",
       "<style scoped>\n",
       "    .dataframe tbody tr th:only-of-type {\n",
       "        vertical-align: middle;\n",
       "    }\n",
       "\n",
       "    .dataframe tbody tr th {\n",
       "        vertical-align: top;\n",
       "    }\n",
       "\n",
       "    .dataframe thead th {\n",
       "        text-align: right;\n",
       "    }\n",
       "</style>\n",
       "<table border=\"1\" class=\"dataframe\">\n",
       "  <thead>\n",
       "    <tr style=\"text-align: right;\">\n",
       "      <th></th>\n",
       "      <th>functional</th>\n",
       "      <th>functional needs repair</th>\n",
       "      <th>non functional</th>\n",
       "    </tr>\n",
       "  </thead>\n",
       "  <tbody>\n",
       "    <tr>\n",
       "      <th>functional</th>\n",
       "      <td>3954.0</td>\n",
       "      <td>238.2</td>\n",
       "      <td>653.6</td>\n",
       "    </tr>\n",
       "    <tr>\n",
       "      <th>functional needs repair</th>\n",
       "      <td>320.0</td>\n",
       "      <td>217.0</td>\n",
       "      <td>111.6</td>\n",
       "    </tr>\n",
       "    <tr>\n",
       "      <th>non functional</th>\n",
       "      <td>782.2</td>\n",
       "      <td>114.2</td>\n",
       "      <td>2519.2</td>\n",
       "    </tr>\n",
       "  </tbody>\n",
       "</table>\n",
       "</div>"
      ],
      "text/plain": [
       "                         functional  functional needs repair  non functional\n",
       "functional                   3954.0                    238.2           653.6\n",
       "functional needs repair       320.0                    217.0           111.6\n",
       "non functional                782.2                    114.2          2519.2"
      ]
     },
     "execution_count": 14,
     "metadata": {},
     "output_type": "execute_result"
    }
   ],
   "source": [
    "dtc_numpy_matrix"
   ]
  },
  {
   "cell_type": "code",
   "execution_count": 15,
   "id": "67d6a213",
   "metadata": {},
   "outputs": [
    {
     "data": {
      "text/html": [
       "<div>\n",
       "<style scoped>\n",
       "    .dataframe tbody tr th:only-of-type {\n",
       "        vertical-align: middle;\n",
       "    }\n",
       "\n",
       "    .dataframe tbody tr th {\n",
       "        vertical-align: top;\n",
       "    }\n",
       "\n",
       "    .dataframe thead th {\n",
       "        text-align: right;\n",
       "    }\n",
       "</style>\n",
       "<table border=\"1\" class=\"dataframe\">\n",
       "  <thead>\n",
       "    <tr style=\"text-align: right;\">\n",
       "      <th></th>\n",
       "      <th>functional</th>\n",
       "      <th>functional needs repair</th>\n",
       "      <th>non functional</th>\n",
       "      <th>accuracy</th>\n",
       "      <th>macro avg</th>\n",
       "      <th>weighted avg</th>\n",
       "    </tr>\n",
       "  </thead>\n",
       "  <tbody>\n",
       "    <tr>\n",
       "      <th>precision</th>\n",
       "      <td>0.781993</td>\n",
       "      <td>0.380701</td>\n",
       "      <td>0.767039</td>\n",
       "      <td>0.750864</td>\n",
       "      <td>0.643245</td>\n",
       "      <td>0.747124</td>\n",
       "    </tr>\n",
       "    <tr>\n",
       "      <th>recall</th>\n",
       "      <td>0.815941</td>\n",
       "      <td>0.334469</td>\n",
       "      <td>0.737624</td>\n",
       "      <td>0.750864</td>\n",
       "      <td>0.629345</td>\n",
       "      <td>0.750864</td>\n",
       "    </tr>\n",
       "    <tr>\n",
       "      <th>f1-score</th>\n",
       "      <td>0.798585</td>\n",
       "      <td>0.355978</td>\n",
       "      <td>0.752008</td>\n",
       "      <td>0.750864</td>\n",
       "      <td>0.635523</td>\n",
       "      <td>0.748544</td>\n",
       "    </tr>\n",
       "    <tr>\n",
       "      <th>support</th>\n",
       "      <td>4845.800000</td>\n",
       "      <td>648.600000</td>\n",
       "      <td>3415.600000</td>\n",
       "      <td>0.750864</td>\n",
       "      <td>8910.000000</td>\n",
       "      <td>8910.000000</td>\n",
       "    </tr>\n",
       "  </tbody>\n",
       "</table>\n",
       "</div>"
      ],
      "text/plain": [
       "            functional  functional needs repair  non functional  accuracy  \\\n",
       "precision     0.781993                 0.380701        0.767039  0.750864   \n",
       "recall        0.815941                 0.334469        0.737624  0.750864   \n",
       "f1-score      0.798585                 0.355978        0.752008  0.750864   \n",
       "support    4845.800000               648.600000     3415.600000  0.750864   \n",
       "\n",
       "             macro avg  weighted avg  \n",
       "precision     0.643245      0.747124  \n",
       "recall        0.629345      0.750864  \n",
       "f1-score      0.635523      0.748544  \n",
       "support    8910.000000   8910.000000  "
      ]
     },
     "execution_count": 15,
     "metadata": {},
     "output_type": "execute_result"
    }
   ],
   "source": [
    "dtc_numpy_report"
   ]
  },
  {
   "cell_type": "markdown",
   "id": "7b16a804",
   "metadata": {},
   "source": [
    "# Third Model - K Nearest Neighbors"
   ]
  },
  {
   "cell_type": "code",
   "execution_count": 16,
   "id": "e463bd0f",
   "metadata": {},
   "outputs": [],
   "source": [
    "knn = KNeighborsClassifier(n_neighbors=3)"
   ]
  },
  {
   "cell_type": "code",
   "execution_count": 17,
   "id": "8d61bd56",
   "metadata": {},
   "outputs": [
    {
     "name": "stdout",
     "output_type": "stream",
     "text": [
      "Fold #5 out of 5 done.\n",
      "Analyis complete.\n"
     ]
    }
   ],
   "source": [
    "knn_reports, knn_matrices, knn_numpy_report, knn_numpy_matrix = cval(X_train, y_train, 5, knn)"
   ]
  },
  {
   "cell_type": "code",
   "execution_count": 18,
   "id": "fda77691",
   "metadata": {
    "scrolled": true
   },
   "outputs": [
    {
     "data": {
      "text/html": [
       "<div>\n",
       "<style scoped>\n",
       "    .dataframe tbody tr th:only-of-type {\n",
       "        vertical-align: middle;\n",
       "    }\n",
       "\n",
       "    .dataframe tbody tr th {\n",
       "        vertical-align: top;\n",
       "    }\n",
       "\n",
       "    .dataframe thead th {\n",
       "        text-align: right;\n",
       "    }\n",
       "</style>\n",
       "<table border=\"1\" class=\"dataframe\">\n",
       "  <thead>\n",
       "    <tr style=\"text-align: right;\">\n",
       "      <th></th>\n",
       "      <th>functional</th>\n",
       "      <th>functional needs repair</th>\n",
       "      <th>non functional</th>\n",
       "    </tr>\n",
       "  </thead>\n",
       "  <tbody>\n",
       "    <tr>\n",
       "      <th>functional</th>\n",
       "      <td>4075.6</td>\n",
       "      <td>140.0</td>\n",
       "      <td>630.2</td>\n",
       "    </tr>\n",
       "    <tr>\n",
       "      <th>functional needs repair</th>\n",
       "      <td>350.6</td>\n",
       "      <td>191.2</td>\n",
       "      <td>106.8</td>\n",
       "    </tr>\n",
       "    <tr>\n",
       "      <th>non functional</th>\n",
       "      <td>878.8</td>\n",
       "      <td>75.2</td>\n",
       "      <td>2461.6</td>\n",
       "    </tr>\n",
       "  </tbody>\n",
       "</table>\n",
       "</div>"
      ],
      "text/plain": [
       "                         functional  functional needs repair  non functional\n",
       "functional                   4075.6                    140.0           630.2\n",
       "functional needs repair       350.6                    191.2           106.8\n",
       "non functional                878.8                     75.2          2461.6"
      ]
     },
     "execution_count": 18,
     "metadata": {},
     "output_type": "execute_result"
    }
   ],
   "source": [
    "knn_numpy_matrix"
   ]
  },
  {
   "cell_type": "code",
   "execution_count": 19,
   "id": "afd4e299",
   "metadata": {},
   "outputs": [
    {
     "data": {
      "text/html": [
       "<div>\n",
       "<style scoped>\n",
       "    .dataframe tbody tr th:only-of-type {\n",
       "        vertical-align: middle;\n",
       "    }\n",
       "\n",
       "    .dataframe tbody tr th {\n",
       "        vertical-align: top;\n",
       "    }\n",
       "\n",
       "    .dataframe thead th {\n",
       "        text-align: right;\n",
       "    }\n",
       "</style>\n",
       "<table border=\"1\" class=\"dataframe\">\n",
       "  <thead>\n",
       "    <tr style=\"text-align: right;\">\n",
       "      <th></th>\n",
       "      <th>functional</th>\n",
       "      <th>functional needs repair</th>\n",
       "      <th>non functional</th>\n",
       "      <th>accuracy</th>\n",
       "      <th>macro avg</th>\n",
       "      <th>weighted avg</th>\n",
       "    </tr>\n",
       "  </thead>\n",
       "  <tbody>\n",
       "    <tr>\n",
       "      <th>precision</th>\n",
       "      <td>0.768267</td>\n",
       "      <td>0.471300</td>\n",
       "      <td>0.769749</td>\n",
       "      <td>0.755152</td>\n",
       "      <td>0.669772</td>\n",
       "      <td>0.747301</td>\n",
       "    </tr>\n",
       "    <tr>\n",
       "      <th>recall</th>\n",
       "      <td>0.841108</td>\n",
       "      <td>0.295283</td>\n",
       "      <td>0.720681</td>\n",
       "      <td>0.755152</td>\n",
       "      <td>0.619024</td>\n",
       "      <td>0.755152</td>\n",
       "    </tr>\n",
       "    <tr>\n",
       "      <th>f1-score</th>\n",
       "      <td>0.802976</td>\n",
       "      <td>0.362013</td>\n",
       "      <td>0.744329</td>\n",
       "      <td>0.755152</td>\n",
       "      <td>0.636440</td>\n",
       "      <td>0.748400</td>\n",
       "    </tr>\n",
       "    <tr>\n",
       "      <th>support</th>\n",
       "      <td>4845.800000</td>\n",
       "      <td>648.600000</td>\n",
       "      <td>3415.600000</td>\n",
       "      <td>0.755152</td>\n",
       "      <td>8910.000000</td>\n",
       "      <td>8910.000000</td>\n",
       "    </tr>\n",
       "  </tbody>\n",
       "</table>\n",
       "</div>"
      ],
      "text/plain": [
       "            functional  functional needs repair  non functional  accuracy  \\\n",
       "precision     0.768267                 0.471300        0.769749  0.755152   \n",
       "recall        0.841108                 0.295283        0.720681  0.755152   \n",
       "f1-score      0.802976                 0.362013        0.744329  0.755152   \n",
       "support    4845.800000               648.600000     3415.600000  0.755152   \n",
       "\n",
       "             macro avg  weighted avg  \n",
       "precision     0.669772      0.747301  \n",
       "recall        0.619024      0.755152  \n",
       "f1-score      0.636440      0.748400  \n",
       "support    8910.000000   8910.000000  "
      ]
     },
     "execution_count": 19,
     "metadata": {},
     "output_type": "execute_result"
    }
   ],
   "source": [
    "knn_numpy_report"
   ]
  },
  {
   "cell_type": "markdown",
   "id": "dca99492",
   "metadata": {},
   "source": [
    "# Fourth Model – Bagging Classifier"
   ]
  },
  {
   "cell_type": "code",
   "execution_count": 20,
   "id": "ac272151",
   "metadata": {},
   "outputs": [],
   "source": [
    "bagged_tree = BaggingClassifier(estimator=DecisionTreeClassifier(), n_estimators=50, max_features=50)"
   ]
  },
  {
   "cell_type": "code",
   "execution_count": 21,
   "id": "ba44d1e8",
   "metadata": {},
   "outputs": [
    {
     "name": "stdout",
     "output_type": "stream",
     "text": [
      "Fold #5 out of 5 done.\n",
      "Analyis complete.\n"
     ]
    }
   ],
   "source": [
    "bagged_tree_reports, bagged_tree_matrices, bagged_tree_numpy_report, bagged_tree_numpy_matrix = cval(X_train, y_train, 5, bagged_tree)"
   ]
  },
  {
   "cell_type": "code",
   "execution_count": 22,
   "id": "92602c53",
   "metadata": {},
   "outputs": [
    {
     "data": {
      "text/html": [
       "<div>\n",
       "<style scoped>\n",
       "    .dataframe tbody tr th:only-of-type {\n",
       "        vertical-align: middle;\n",
       "    }\n",
       "\n",
       "    .dataframe tbody tr th {\n",
       "        vertical-align: top;\n",
       "    }\n",
       "\n",
       "    .dataframe thead th {\n",
       "        text-align: right;\n",
       "    }\n",
       "</style>\n",
       "<table border=\"1\" class=\"dataframe\">\n",
       "  <thead>\n",
       "    <tr style=\"text-align: right;\">\n",
       "      <th></th>\n",
       "      <th>functional</th>\n",
       "      <th>functional needs repair</th>\n",
       "      <th>non functional</th>\n",
       "    </tr>\n",
       "  </thead>\n",
       "  <tbody>\n",
       "    <tr>\n",
       "      <th>functional</th>\n",
       "      <td>4539.4</td>\n",
       "      <td>11.0</td>\n",
       "      <td>295.4</td>\n",
       "    </tr>\n",
       "    <tr>\n",
       "      <th>functional needs repair</th>\n",
       "      <td>523.4</td>\n",
       "      <td>40.4</td>\n",
       "      <td>84.8</td>\n",
       "    </tr>\n",
       "    <tr>\n",
       "      <th>non functional</th>\n",
       "      <td>1140.2</td>\n",
       "      <td>6.2</td>\n",
       "      <td>2269.2</td>\n",
       "    </tr>\n",
       "  </tbody>\n",
       "</table>\n",
       "</div>"
      ],
      "text/plain": [
       "                         functional  functional needs repair  non functional\n",
       "functional                   4539.4                     11.0           295.4\n",
       "functional needs repair       523.4                     40.4            84.8\n",
       "non functional               1140.2                      6.2          2269.2"
      ]
     },
     "execution_count": 22,
     "metadata": {},
     "output_type": "execute_result"
    }
   ],
   "source": [
    "bagged_tree_numpy_matrix"
   ]
  },
  {
   "cell_type": "code",
   "execution_count": 23,
   "id": "5c8ead78",
   "metadata": {},
   "outputs": [
    {
     "data": {
      "text/html": [
       "<div>\n",
       "<style scoped>\n",
       "    .dataframe tbody tr th:only-of-type {\n",
       "        vertical-align: middle;\n",
       "    }\n",
       "\n",
       "    .dataframe tbody tr th {\n",
       "        vertical-align: top;\n",
       "    }\n",
       "\n",
       "    .dataframe thead th {\n",
       "        text-align: right;\n",
       "    }\n",
       "</style>\n",
       "<table border=\"1\" class=\"dataframe\">\n",
       "  <thead>\n",
       "    <tr style=\"text-align: right;\">\n",
       "      <th></th>\n",
       "      <th>functional</th>\n",
       "      <th>functional needs repair</th>\n",
       "      <th>non functional</th>\n",
       "      <th>accuracy</th>\n",
       "      <th>macro avg</th>\n",
       "      <th>weighted avg</th>\n",
       "    </tr>\n",
       "  </thead>\n",
       "  <tbody>\n",
       "    <tr>\n",
       "      <th>precision</th>\n",
       "      <td>0.731811</td>\n",
       "      <td>0.707088</td>\n",
       "      <td>0.856543</td>\n",
       "      <td>0.768687</td>\n",
       "      <td>0.765148</td>\n",
       "      <td>0.777872</td>\n",
       "    </tr>\n",
       "    <tr>\n",
       "      <th>recall</th>\n",
       "      <td>0.936778</td>\n",
       "      <td>0.062350</td>\n",
       "      <td>0.664438</td>\n",
       "      <td>0.768687</td>\n",
       "      <td>0.554522</td>\n",
       "      <td>0.768687</td>\n",
       "    </tr>\n",
       "    <tr>\n",
       "      <th>f1-score</th>\n",
       "      <td>0.821681</td>\n",
       "      <td>0.114252</td>\n",
       "      <td>0.748317</td>\n",
       "      <td>0.768687</td>\n",
       "      <td>0.561417</td>\n",
       "      <td>0.742056</td>\n",
       "    </tr>\n",
       "    <tr>\n",
       "      <th>support</th>\n",
       "      <td>4845.800000</td>\n",
       "      <td>648.600000</td>\n",
       "      <td>3415.600000</td>\n",
       "      <td>0.768687</td>\n",
       "      <td>8910.000000</td>\n",
       "      <td>8910.000000</td>\n",
       "    </tr>\n",
       "  </tbody>\n",
       "</table>\n",
       "</div>"
      ],
      "text/plain": [
       "            functional  functional needs repair  non functional  accuracy  \\\n",
       "precision     0.731811                 0.707088        0.856543  0.768687   \n",
       "recall        0.936778                 0.062350        0.664438  0.768687   \n",
       "f1-score      0.821681                 0.114252        0.748317  0.768687   \n",
       "support    4845.800000               648.600000     3415.600000  0.768687   \n",
       "\n",
       "             macro avg  weighted avg  \n",
       "precision     0.765148      0.777872  \n",
       "recall        0.554522      0.768687  \n",
       "f1-score      0.561417      0.742056  \n",
       "support    8910.000000   8910.000000  "
      ]
     },
     "execution_count": 23,
     "metadata": {},
     "output_type": "execute_result"
    }
   ],
   "source": [
    "bagged_tree_numpy_report"
   ]
  },
  {
   "cell_type": "markdown",
   "id": "bdacc818",
   "metadata": {},
   "source": [
    "# Fifth Model – Random Forest"
   ]
  },
  {
   "cell_type": "code",
   "execution_count": 24,
   "id": "77b0e851",
   "metadata": {},
   "outputs": [],
   "source": [
    "forest = RandomForestClassifier()"
   ]
  },
  {
   "cell_type": "code",
   "execution_count": 25,
   "id": "103d07c5",
   "metadata": {},
   "outputs": [
    {
     "name": "stdout",
     "output_type": "stream",
     "text": [
      "Fold #5 out of 5 done.\n",
      "Analyis complete.\n"
     ]
    }
   ],
   "source": [
    "forest_reports, forest_matrices, forest_numpy_report, forest_numpy_matrix = cval(X_train, y_train, 5, forest)"
   ]
  },
  {
   "cell_type": "code",
   "execution_count": 26,
   "id": "57d98426",
   "metadata": {},
   "outputs": [
    {
     "data": {
      "text/html": [
       "<div>\n",
       "<style scoped>\n",
       "    .dataframe tbody tr th:only-of-type {\n",
       "        vertical-align: middle;\n",
       "    }\n",
       "\n",
       "    .dataframe tbody tr th {\n",
       "        vertical-align: top;\n",
       "    }\n",
       "\n",
       "    .dataframe thead th {\n",
       "        text-align: right;\n",
       "    }\n",
       "</style>\n",
       "<table border=\"1\" class=\"dataframe\">\n",
       "  <thead>\n",
       "    <tr style=\"text-align: right;\">\n",
       "      <th></th>\n",
       "      <th>functional</th>\n",
       "      <th>functional needs repair</th>\n",
       "      <th>non functional</th>\n",
       "    </tr>\n",
       "  </thead>\n",
       "  <tbody>\n",
       "    <tr>\n",
       "      <th>functional</th>\n",
       "      <td>4220.6</td>\n",
       "      <td>142.2</td>\n",
       "      <td>483.0</td>\n",
       "    </tr>\n",
       "    <tr>\n",
       "      <th>functional needs repair</th>\n",
       "      <td>330.0</td>\n",
       "      <td>208.6</td>\n",
       "      <td>110.0</td>\n",
       "    </tr>\n",
       "    <tr>\n",
       "      <th>non functional</th>\n",
       "      <td>772.8</td>\n",
       "      <td>64.8</td>\n",
       "      <td>2578.0</td>\n",
       "    </tr>\n",
       "  </tbody>\n",
       "</table>\n",
       "</div>"
      ],
      "text/plain": [
       "                         functional  functional needs repair  non functional\n",
       "functional                   4220.6                    142.2           483.0\n",
       "functional needs repair       330.0                    208.6           110.0\n",
       "non functional                772.8                     64.8          2578.0"
      ]
     },
     "execution_count": 26,
     "metadata": {},
     "output_type": "execute_result"
    }
   ],
   "source": [
    "forest_numpy_matrix"
   ]
  },
  {
   "cell_type": "code",
   "execution_count": 27,
   "id": "b83b6792",
   "metadata": {},
   "outputs": [
    {
     "data": {
      "text/html": [
       "<div>\n",
       "<style scoped>\n",
       "    .dataframe tbody tr th:only-of-type {\n",
       "        vertical-align: middle;\n",
       "    }\n",
       "\n",
       "    .dataframe tbody tr th {\n",
       "        vertical-align: top;\n",
       "    }\n",
       "\n",
       "    .dataframe thead th {\n",
       "        text-align: right;\n",
       "    }\n",
       "</style>\n",
       "<table border=\"1\" class=\"dataframe\">\n",
       "  <thead>\n",
       "    <tr style=\"text-align: right;\">\n",
       "      <th></th>\n",
       "      <th>functional</th>\n",
       "      <th>functional needs repair</th>\n",
       "      <th>non functional</th>\n",
       "      <th>accuracy</th>\n",
       "      <th>macro avg</th>\n",
       "      <th>weighted avg</th>\n",
       "    </tr>\n",
       "  </thead>\n",
       "  <tbody>\n",
       "    <tr>\n",
       "      <th>precision</th>\n",
       "      <td>0.792849</td>\n",
       "      <td>0.502156</td>\n",
       "      <td>0.813082</td>\n",
       "      <td>0.786442</td>\n",
       "      <td>0.702695</td>\n",
       "      <td>0.779530</td>\n",
       "    </tr>\n",
       "    <tr>\n",
       "      <th>recall</th>\n",
       "      <td>0.870999</td>\n",
       "      <td>0.321535</td>\n",
       "      <td>0.754789</td>\n",
       "      <td>0.786442</td>\n",
       "      <td>0.649108</td>\n",
       "      <td>0.786442</td>\n",
       "    </tr>\n",
       "    <tr>\n",
       "      <th>f1-score</th>\n",
       "      <td>0.830073</td>\n",
       "      <td>0.391471</td>\n",
       "      <td>0.782775</td>\n",
       "      <td>0.786442</td>\n",
       "      <td>0.668107</td>\n",
       "      <td>0.780043</td>\n",
       "    </tr>\n",
       "    <tr>\n",
       "      <th>support</th>\n",
       "      <td>4845.800000</td>\n",
       "      <td>648.600000</td>\n",
       "      <td>3415.600000</td>\n",
       "      <td>0.786442</td>\n",
       "      <td>8910.000000</td>\n",
       "      <td>8910.000000</td>\n",
       "    </tr>\n",
       "  </tbody>\n",
       "</table>\n",
       "</div>"
      ],
      "text/plain": [
       "            functional  functional needs repair  non functional  accuracy  \\\n",
       "precision     0.792849                 0.502156        0.813082  0.786442   \n",
       "recall        0.870999                 0.321535        0.754789  0.786442   \n",
       "f1-score      0.830073                 0.391471        0.782775  0.786442   \n",
       "support    4845.800000               648.600000     3415.600000  0.786442   \n",
       "\n",
       "             macro avg  weighted avg  \n",
       "precision     0.702695      0.779530  \n",
       "recall        0.649108      0.786442  \n",
       "f1-score      0.668107      0.780043  \n",
       "support    8910.000000   8910.000000  "
      ]
     },
     "execution_count": 27,
     "metadata": {},
     "output_type": "execute_result"
    }
   ],
   "source": [
    "forest_numpy_report"
   ]
  },
  {
   "cell_type": "markdown",
   "id": "6b6d28f6",
   "metadata": {},
   "source": [
    "# Sixth Model – XGBoost"
   ]
  },
  {
   "cell_type": "code",
   "execution_count": 28,
   "id": "9bdcc953",
   "metadata": {},
   "outputs": [],
   "source": [
    "xgb = XGBClassifier()"
   ]
  },
  {
   "cell_type": "code",
   "execution_count": 29,
   "id": "0ed90403",
   "metadata": {},
   "outputs": [
    {
     "name": "stdout",
     "output_type": "stream",
     "text": [
      "Fold #5 out of 5 done.\n",
      "Analyis complete.\n"
     ]
    }
   ],
   "source": [
    "xgboost_reports, xgboost_matrices, xgboost_numpy_report, xgboost_numpy_matrix = cval(X_train, y_train, 5, xgb, xgboost=True)"
   ]
  },
  {
   "cell_type": "code",
   "execution_count": 30,
   "id": "89e9da23",
   "metadata": {},
   "outputs": [
    {
     "data": {
      "text/html": [
       "<div>\n",
       "<style scoped>\n",
       "    .dataframe tbody tr th:only-of-type {\n",
       "        vertical-align: middle;\n",
       "    }\n",
       "\n",
       "    .dataframe tbody tr th {\n",
       "        vertical-align: top;\n",
       "    }\n",
       "\n",
       "    .dataframe thead th {\n",
       "        text-align: right;\n",
       "    }\n",
       "</style>\n",
       "<table border=\"1\" class=\"dataframe\">\n",
       "  <thead>\n",
       "    <tr style=\"text-align: right;\">\n",
       "      <th></th>\n",
       "      <th>functional</th>\n",
       "      <th>functional needs repair</th>\n",
       "      <th>non functional</th>\n",
       "    </tr>\n",
       "  </thead>\n",
       "  <tbody>\n",
       "    <tr>\n",
       "      <th>functional</th>\n",
       "      <td>2426.4</td>\n",
       "      <td>28.8</td>\n",
       "      <td>960.4</td>\n",
       "    </tr>\n",
       "    <tr>\n",
       "      <th>functional needs repair</th>\n",
       "      <td>101.6</td>\n",
       "      <td>126.4</td>\n",
       "      <td>420.6</td>\n",
       "    </tr>\n",
       "    <tr>\n",
       "      <th>non functional</th>\n",
       "      <td>375.2</td>\n",
       "      <td>51.4</td>\n",
       "      <td>4419.2</td>\n",
       "    </tr>\n",
       "  </tbody>\n",
       "</table>\n",
       "</div>"
      ],
      "text/plain": [
       "                         functional  functional needs repair  non functional\n",
       "functional                   2426.4                     28.8           960.4\n",
       "functional needs repair       101.6                    126.4           420.6\n",
       "non functional                375.2                     51.4          4419.2"
      ]
     },
     "execution_count": 30,
     "metadata": {},
     "output_type": "execute_result"
    }
   ],
   "source": [
    "xgboost_numpy_matrix"
   ]
  },
  {
   "cell_type": "code",
   "execution_count": 31,
   "id": "54415e11",
   "metadata": {},
   "outputs": [
    {
     "data": {
      "text/html": [
       "<div>\n",
       "<style scoped>\n",
       "    .dataframe tbody tr th:only-of-type {\n",
       "        vertical-align: middle;\n",
       "    }\n",
       "\n",
       "    .dataframe tbody tr th {\n",
       "        vertical-align: top;\n",
       "    }\n",
       "\n",
       "    .dataframe thead th {\n",
       "        text-align: right;\n",
       "    }\n",
       "</style>\n",
       "<table border=\"1\" class=\"dataframe\">\n",
       "  <thead>\n",
       "    <tr style=\"text-align: right;\">\n",
       "      <th></th>\n",
       "      <th>functional</th>\n",
       "      <th>functional needs repair</th>\n",
       "      <th>non functional</th>\n",
       "      <th>accuracy</th>\n",
       "      <th>macro avg</th>\n",
       "      <th>weighted avg</th>\n",
       "    </tr>\n",
       "  </thead>\n",
       "  <tbody>\n",
       "    <tr>\n",
       "      <th>precision</th>\n",
       "      <td>0.835802</td>\n",
       "      <td>0.612297</td>\n",
       "      <td>0.761894</td>\n",
       "      <td>0.782492</td>\n",
       "      <td>0.736665</td>\n",
       "      <td>0.779353</td>\n",
       "    </tr>\n",
       "    <tr>\n",
       "      <th>recall</th>\n",
       "      <td>0.710395</td>\n",
       "      <td>0.195037</td>\n",
       "      <td>0.911952</td>\n",
       "      <td>0.782492</td>\n",
       "      <td>0.605795</td>\n",
       "      <td>0.782492</td>\n",
       "    </tr>\n",
       "    <tr>\n",
       "      <th>f1-score</th>\n",
       "      <td>0.767952</td>\n",
       "      <td>0.295149</td>\n",
       "      <td>0.830184</td>\n",
       "      <td>0.782492</td>\n",
       "      <td>0.631095</td>\n",
       "      <td>0.767381</td>\n",
       "    </tr>\n",
       "    <tr>\n",
       "      <th>support</th>\n",
       "      <td>3415.600000</td>\n",
       "      <td>648.600000</td>\n",
       "      <td>4845.800000</td>\n",
       "      <td>0.782492</td>\n",
       "      <td>8910.000000</td>\n",
       "      <td>8910.000000</td>\n",
       "    </tr>\n",
       "  </tbody>\n",
       "</table>\n",
       "</div>"
      ],
      "text/plain": [
       "            functional  functional needs repair  non functional  accuracy  \\\n",
       "precision     0.835802                 0.612297        0.761894  0.782492   \n",
       "recall        0.710395                 0.195037        0.911952  0.782492   \n",
       "f1-score      0.767952                 0.295149        0.830184  0.782492   \n",
       "support    3415.600000               648.600000     4845.800000  0.782492   \n",
       "\n",
       "             macro avg  weighted avg  \n",
       "precision     0.736665      0.779353  \n",
       "recall        0.605795      0.782492  \n",
       "f1-score      0.631095      0.767381  \n",
       "support    8910.000000   8910.000000  "
      ]
     },
     "execution_count": 31,
     "metadata": {},
     "output_type": "execute_result"
    }
   ],
   "source": [
    "xgboost_numpy_report"
   ]
  },
  {
   "cell_type": "markdown",
   "id": "87099d95",
   "metadata": {},
   "source": [
    "# Eigth Model – Adaboost Classifier"
   ]
  },
  {
   "cell_type": "code",
   "execution_count": 32,
   "id": "ac1e7aea",
   "metadata": {},
   "outputs": [],
   "source": [
    "# Instantiate an AdaBoostClassifier\n",
    "adaboost_clf = AdaBoostClassifier(estimator=DecisionTreeClassifier(), n_estimators=100, random_state=42)"
   ]
  },
  {
   "cell_type": "code",
   "execution_count": 33,
   "id": "d8d62805",
   "metadata": {},
   "outputs": [
    {
     "name": "stdout",
     "output_type": "stream",
     "text": [
      "Fold #5 out of 5 done.\n",
      "Analyis complete.\n"
     ]
    }
   ],
   "source": [
    "adaboost_reports, adaboost_matrices, adaboost_numpy_report, adaboost_numpy_matrix = cval(X_train, y_train, 5, adaboost_clf)"
   ]
  },
  {
   "cell_type": "code",
   "execution_count": 34,
   "id": "70f0eed2",
   "metadata": {},
   "outputs": [
    {
     "data": {
      "text/html": [
       "<div>\n",
       "<style scoped>\n",
       "    .dataframe tbody tr th:only-of-type {\n",
       "        vertical-align: middle;\n",
       "    }\n",
       "\n",
       "    .dataframe tbody tr th {\n",
       "        vertical-align: top;\n",
       "    }\n",
       "\n",
       "    .dataframe thead th {\n",
       "        text-align: right;\n",
       "    }\n",
       "</style>\n",
       "<table border=\"1\" class=\"dataframe\">\n",
       "  <thead>\n",
       "    <tr style=\"text-align: right;\">\n",
       "      <th></th>\n",
       "      <th>functional</th>\n",
       "      <th>functional needs repair</th>\n",
       "      <th>non functional</th>\n",
       "    </tr>\n",
       "  </thead>\n",
       "  <tbody>\n",
       "    <tr>\n",
       "      <th>functional</th>\n",
       "      <td>3977.0</td>\n",
       "      <td>227.6</td>\n",
       "      <td>641.2</td>\n",
       "    </tr>\n",
       "    <tr>\n",
       "      <th>functional needs repair</th>\n",
       "      <td>313.6</td>\n",
       "      <td>218.8</td>\n",
       "      <td>116.2</td>\n",
       "    </tr>\n",
       "    <tr>\n",
       "      <th>non functional</th>\n",
       "      <td>803.6</td>\n",
       "      <td>101.8</td>\n",
       "      <td>2510.2</td>\n",
       "    </tr>\n",
       "  </tbody>\n",
       "</table>\n",
       "</div>"
      ],
      "text/plain": [
       "                         functional  functional needs repair  non functional\n",
       "functional                   3977.0                    227.6           641.2\n",
       "functional needs repair       313.6                    218.8           116.2\n",
       "non functional                803.6                    101.8          2510.2"
      ]
     },
     "execution_count": 34,
     "metadata": {},
     "output_type": "execute_result"
    }
   ],
   "source": [
    "adaboost_numpy_matrix"
   ]
  },
  {
   "cell_type": "code",
   "execution_count": 35,
   "id": "81d9a8f8",
   "metadata": {},
   "outputs": [
    {
     "data": {
      "text/html": [
       "<div>\n",
       "<style scoped>\n",
       "    .dataframe tbody tr th:only-of-type {\n",
       "        vertical-align: middle;\n",
       "    }\n",
       "\n",
       "    .dataframe tbody tr th {\n",
       "        vertical-align: top;\n",
       "    }\n",
       "\n",
       "    .dataframe thead th {\n",
       "        text-align: right;\n",
       "    }\n",
       "</style>\n",
       "<table border=\"1\" class=\"dataframe\">\n",
       "  <thead>\n",
       "    <tr style=\"text-align: right;\">\n",
       "      <th></th>\n",
       "      <th>functional</th>\n",
       "      <th>functional needs repair</th>\n",
       "      <th>non functional</th>\n",
       "      <th>accuracy</th>\n",
       "      <th>macro avg</th>\n",
       "      <th>weighted avg</th>\n",
       "    </tr>\n",
       "  </thead>\n",
       "  <tbody>\n",
       "    <tr>\n",
       "      <th>precision</th>\n",
       "      <td>0.780688</td>\n",
       "      <td>0.398964</td>\n",
       "      <td>0.768210</td>\n",
       "      <td>0.752637</td>\n",
       "      <td>0.649287</td>\n",
       "      <td>0.748155</td>\n",
       "    </tr>\n",
       "    <tr>\n",
       "      <th>recall</th>\n",
       "      <td>0.820715</td>\n",
       "      <td>0.337628</td>\n",
       "      <td>0.734952</td>\n",
       "      <td>0.752637</td>\n",
       "      <td>0.631098</td>\n",
       "      <td>0.752637</td>\n",
       "    </tr>\n",
       "    <tr>\n",
       "      <th>f1-score</th>\n",
       "      <td>0.800194</td>\n",
       "      <td>0.365531</td>\n",
       "      <td>0.751194</td>\n",
       "      <td>0.752637</td>\n",
       "      <td>0.638973</td>\n",
       "      <td>0.749768</td>\n",
       "    </tr>\n",
       "    <tr>\n",
       "      <th>support</th>\n",
       "      <td>4845.800000</td>\n",
       "      <td>648.600000</td>\n",
       "      <td>3415.600000</td>\n",
       "      <td>0.752637</td>\n",
       "      <td>8910.000000</td>\n",
       "      <td>8910.000000</td>\n",
       "    </tr>\n",
       "  </tbody>\n",
       "</table>\n",
       "</div>"
      ],
      "text/plain": [
       "            functional  functional needs repair  non functional  accuracy  \\\n",
       "precision     0.780688                 0.398964        0.768210  0.752637   \n",
       "recall        0.820715                 0.337628        0.734952  0.752637   \n",
       "f1-score      0.800194                 0.365531        0.751194  0.752637   \n",
       "support    4845.800000               648.600000     3415.600000  0.752637   \n",
       "\n",
       "             macro avg  weighted avg  \n",
       "precision     0.649287      0.748155  \n",
       "recall        0.631098      0.752637  \n",
       "f1-score      0.638973      0.749768  \n",
       "support    8910.000000   8910.000000  "
      ]
     },
     "execution_count": 35,
     "metadata": {},
     "output_type": "execute_result"
    }
   ],
   "source": [
    "adaboost_numpy_report"
   ]
  },
  {
   "cell_type": "markdown",
   "id": "cb009c8c",
   "metadata": {},
   "source": [
    "# Ninth Model – Gradient Boosting Classifier"
   ]
  },
  {
   "cell_type": "code",
   "execution_count": 36,
   "id": "c0b7cb64",
   "metadata": {},
   "outputs": [],
   "source": [
    "# Instantiate an GradientBoostingClassifier\n",
    "gbt_clf = GradientBoostingClassifier(random_state=42, n_estimators=200, max_features=50)"
   ]
  },
  {
   "cell_type": "code",
   "execution_count": 37,
   "id": "3cabdb14",
   "metadata": {},
   "outputs": [
    {
     "name": "stdout",
     "output_type": "stream",
     "text": [
      "Fold #5 out of 5 done.\n",
      "Analyis complete.\n"
     ]
    }
   ],
   "source": [
    "gbt_reports, gbt_matrices, gbt_numpy_report, gbt_numpy_matrix = cval(X_train, y_train, 5, gbt_clf)"
   ]
  },
  {
   "cell_type": "code",
   "execution_count": 38,
   "id": "a8ae146f",
   "metadata": {},
   "outputs": [
    {
     "data": {
      "text/html": [
       "<div>\n",
       "<style scoped>\n",
       "    .dataframe tbody tr th:only-of-type {\n",
       "        vertical-align: middle;\n",
       "    }\n",
       "\n",
       "    .dataframe tbody tr th {\n",
       "        vertical-align: top;\n",
       "    }\n",
       "\n",
       "    .dataframe thead th {\n",
       "        text-align: right;\n",
       "    }\n",
       "</style>\n",
       "<table border=\"1\" class=\"dataframe\">\n",
       "  <thead>\n",
       "    <tr style=\"text-align: right;\">\n",
       "      <th></th>\n",
       "      <th>functional</th>\n",
       "      <th>functional needs repair</th>\n",
       "      <th>non functional</th>\n",
       "    </tr>\n",
       "  </thead>\n",
       "  <tbody>\n",
       "    <tr>\n",
       "      <th>functional</th>\n",
       "      <td>4467.0</td>\n",
       "      <td>31.6</td>\n",
       "      <td>347.2</td>\n",
       "    </tr>\n",
       "    <tr>\n",
       "      <th>functional needs repair</th>\n",
       "      <td>471.0</td>\n",
       "      <td>81.8</td>\n",
       "      <td>95.8</td>\n",
       "    </tr>\n",
       "    <tr>\n",
       "      <th>non functional</th>\n",
       "      <td>1187.4</td>\n",
       "      <td>19.6</td>\n",
       "      <td>2208.6</td>\n",
       "    </tr>\n",
       "  </tbody>\n",
       "</table>\n",
       "</div>"
      ],
      "text/plain": [
       "                         functional  functional needs repair  non functional\n",
       "functional                   4467.0                     31.6           347.2\n",
       "functional needs repair       471.0                     81.8            95.8\n",
       "non functional               1187.4                     19.6          2208.6"
      ]
     },
     "execution_count": 38,
     "metadata": {},
     "output_type": "execute_result"
    }
   ],
   "source": [
    "gbt_numpy_matrix"
   ]
  },
  {
   "cell_type": "code",
   "execution_count": 39,
   "id": "5ba34f18",
   "metadata": {},
   "outputs": [
    {
     "data": {
      "text/html": [
       "<div>\n",
       "<style scoped>\n",
       "    .dataframe tbody tr th:only-of-type {\n",
       "        vertical-align: middle;\n",
       "    }\n",
       "\n",
       "    .dataframe tbody tr th {\n",
       "        vertical-align: top;\n",
       "    }\n",
       "\n",
       "    .dataframe thead th {\n",
       "        text-align: right;\n",
       "    }\n",
       "</style>\n",
       "<table border=\"1\" class=\"dataframe\">\n",
       "  <thead>\n",
       "    <tr style=\"text-align: right;\">\n",
       "      <th></th>\n",
       "      <th>functional</th>\n",
       "      <th>functional needs repair</th>\n",
       "      <th>non functional</th>\n",
       "      <th>accuracy</th>\n",
       "      <th>macro avg</th>\n",
       "      <th>weighted avg</th>\n",
       "    </tr>\n",
       "  </thead>\n",
       "  <tbody>\n",
       "    <tr>\n",
       "      <th>precision</th>\n",
       "      <td>0.729190</td>\n",
       "      <td>0.613745</td>\n",
       "      <td>0.833100</td>\n",
       "      <td>0.758406</td>\n",
       "      <td>0.725345</td>\n",
       "      <td>0.760738</td>\n",
       "    </tr>\n",
       "    <tr>\n",
       "      <th>recall</th>\n",
       "      <td>0.921807</td>\n",
       "      <td>0.125956</td>\n",
       "      <td>0.646596</td>\n",
       "      <td>0.758406</td>\n",
       "      <td>0.564786</td>\n",
       "      <td>0.758406</td>\n",
       "    </tr>\n",
       "    <tr>\n",
       "      <th>f1-score</th>\n",
       "      <td>0.814233</td>\n",
       "      <td>0.208705</td>\n",
       "      <td>0.728053</td>\n",
       "      <td>0.758406</td>\n",
       "      <td>0.583664</td>\n",
       "      <td>0.737194</td>\n",
       "    </tr>\n",
       "    <tr>\n",
       "      <th>support</th>\n",
       "      <td>4845.800000</td>\n",
       "      <td>648.600000</td>\n",
       "      <td>3415.600000</td>\n",
       "      <td>0.758406</td>\n",
       "      <td>8910.000000</td>\n",
       "      <td>8910.000000</td>\n",
       "    </tr>\n",
       "  </tbody>\n",
       "</table>\n",
       "</div>"
      ],
      "text/plain": [
       "            functional  functional needs repair  non functional  accuracy  \\\n",
       "precision     0.729190                 0.613745        0.833100  0.758406   \n",
       "recall        0.921807                 0.125956        0.646596  0.758406   \n",
       "f1-score      0.814233                 0.208705        0.728053  0.758406   \n",
       "support    4845.800000               648.600000     3415.600000  0.758406   \n",
       "\n",
       "             macro avg  weighted avg  \n",
       "precision     0.725345      0.760738  \n",
       "recall        0.564786      0.758406  \n",
       "f1-score      0.583664      0.737194  \n",
       "support    8910.000000   8910.000000  "
      ]
     },
     "execution_count": 39,
     "metadata": {},
     "output_type": "execute_result"
    }
   ],
   "source": [
    "gbt_numpy_report"
   ]
  },
  {
   "cell_type": "markdown",
   "id": "f0183d98",
   "metadata": {},
   "source": [
    "# Eleventh Model – Extra Randomized Trees"
   ]
  },
  {
   "cell_type": "code",
   "execution_count": 40,
   "id": "e1fd50e2",
   "metadata": {},
   "outputs": [],
   "source": [
    "extra_trees = ExtraTreesClassifier(n_estimators=100, random_state=42)"
   ]
  },
  {
   "cell_type": "code",
   "execution_count": 41,
   "id": "5689505b",
   "metadata": {},
   "outputs": [
    {
     "name": "stdout",
     "output_type": "stream",
     "text": [
      "Fold #5 out of 5 done.\n",
      "Analyis complete.\n"
     ]
    }
   ],
   "source": [
    "extra_trees_reports, extra_trees_matrices, extra_trees_numpy_report, extra_trees_numpy_matrix = cval(X_train, y_train, 5, extra_trees)"
   ]
  },
  {
   "cell_type": "code",
   "execution_count": 42,
   "id": "af423a7d",
   "metadata": {},
   "outputs": [
    {
     "data": {
      "text/html": [
       "<div>\n",
       "<style scoped>\n",
       "    .dataframe tbody tr th:only-of-type {\n",
       "        vertical-align: middle;\n",
       "    }\n",
       "\n",
       "    .dataframe tbody tr th {\n",
       "        vertical-align: top;\n",
       "    }\n",
       "\n",
       "    .dataframe thead th {\n",
       "        text-align: right;\n",
       "    }\n",
       "</style>\n",
       "<table border=\"1\" class=\"dataframe\">\n",
       "  <thead>\n",
       "    <tr style=\"text-align: right;\">\n",
       "      <th></th>\n",
       "      <th>functional</th>\n",
       "      <th>functional needs repair</th>\n",
       "      <th>non functional</th>\n",
       "    </tr>\n",
       "  </thead>\n",
       "  <tbody>\n",
       "    <tr>\n",
       "      <th>functional</th>\n",
       "      <td>4141.8</td>\n",
       "      <td>174.2</td>\n",
       "      <td>529.8</td>\n",
       "    </tr>\n",
       "    <tr>\n",
       "      <th>functional needs repair</th>\n",
       "      <td>325.8</td>\n",
       "      <td>215.8</td>\n",
       "      <td>107.0</td>\n",
       "    </tr>\n",
       "    <tr>\n",
       "      <th>non functional</th>\n",
       "      <td>778.8</td>\n",
       "      <td>78.0</td>\n",
       "      <td>2558.8</td>\n",
       "    </tr>\n",
       "  </tbody>\n",
       "</table>\n",
       "</div>"
      ],
      "text/plain": [
       "                         functional  functional needs repair  non functional\n",
       "functional                   4141.8                    174.2           529.8\n",
       "functional needs repair       325.8                    215.8           107.0\n",
       "non functional                778.8                     78.0          2558.8"
      ]
     },
     "execution_count": 42,
     "metadata": {},
     "output_type": "execute_result"
    }
   ],
   "source": [
    "extra_trees_numpy_matrix"
   ]
  },
  {
   "cell_type": "code",
   "execution_count": 43,
   "id": "75fe4221",
   "metadata": {},
   "outputs": [
    {
     "data": {
      "text/html": [
       "<div>\n",
       "<style scoped>\n",
       "    .dataframe tbody tr th:only-of-type {\n",
       "        vertical-align: middle;\n",
       "    }\n",
       "\n",
       "    .dataframe tbody tr th {\n",
       "        vertical-align: top;\n",
       "    }\n",
       "\n",
       "    .dataframe thead th {\n",
       "        text-align: right;\n",
       "    }\n",
       "</style>\n",
       "<table border=\"1\" class=\"dataframe\">\n",
       "  <thead>\n",
       "    <tr style=\"text-align: right;\">\n",
       "      <th></th>\n",
       "      <th>functional</th>\n",
       "      <th>functional needs repair</th>\n",
       "      <th>non functional</th>\n",
       "      <th>accuracy</th>\n",
       "      <th>macro avg</th>\n",
       "      <th>weighted avg</th>\n",
       "    </tr>\n",
       "  </thead>\n",
       "  <tbody>\n",
       "    <tr>\n",
       "      <th>precision</th>\n",
       "      <td>0.789450</td>\n",
       "      <td>0.461643</td>\n",
       "      <td>0.800760</td>\n",
       "      <td>0.776251</td>\n",
       "      <td>0.683951</td>\n",
       "      <td>0.769967</td>\n",
       "    </tr>\n",
       "    <tr>\n",
       "      <th>recall</th>\n",
       "      <td>0.854723</td>\n",
       "      <td>0.332793</td>\n",
       "      <td>0.749137</td>\n",
       "      <td>0.776251</td>\n",
       "      <td>0.645551</td>\n",
       "      <td>0.776251</td>\n",
       "    </tr>\n",
       "    <tr>\n",
       "      <th>f1-score</th>\n",
       "      <td>0.820785</td>\n",
       "      <td>0.386571</td>\n",
       "      <td>0.774065</td>\n",
       "      <td>0.776251</td>\n",
       "      <td>0.660474</td>\n",
       "      <td>0.771284</td>\n",
       "    </tr>\n",
       "    <tr>\n",
       "      <th>support</th>\n",
       "      <td>4845.800000</td>\n",
       "      <td>648.600000</td>\n",
       "      <td>3415.600000</td>\n",
       "      <td>0.776251</td>\n",
       "      <td>8910.000000</td>\n",
       "      <td>8910.000000</td>\n",
       "    </tr>\n",
       "  </tbody>\n",
       "</table>\n",
       "</div>"
      ],
      "text/plain": [
       "            functional  functional needs repair  non functional  accuracy  \\\n",
       "precision     0.789450                 0.461643        0.800760  0.776251   \n",
       "recall        0.854723                 0.332793        0.749137  0.776251   \n",
       "f1-score      0.820785                 0.386571        0.774065  0.776251   \n",
       "support    4845.800000               648.600000     3415.600000  0.776251   \n",
       "\n",
       "             macro avg  weighted avg  \n",
       "precision     0.683951      0.769967  \n",
       "recall        0.645551      0.776251  \n",
       "f1-score      0.660474      0.771284  \n",
       "support    8910.000000   8910.000000  "
      ]
     },
     "execution_count": 43,
     "metadata": {},
     "output_type": "execute_result"
    }
   ],
   "source": [
    "extra_trees_numpy_report"
   ]
  },
  {
   "cell_type": "code",
   "execution_count": 44,
   "id": "d6c5e77f",
   "metadata": {},
   "outputs": [],
   "source": [
    "# XGboost for non functional\n",
    "# BaggingClassifier for functional\n",
    "# LogisticRegression for functional needs repair"
   ]
  },
  {
   "cell_type": "markdown",
   "id": "51b92989",
   "metadata": {},
   "source": [
    "# Voting Classifier"
   ]
  },
  {
   "cell_type": "code",
   "execution_count": 45,
   "id": "c554e384",
   "metadata": {},
   "outputs": [],
   "source": [
    "X_train_2, X_test_2, y_train_2, y_test_2 = train_test_split(X_train, y_train)"
   ]
  },
  {
   "cell_type": "code",
   "execution_count": 46,
   "id": "fcfea8b8",
   "metadata": {},
   "outputs": [],
   "source": [
    "strategy = {'functional needs repair': int(len(X_train_2)/2)}\n",
    "smote = SMOTE(sampling_strategy=strategy)\n",
    "X_train_2_resampled, y_train_2_resampled = smote.fit_resample(X_train, y_train)"
   ]
  },
  {
   "cell_type": "code",
   "execution_count": 47,
   "id": "8ae492c9",
   "metadata": {},
   "outputs": [],
   "source": [
    "vc_1 = BaggingClassifier(estimator=DecisionTreeClassifier(), n_estimators=50, max_features=50).fit(X_train_2_resampled, y_train_2_resampled)\n",
    "vc_2 = XGBClassifier().fit(X_train_2_resampled, y_train_2_resampled.map({'non functional': 0, 'functional needs repair': 1, 'functional': 2}))\n",
    "vc_3 = LogisticRegression(solver='liblinear', fit_intercept=False).fit(X_train_2_resampled, y_train_2_resampled)\n",
    "\n",
    "vc_preds_1 = vc_1.predict(X_test_2)\n",
    "vc_preds_2 = vc_2.predict(X_test_2)\n",
    "vc_preds_3 = vc_3.predict(X_test_2)\n",
    "\n",
    "predictions_df = pd.DataFrame({'BaggingClassifier': vc_preds_1, \n",
    "                               'LogisticRegression': vc_preds_3, \n",
    "                               'XGBoost': vc_preds_2, \n",
    "                               'True Values': y_test_2})"
   ]
  },
  {
   "cell_type": "code",
   "execution_count": 48,
   "id": "f044ec45",
   "metadata": {},
   "outputs": [],
   "source": [
    "predictions_df['XGBoost'].replace({0: 'functional', 1: 'functional needs repair', 2: 'non functional'}, inplace=True)"
   ]
  },
  {
   "cell_type": "code",
   "execution_count": 49,
   "id": "22905267",
   "metadata": {},
   "outputs": [],
   "source": [
    "modes = []\n",
    "\n",
    "for i in range(len(predictions_df)):\n",
    "    arr = [predictions_df.BaggingClassifier.iloc[i], \n",
    "           predictions_df.LogisticRegression.iloc[i], \n",
    "           predictions_df.XGBoost.iloc[i]]\n",
    "    mode = md(arr)\n",
    "    modes.append(mode)"
   ]
  },
  {
   "cell_type": "code",
   "execution_count": 50,
   "id": "800940a7",
   "metadata": {},
   "outputs": [],
   "source": [
    "predictions_df['mode'] = modes"
   ]
  },
  {
   "cell_type": "code",
   "execution_count": 51,
   "id": "37840ac3",
   "metadata": {},
   "outputs": [
    {
     "data": {
      "text/html": [
       "<div>\n",
       "<style scoped>\n",
       "    .dataframe tbody tr th:only-of-type {\n",
       "        vertical-align: middle;\n",
       "    }\n",
       "\n",
       "    .dataframe tbody tr th {\n",
       "        vertical-align: top;\n",
       "    }\n",
       "\n",
       "    .dataframe thead th {\n",
       "        text-align: right;\n",
       "    }\n",
       "</style>\n",
       "<table border=\"1\" class=\"dataframe\">\n",
       "  <thead>\n",
       "    <tr style=\"text-align: right;\">\n",
       "      <th></th>\n",
       "      <th>BaggingClassifier</th>\n",
       "      <th>LogisticRegression</th>\n",
       "      <th>XGBoost</th>\n",
       "      <th>True Values</th>\n",
       "      <th>mode</th>\n",
       "    </tr>\n",
       "  </thead>\n",
       "  <tbody>\n",
       "    <tr>\n",
       "      <th>19343</th>\n",
       "      <td>functional</td>\n",
       "      <td>functional</td>\n",
       "      <td>non functional</td>\n",
       "      <td>functional</td>\n",
       "      <td>functional</td>\n",
       "    </tr>\n",
       "    <tr>\n",
       "      <th>30823</th>\n",
       "      <td>non functional</td>\n",
       "      <td>non functional</td>\n",
       "      <td>functional</td>\n",
       "      <td>non functional</td>\n",
       "      <td>non functional</td>\n",
       "    </tr>\n",
       "    <tr>\n",
       "      <th>8213</th>\n",
       "      <td>functional</td>\n",
       "      <td>functional</td>\n",
       "      <td>non functional</td>\n",
       "      <td>functional</td>\n",
       "      <td>functional</td>\n",
       "    </tr>\n",
       "    <tr>\n",
       "      <th>31516</th>\n",
       "      <td>functional</td>\n",
       "      <td>functional</td>\n",
       "      <td>non functional</td>\n",
       "      <td>functional</td>\n",
       "      <td>functional</td>\n",
       "    </tr>\n",
       "    <tr>\n",
       "      <th>35054</th>\n",
       "      <td>functional</td>\n",
       "      <td>functional</td>\n",
       "      <td>non functional</td>\n",
       "      <td>functional</td>\n",
       "      <td>functional</td>\n",
       "    </tr>\n",
       "    <tr>\n",
       "      <th>...</th>\n",
       "      <td>...</td>\n",
       "      <td>...</td>\n",
       "      <td>...</td>\n",
       "      <td>...</td>\n",
       "      <td>...</td>\n",
       "    </tr>\n",
       "    <tr>\n",
       "      <th>25496</th>\n",
       "      <td>non functional</td>\n",
       "      <td>functional</td>\n",
       "      <td>functional</td>\n",
       "      <td>non functional</td>\n",
       "      <td>functional</td>\n",
       "    </tr>\n",
       "    <tr>\n",
       "      <th>1399</th>\n",
       "      <td>functional</td>\n",
       "      <td>functional</td>\n",
       "      <td>non functional</td>\n",
       "      <td>functional</td>\n",
       "      <td>functional</td>\n",
       "    </tr>\n",
       "    <tr>\n",
       "      <th>5022</th>\n",
       "      <td>functional needs repair</td>\n",
       "      <td>functional needs repair</td>\n",
       "      <td>functional needs repair</td>\n",
       "      <td>functional needs repair</td>\n",
       "      <td>functional needs repair</td>\n",
       "    </tr>\n",
       "    <tr>\n",
       "      <th>12140</th>\n",
       "      <td>non functional</td>\n",
       "      <td>non functional</td>\n",
       "      <td>functional</td>\n",
       "      <td>non functional</td>\n",
       "      <td>non functional</td>\n",
       "    </tr>\n",
       "    <tr>\n",
       "      <th>28325</th>\n",
       "      <td>functional</td>\n",
       "      <td>functional</td>\n",
       "      <td>non functional</td>\n",
       "      <td>functional</td>\n",
       "      <td>functional</td>\n",
       "    </tr>\n",
       "  </tbody>\n",
       "</table>\n",
       "<p>11138 rows × 5 columns</p>\n",
       "</div>"
      ],
      "text/plain": [
       "             BaggingClassifier       LogisticRegression  \\\n",
       "19343               functional               functional   \n",
       "30823           non functional           non functional   \n",
       "8213                functional               functional   \n",
       "31516               functional               functional   \n",
       "35054               functional               functional   \n",
       "...                        ...                      ...   \n",
       "25496           non functional               functional   \n",
       "1399                functional               functional   \n",
       "5022   functional needs repair  functional needs repair   \n",
       "12140           non functional           non functional   \n",
       "28325               functional               functional   \n",
       "\n",
       "                       XGBoost              True Values  \\\n",
       "19343           non functional               functional   \n",
       "30823               functional           non functional   \n",
       "8213            non functional               functional   \n",
       "31516           non functional               functional   \n",
       "35054           non functional               functional   \n",
       "...                        ...                      ...   \n",
       "25496               functional           non functional   \n",
       "1399            non functional               functional   \n",
       "5022   functional needs repair  functional needs repair   \n",
       "12140               functional           non functional   \n",
       "28325           non functional               functional   \n",
       "\n",
       "                          mode  \n",
       "19343               functional  \n",
       "30823           non functional  \n",
       "8213                functional  \n",
       "31516               functional  \n",
       "35054               functional  \n",
       "...                        ...  \n",
       "25496               functional  \n",
       "1399                functional  \n",
       "5022   functional needs repair  \n",
       "12140           non functional  \n",
       "28325               functional  \n",
       "\n",
       "[11138 rows x 5 columns]"
      ]
     },
     "execution_count": 51,
     "metadata": {},
     "output_type": "execute_result"
    }
   ],
   "source": [
    "predictions_df"
   ]
  },
  {
   "cell_type": "code",
   "execution_count": 52,
   "id": "eed7d9e1",
   "metadata": {},
   "outputs": [
    {
     "data": {
      "text/html": [
       "<div>\n",
       "<style scoped>\n",
       "    .dataframe tbody tr th:only-of-type {\n",
       "        vertical-align: middle;\n",
       "    }\n",
       "\n",
       "    .dataframe tbody tr th {\n",
       "        vertical-align: top;\n",
       "    }\n",
       "\n",
       "    .dataframe thead th {\n",
       "        text-align: right;\n",
       "    }\n",
       "</style>\n",
       "<table border=\"1\" class=\"dataframe\">\n",
       "  <thead>\n",
       "    <tr style=\"text-align: right;\">\n",
       "      <th></th>\n",
       "      <th>functional</th>\n",
       "      <th>functional needs repair</th>\n",
       "      <th>non functional</th>\n",
       "      <th>accuracy</th>\n",
       "      <th>macro avg</th>\n",
       "      <th>weighted avg</th>\n",
       "    </tr>\n",
       "  </thead>\n",
       "  <tbody>\n",
       "    <tr>\n",
       "      <th>precision</th>\n",
       "      <td>0.841211</td>\n",
       "      <td>0.434220</td>\n",
       "      <td>0.902494</td>\n",
       "      <td>0.81002</td>\n",
       "      <td>0.725975</td>\n",
       "      <td>0.835751</td>\n",
       "    </tr>\n",
       "    <tr>\n",
       "      <th>recall</th>\n",
       "      <td>0.859292</td>\n",
       "      <td>0.758794</td>\n",
       "      <td>0.750116</td>\n",
       "      <td>0.81002</td>\n",
       "      <td>0.789401</td>\n",
       "      <td>0.810020</td>\n",
       "    </tr>\n",
       "    <tr>\n",
       "      <th>f1-score</th>\n",
       "      <td>0.850155</td>\n",
       "      <td>0.552355</td>\n",
       "      <td>0.819280</td>\n",
       "      <td>0.81002</td>\n",
       "      <td>0.740597</td>\n",
       "      <td>0.816969</td>\n",
       "    </tr>\n",
       "    <tr>\n",
       "      <th>support</th>\n",
       "      <td>6048.000000</td>\n",
       "      <td>796.000000</td>\n",
       "      <td>4294.000000</td>\n",
       "      <td>0.81002</td>\n",
       "      <td>11138.000000</td>\n",
       "      <td>11138.000000</td>\n",
       "    </tr>\n",
       "  </tbody>\n",
       "</table>\n",
       "</div>"
      ],
      "text/plain": [
       "            functional  functional needs repair  non functional  accuracy  \\\n",
       "precision     0.841211                 0.434220        0.902494   0.81002   \n",
       "recall        0.859292                 0.758794        0.750116   0.81002   \n",
       "f1-score      0.850155                 0.552355        0.819280   0.81002   \n",
       "support    6048.000000               796.000000     4294.000000   0.81002   \n",
       "\n",
       "              macro avg  weighted avg  \n",
       "precision      0.725975      0.835751  \n",
       "recall         0.789401      0.810020  \n",
       "f1-score       0.740597      0.816969  \n",
       "support    11138.000000  11138.000000  "
      ]
     },
     "execution_count": 52,
     "metadata": {},
     "output_type": "execute_result"
    }
   ],
   "source": [
    "pd.DataFrame(classification_report(y_test_2, predictions_df['mode'], output_dict=True))"
   ]
  },
  {
   "cell_type": "code",
   "execution_count": 53,
   "id": "ce869015",
   "metadata": {},
   "outputs": [
    {
     "data": {
      "text/html": [
       "<div>\n",
       "<style scoped>\n",
       "    .dataframe tbody tr th:only-of-type {\n",
       "        vertical-align: middle;\n",
       "    }\n",
       "\n",
       "    .dataframe tbody tr th {\n",
       "        vertical-align: top;\n",
       "    }\n",
       "\n",
       "    .dataframe thead th {\n",
       "        text-align: right;\n",
       "    }\n",
       "</style>\n",
       "<table border=\"1\" class=\"dataframe\">\n",
       "  <thead>\n",
       "    <tr style=\"text-align: right;\">\n",
       "      <th></th>\n",
       "      <th>functional</th>\n",
       "      <th>functional needs repair</th>\n",
       "      <th>non functional</th>\n",
       "    </tr>\n",
       "  </thead>\n",
       "  <tbody>\n",
       "    <tr>\n",
       "      <th>functional</th>\n",
       "      <td>5197</td>\n",
       "      <td>533</td>\n",
       "      <td>318</td>\n",
       "    </tr>\n",
       "    <tr>\n",
       "      <th>functional needs repair</th>\n",
       "      <td>162</td>\n",
       "      <td>604</td>\n",
       "      <td>30</td>\n",
       "    </tr>\n",
       "    <tr>\n",
       "      <th>non functional</th>\n",
       "      <td>819</td>\n",
       "      <td>254</td>\n",
       "      <td>3221</td>\n",
       "    </tr>\n",
       "  </tbody>\n",
       "</table>\n",
       "</div>"
      ],
      "text/plain": [
       "                         functional  functional needs repair  non functional\n",
       "functional                     5197                      533             318\n",
       "functional needs repair         162                      604              30\n",
       "non functional                  819                      254            3221"
      ]
     },
     "execution_count": 53,
     "metadata": {},
     "output_type": "execute_result"
    }
   ],
   "source": [
    "labels = ['functional', 'functional needs repair', 'non functional']\n",
    "pd.DataFrame(confusion_matrix(y_test_2, predictions_df['mode']), columns=labels, index=labels)"
   ]
  },
  {
   "cell_type": "markdown",
   "id": "8044c7f2",
   "metadata": {},
   "source": [
    "# Stacking Combo 1"
   ]
  },
  {
   "cell_type": "code",
   "execution_count": 54,
   "id": "e941434d",
   "metadata": {},
   "outputs": [],
   "source": [
    "stck = StackingClassifier(estimators = [('bagging_classifier', \n",
    "                                         BaggingClassifier(estimator=DecisionTreeClassifier(), n_estimators=50, max_features=50)), \n",
    "                                        ('xgboost', XGBClassifier())], \n",
    "                          final_estimator = LogisticRegression(solver='liblinear', fit_intercept=False))"
   ]
  },
  {
   "cell_type": "code",
   "execution_count": null,
   "id": "1a13bc0c",
   "metadata": {},
   "outputs": [],
   "source": [
    "stck.fit(X_train_2_resampled, y_train_2_resampled)"
   ]
  },
  {
   "cell_type": "code",
   "execution_count": null,
   "id": "4598a42e",
   "metadata": {},
   "outputs": [],
   "source": [
    "stck_preds = stck.predict(X_test_2)"
   ]
  },
  {
   "cell_type": "code",
   "execution_count": null,
   "id": "16310c57",
   "metadata": {},
   "outputs": [],
   "source": [
    "pd.DataFrame(classification_report(y_test_2, stck_preds, output_dict=True))"
   ]
  },
  {
   "cell_type": "code",
   "execution_count": null,
   "id": "03140ea4",
   "metadata": {},
   "outputs": [],
   "source": [
    "labels = ['functional', 'functional needs repair', 'non functional']\n",
    "pd.DataFrame(confusion_matrix(y_test_2, stck_preds), columns=labels, index=labels)"
   ]
  },
  {
   "cell_type": "markdown",
   "id": "3e9e1a24",
   "metadata": {},
   "source": [
    "# Stacking Combo 2"
   ]
  },
  {
   "cell_type": "code",
   "execution_count": null,
   "id": "db6daaf2",
   "metadata": {},
   "outputs": [],
   "source": [
    "stck = StackingClassifier(estimators = [('bagging_classifier', BaggingClassifier(estimator=DecisionTreeClassifier(), n_estimators=50, max_features=50)), \n",
    "                                        ('logistic_regression', LogisticRegression(solver='liblinear', fit_intercept=False))], \n",
    "                          final_estimator = XGBClassifier())"
   ]
  },
  {
   "cell_type": "code",
   "execution_count": null,
   "id": "225a01a3",
   "metadata": {},
   "outputs": [],
   "source": [
    "stck.fit(X_train_2_resampled, y_train_2_resampled)"
   ]
  },
  {
   "cell_type": "code",
   "execution_count": null,
   "id": "e7f8ff99",
   "metadata": {},
   "outputs": [],
   "source": [
    "stck_preds = stck.predict(X_test_2)"
   ]
  },
  {
   "cell_type": "code",
   "execution_count": null,
   "id": "2c6c1558",
   "metadata": {},
   "outputs": [],
   "source": [
    "pd.DataFrame(classification_report(y_test_2, stck_preds, output_dict=True))"
   ]
  },
  {
   "cell_type": "code",
   "execution_count": null,
   "id": "7444505c",
   "metadata": {},
   "outputs": [],
   "source": [
    "labels = ['functional', 'functional needs repair', 'non functional']\n",
    "pd.DataFrame(confusion_matrix(y_test_2, stck_preds), columns=labels, index=labels)"
   ]
  },
  {
   "cell_type": "markdown",
   "id": "1ef1555a",
   "metadata": {},
   "source": [
    "# Stacking Combo 3 (Winner!)"
   ]
  },
  {
   "cell_type": "code",
   "execution_count": null,
   "id": "28eafd52",
   "metadata": {},
   "outputs": [],
   "source": [
    "stck = StackingClassifier(estimators = [('logistic_regression', LogisticRegression(solver='liblinear', fit_intercept=False)), \n",
    "                                       ('bagging_classifier', BaggingClassifier(estimator=DecisionTreeClassifier(), n_estimators=50, max_features=50))], \n",
    "                          final_estimator = XGBClassifier())"
   ]
  },
  {
   "cell_type": "code",
   "execution_count": null,
   "id": "6412ea98",
   "metadata": {},
   "outputs": [],
   "source": [
    "stck.fit(X_train_2_resampled, y_train_2_resampled)"
   ]
  },
  {
   "cell_type": "code",
   "execution_count": null,
   "id": "44b69c9a",
   "metadata": {},
   "outputs": [],
   "source": [
    "stck_preds = stck.predict(X_test_2)"
   ]
  },
  {
   "cell_type": "code",
   "execution_count": null,
   "id": "b8a1ef5b",
   "metadata": {},
   "outputs": [],
   "source": [
    "pd.DataFrame(classification_report(y_test_2, stck_preds, output_dict=True))"
   ]
  },
  {
   "cell_type": "code",
   "execution_count": null,
   "id": "729a9900",
   "metadata": {},
   "outputs": [],
   "source": [
    "labels = ['functional', 'functional needs repair', 'non functional']\n",
    "pd.DataFrame(confusion_matrix(y_test_2, stck_preds), columns=labels, index=labels)"
   ]
  },
  {
   "cell_type": "markdown",
   "id": "817f5e30",
   "metadata": {},
   "source": [
    "# Stacking Combo 4"
   ]
  },
  {
   "cell_type": "code",
   "execution_count": null,
   "id": "0f69ec21",
   "metadata": {},
   "outputs": [],
   "source": [
    "stck = StackingClassifier(estimators = [('logistic_regression', LogisticRegression(solver='liblinear', fit_intercept=False)), \n",
    "                                       ('xgboost', XGBClassifier())], \n",
    "                          final_estimator = BaggingClassifier(estimator=DecisionTreeClassifier(), n_estimators=50))"
   ]
  },
  {
   "cell_type": "code",
   "execution_count": null,
   "id": "14f418ee",
   "metadata": {},
   "outputs": [],
   "source": [
    "stck.fit(X_train_2_resampled, y_train_2_resampled)"
   ]
  },
  {
   "cell_type": "code",
   "execution_count": null,
   "id": "5766f00a",
   "metadata": {},
   "outputs": [],
   "source": [
    "stck_preds = stck.predict(X_test_2)"
   ]
  },
  {
   "cell_type": "code",
   "execution_count": null,
   "id": "26b94f6b",
   "metadata": {},
   "outputs": [],
   "source": [
    "pd.DataFrame(classification_report(y_test_2, stck_preds, output_dict=True))"
   ]
  },
  {
   "cell_type": "code",
   "execution_count": null,
   "id": "59f0a854",
   "metadata": {},
   "outputs": [],
   "source": [
    "labels = ['functional', 'functional needs repair', 'non functional']\n",
    "pd.DataFrame(confusion_matrix(y_test_2, stck_preds), columns=labels, index=labels)"
   ]
  },
  {
   "cell_type": "markdown",
   "id": "e33a8ed9",
   "metadata": {},
   "source": [
    "# Stacking Combo 5"
   ]
  },
  {
   "cell_type": "code",
   "execution_count": null,
   "id": "871d840c",
   "metadata": {},
   "outputs": [],
   "source": [
    "stck = StackingClassifier(estimators = [('xgboost', XGBClassifier()),\n",
    "                                       ('logistic_regression', LogisticRegression(solver='liblinear', fit_intercept=False))], \n",
    "                          final_estimator = BaggingClassifier(estimator=DecisionTreeClassifier(), n_estimators=50))"
   ]
  },
  {
   "cell_type": "code",
   "execution_count": null,
   "id": "28d7f598",
   "metadata": {},
   "outputs": [],
   "source": [
    "stck.fit(X_train_2_resampled, y_train_2_resampled)"
   ]
  },
  {
   "cell_type": "code",
   "execution_count": null,
   "id": "83f11c54",
   "metadata": {},
   "outputs": [],
   "source": [
    "stck_preds = stck.predict(X_test_2)"
   ]
  },
  {
   "cell_type": "code",
   "execution_count": null,
   "id": "fbce6f68",
   "metadata": {},
   "outputs": [],
   "source": [
    "pd.DataFrame(classification_report(y_test_2, stck_preds, output_dict=True))"
   ]
  },
  {
   "cell_type": "code",
   "execution_count": null,
   "id": "32f6c159",
   "metadata": {},
   "outputs": [],
   "source": [
    "labels = ['functional', 'functional needs repair', 'non functional']\n",
    "pd.DataFrame(confusion_matrix(y_test_2, stck_preds), columns=labels, index=labels)"
   ]
  },
  {
   "cell_type": "markdown",
   "id": "79591063",
   "metadata": {},
   "source": [
    "# Stacking Combo 6"
   ]
  },
  {
   "cell_type": "code",
   "execution_count": null,
   "id": "9fee72c5",
   "metadata": {},
   "outputs": [],
   "source": [
    "stck = StackingClassifier(estimators = [('xgboost', XGBClassifier()),\n",
    "                                       ('bagging_classifier', BaggingClassifier(estimator=DecisionTreeClassifier(), n_estimators=50, max_features=50))], \n",
    "                          final_estimator = LogisticRegression(solver='liblinear', fit_intercept=False))"
   ]
  },
  {
   "cell_type": "code",
   "execution_count": null,
   "id": "687d5661",
   "metadata": {},
   "outputs": [],
   "source": [
    "stck.fit(X_train_2_resampled, y_train_2_resampled)"
   ]
  },
  {
   "cell_type": "code",
   "execution_count": null,
   "id": "e8fcbd61",
   "metadata": {},
   "outputs": [],
   "source": [
    "stck_preds = stck.predict(X_test_2)"
   ]
  },
  {
   "cell_type": "code",
   "execution_count": null,
   "id": "790c7097",
   "metadata": {},
   "outputs": [],
   "source": [
    "pd.DataFrame(classification_report(y_test_2, stck_preds, output_dict=True))"
   ]
  },
  {
   "cell_type": "code",
   "execution_count": null,
   "id": "4e205dac",
   "metadata": {},
   "outputs": [],
   "source": [
    "labels = ['functional', 'functional needs repair', 'non functional']\n",
    "pd.DataFrame(confusion_matrix(y_test_2, stck_preds), columns=labels, index=labels)"
   ]
  },
  {
   "cell_type": "code",
   "execution_count": null,
   "id": "04566e2a",
   "metadata": {},
   "outputs": [],
   "source": []
  }
 ],
 "metadata": {
  "kernelspec": {
   "display_name": "Python (learn-env)",
   "language": "python",
   "name": "learn-env"
  },
  "language_info": {
   "codemirror_mode": {
    "name": "ipython",
    "version": 3
   },
   "file_extension": ".py",
   "mimetype": "text/x-python",
   "name": "python",
   "nbconvert_exporter": "python",
   "pygments_lexer": "ipython3",
   "version": "3.11.5"
  }
 },
 "nbformat": 4,
 "nbformat_minor": 5
}
