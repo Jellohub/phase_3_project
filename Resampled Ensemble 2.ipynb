{
 "cells": [
  {
   "cell_type": "code",
   "execution_count": 542,
   "id": "fc642572",
   "metadata": {},
   "outputs": [],
   "source": [
    "import numpy as np\n",
    "import pandas as pd\n",
    "from tqdm import tqdm\n",
    "from sklearn.model_selection import train_test_split, cross_val_score, StratifiedKFold\n",
    "from sklearn.linear_model import LinearRegression, LogisticRegression, Ridge, Lasso\n",
    "from sklearn.preprocessing import MinMaxScaler, StandardScaler, OneHotEncoder, OrdinalEncoder\n",
    "from sklearn.metrics import accuracy_score, get_scorer_names, confusion_matrix, classification_report\n",
    "from sklearn.tree import DecisionTreeClassifier\n",
    "from sklearn import tree\n",
    "from sklearn.model_selection import GridSearchCV\n",
    "from sklearn.neighbors import KNeighborsClassifier\n",
    "from sklearn.ensemble import BaggingClassifier, RandomForestClassifier, AdaBoostClassifier, GradientBoostingClassifier, VotingClassifier\n",
    "from sklearn.ensemble import HistGradientBoostingClassifier, ExtraTreesClassifier\n",
    "from sklearn.ensemble import StackingClassifier\n",
    "from sklearn.naive_bayes import GaussianNB, CategoricalNB\n",
    "from sklearn.feature_selection import SelectKBest, chi2, mutual_info_classif\n",
    "from xgboost import XGBClassifier\n",
    "import xgboost as xgb\n",
    "import matplotlib.pyplot as plt\n",
    "import seaborn as sns\n",
    "from sklearn.pipeline import Pipeline\n",
    "from imblearn.over_sampling import SMOTE\n",
    "import warnings\n",
    "warnings.simplefilter(action='ignore', category=FutureWarning)\n",
    "from statistics import mode as md\n",
    "from matplotlib import pyplot as plt\n",
    "from IPython.display import clear_output\n",
    "from collections import Counter"
   ]
  },
  {
   "cell_type": "code",
   "execution_count": 543,
   "id": "7f83abc9",
   "metadata": {},
   "outputs": [],
   "source": [
    "testing = pd.read_csv(\"tanzanian_water_wells/X_test.csv\")\n",
    "X = pd.read_csv(\"tanzanian_water_wells/X_train.csv\")\n",
    "y = pd.read_csv(\"tanzanian_water_wells/y_train.csv\")['status_group'].map({'functional': 0, 'functional needs repair': 1, 'non functional': 2})"
   ]
  },
  {
   "cell_type": "code",
   "execution_count": 544,
   "id": "d75f0047",
   "metadata": {},
   "outputs": [],
   "source": [
    "X = X.drop(['id', 'wpt_name', 'subvillage', 'installer', 'funder', 'scheme_name', 'ward', 'date_recorded', 'recorded_by'], axis=1)\n",
    "testing = testing.drop(['id', 'wpt_name', 'subvillage', 'installer', 'funder', 'scheme_name', 'ward', 'date_recorded', 'recorded_by'], axis=1)"
   ]
  },
  {
   "cell_type": "code",
   "execution_count": 545,
   "id": "b3f9c3d0",
   "metadata": {},
   "outputs": [],
   "source": [
    "# Eliminating null values from X_train\n",
    "X.scheme_management.fillna(\"None\", inplace=True)\n",
    "X.permit.fillna('Unknown', inplace=True)\n",
    "X.public_meeting.fillna('Unknown', inplace=True)"
   ]
  },
  {
   "cell_type": "code",
   "execution_count": 546,
   "id": "106e4f98",
   "metadata": {},
   "outputs": [],
   "source": [
    "# X['public_meeting'] = X['public_meeting'].map({True: 'Yes', False: 'No', 'Unknown': 'Unknown'})\n",
    "X['permit'] = X['permit'].map({True: 'Yes', False: 'No', 'Unknown': 'Unknown'})\n",
    "X['gps_height'] = X['gps_height'].astype('float64')\n",
    "# X['district_code'] = X['district_code'].astype('float64')\n",
    "X['population'] = X['population'].astype('float64')\n",
    "X['construction_year'] = X['construction_year'].astype('int64')\n",
    "X['region_code'] = X['region_code'].astype('str')\n",
    "X['district_code'] = X['district_code'].astype('str')\n",
    "\n",
    "X_cat = X.select_dtypes(exclude=['float64', 'int64'])\n",
    "X_cat = X_cat.astype('str')\n",
    "X_numeric = X.select_dtypes(['float64', 'int64'])"
   ]
  },
  {
   "cell_type": "code",
   "execution_count": 547,
   "id": "747af6d5",
   "metadata": {},
   "outputs": [],
   "source": [
    "X_cat = X_cat.drop(['quantity', 'waterpoint_type_group', 'extraction_type_group', \n",
    "                    'region', 'extraction_type', 'payment_type', 'source_type', \n",
    "                    'management_group', 'water_quality', 'source_class', \n",
    "                    'region_code', 'district_code'], axis=1)\n",
    "\n",
    "testing = testing.drop(['quantity', 'waterpoint_type_group', 'extraction_type_group', \n",
    "                    'region', 'extraction_type', 'payment_type', 'source_type', \n",
    "                    'management_group', 'water_quality', 'source_class', \n",
    "                    'region_code', 'district_code'], axis=1)"
   ]
  },
  {
   "cell_type": "code",
   "execution_count": 548,
   "id": "65924cae",
   "metadata": {},
   "outputs": [],
   "source": [
    "X_cat = pd.get_dummies(X_cat)"
   ]
  },
  {
   "cell_type": "code",
   "execution_count": 549,
   "id": "119fc712",
   "metadata": {},
   "outputs": [],
   "source": [
    "scaler = StandardScaler()\n",
    "scaler.fit(X_numeric)\n",
    "X_numeric = pd.DataFrame(scaler.transform(X_numeric), columns = X_numeric.columns, index = X_numeric.index)"
   ]
  },
  {
   "cell_type": "code",
   "execution_count": 550,
   "id": "48ca4e4f",
   "metadata": {},
   "outputs": [],
   "source": [
    "X = pd.concat([X_numeric, X_cat], axis=1)"
   ]
  },
  {
   "cell_type": "code",
   "execution_count": 551,
   "id": "22ac725e",
   "metadata": {},
   "outputs": [],
   "source": [
    "df = pd.concat([X, y], axis=1)"
   ]
  },
  {
   "cell_type": "code",
   "execution_count": 552,
   "id": "f8a6e2a9",
   "metadata": {},
   "outputs": [],
   "source": [
    "strategy = {1: 20000}\n",
    "smote = SMOTE()\n",
    "X_resampled, y_resampled = smote.fit_resample(X, y)"
   ]
  },
  {
   "cell_type": "code",
   "execution_count": 553,
   "id": "10961f54",
   "metadata": {},
   "outputs": [],
   "source": [
    "X_train_resampled, X_test_resampled, y_train_resampled, y_test_resampled = train_test_split(X_resampled, y_resampled)"
   ]
  },
  {
   "cell_type": "code",
   "execution_count": 554,
   "id": "ea785318",
   "metadata": {},
   "outputs": [],
   "source": [
    "X_train_resampled = X_train_resampled.reset_index(drop=True)\n",
    "y_train_resampled = y_train_resampled.reset_index(drop=True)\n",
    "y_test_resampled = y_test_resampled.reset_index(drop=True)"
   ]
  },
  {
   "cell_type": "code",
   "execution_count": 555,
   "id": "a588aa0f",
   "metadata": {},
   "outputs": [],
   "source": [
    "df_resampled = pd.concat([X_train_resampled, y_train_resampled], axis=1)"
   ]
  },
  {
   "cell_type": "code",
   "execution_count": 556,
   "id": "27b6f6cc",
   "metadata": {},
   "outputs": [],
   "source": [
    "f = df_resampled[df_resampled.status_group == 0].reset_index(drop=True).copy()\n",
    "nf = df_resampled[df_resampled.status_group == 2].reset_index(drop=True).copy()\n",
    "fnr = df_resampled[df_resampled.status_group == 1].reset_index(drop=True).copy()"
   ]
  },
  {
   "cell_type": "code",
   "execution_count": 557,
   "id": "c45952e8",
   "metadata": {},
   "outputs": [],
   "source": [
    "f = f.sample(frac=1)\n",
    "nf = nf.sample(frac=1)\n",
    "fnr = fnr.sample(frac=1)"
   ]
  },
  {
   "cell_type": "code",
   "execution_count": 558,
   "id": "83a009c6",
   "metadata": {},
   "outputs": [],
   "source": [
    "fs = [pd.DataFrame(i) for i in np.array_split(f, len(f)//1000)]\n",
    "nfs = [pd.DataFrame(i) for i in np.array_split(nf, len(nf)//1000)]\n",
    "fnrs = [pd.DataFrame(i) for i in np.array_split(fnr, len(fnr)//1000)]"
   ]
  },
  {
   "cell_type": "code",
   "execution_count": 559,
   "id": "5a1dbddd",
   "metadata": {},
   "outputs": [],
   "source": [
    "resamples = []\n",
    "\n",
    "for i in range(len(fnrs)):\n",
    "    resample = pd.concat([fs[i], nfs[i], fnrs[i]])\n",
    "    resamples.append(resample)"
   ]
  },
  {
   "cell_type": "code",
   "execution_count": 560,
   "id": "ee7a8132",
   "metadata": {},
   "outputs": [],
   "source": [
    "models = []\n",
    "preds = []\n",
    "modes=[]\n",
    "counters=[]\n",
    "\n",
    "for resample in resamples:\n",
    "    estimator =  ExtraTreesClassifier(n_estimators=100, random_state=42)\n",
    "    X = resample.drop(['status_group'], axis=1)\n",
    "    y = resample['status_group']\n",
    "    estimator.fit(X, y)\n",
    "    pred = estimator.predict(X_test_resampled)\n",
    "    preds.append(pred)\n",
    "    models.append(estimator)\n",
    "    \n",
    "    \n",
    "for i in range(len(preds[0])):\n",
    "    mode = md([pred[i] for pred in preds])\n",
    "    counter = Counter([pred[i] for pred in preds])\n",
    "    counters.append(counter)\n",
    "    modes.append(mode)"
   ]
  },
  {
   "cell_type": "code",
   "execution_count": 561,
   "id": "6c8a5d59",
   "metadata": {},
   "outputs": [],
   "source": [
    "pred_df = pd.DataFrame({n: preds[n] for n in range(len(preds))})\n",
    "pred_df['mode'] = modes\n",
    "pred_df['original'] = y_test_resampled"
   ]
  },
  {
   "cell_type": "code",
   "execution_count": 562,
   "id": "92b7e0cb",
   "metadata": {},
   "outputs": [],
   "source": [
    "matrix_labels = ['functional', 'functional needs repair', \n",
    "                 'non functional']\n",
    "\n",
    "matrix = pd.DataFrame(confusion_matrix(pred_df['mode'], y_test_resampled), columns=matrix_labels, index=matrix_labels)\n",
    "report = pd.DataFrame(classification_report(pred_df['mode'], y_test_resampled, output_dict=True))"
   ]
  },
  {
   "cell_type": "code",
   "execution_count": 563,
   "id": "1dfa952b",
   "metadata": {},
   "outputs": [
    {
     "data": {
      "text/html": [
       "<div>\n",
       "<style scoped>\n",
       "    .dataframe tbody tr th:only-of-type {\n",
       "        vertical-align: middle;\n",
       "    }\n",
       "\n",
       "    .dataframe tbody tr th {\n",
       "        vertical-align: top;\n",
       "    }\n",
       "\n",
       "    .dataframe thead th {\n",
       "        text-align: right;\n",
       "    }\n",
       "</style>\n",
       "<table border=\"1\" class=\"dataframe\">\n",
       "  <thead>\n",
       "    <tr style=\"text-align: right;\">\n",
       "      <th></th>\n",
       "      <th>functional</th>\n",
       "      <th>functional needs repair</th>\n",
       "      <th>non functional</th>\n",
       "    </tr>\n",
       "  </thead>\n",
       "  <tbody>\n",
       "    <tr>\n",
       "      <th>functional</th>\n",
       "      <td>5826</td>\n",
       "      <td>746</td>\n",
       "      <td>1429</td>\n",
       "    </tr>\n",
       "    <tr>\n",
       "      <th>functional needs repair</th>\n",
       "      <td>1353</td>\n",
       "      <td>6987</td>\n",
       "      <td>744</td>\n",
       "    </tr>\n",
       "    <tr>\n",
       "      <th>non functional</th>\n",
       "      <td>880</td>\n",
       "      <td>370</td>\n",
       "      <td>5860</td>\n",
       "    </tr>\n",
       "  </tbody>\n",
       "</table>\n",
       "</div>"
      ],
      "text/plain": [
       "                         functional  functional needs repair  non functional\n",
       "functional                     5826                      746            1429\n",
       "functional needs repair        1353                     6987             744\n",
       "non functional                  880                      370            5860"
      ]
     },
     "execution_count": 563,
     "metadata": {},
     "output_type": "execute_result"
    }
   ],
   "source": [
    "matrix"
   ]
  },
  {
   "cell_type": "code",
   "execution_count": 564,
   "id": "a50c5b18",
   "metadata": {},
   "outputs": [
    {
     "data": {
      "text/html": [
       "<div>\n",
       "<style scoped>\n",
       "    .dataframe tbody tr th:only-of-type {\n",
       "        vertical-align: middle;\n",
       "    }\n",
       "\n",
       "    .dataframe tbody tr th {\n",
       "        vertical-align: top;\n",
       "    }\n",
       "\n",
       "    .dataframe thead th {\n",
       "        text-align: right;\n",
       "    }\n",
       "</style>\n",
       "<table border=\"1\" class=\"dataframe\">\n",
       "  <thead>\n",
       "    <tr style=\"text-align: right;\">\n",
       "      <th></th>\n",
       "      <th>0</th>\n",
       "      <th>1</th>\n",
       "      <th>2</th>\n",
       "      <th>accuracy</th>\n",
       "      <th>macro avg</th>\n",
       "      <th>weighted avg</th>\n",
       "    </tr>\n",
       "  </thead>\n",
       "  <tbody>\n",
       "    <tr>\n",
       "      <th>precision</th>\n",
       "      <td>0.722918</td>\n",
       "      <td>0.862273</td>\n",
       "      <td>0.729491</td>\n",
       "      <td>0.771771</td>\n",
       "      <td>0.771561</td>\n",
       "      <td>0.777171</td>\n",
       "    </tr>\n",
       "    <tr>\n",
       "      <th>recall</th>\n",
       "      <td>0.728159</td>\n",
       "      <td>0.769155</td>\n",
       "      <td>0.824191</td>\n",
       "      <td>0.771771</td>\n",
       "      <td>0.773835</td>\n",
       "      <td>0.771771</td>\n",
       "    </tr>\n",
       "    <tr>\n",
       "      <th>f1-score</th>\n",
       "      <td>0.725529</td>\n",
       "      <td>0.813056</td>\n",
       "      <td>0.773955</td>\n",
       "      <td>0.771771</td>\n",
       "      <td>0.770847</td>\n",
       "      <td>0.772622</td>\n",
       "    </tr>\n",
       "    <tr>\n",
       "      <th>support</th>\n",
       "      <td>8001.000000</td>\n",
       "      <td>9084.000000</td>\n",
       "      <td>7110.000000</td>\n",
       "      <td>0.771771</td>\n",
       "      <td>24195.000000</td>\n",
       "      <td>24195.000000</td>\n",
       "    </tr>\n",
       "  </tbody>\n",
       "</table>\n",
       "</div>"
      ],
      "text/plain": [
       "                     0            1            2  accuracy     macro avg  \\\n",
       "precision     0.722918     0.862273     0.729491  0.771771      0.771561   \n",
       "recall        0.728159     0.769155     0.824191  0.771771      0.773835   \n",
       "f1-score      0.725529     0.813056     0.773955  0.771771      0.770847   \n",
       "support    8001.000000  9084.000000  7110.000000  0.771771  24195.000000   \n",
       "\n",
       "           weighted avg  \n",
       "precision      0.777171  \n",
       "recall         0.771771  \n",
       "f1-score       0.772622  \n",
       "support    24195.000000  "
      ]
     },
     "execution_count": 564,
     "metadata": {},
     "output_type": "execute_result"
    }
   ],
   "source": [
    "report"
   ]
  },
  {
   "cell_type": "code",
   "execution_count": null,
   "id": "e75f75e7",
   "metadata": {},
   "outputs": [],
   "source": []
  }
 ],
 "metadata": {
  "kernelspec": {
   "display_name": "Python (learn-env)",
   "language": "python",
   "name": "learn-env"
  },
  "language_info": {
   "codemirror_mode": {
    "name": "ipython",
    "version": 3
   },
   "file_extension": ".py",
   "mimetype": "text/x-python",
   "name": "python",
   "nbconvert_exporter": "python",
   "pygments_lexer": "ipython3",
   "version": "3.11.5"
  }
 },
 "nbformat": 4,
 "nbformat_minor": 5
}
