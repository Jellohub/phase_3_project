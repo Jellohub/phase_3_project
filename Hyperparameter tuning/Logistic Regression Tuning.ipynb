{
 "cells": [
  {
   "cell_type": "code",
   "execution_count": 5,
   "id": "2fd19ab7",
   "metadata": {},
   "outputs": [],
   "source": [
    "import numpy as np\n",
    "import pandas as pd\n",
    "from tqdm import tqdm\n",
    "from sklearn.model_selection import train_test_split, cross_val_score, StratifiedKFold\n",
    "from sklearn.linear_model import LinearRegression, LogisticRegression, Ridge, Lasso\n",
    "from sklearn.preprocessing import MinMaxScaler, StandardScaler, OneHotEncoder\n",
    "from sklearn.metrics import accuracy_score, get_scorer_names, confusion_matrix, classification_report\n",
    "from sklearn.tree import DecisionTreeClassifier\n",
    "from sklearn import tree\n",
    "from sklearn.model_selection import GridSearchCV\n",
    "from sklearn.neighbors import KNeighborsClassifier\n",
    "from sklearn.ensemble import BaggingClassifier, RandomForestClassifier, AdaBoostClassifier, GradientBoostingClassifier, VotingClassifier\n",
    "from sklearn.ensemble import HistGradientBoostingClassifier, ExtraTreesClassifier\n",
    "from sklearn.naive_bayes import GaussianNB, CategoricalNB\n",
    "from xgboost import XGBClassifier\n",
    "import xgboost as xgb\n",
    "import matplotlib.pyplot as plt\n",
    "from sklearn.pipeline import Pipeline\n",
    "from imblearn.over_sampling import SMOTE\n",
    "import warnings\n",
    "warnings.simplefilter(action='ignore', category=FutureWarning)\n",
    "from statistics import mode as md"
   ]
  },
  {
   "cell_type": "code",
   "execution_count": 8,
   "id": "6c692095",
   "metadata": {},
   "outputs": [],
   "source": [
    "X_test = pd.read_csv(\"../tanzanian_water_wells/X_test.csv\")\n",
    "X_train = pd.read_csv(\"../tanzanian_water_wells/X_train.csv\")\n",
    "y_train = pd.read_csv(\"../tanzanian_water_wells/y_train.csv\")\n",
    "\n",
    "df = pd.concat([X_train, y_train], axis=1)"
   ]
  },
  {
   "cell_type": "code",
   "execution_count": 9,
   "id": "1ad219ae",
   "metadata": {},
   "outputs": [],
   "source": [
    "desc = {'amount_tsh': 'Total static head (amount water available to waterpoint)',\n",
    "                    'date_recorded': 'The date the row was entered',\n",
    "                    'funder': 'Who funded the well',\n",
    "                    'gps_height': 'Altitude of the well',\n",
    "                    'installer': 'Organization that installed the well',\n",
    "                    'longitude': 'GPS coordinate',\n",
    "                    'latitude': 'GPS coordinate',\n",
    "                    'wpt_name': 'Name of the waterpoint if there is one',\n",
    "                    'subvillage': 'Geographic location',\n",
    "                    'region': 'Geographic location',\n",
    "                    'region_code': 'Geographic location (coded)',\n",
    "                    'district_code': 'Geographic location (coded)',\n",
    "                    'lga': 'Geographic location',\n",
    "                    'ward': 'Geographic location',\n",
    "                    'population': 'Population around the well',\n",
    "                    'public_meeting': 'True/False',\n",
    "                    'recorded_by': 'Group entering this row of data',\n",
    "                    'scheme_management': 'Who operates the waterpoint',\n",
    "                    'scheme_name': 'Who operates the waterpoint',\n",
    "                    'permit': 'If the waterpoint is permitted',\n",
    "                    'construction_year': 'Year the waterpoint was constructed',\n",
    "                    'extraction_type': 'The kind of extraction the waterpoint uses',\n",
    "                    'extraction_type_group': 'The kind of extraction the waterpoint uses',\n",
    "                    'extraction_type_class': 'The kind of extraction the waterpoint uses',\n",
    "                    'management': 'How the waterpoint is managed',\n",
    "                    'management_group': 'How the waterpoint is managed',\n",
    "                    'payment': 'What the water costs',\n",
    "                    'payment_type': 'What the water costs',\n",
    "                    'water_quality': 'The quality of the water',\n",
    "                    'quality_group': 'The quality of the water',\n",
    "                    'quantity': 'The quantity of water',\n",
    "                    'quantity_group': 'The quantity of water',\n",
    "                    'source': 'The source of the water',\n",
    "                    'source_type': 'The source of the water',\n",
    "                    'source_class': 'The source of the water',\n",
    "                    'waterpoint_type': 'The kind of waterpoint',\n",
    "                    'waterpoint_type_group': 'The kind of waterpoint'}"
   ]
  },
  {
   "cell_type": "code",
   "execution_count": 10,
   "id": "474b21d9",
   "metadata": {},
   "outputs": [],
   "source": [
    "# Eliminating null values\n",
    "\n",
    "df.funder.fillna(\"Unknown\", inplace=True)\n",
    "df.installer.fillna(\"Unknown\", inplace=True)\n",
    "df.scheme_management.fillna(\"None\", inplace=True)\n",
    "df.permit.fillna('Unknown', inplace=True)\n",
    "df.scheme_name.fillna('Unknown', inplace=True)\n",
    "df.subvillage.fillna('Unknown', inplace=True)\n",
    "df.public_meeting.fillna('Unknown', inplace=True)"
   ]
  },
  {
   "cell_type": "markdown",
   "id": "89146789",
   "metadata": {},
   "source": [
    "# Defining the train and test sets"
   ]
  },
  {
   "cell_type": "code",
   "execution_count": 11,
   "id": "c2ec08b1",
   "metadata": {},
   "outputs": [],
   "source": [
    "X = df.copy()\n",
    "\n",
    "columns = ['amount_tsh', 'gps_height', 'population', 'region', 'lga', \n",
    "           'scheme_management', 'permit', 'construction_year',\n",
    "           'extraction_type_group', 'payment', 'management', \n",
    "           'quality_group', 'quantity', 'source', 'waterpoint_type']\n",
    "\n",
    "X = X[columns]\n",
    "\n",
    "# X['public_meeting'] = X['public_meeting'].map({True: 'Yes', False: 'No', 'Unknown': 'Unknown'})\n",
    "X['permit'] = X['permit'].map({True: 'Yes', False: 'No', 'Unknown': 'Unknown'})\n",
    "X['gps_height'] = X['gps_height'].astype('float64')\n",
    "# X['district_code'] = X['district_code'].astype('float64')\n",
    "X['population'] = X['population'].astype('float64')\n",
    "# X['district_code'] = X['district_code'].astype('object')\n",
    "\n",
    "X_cat = X.drop(list(X.select_dtypes(['float64']).columns), axis=1)\n",
    "X_numeric = X[list(X.select_dtypes(['float64']).columns)]\n",
    "\n",
    "y = df['status_group']\n",
    "\n",
    "X_cat = pd.get_dummies(X_cat)\n",
    "\n",
    "X = pd.concat([X_numeric, X_cat], axis=1)\n",
    "\n",
    "X_train, X_test, y_train, y_test = train_test_split(X, y)\n",
    "\n",
    "scaler = StandardScaler()\n",
    "scaler.fit(X_train)\n",
    "X_train = pd.DataFrame(scaler.transform(X_train),\n",
    "                index = X_train.index,\n",
    "                columns = X_train.columns)\n",
    "X_test = pd.DataFrame(scaler.transform(X_test),\n",
    "                index = X_test.index,\n",
    "                columns = X_test.columns)\n",
    "\n",
    "X_train.reset_index(inplace=True, drop=True)\n",
    "y_train = y_train.reset_index(drop=True)"
   ]
  },
  {
   "cell_type": "code",
   "execution_count": 45,
   "id": "61f0b69e",
   "metadata": {},
   "outputs": [],
   "source": [
    "X_train_sample = X_train.sample(n=1000, random_state=42)\n",
    "y_train_sample = y_train.iloc[list(X_train_sample.index)]"
   ]
  },
  {
   "cell_type": "markdown",
   "id": "d8ca3391",
   "metadata": {},
   "source": [
    "# Base Model – Logistic Regression, No Regularization"
   ]
  },
  {
   "cell_type": "code",
   "execution_count": 54,
   "id": "ead9fbf8",
   "metadata": {
    "scrolled": false
   },
   "outputs": [],
   "source": [
    "logreg = LogisticRegression(max_iter = 1000, random_state = 42)"
   ]
  },
  {
   "cell_type": "code",
   "execution_count": 55,
   "id": "a62b6382",
   "metadata": {
    "scrolled": true
   },
   "outputs": [
    {
     "name": "stdout",
     "output_type": "stream",
     "text": [
      "Fitting 3 folds for each of 168 candidates, totalling 504 fits\n",
      "[CV 1/3; 1/168] START C=0, penalty=None, solver=lbfgs...........................\n",
      "[CV 1/3; 1/168] END C=0, penalty=None, solver=lbfgs;, score=nan total time=   0.0s\n",
      "[CV 2/3; 1/168] START C=0, penalty=None, solver=lbfgs...........................\n",
      "[CV 2/3; 1/168] END C=0, penalty=None, solver=lbfgs;, score=nan total time=   0.0s\n",
      "[CV 3/3; 1/168] START C=0, penalty=None, solver=lbfgs...........................\n",
      "[CV 3/3; 1/168] END C=0, penalty=None, solver=lbfgs;, score=nan total time=   0.0s\n",
      "[CV 1/3; 2/168] START C=0, penalty=None, solver=liblinear.......................\n",
      "[CV 1/3; 2/168] END C=0, penalty=None, solver=liblinear;, score=nan total time=   0.0s\n",
      "[CV 2/3; 2/168] START C=0, penalty=None, solver=liblinear.......................\n",
      "[CV 2/3; 2/168] END C=0, penalty=None, solver=liblinear;, score=nan total time=   0.0s\n",
      "[CV 3/3; 2/168] START C=0, penalty=None, solver=liblinear.......................\n",
      "[CV 3/3; 2/168] END C=0, penalty=None, solver=liblinear;, score=nan total time=   0.0s\n",
      "[CV 1/3; 3/168] START C=0, penalty=None, solver=newton-cg.......................\n",
      "[CV 1/3; 3/168] END C=0, penalty=None, solver=newton-cg;, score=nan total time=   0.0s\n",
      "[CV 2/3; 3/168] START C=0, penalty=None, solver=newton-cg.......................\n",
      "[CV 2/3; 3/168] END C=0, penalty=None, solver=newton-cg;, score=nan total time=   0.0s\n",
      "[CV 3/3; 3/168] START C=0, penalty=None, solver=newton-cg.......................\n",
      "[CV 3/3; 3/168] END C=0, penalty=None, solver=newton-cg;, score=nan total time=   0.0s\n",
      "[CV 1/3; 4/168] START C=0, penalty=None, solver=newton-cholesky.................\n",
      "[CV 1/3; 4/168] END C=0, penalty=None, solver=newton-cholesky;, score=nan total time=   0.0s\n",
      "[CV 2/3; 4/168] START C=0, penalty=None, solver=newton-cholesky.................\n",
      "[CV 2/3; 4/168] END C=0, penalty=None, solver=newton-cholesky;, score=nan total time=   0.0s\n",
      "[CV 3/3; 4/168] START C=0, penalty=None, solver=newton-cholesky.................\n",
      "[CV 3/3; 4/168] END C=0, penalty=None, solver=newton-cholesky;, score=nan total time=   0.0s\n",
      "[CV 1/3; 5/168] START C=0, penalty=None, solver=sag.............................\n",
      "[CV 1/3; 5/168] END C=0, penalty=None, solver=sag;, score=nan total time=   0.0s\n",
      "[CV 2/3; 5/168] START C=0, penalty=None, solver=sag.............................\n",
      "[CV 2/3; 5/168] END C=0, penalty=None, solver=sag;, score=nan total time=   0.0s\n",
      "[CV 3/3; 5/168] START C=0, penalty=None, solver=sag.............................\n",
      "[CV 3/3; 5/168] END C=0, penalty=None, solver=sag;, score=nan total time=   0.0s\n",
      "[CV 1/3; 6/168] START C=0, penalty=None, solver=saga............................\n",
      "[CV 1/3; 6/168] END C=0, penalty=None, solver=saga;, score=nan total time=   0.0s\n",
      "[CV 2/3; 6/168] START C=0, penalty=None, solver=saga............................\n",
      "[CV 2/3; 6/168] END C=0, penalty=None, solver=saga;, score=nan total time=   0.0s\n",
      "[CV 3/3; 6/168] START C=0, penalty=None, solver=saga............................\n",
      "[CV 3/3; 6/168] END C=0, penalty=None, solver=saga;, score=nan total time=   0.0s\n",
      "[CV 1/3; 7/168] START C=0, penalty=l1, solver=lbfgs.............................\n",
      "[CV 1/3; 7/168] END C=0, penalty=l1, solver=lbfgs;, score=nan total time=   0.0s\n",
      "[CV 2/3; 7/168] START C=0, penalty=l1, solver=lbfgs.............................\n",
      "[CV 2/3; 7/168] END C=0, penalty=l1, solver=lbfgs;, score=nan total time=   0.0s\n",
      "[CV 3/3; 7/168] START C=0, penalty=l1, solver=lbfgs.............................\n",
      "[CV 3/3; 7/168] END C=0, penalty=l1, solver=lbfgs;, score=nan total time=   0.0s\n",
      "[CV 1/3; 8/168] START C=0, penalty=l1, solver=liblinear.........................\n",
      "[CV 1/3; 8/168] END C=0, penalty=l1, solver=liblinear;, score=nan total time=   0.0s\n",
      "[CV 2/3; 8/168] START C=0, penalty=l1, solver=liblinear.........................\n",
      "[CV 2/3; 8/168] END C=0, penalty=l1, solver=liblinear;, score=nan total time=   0.0s\n",
      "[CV 3/3; 8/168] START C=0, penalty=l1, solver=liblinear.........................\n",
      "[CV 3/3; 8/168] END C=0, penalty=l1, solver=liblinear;, score=nan total time=   0.0s\n",
      "[CV 1/3; 9/168] START C=0, penalty=l1, solver=newton-cg.........................\n",
      "[CV 1/3; 9/168] END C=0, penalty=l1, solver=newton-cg;, score=nan total time=   0.0s\n",
      "[CV 2/3; 9/168] START C=0, penalty=l1, solver=newton-cg.........................\n",
      "[CV 2/3; 9/168] END C=0, penalty=l1, solver=newton-cg;, score=nan total time=   0.0s\n",
      "[CV 3/3; 9/168] START C=0, penalty=l1, solver=newton-cg.........................\n",
      "[CV 3/3; 9/168] END C=0, penalty=l1, solver=newton-cg;, score=nan total time=   0.0s\n",
      "[CV 1/3; 10/168] START C=0, penalty=l1, solver=newton-cholesky..................\n",
      "[CV 1/3; 10/168] END C=0, penalty=l1, solver=newton-cholesky;, score=nan total time=   0.0s\n",
      "[CV 2/3; 10/168] START C=0, penalty=l1, solver=newton-cholesky..................\n",
      "[CV 2/3; 10/168] END C=0, penalty=l1, solver=newton-cholesky;, score=nan total time=   0.0s\n",
      "[CV 3/3; 10/168] START C=0, penalty=l1, solver=newton-cholesky..................\n",
      "[CV 3/3; 10/168] END C=0, penalty=l1, solver=newton-cholesky;, score=nan total time=   0.0s\n",
      "[CV 1/3; 11/168] START C=0, penalty=l1, solver=sag..............................\n",
      "[CV 1/3; 11/168] END .C=0, penalty=l1, solver=sag;, score=nan total time=   0.0s\n",
      "[CV 2/3; 11/168] START C=0, penalty=l1, solver=sag..............................\n",
      "[CV 2/3; 11/168] END .C=0, penalty=l1, solver=sag;, score=nan total time=   0.0s\n",
      "[CV 3/3; 11/168] START C=0, penalty=l1, solver=sag..............................\n",
      "[CV 3/3; 11/168] END .C=0, penalty=l1, solver=sag;, score=nan total time=   0.0s\n",
      "[CV 1/3; 12/168] START C=0, penalty=l1, solver=saga.............................\n",
      "[CV 1/3; 12/168] END C=0, penalty=l1, solver=saga;, score=nan total time=   0.0s\n",
      "[CV 2/3; 12/168] START C=0, penalty=l1, solver=saga.............................\n",
      "[CV 2/3; 12/168] END C=0, penalty=l1, solver=saga;, score=nan total time=   0.0s\n",
      "[CV 3/3; 12/168] START C=0, penalty=l1, solver=saga.............................\n",
      "[CV 3/3; 12/168] END C=0, penalty=l1, solver=saga;, score=nan total time=   0.0s\n",
      "[CV 1/3; 13/168] START C=0, penalty=l2, solver=lbfgs............................\n",
      "[CV 1/3; 13/168] END C=0, penalty=l2, solver=lbfgs;, score=nan total time=   0.0s\n",
      "[CV 2/3; 13/168] START C=0, penalty=l2, solver=lbfgs............................\n",
      "[CV 2/3; 13/168] END C=0, penalty=l2, solver=lbfgs;, score=nan total time=   0.0s\n",
      "[CV 3/3; 13/168] START C=0, penalty=l2, solver=lbfgs............................\n",
      "[CV 3/3; 13/168] END C=0, penalty=l2, solver=lbfgs;, score=nan total time=   0.0s\n",
      "[CV 1/3; 14/168] START C=0, penalty=l2, solver=liblinear........................\n",
      "[CV 1/3; 14/168] END C=0, penalty=l2, solver=liblinear;, score=nan total time=   0.0s\n",
      "[CV 2/3; 14/168] START C=0, penalty=l2, solver=liblinear........................\n",
      "[CV 2/3; 14/168] END C=0, penalty=l2, solver=liblinear;, score=nan total time=   0.0s\n",
      "[CV 3/3; 14/168] START C=0, penalty=l2, solver=liblinear........................\n",
      "[CV 3/3; 14/168] END C=0, penalty=l2, solver=liblinear;, score=nan total time=   0.0s\n",
      "[CV 1/3; 15/168] START C=0, penalty=l2, solver=newton-cg........................\n",
      "[CV 1/3; 15/168] END C=0, penalty=l2, solver=newton-cg;, score=nan total time=   0.0s\n",
      "[CV 2/3; 15/168] START C=0, penalty=l2, solver=newton-cg........................\n",
      "[CV 2/3; 15/168] END C=0, penalty=l2, solver=newton-cg;, score=nan total time=   0.0s\n",
      "[CV 3/3; 15/168] START C=0, penalty=l2, solver=newton-cg........................\n",
      "[CV 3/3; 15/168] END C=0, penalty=l2, solver=newton-cg;, score=nan total time=   0.0s\n",
      "[CV 1/3; 16/168] START C=0, penalty=l2, solver=newton-cholesky..................\n",
      "[CV 1/3; 16/168] END C=0, penalty=l2, solver=newton-cholesky;, score=nan total time=   0.0s\n",
      "[CV 2/3; 16/168] START C=0, penalty=l2, solver=newton-cholesky..................\n",
      "[CV 2/3; 16/168] END C=0, penalty=l2, solver=newton-cholesky;, score=nan total time=   0.0s\n",
      "[CV 3/3; 16/168] START C=0, penalty=l2, solver=newton-cholesky..................\n",
      "[CV 3/3; 16/168] END C=0, penalty=l2, solver=newton-cholesky;, score=nan total time=   0.0s\n",
      "[CV 1/3; 17/168] START C=0, penalty=l2, solver=sag..............................\n",
      "[CV 1/3; 17/168] END .C=0, penalty=l2, solver=sag;, score=nan total time=   0.0s\n",
      "[CV 2/3; 17/168] START C=0, penalty=l2, solver=sag..............................\n",
      "[CV 2/3; 17/168] END .C=0, penalty=l2, solver=sag;, score=nan total time=   0.0s\n",
      "[CV 3/3; 17/168] START C=0, penalty=l2, solver=sag..............................\n",
      "[CV 3/3; 17/168] END .C=0, penalty=l2, solver=sag;, score=nan total time=   0.0s\n",
      "[CV 1/3; 18/168] START C=0, penalty=l2, solver=saga.............................\n",
      "[CV 1/3; 18/168] END C=0, penalty=l2, solver=saga;, score=nan total time=   0.0s\n",
      "[CV 2/3; 18/168] START C=0, penalty=l2, solver=saga.............................\n",
      "[CV 2/3; 18/168] END C=0, penalty=l2, solver=saga;, score=nan total time=   0.0s\n",
      "[CV 3/3; 18/168] START C=0, penalty=l2, solver=saga.............................\n",
      "[CV 3/3; 18/168] END C=0, penalty=l2, solver=saga;, score=nan total time=   0.0s\n",
      "[CV 1/3; 19/168] START C=0, penalty=elasticnet, solver=lbfgs....................\n",
      "[CV 1/3; 19/168] END C=0, penalty=elasticnet, solver=lbfgs;, score=nan total time=   0.0s\n",
      "[CV 2/3; 19/168] START C=0, penalty=elasticnet, solver=lbfgs....................\n",
      "[CV 2/3; 19/168] END C=0, penalty=elasticnet, solver=lbfgs;, score=nan total time=   0.0s\n",
      "[CV 3/3; 19/168] START C=0, penalty=elasticnet, solver=lbfgs....................\n",
      "[CV 3/3; 19/168] END C=0, penalty=elasticnet, solver=lbfgs;, score=nan total time=   0.0s\n",
      "[CV 1/3; 20/168] START C=0, penalty=elasticnet, solver=liblinear................\n",
      "[CV 1/3; 20/168] END C=0, penalty=elasticnet, solver=liblinear;, score=nan total time=   0.0s\n",
      "[CV 2/3; 20/168] START C=0, penalty=elasticnet, solver=liblinear................\n",
      "[CV 2/3; 20/168] END C=0, penalty=elasticnet, solver=liblinear;, score=nan total time=   0.0s\n",
      "[CV 3/3; 20/168] START C=0, penalty=elasticnet, solver=liblinear................\n",
      "[CV 3/3; 20/168] END C=0, penalty=elasticnet, solver=liblinear;, score=nan total time=   0.0s\n",
      "[CV 1/3; 21/168] START C=0, penalty=elasticnet, solver=newton-cg................\n",
      "[CV 1/3; 21/168] END C=0, penalty=elasticnet, solver=newton-cg;, score=nan total time=   0.0s\n",
      "[CV 2/3; 21/168] START C=0, penalty=elasticnet, solver=newton-cg................\n",
      "[CV 2/3; 21/168] END C=0, penalty=elasticnet, solver=newton-cg;, score=nan total time=   0.0s\n",
      "[CV 3/3; 21/168] START C=0, penalty=elasticnet, solver=newton-cg................\n",
      "[CV 3/3; 21/168] END C=0, penalty=elasticnet, solver=newton-cg;, score=nan total time=   0.0s\n",
      "[CV 1/3; 22/168] START C=0, penalty=elasticnet, solver=newton-cholesky..........\n",
      "[CV 1/3; 22/168] END C=0, penalty=elasticnet, solver=newton-cholesky;, score=nan total time=   0.0s\n",
      "[CV 2/3; 22/168] START C=0, penalty=elasticnet, solver=newton-cholesky..........\n",
      "[CV 2/3; 22/168] END C=0, penalty=elasticnet, solver=newton-cholesky;, score=nan total time=   0.0s\n",
      "[CV 3/3; 22/168] START C=0, penalty=elasticnet, solver=newton-cholesky..........\n",
      "[CV 3/3; 22/168] END C=0, penalty=elasticnet, solver=newton-cholesky;, score=nan total time=   0.0s\n",
      "[CV 1/3; 23/168] START C=0, penalty=elasticnet, solver=sag......................\n",
      "[CV 1/3; 23/168] END C=0, penalty=elasticnet, solver=sag;, score=nan total time=   0.0s\n",
      "[CV 2/3; 23/168] START C=0, penalty=elasticnet, solver=sag......................\n",
      "[CV 2/3; 23/168] END C=0, penalty=elasticnet, solver=sag;, score=nan total time=   0.0s\n",
      "[CV 3/3; 23/168] START C=0, penalty=elasticnet, solver=sag......................\n",
      "[CV 3/3; 23/168] END C=0, penalty=elasticnet, solver=sag;, score=nan total time=   0.0s\n",
      "[CV 1/3; 24/168] START C=0, penalty=elasticnet, solver=saga.....................\n",
      "[CV 1/3; 24/168] END C=0, penalty=elasticnet, solver=saga;, score=nan total time=   0.0s\n",
      "[CV 2/3; 24/168] START C=0, penalty=elasticnet, solver=saga.....................\n",
      "[CV 2/3; 24/168] END C=0, penalty=elasticnet, solver=saga;, score=nan total time=   0.0s\n",
      "[CV 3/3; 24/168] START C=0, penalty=elasticnet, solver=saga.....................\n",
      "[CV 3/3; 24/168] END C=0, penalty=elasticnet, solver=saga;, score=nan total time=   0.0s\n",
      "[CV 1/3; 25/168] START C=1, penalty=None, solver=lbfgs..........................\n",
      "[CV 1/3; 25/168] END C=1, penalty=None, solver=lbfgs;, score=nan total time=   0.0s\n",
      "[CV 2/3; 25/168] START C=1, penalty=None, solver=lbfgs..........................\n",
      "[CV 2/3; 25/168] END C=1, penalty=None, solver=lbfgs;, score=nan total time=   0.0s\n",
      "[CV 3/3; 25/168] START C=1, penalty=None, solver=lbfgs..........................\n",
      "[CV 3/3; 25/168] END C=1, penalty=None, solver=lbfgs;, score=nan total time=   0.0s\n",
      "[CV 1/3; 26/168] START C=1, penalty=None, solver=liblinear......................\n",
      "[CV 1/3; 26/168] END C=1, penalty=None, solver=liblinear;, score=nan total time=   0.0s\n",
      "[CV 2/3; 26/168] START C=1, penalty=None, solver=liblinear......................\n",
      "[CV 2/3; 26/168] END C=1, penalty=None, solver=liblinear;, score=nan total time=   0.0s\n",
      "[CV 3/3; 26/168] START C=1, penalty=None, solver=liblinear......................\n",
      "[CV 3/3; 26/168] END C=1, penalty=None, solver=liblinear;, score=nan total time=   0.0s\n",
      "[CV 1/3; 27/168] START C=1, penalty=None, solver=newton-cg......................\n",
      "[CV 1/3; 27/168] END C=1, penalty=None, solver=newton-cg;, score=nan total time=   0.0s\n",
      "[CV 2/3; 27/168] START C=1, penalty=None, solver=newton-cg......................\n",
      "[CV 2/3; 27/168] END C=1, penalty=None, solver=newton-cg;, score=nan total time=   0.0s\n",
      "[CV 3/3; 27/168] START C=1, penalty=None, solver=newton-cg......................\n",
      "[CV 3/3; 27/168] END C=1, penalty=None, solver=newton-cg;, score=nan total time=   0.0s\n",
      "[CV 1/3; 28/168] START C=1, penalty=None, solver=newton-cholesky................\n",
      "[CV 1/3; 28/168] END C=1, penalty=None, solver=newton-cholesky;, score=nan total time=   0.0s\n",
      "[CV 2/3; 28/168] START C=1, penalty=None, solver=newton-cholesky................\n",
      "[CV 2/3; 28/168] END C=1, penalty=None, solver=newton-cholesky;, score=nan total time=   0.0s\n",
      "[CV 3/3; 28/168] START C=1, penalty=None, solver=newton-cholesky................\n",
      "[CV 3/3; 28/168] END C=1, penalty=None, solver=newton-cholesky;, score=nan total time=   0.0s\n",
      "[CV 1/3; 29/168] START C=1, penalty=None, solver=sag............................\n",
      "[CV 1/3; 29/168] END C=1, penalty=None, solver=sag;, score=nan total time=   0.0s\n",
      "[CV 2/3; 29/168] START C=1, penalty=None, solver=sag............................\n",
      "[CV 2/3; 29/168] END C=1, penalty=None, solver=sag;, score=nan total time=   0.0s\n",
      "[CV 3/3; 29/168] START C=1, penalty=None, solver=sag............................\n",
      "[CV 3/3; 29/168] END C=1, penalty=None, solver=sag;, score=nan total time=   0.0s\n",
      "[CV 1/3; 30/168] START C=1, penalty=None, solver=saga...........................\n",
      "[CV 1/3; 30/168] END C=1, penalty=None, solver=saga;, score=nan total time=   0.0s\n",
      "[CV 2/3; 30/168] START C=1, penalty=None, solver=saga...........................\n",
      "[CV 2/3; 30/168] END C=1, penalty=None, solver=saga;, score=nan total time=   0.0s\n",
      "[CV 3/3; 30/168] START C=1, penalty=None, solver=saga...........................\n",
      "[CV 3/3; 30/168] END C=1, penalty=None, solver=saga;, score=nan total time=   0.0s\n",
      "[CV 1/3; 31/168] START C=1, penalty=l1, solver=lbfgs............................\n",
      "[CV 1/3; 31/168] END C=1, penalty=l1, solver=lbfgs;, score=nan total time=   0.0s\n",
      "[CV 2/3; 31/168] START C=1, penalty=l1, solver=lbfgs............................\n",
      "[CV 2/3; 31/168] END C=1, penalty=l1, solver=lbfgs;, score=nan total time=   0.0s\n",
      "[CV 3/3; 31/168] START C=1, penalty=l1, solver=lbfgs............................\n",
      "[CV 3/3; 31/168] END C=1, penalty=l1, solver=lbfgs;, score=nan total time=   0.0s\n",
      "[CV 1/3; 32/168] START C=1, penalty=l1, solver=liblinear........................\n",
      "[CV 1/3; 32/168] END C=1, penalty=l1, solver=liblinear;, score=0.674 total time=   0.1s\n",
      "[CV 2/3; 32/168] START C=1, penalty=l1, solver=liblinear........................\n"
     ]
    },
    {
     "name": "stdout",
     "output_type": "stream",
     "text": [
      "[CV 2/3; 32/168] END C=1, penalty=l1, solver=liblinear;, score=0.682 total time=   0.2s\n",
      "[CV 3/3; 32/168] START C=1, penalty=l1, solver=liblinear........................\n",
      "[CV 3/3; 32/168] END C=1, penalty=l1, solver=liblinear;, score=0.667 total time=   0.2s\n",
      "[CV 1/3; 33/168] START C=1, penalty=l1, solver=newton-cg........................\n",
      "[CV 1/3; 33/168] END C=1, penalty=l1, solver=newton-cg;, score=nan total time=   0.0s\n",
      "[CV 2/3; 33/168] START C=1, penalty=l1, solver=newton-cg........................\n",
      "[CV 2/3; 33/168] END C=1, penalty=l1, solver=newton-cg;, score=nan total time=   0.0s\n",
      "[CV 3/3; 33/168] START C=1, penalty=l1, solver=newton-cg........................\n",
      "[CV 3/3; 33/168] END C=1, penalty=l1, solver=newton-cg;, score=nan total time=   0.0s\n",
      "[CV 1/3; 34/168] START C=1, penalty=l1, solver=newton-cholesky..................\n",
      "[CV 1/3; 34/168] END C=1, penalty=l1, solver=newton-cholesky;, score=nan total time=   0.0s\n",
      "[CV 2/3; 34/168] START C=1, penalty=l1, solver=newton-cholesky..................\n",
      "[CV 2/3; 34/168] END C=1, penalty=l1, solver=newton-cholesky;, score=nan total time=   0.0s\n",
      "[CV 3/3; 34/168] START C=1, penalty=l1, solver=newton-cholesky..................\n",
      "[CV 3/3; 34/168] END C=1, penalty=l1, solver=newton-cholesky;, score=nan total time=   0.0s\n",
      "[CV 1/3; 35/168] START C=1, penalty=l1, solver=sag..............................\n",
      "[CV 1/3; 35/168] END .C=1, penalty=l1, solver=sag;, score=nan total time=   0.0s\n",
      "[CV 2/3; 35/168] START C=1, penalty=l1, solver=sag..............................\n",
      "[CV 2/3; 35/168] END .C=1, penalty=l1, solver=sag;, score=nan total time=   0.0s\n",
      "[CV 3/3; 35/168] START C=1, penalty=l1, solver=sag..............................\n",
      "[CV 3/3; 35/168] END .C=1, penalty=l1, solver=sag;, score=nan total time=   0.0s\n",
      "[CV 1/3; 36/168] START C=1, penalty=l1, solver=saga.............................\n"
     ]
    },
    {
     "name": "stderr",
     "output_type": "stream",
     "text": [
      "/Users/angeloturri/opt/anaconda3/envs/learn-env/lib/python3.11/site-packages/sklearn/linear_model/_sag.py:350: ConvergenceWarning: The max_iter was reached which means the coef_ did not converge\n",
      "  warnings.warn(\n"
     ]
    },
    {
     "name": "stdout",
     "output_type": "stream",
     "text": [
      "[CV 1/3; 36/168] END C=1, penalty=l1, solver=saga;, score=0.668 total time=   2.2s\n",
      "[CV 2/3; 36/168] START C=1, penalty=l1, solver=saga.............................\n"
     ]
    },
    {
     "name": "stderr",
     "output_type": "stream",
     "text": [
      "/Users/angeloturri/opt/anaconda3/envs/learn-env/lib/python3.11/site-packages/sklearn/linear_model/_sag.py:350: ConvergenceWarning: The max_iter was reached which means the coef_ did not converge\n",
      "  warnings.warn(\n"
     ]
    },
    {
     "name": "stdout",
     "output_type": "stream",
     "text": [
      "[CV 2/3; 36/168] END C=1, penalty=l1, solver=saga;, score=0.682 total time=   2.2s\n",
      "[CV 3/3; 36/168] START C=1, penalty=l1, solver=saga.............................\n"
     ]
    },
    {
     "name": "stderr",
     "output_type": "stream",
     "text": [
      "/Users/angeloturri/opt/anaconda3/envs/learn-env/lib/python3.11/site-packages/sklearn/linear_model/_sag.py:350: ConvergenceWarning: The max_iter was reached which means the coef_ did not converge\n",
      "  warnings.warn(\n"
     ]
    },
    {
     "name": "stdout",
     "output_type": "stream",
     "text": [
      "[CV 3/3; 36/168] END C=1, penalty=l1, solver=saga;, score=0.658 total time=   2.2s\n",
      "[CV 1/3; 37/168] START C=1, penalty=l2, solver=lbfgs............................\n",
      "[CV 1/3; 37/168] END C=1, penalty=l2, solver=lbfgs;, score=0.653 total time=   0.1s\n",
      "[CV 2/3; 37/168] START C=1, penalty=l2, solver=lbfgs............................\n",
      "[CV 2/3; 37/168] END C=1, penalty=l2, solver=lbfgs;, score=0.658 total time=   0.1s\n",
      "[CV 3/3; 37/168] START C=1, penalty=l2, solver=lbfgs............................\n",
      "[CV 3/3; 37/168] END C=1, penalty=l2, solver=lbfgs;, score=0.649 total time=   0.1s\n",
      "[CV 1/3; 38/168] START C=1, penalty=l2, solver=liblinear........................\n",
      "[CV 1/3; 38/168] END C=1, penalty=l2, solver=liblinear;, score=0.677 total time=   0.2s\n",
      "[CV 2/3; 38/168] START C=1, penalty=l2, solver=liblinear........................\n",
      "[CV 2/3; 38/168] END C=1, penalty=l2, solver=liblinear;, score=0.631 total time=   0.1s\n",
      "[CV 3/3; 38/168] START C=1, penalty=l2, solver=liblinear........................\n",
      "[CV 3/3; 38/168] END C=1, penalty=l2, solver=liblinear;, score=0.652 total time=   0.1s\n",
      "[CV 1/3; 39/168] START C=1, penalty=l2, solver=newton-cg........................\n",
      "[CV 1/3; 39/168] END C=1, penalty=l2, solver=newton-cg;, score=0.653 total time=   0.1s\n",
      "[CV 2/3; 39/168] START C=1, penalty=l2, solver=newton-cg........................\n",
      "[CV 2/3; 39/168] END C=1, penalty=l2, solver=newton-cg;, score=0.658 total time=   0.1s\n",
      "[CV 3/3; 39/168] START C=1, penalty=l2, solver=newton-cg........................\n",
      "[CV 3/3; 39/168] END C=1, penalty=l2, solver=newton-cg;, score=0.649 total time=   0.1s\n",
      "[CV 1/3; 40/168] START C=1, penalty=l2, solver=newton-cholesky..................\n",
      "[CV 1/3; 40/168] END C=1, penalty=l2, solver=newton-cholesky;, score=0.668 total time=   0.1s\n",
      "[CV 2/3; 40/168] START C=1, penalty=l2, solver=newton-cholesky..................\n",
      "[CV 2/3; 40/168] END C=1, penalty=l2, solver=newton-cholesky;, score=0.667 total time=   0.1s\n",
      "[CV 3/3; 40/168] START C=1, penalty=l2, solver=newton-cholesky..................\n",
      "[CV 3/3; 40/168] END C=1, penalty=l2, solver=newton-cholesky;, score=0.652 total time=   0.1s\n",
      "[CV 1/3; 41/168] START C=1, penalty=l2, solver=sag..............................\n"
     ]
    },
    {
     "name": "stderr",
     "output_type": "stream",
     "text": [
      "/Users/angeloturri/opt/anaconda3/envs/learn-env/lib/python3.11/site-packages/sklearn/linear_model/_sag.py:350: ConvergenceWarning: The max_iter was reached which means the coef_ did not converge\n",
      "  warnings.warn(\n"
     ]
    },
    {
     "name": "stdout",
     "output_type": "stream",
     "text": [
      "[CV 1/3; 41/168] END C=1, penalty=l2, solver=sag;, score=0.653 total time=   1.5s\n",
      "[CV 2/3; 41/168] START C=1, penalty=l2, solver=sag..............................\n",
      "[CV 2/3; 41/168] END C=1, penalty=l2, solver=sag;, score=0.646 total time=   1.0s\n",
      "[CV 3/3; 41/168] START C=1, penalty=l2, solver=sag..............................\n"
     ]
    },
    {
     "name": "stderr",
     "output_type": "stream",
     "text": [
      "/Users/angeloturri/opt/anaconda3/envs/learn-env/lib/python3.11/site-packages/sklearn/linear_model/_sag.py:350: ConvergenceWarning: The max_iter was reached which means the coef_ did not converge\n",
      "  warnings.warn(\n"
     ]
    },
    {
     "name": "stdout",
     "output_type": "stream",
     "text": [
      "[CV 3/3; 41/168] END C=1, penalty=l2, solver=sag;, score=0.655 total time=   1.4s\n",
      "[CV 1/3; 42/168] START C=1, penalty=l2, solver=saga.............................\n"
     ]
    },
    {
     "name": "stderr",
     "output_type": "stream",
     "text": [
      "/Users/angeloturri/opt/anaconda3/envs/learn-env/lib/python3.11/site-packages/sklearn/linear_model/_sag.py:350: ConvergenceWarning: The max_iter was reached which means the coef_ did not converge\n",
      "  warnings.warn(\n"
     ]
    },
    {
     "name": "stdout",
     "output_type": "stream",
     "text": [
      "[CV 1/3; 42/168] END C=1, penalty=l2, solver=saga;, score=0.656 total time=   1.6s\n",
      "[CV 2/3; 42/168] START C=1, penalty=l2, solver=saga.............................\n"
     ]
    },
    {
     "name": "stderr",
     "output_type": "stream",
     "text": [
      "/Users/angeloturri/opt/anaconda3/envs/learn-env/lib/python3.11/site-packages/sklearn/linear_model/_sag.py:350: ConvergenceWarning: The max_iter was reached which means the coef_ did not converge\n",
      "  warnings.warn(\n"
     ]
    },
    {
     "name": "stdout",
     "output_type": "stream",
     "text": [
      "[CV 2/3; 42/168] END C=1, penalty=l2, solver=saga;, score=0.643 total time=   1.6s\n",
      "[CV 3/3; 42/168] START C=1, penalty=l2, solver=saga.............................\n"
     ]
    },
    {
     "name": "stderr",
     "output_type": "stream",
     "text": [
      "/Users/angeloturri/opt/anaconda3/envs/learn-env/lib/python3.11/site-packages/sklearn/linear_model/_sag.py:350: ConvergenceWarning: The max_iter was reached which means the coef_ did not converge\n",
      "  warnings.warn(\n"
     ]
    },
    {
     "name": "stdout",
     "output_type": "stream",
     "text": [
      "[CV 3/3; 42/168] END C=1, penalty=l2, solver=saga;, score=0.649 total time=   1.6s\n",
      "[CV 1/3; 43/168] START C=1, penalty=elasticnet, solver=lbfgs....................\n",
      "[CV 1/3; 43/168] END C=1, penalty=elasticnet, solver=lbfgs;, score=nan total time=   0.0s\n",
      "[CV 2/3; 43/168] START C=1, penalty=elasticnet, solver=lbfgs....................\n",
      "[CV 2/3; 43/168] END C=1, penalty=elasticnet, solver=lbfgs;, score=nan total time=   0.0s\n",
      "[CV 3/3; 43/168] START C=1, penalty=elasticnet, solver=lbfgs....................\n",
      "[CV 3/3; 43/168] END C=1, penalty=elasticnet, solver=lbfgs;, score=nan total time=   0.0s\n",
      "[CV 1/3; 44/168] START C=1, penalty=elasticnet, solver=liblinear................\n",
      "[CV 1/3; 44/168] END C=1, penalty=elasticnet, solver=liblinear;, score=nan total time=   0.0s\n",
      "[CV 2/3; 44/168] START C=1, penalty=elasticnet, solver=liblinear................\n",
      "[CV 2/3; 44/168] END C=1, penalty=elasticnet, solver=liblinear;, score=nan total time=   0.0s\n",
      "[CV 3/3; 44/168] START C=1, penalty=elasticnet, solver=liblinear................\n",
      "[CV 3/3; 44/168] END C=1, penalty=elasticnet, solver=liblinear;, score=nan total time=   0.0s\n",
      "[CV 1/3; 45/168] START C=1, penalty=elasticnet, solver=newton-cg................\n",
      "[CV 1/3; 45/168] END C=1, penalty=elasticnet, solver=newton-cg;, score=nan total time=   0.0s\n",
      "[CV 2/3; 45/168] START C=1, penalty=elasticnet, solver=newton-cg................\n",
      "[CV 2/3; 45/168] END C=1, penalty=elasticnet, solver=newton-cg;, score=nan total time=   0.0s\n",
      "[CV 3/3; 45/168] START C=1, penalty=elasticnet, solver=newton-cg................\n",
      "[CV 3/3; 45/168] END C=1, penalty=elasticnet, solver=newton-cg;, score=nan total time=   0.0s\n",
      "[CV 1/3; 46/168] START C=1, penalty=elasticnet, solver=newton-cholesky..........\n",
      "[CV 1/3; 46/168] END C=1, penalty=elasticnet, solver=newton-cholesky;, score=nan total time=   0.0s\n",
      "[CV 2/3; 46/168] START C=1, penalty=elasticnet, solver=newton-cholesky..........\n",
      "[CV 2/3; 46/168] END C=1, penalty=elasticnet, solver=newton-cholesky;, score=nan total time=   0.0s\n",
      "[CV 3/3; 46/168] START C=1, penalty=elasticnet, solver=newton-cholesky..........\n",
      "[CV 3/3; 46/168] END C=1, penalty=elasticnet, solver=newton-cholesky;, score=nan total time=   0.0s\n",
      "[CV 1/3; 47/168] START C=1, penalty=elasticnet, solver=sag......................\n",
      "[CV 1/3; 47/168] END C=1, penalty=elasticnet, solver=sag;, score=nan total time=   0.0s\n",
      "[CV 2/3; 47/168] START C=1, penalty=elasticnet, solver=sag......................\n",
      "[CV 2/3; 47/168] END C=1, penalty=elasticnet, solver=sag;, score=nan total time=   0.0s\n",
      "[CV 3/3; 47/168] START C=1, penalty=elasticnet, solver=sag......................\n",
      "[CV 3/3; 47/168] END C=1, penalty=elasticnet, solver=sag;, score=nan total time=   0.0s\n",
      "[CV 1/3; 48/168] START C=1, penalty=elasticnet, solver=saga.....................\n",
      "[CV 1/3; 48/168] END C=1, penalty=elasticnet, solver=saga;, score=nan total time=   0.0s\n",
      "[CV 2/3; 48/168] START C=1, penalty=elasticnet, solver=saga.....................\n",
      "[CV 2/3; 48/168] END C=1, penalty=elasticnet, solver=saga;, score=nan total time=   0.0s\n",
      "[CV 3/3; 48/168] START C=1, penalty=elasticnet, solver=saga.....................\n",
      "[CV 3/3; 48/168] END C=1, penalty=elasticnet, solver=saga;, score=nan total time=   0.0s\n",
      "[CV 1/3; 49/168] START C=5, penalty=None, solver=lbfgs..........................\n",
      "[CV 1/3; 49/168] END C=5, penalty=None, solver=lbfgs;, score=nan total time=   0.0s\n",
      "[CV 2/3; 49/168] START C=5, penalty=None, solver=lbfgs..........................\n",
      "[CV 2/3; 49/168] END C=5, penalty=None, solver=lbfgs;, score=nan total time=   0.0s\n",
      "[CV 3/3; 49/168] START C=5, penalty=None, solver=lbfgs..........................\n",
      "[CV 3/3; 49/168] END C=5, penalty=None, solver=lbfgs;, score=nan total time=   0.0s\n",
      "[CV 1/3; 50/168] START C=5, penalty=None, solver=liblinear......................\n",
      "[CV 1/3; 50/168] END C=5, penalty=None, solver=liblinear;, score=nan total time=   0.0s\n",
      "[CV 2/3; 50/168] START C=5, penalty=None, solver=liblinear......................\n",
      "[CV 2/3; 50/168] END C=5, penalty=None, solver=liblinear;, score=nan total time=   0.0s\n",
      "[CV 3/3; 50/168] START C=5, penalty=None, solver=liblinear......................\n",
      "[CV 3/3; 50/168] END C=5, penalty=None, solver=liblinear;, score=nan total time=   0.0s\n",
      "[CV 1/3; 51/168] START C=5, penalty=None, solver=newton-cg......................\n",
      "[CV 1/3; 51/168] END C=5, penalty=None, solver=newton-cg;, score=nan total time=   0.0s\n",
      "[CV 2/3; 51/168] START C=5, penalty=None, solver=newton-cg......................\n",
      "[CV 2/3; 51/168] END C=5, penalty=None, solver=newton-cg;, score=nan total time=   0.0s\n",
      "[CV 3/3; 51/168] START C=5, penalty=None, solver=newton-cg......................\n",
      "[CV 3/3; 51/168] END C=5, penalty=None, solver=newton-cg;, score=nan total time=   0.0s\n",
      "[CV 1/3; 52/168] START C=5, penalty=None, solver=newton-cholesky................\n",
      "[CV 1/3; 52/168] END C=5, penalty=None, solver=newton-cholesky;, score=nan total time=   0.0s\n",
      "[CV 2/3; 52/168] START C=5, penalty=None, solver=newton-cholesky................\n",
      "[CV 2/3; 52/168] END C=5, penalty=None, solver=newton-cholesky;, score=nan total time=   0.0s\n",
      "[CV 3/3; 52/168] START C=5, penalty=None, solver=newton-cholesky................\n",
      "[CV 3/3; 52/168] END C=5, penalty=None, solver=newton-cholesky;, score=nan total time=   0.0s\n",
      "[CV 1/3; 53/168] START C=5, penalty=None, solver=sag............................\n",
      "[CV 1/3; 53/168] END C=5, penalty=None, solver=sag;, score=nan total time=   0.0s\n",
      "[CV 2/3; 53/168] START C=5, penalty=None, solver=sag............................\n",
      "[CV 2/3; 53/168] END C=5, penalty=None, solver=sag;, score=nan total time=   0.0s\n",
      "[CV 3/3; 53/168] START C=5, penalty=None, solver=sag............................\n",
      "[CV 3/3; 53/168] END C=5, penalty=None, solver=sag;, score=nan total time=   0.0s\n",
      "[CV 1/3; 54/168] START C=5, penalty=None, solver=saga...........................\n",
      "[CV 1/3; 54/168] END C=5, penalty=None, solver=saga;, score=nan total time=   0.0s\n",
      "[CV 2/3; 54/168] START C=5, penalty=None, solver=saga...........................\n",
      "[CV 2/3; 54/168] END C=5, penalty=None, solver=saga;, score=nan total time=   0.0s\n",
      "[CV 3/3; 54/168] START C=5, penalty=None, solver=saga...........................\n",
      "[CV 3/3; 54/168] END C=5, penalty=None, solver=saga;, score=nan total time=   0.0s\n",
      "[CV 1/3; 55/168] START C=5, penalty=l1, solver=lbfgs............................\n",
      "[CV 1/3; 55/168] END C=5, penalty=l1, solver=lbfgs;, score=nan total time=   0.0s\n",
      "[CV 2/3; 55/168] START C=5, penalty=l1, solver=lbfgs............................\n",
      "[CV 2/3; 55/168] END C=5, penalty=l1, solver=lbfgs;, score=nan total time=   0.0s\n",
      "[CV 3/3; 55/168] START C=5, penalty=l1, solver=lbfgs............................\n",
      "[CV 3/3; 55/168] END C=5, penalty=l1, solver=lbfgs;, score=nan total time=   0.0s\n",
      "[CV 1/3; 56/168] START C=5, penalty=l1, solver=liblinear........................\n",
      "[CV 1/3; 56/168] END C=5, penalty=l1, solver=liblinear;, score=0.668 total time=   0.7s\n",
      "[CV 2/3; 56/168] START C=5, penalty=l1, solver=liblinear........................\n",
      "[CV 2/3; 56/168] END C=5, penalty=l1, solver=liblinear;, score=0.673 total time=   0.8s\n",
      "[CV 3/3; 56/168] START C=5, penalty=l1, solver=liblinear........................\n",
      "[CV 3/3; 56/168] END C=5, penalty=l1, solver=liblinear;, score=0.658 total time=   0.8s\n",
      "[CV 1/3; 57/168] START C=5, penalty=l1, solver=newton-cg........................\n",
      "[CV 1/3; 57/168] END C=5, penalty=l1, solver=newton-cg;, score=nan total time=   0.0s\n",
      "[CV 2/3; 57/168] START C=5, penalty=l1, solver=newton-cg........................\n",
      "[CV 2/3; 57/168] END C=5, penalty=l1, solver=newton-cg;, score=nan total time=   0.0s\n",
      "[CV 3/3; 57/168] START C=5, penalty=l1, solver=newton-cg........................\n",
      "[CV 3/3; 57/168] END C=5, penalty=l1, solver=newton-cg;, score=nan total time=   0.0s\n",
      "[CV 1/3; 58/168] START C=5, penalty=l1, solver=newton-cholesky..................\n",
      "[CV 1/3; 58/168] END C=5, penalty=l1, solver=newton-cholesky;, score=nan total time=   0.0s\n",
      "[CV 2/3; 58/168] START C=5, penalty=l1, solver=newton-cholesky..................\n",
      "[CV 2/3; 58/168] END C=5, penalty=l1, solver=newton-cholesky;, score=nan total time=   0.0s\n",
      "[CV 3/3; 58/168] START C=5, penalty=l1, solver=newton-cholesky..................\n",
      "[CV 3/3; 58/168] END C=5, penalty=l1, solver=newton-cholesky;, score=nan total time=   0.0s\n",
      "[CV 1/3; 59/168] START C=5, penalty=l1, solver=sag..............................\n",
      "[CV 1/3; 59/168] END .C=5, penalty=l1, solver=sag;, score=nan total time=   0.0s\n",
      "[CV 2/3; 59/168] START C=5, penalty=l1, solver=sag..............................\n",
      "[CV 2/3; 59/168] END .C=5, penalty=l1, solver=sag;, score=nan total time=   0.0s\n",
      "[CV 3/3; 59/168] START C=5, penalty=l1, solver=sag..............................\n",
      "[CV 3/3; 59/168] END .C=5, penalty=l1, solver=sag;, score=nan total time=   0.0s\n",
      "[CV 1/3; 60/168] START C=5, penalty=l1, solver=saga.............................\n"
     ]
    },
    {
     "name": "stderr",
     "output_type": "stream",
     "text": [
      "/Users/angeloturri/opt/anaconda3/envs/learn-env/lib/python3.11/site-packages/sklearn/linear_model/_sag.py:350: ConvergenceWarning: The max_iter was reached which means the coef_ did not converge\n",
      "  warnings.warn(\n"
     ]
    },
    {
     "name": "stdout",
     "output_type": "stream",
     "text": [
      "[CV 1/3; 60/168] END C=5, penalty=l1, solver=saga;, score=0.656 total time=   2.3s\n",
      "[CV 2/3; 60/168] START C=5, penalty=l1, solver=saga.............................\n"
     ]
    },
    {
     "name": "stderr",
     "output_type": "stream",
     "text": [
      "/Users/angeloturri/opt/anaconda3/envs/learn-env/lib/python3.11/site-packages/sklearn/linear_model/_sag.py:350: ConvergenceWarning: The max_iter was reached which means the coef_ did not converge\n",
      "  warnings.warn(\n"
     ]
    },
    {
     "name": "stdout",
     "output_type": "stream",
     "text": [
      "[CV 2/3; 60/168] END C=5, penalty=l1, solver=saga;, score=0.649 total time=   2.3s\n",
      "[CV 3/3; 60/168] START C=5, penalty=l1, solver=saga.............................\n"
     ]
    },
    {
     "name": "stderr",
     "output_type": "stream",
     "text": [
      "/Users/angeloturri/opt/anaconda3/envs/learn-env/lib/python3.11/site-packages/sklearn/linear_model/_sag.py:350: ConvergenceWarning: The max_iter was reached which means the coef_ did not converge\n",
      "  warnings.warn(\n"
     ]
    },
    {
     "name": "stdout",
     "output_type": "stream",
     "text": [
      "[CV 3/3; 60/168] END C=5, penalty=l1, solver=saga;, score=0.655 total time=   2.3s\n",
      "[CV 1/3; 61/168] START C=5, penalty=l2, solver=lbfgs............................\n",
      "[CV 1/3; 61/168] END C=5, penalty=l2, solver=lbfgs;, score=0.659 total time=   0.1s\n",
      "[CV 2/3; 61/168] START C=5, penalty=l2, solver=lbfgs............................\n",
      "[CV 2/3; 61/168] END C=5, penalty=l2, solver=lbfgs;, score=0.646 total time=   0.2s\n",
      "[CV 3/3; 61/168] START C=5, penalty=l2, solver=lbfgs............................\n",
      "[CV 3/3; 61/168] END C=5, penalty=l2, solver=lbfgs;, score=0.652 total time=   0.2s\n",
      "[CV 1/3; 62/168] START C=5, penalty=l2, solver=liblinear........................\n",
      "[CV 1/3; 62/168] END C=5, penalty=l2, solver=liblinear;, score=0.659 total time=   0.3s\n",
      "[CV 2/3; 62/168] START C=5, penalty=l2, solver=liblinear........................\n",
      "[CV 2/3; 62/168] END C=5, penalty=l2, solver=liblinear;, score=0.637 total time=   0.2s\n",
      "[CV 3/3; 62/168] START C=5, penalty=l2, solver=liblinear........................\n",
      "[CV 3/3; 62/168] END C=5, penalty=l2, solver=liblinear;, score=0.640 total time=   0.2s\n",
      "[CV 1/3; 63/168] START C=5, penalty=l2, solver=newton-cg........................\n",
      "[CV 1/3; 63/168] END C=5, penalty=l2, solver=newton-cg;, score=0.659 total time=   0.2s\n",
      "[CV 2/3; 63/168] START C=5, penalty=l2, solver=newton-cg........................\n",
      "[CV 2/3; 63/168] END C=5, penalty=l2, solver=newton-cg;, score=0.646 total time=   0.2s\n",
      "[CV 3/3; 63/168] START C=5, penalty=l2, solver=newton-cg........................\n",
      "[CV 3/3; 63/168] END C=5, penalty=l2, solver=newton-cg;, score=0.652 total time=   0.2s\n",
      "[CV 1/3; 64/168] START C=5, penalty=l2, solver=newton-cholesky..................\n",
      "[CV 1/3; 64/168] END C=5, penalty=l2, solver=newton-cholesky;, score=0.662 total time=   0.1s\n",
      "[CV 2/3; 64/168] START C=5, penalty=l2, solver=newton-cholesky..................\n",
      "[CV 2/3; 64/168] END C=5, penalty=l2, solver=newton-cholesky;, score=0.664 total time=   0.1s\n",
      "[CV 3/3; 64/168] START C=5, penalty=l2, solver=newton-cholesky..................\n",
      "[CV 3/3; 64/168] END C=5, penalty=l2, solver=newton-cholesky;, score=0.643 total time=   0.1s\n",
      "[CV 1/3; 65/168] START C=5, penalty=l2, solver=sag..............................\n"
     ]
    },
    {
     "name": "stderr",
     "output_type": "stream",
     "text": [
      "/Users/angeloturri/opt/anaconda3/envs/learn-env/lib/python3.11/site-packages/sklearn/linear_model/_sag.py:350: ConvergenceWarning: The max_iter was reached which means the coef_ did not converge\n",
      "  warnings.warn(\n"
     ]
    },
    {
     "name": "stdout",
     "output_type": "stream",
     "text": [
      "[CV 1/3; 65/168] END C=5, penalty=l2, solver=sag;, score=0.641 total time=   1.5s\n",
      "[CV 2/3; 65/168] START C=5, penalty=l2, solver=sag..............................\n"
     ]
    },
    {
     "name": "stderr",
     "output_type": "stream",
     "text": [
      "/Users/angeloturri/opt/anaconda3/envs/learn-env/lib/python3.11/site-packages/sklearn/linear_model/_sag.py:350: ConvergenceWarning: The max_iter was reached which means the coef_ did not converge\n",
      "  warnings.warn(\n"
     ]
    },
    {
     "name": "stdout",
     "output_type": "stream",
     "text": [
      "[CV 2/3; 65/168] END C=5, penalty=l2, solver=sag;, score=0.634 total time=   1.4s\n",
      "[CV 3/3; 65/168] START C=5, penalty=l2, solver=sag..............................\n"
     ]
    },
    {
     "name": "stderr",
     "output_type": "stream",
     "text": [
      "/Users/angeloturri/opt/anaconda3/envs/learn-env/lib/python3.11/site-packages/sklearn/linear_model/_sag.py:350: ConvergenceWarning: The max_iter was reached which means the coef_ did not converge\n",
      "  warnings.warn(\n"
     ]
    },
    {
     "name": "stdout",
     "output_type": "stream",
     "text": [
      "[CV 3/3; 65/168] END C=5, penalty=l2, solver=sag;, score=0.646 total time=   1.4s\n",
      "[CV 1/3; 66/168] START C=5, penalty=l2, solver=saga.............................\n"
     ]
    },
    {
     "name": "stderr",
     "output_type": "stream",
     "text": [
      "/Users/angeloturri/opt/anaconda3/envs/learn-env/lib/python3.11/site-packages/sklearn/linear_model/_sag.py:350: ConvergenceWarning: The max_iter was reached which means the coef_ did not converge\n",
      "  warnings.warn(\n"
     ]
    },
    {
     "name": "stdout",
     "output_type": "stream",
     "text": [
      "[CV 1/3; 66/168] END C=5, penalty=l2, solver=saga;, score=0.647 total time=   1.6s\n",
      "[CV 2/3; 66/168] START C=5, penalty=l2, solver=saga.............................\n"
     ]
    },
    {
     "name": "stderr",
     "output_type": "stream",
     "text": [
      "/Users/angeloturri/opt/anaconda3/envs/learn-env/lib/python3.11/site-packages/sklearn/linear_model/_sag.py:350: ConvergenceWarning: The max_iter was reached which means the coef_ did not converge\n",
      "  warnings.warn(\n"
     ]
    },
    {
     "name": "stdout",
     "output_type": "stream",
     "text": [
      "[CV 2/3; 66/168] END C=5, penalty=l2, solver=saga;, score=0.631 total time=   1.6s\n",
      "[CV 3/3; 66/168] START C=5, penalty=l2, solver=saga.............................\n"
     ]
    },
    {
     "name": "stderr",
     "output_type": "stream",
     "text": [
      "/Users/angeloturri/opt/anaconda3/envs/learn-env/lib/python3.11/site-packages/sklearn/linear_model/_sag.py:350: ConvergenceWarning: The max_iter was reached which means the coef_ did not converge\n",
      "  warnings.warn(\n"
     ]
    },
    {
     "name": "stdout",
     "output_type": "stream",
     "text": [
      "[CV 3/3; 66/168] END C=5, penalty=l2, solver=saga;, score=0.643 total time=   1.6s\n",
      "[CV 1/3; 67/168] START C=5, penalty=elasticnet, solver=lbfgs....................\n",
      "[CV 1/3; 67/168] END C=5, penalty=elasticnet, solver=lbfgs;, score=nan total time=   0.0s\n",
      "[CV 2/3; 67/168] START C=5, penalty=elasticnet, solver=lbfgs....................\n",
      "[CV 2/3; 67/168] END C=5, penalty=elasticnet, solver=lbfgs;, score=nan total time=   0.0s\n",
      "[CV 3/3; 67/168] START C=5, penalty=elasticnet, solver=lbfgs....................\n",
      "[CV 3/3; 67/168] END C=5, penalty=elasticnet, solver=lbfgs;, score=nan total time=   0.0s\n",
      "[CV 1/3; 68/168] START C=5, penalty=elasticnet, solver=liblinear................\n",
      "[CV 1/3; 68/168] END C=5, penalty=elasticnet, solver=liblinear;, score=nan total time=   0.0s\n",
      "[CV 2/3; 68/168] START C=5, penalty=elasticnet, solver=liblinear................\n",
      "[CV 2/3; 68/168] END C=5, penalty=elasticnet, solver=liblinear;, score=nan total time=   0.0s\n",
      "[CV 3/3; 68/168] START C=5, penalty=elasticnet, solver=liblinear................\n",
      "[CV 3/3; 68/168] END C=5, penalty=elasticnet, solver=liblinear;, score=nan total time=   0.0s\n",
      "[CV 1/3; 69/168] START C=5, penalty=elasticnet, solver=newton-cg................\n",
      "[CV 1/3; 69/168] END C=5, penalty=elasticnet, solver=newton-cg;, score=nan total time=   0.0s\n",
      "[CV 2/3; 69/168] START C=5, penalty=elasticnet, solver=newton-cg................\n",
      "[CV 2/3; 69/168] END C=5, penalty=elasticnet, solver=newton-cg;, score=nan total time=   0.0s\n",
      "[CV 3/3; 69/168] START C=5, penalty=elasticnet, solver=newton-cg................\n",
      "[CV 3/3; 69/168] END C=5, penalty=elasticnet, solver=newton-cg;, score=nan total time=   0.0s\n",
      "[CV 1/3; 70/168] START C=5, penalty=elasticnet, solver=newton-cholesky..........\n",
      "[CV 1/3; 70/168] END C=5, penalty=elasticnet, solver=newton-cholesky;, score=nan total time=   0.0s\n",
      "[CV 2/3; 70/168] START C=5, penalty=elasticnet, solver=newton-cholesky..........\n",
      "[CV 2/3; 70/168] END C=5, penalty=elasticnet, solver=newton-cholesky;, score=nan total time=   0.0s\n",
      "[CV 3/3; 70/168] START C=5, penalty=elasticnet, solver=newton-cholesky..........\n",
      "[CV 3/3; 70/168] END C=5, penalty=elasticnet, solver=newton-cholesky;, score=nan total time=   0.0s\n",
      "[CV 1/3; 71/168] START C=5, penalty=elasticnet, solver=sag......................\n",
      "[CV 1/3; 71/168] END C=5, penalty=elasticnet, solver=sag;, score=nan total time=   0.0s\n",
      "[CV 2/3; 71/168] START C=5, penalty=elasticnet, solver=sag......................\n",
      "[CV 2/3; 71/168] END C=5, penalty=elasticnet, solver=sag;, score=nan total time=   0.0s\n",
      "[CV 3/3; 71/168] START C=5, penalty=elasticnet, solver=sag......................\n",
      "[CV 3/3; 71/168] END C=5, penalty=elasticnet, solver=sag;, score=nan total time=   0.0s\n",
      "[CV 1/3; 72/168] START C=5, penalty=elasticnet, solver=saga.....................\n",
      "[CV 1/3; 72/168] END C=5, penalty=elasticnet, solver=saga;, score=nan total time=   0.0s\n",
      "[CV 2/3; 72/168] START C=5, penalty=elasticnet, solver=saga.....................\n",
      "[CV 2/3; 72/168] END C=5, penalty=elasticnet, solver=saga;, score=nan total time=   0.0s\n",
      "[CV 3/3; 72/168] START C=5, penalty=elasticnet, solver=saga.....................\n",
      "[CV 3/3; 72/168] END C=5, penalty=elasticnet, solver=saga;, score=nan total time=   0.0s\n",
      "[CV 1/3; 73/168] START C=10, penalty=None, solver=lbfgs.........................\n",
      "[CV 1/3; 73/168] END C=10, penalty=None, solver=lbfgs;, score=nan total time=   0.0s\n",
      "[CV 2/3; 73/168] START C=10, penalty=None, solver=lbfgs.........................\n",
      "[CV 2/3; 73/168] END C=10, penalty=None, solver=lbfgs;, score=nan total time=   0.0s\n",
      "[CV 3/3; 73/168] START C=10, penalty=None, solver=lbfgs.........................\n",
      "[CV 3/3; 73/168] END C=10, penalty=None, solver=lbfgs;, score=nan total time=   0.0s\n",
      "[CV 1/3; 74/168] START C=10, penalty=None, solver=liblinear.....................\n",
      "[CV 1/3; 74/168] END C=10, penalty=None, solver=liblinear;, score=nan total time=   0.0s\n",
      "[CV 2/3; 74/168] START C=10, penalty=None, solver=liblinear.....................\n",
      "[CV 2/3; 74/168] END C=10, penalty=None, solver=liblinear;, score=nan total time=   0.0s\n",
      "[CV 3/3; 74/168] START C=10, penalty=None, solver=liblinear.....................\n",
      "[CV 3/3; 74/168] END C=10, penalty=None, solver=liblinear;, score=nan total time=   0.0s\n",
      "[CV 1/3; 75/168] START C=10, penalty=None, solver=newton-cg.....................\n",
      "[CV 1/3; 75/168] END C=10, penalty=None, solver=newton-cg;, score=nan total time=   0.0s\n",
      "[CV 2/3; 75/168] START C=10, penalty=None, solver=newton-cg.....................\n",
      "[CV 2/3; 75/168] END C=10, penalty=None, solver=newton-cg;, score=nan total time=   0.0s\n",
      "[CV 3/3; 75/168] START C=10, penalty=None, solver=newton-cg.....................\n",
      "[CV 3/3; 75/168] END C=10, penalty=None, solver=newton-cg;, score=nan total time=   0.0s\n",
      "[CV 1/3; 76/168] START C=10, penalty=None, solver=newton-cholesky...............\n",
      "[CV 1/3; 76/168] END C=10, penalty=None, solver=newton-cholesky;, score=nan total time=   0.0s\n",
      "[CV 2/3; 76/168] START C=10, penalty=None, solver=newton-cholesky...............\n",
      "[CV 2/3; 76/168] END C=10, penalty=None, solver=newton-cholesky;, score=nan total time=   0.0s\n",
      "[CV 3/3; 76/168] START C=10, penalty=None, solver=newton-cholesky...............\n",
      "[CV 3/3; 76/168] END C=10, penalty=None, solver=newton-cholesky;, score=nan total time=   0.0s\n",
      "[CV 1/3; 77/168] START C=10, penalty=None, solver=sag...........................\n",
      "[CV 1/3; 77/168] END C=10, penalty=None, solver=sag;, score=nan total time=   0.0s\n",
      "[CV 2/3; 77/168] START C=10, penalty=None, solver=sag...........................\n",
      "[CV 2/3; 77/168] END C=10, penalty=None, solver=sag;, score=nan total time=   0.0s\n",
      "[CV 3/3; 77/168] START C=10, penalty=None, solver=sag...........................\n",
      "[CV 3/3; 77/168] END C=10, penalty=None, solver=sag;, score=nan total time=   0.0s\n",
      "[CV 1/3; 78/168] START C=10, penalty=None, solver=saga..........................\n",
      "[CV 1/3; 78/168] END C=10, penalty=None, solver=saga;, score=nan total time=   0.0s\n",
      "[CV 2/3; 78/168] START C=10, penalty=None, solver=saga..........................\n",
      "[CV 2/3; 78/168] END C=10, penalty=None, solver=saga;, score=nan total time=   0.0s\n",
      "[CV 3/3; 78/168] START C=10, penalty=None, solver=saga..........................\n",
      "[CV 3/3; 78/168] END C=10, penalty=None, solver=saga;, score=nan total time=   0.0s\n",
      "[CV 1/3; 79/168] START C=10, penalty=l1, solver=lbfgs...........................\n",
      "[CV 1/3; 79/168] END C=10, penalty=l1, solver=lbfgs;, score=nan total time=   0.0s\n",
      "[CV 2/3; 79/168] START C=10, penalty=l1, solver=lbfgs...........................\n",
      "[CV 2/3; 79/168] END C=10, penalty=l1, solver=lbfgs;, score=nan total time=   0.0s\n",
      "[CV 3/3; 79/168] START C=10, penalty=l1, solver=lbfgs...........................\n",
      "[CV 3/3; 79/168] END C=10, penalty=l1, solver=lbfgs;, score=nan total time=   0.0s\n",
      "[CV 1/3; 80/168] START C=10, penalty=l1, solver=liblinear.......................\n",
      "[CV 1/3; 80/168] END C=10, penalty=l1, solver=liblinear;, score=0.668 total time=   1.0s\n",
      "[CV 2/3; 80/168] START C=10, penalty=l1, solver=liblinear.......................\n",
      "[CV 2/3; 80/168] END C=10, penalty=l1, solver=liblinear;, score=0.658 total time=   1.2s\n",
      "[CV 3/3; 80/168] START C=10, penalty=l1, solver=liblinear.......................\n",
      "[CV 3/3; 80/168] END C=10, penalty=l1, solver=liblinear;, score=0.652 total time=   1.4s\n",
      "[CV 1/3; 81/168] START C=10, penalty=l1, solver=newton-cg.......................\n",
      "[CV 1/3; 81/168] END C=10, penalty=l1, solver=newton-cg;, score=nan total time=   0.0s\n",
      "[CV 2/3; 81/168] START C=10, penalty=l1, solver=newton-cg.......................\n",
      "[CV 2/3; 81/168] END C=10, penalty=l1, solver=newton-cg;, score=nan total time=   0.0s\n",
      "[CV 3/3; 81/168] START C=10, penalty=l1, solver=newton-cg.......................\n",
      "[CV 3/3; 81/168] END C=10, penalty=l1, solver=newton-cg;, score=nan total time=   0.0s\n",
      "[CV 1/3; 82/168] START C=10, penalty=l1, solver=newton-cholesky.................\n",
      "[CV 1/3; 82/168] END C=10, penalty=l1, solver=newton-cholesky;, score=nan total time=   0.0s\n",
      "[CV 2/3; 82/168] START C=10, penalty=l1, solver=newton-cholesky.................\n",
      "[CV 2/3; 82/168] END C=10, penalty=l1, solver=newton-cholesky;, score=nan total time=   0.0s\n",
      "[CV 3/3; 82/168] START C=10, penalty=l1, solver=newton-cholesky.................\n",
      "[CV 3/3; 82/168] END C=10, penalty=l1, solver=newton-cholesky;, score=nan total time=   0.0s\n",
      "[CV 1/3; 83/168] START C=10, penalty=l1, solver=sag.............................\n",
      "[CV 1/3; 83/168] END C=10, penalty=l1, solver=sag;, score=nan total time=   0.0s\n",
      "[CV 2/3; 83/168] START C=10, penalty=l1, solver=sag.............................\n",
      "[CV 2/3; 83/168] END C=10, penalty=l1, solver=sag;, score=nan total time=   0.0s\n",
      "[CV 3/3; 83/168] START C=10, penalty=l1, solver=sag.............................\n",
      "[CV 3/3; 83/168] END C=10, penalty=l1, solver=sag;, score=nan total time=   0.0s\n",
      "[CV 1/3; 84/168] START C=10, penalty=l1, solver=saga............................\n"
     ]
    },
    {
     "name": "stderr",
     "output_type": "stream",
     "text": [
      "/Users/angeloturri/opt/anaconda3/envs/learn-env/lib/python3.11/site-packages/sklearn/linear_model/_sag.py:350: ConvergenceWarning: The max_iter was reached which means the coef_ did not converge\n",
      "  warnings.warn(\n"
     ]
    },
    {
     "name": "stdout",
     "output_type": "stream",
     "text": [
      "[CV 1/3; 84/168] END C=10, penalty=l1, solver=saga;, score=0.653 total time=   2.3s\n",
      "[CV 2/3; 84/168] START C=10, penalty=l1, solver=saga............................\n"
     ]
    },
    {
     "name": "stderr",
     "output_type": "stream",
     "text": [
      "/Users/angeloturri/opt/anaconda3/envs/learn-env/lib/python3.11/site-packages/sklearn/linear_model/_sag.py:350: ConvergenceWarning: The max_iter was reached which means the coef_ did not converge\n",
      "  warnings.warn(\n"
     ]
    },
    {
     "name": "stdout",
     "output_type": "stream",
     "text": [
      "[CV 2/3; 84/168] END C=10, penalty=l1, solver=saga;, score=0.640 total time=   2.3s\n",
      "[CV 3/3; 84/168] START C=10, penalty=l1, solver=saga............................\n"
     ]
    },
    {
     "name": "stderr",
     "output_type": "stream",
     "text": [
      "/Users/angeloturri/opt/anaconda3/envs/learn-env/lib/python3.11/site-packages/sklearn/linear_model/_sag.py:350: ConvergenceWarning: The max_iter was reached which means the coef_ did not converge\n",
      "  warnings.warn(\n"
     ]
    },
    {
     "name": "stdout",
     "output_type": "stream",
     "text": [
      "[CV 3/3; 84/168] END C=10, penalty=l1, solver=saga;, score=0.646 total time=   2.3s\n",
      "[CV 1/3; 85/168] START C=10, penalty=l2, solver=lbfgs...........................\n",
      "[CV 1/3; 85/168] END C=10, penalty=l2, solver=lbfgs;, score=0.659 total time=   0.1s\n",
      "[CV 2/3; 85/168] START C=10, penalty=l2, solver=lbfgs...........................\n",
      "[CV 2/3; 85/168] END C=10, penalty=l2, solver=lbfgs;, score=0.634 total time=   0.1s\n",
      "[CV 3/3; 85/168] START C=10, penalty=l2, solver=lbfgs...........................\n",
      "[CV 3/3; 85/168] END C=10, penalty=l2, solver=lbfgs;, score=0.649 total time=   0.1s\n",
      "[CV 1/3; 86/168] START C=10, penalty=l2, solver=liblinear.......................\n",
      "[CV 1/3; 86/168] END C=10, penalty=l2, solver=liblinear;, score=0.653 total time=   0.3s\n",
      "[CV 2/3; 86/168] START C=10, penalty=l2, solver=liblinear.......................\n",
      "[CV 2/3; 86/168] END C=10, penalty=l2, solver=liblinear;, score=0.637 total time=   0.3s\n",
      "[CV 3/3; 86/168] START C=10, penalty=l2, solver=liblinear.......................\n",
      "[CV 3/3; 86/168] END C=10, penalty=l2, solver=liblinear;, score=0.637 total time=   0.2s\n",
      "[CV 1/3; 87/168] START C=10, penalty=l2, solver=newton-cg.......................\n",
      "[CV 1/3; 87/168] END C=10, penalty=l2, solver=newton-cg;, score=0.659 total time=   0.1s\n",
      "[CV 2/3; 87/168] START C=10, penalty=l2, solver=newton-cg.......................\n",
      "[CV 2/3; 87/168] END C=10, penalty=l2, solver=newton-cg;, score=0.634 total time=   0.2s\n",
      "[CV 3/3; 87/168] START C=10, penalty=l2, solver=newton-cg.......................\n",
      "[CV 3/3; 87/168] END C=10, penalty=l2, solver=newton-cg;, score=0.649 total time=   0.1s\n",
      "[CV 1/3; 88/168] START C=10, penalty=l2, solver=newton-cholesky.................\n",
      "[CV 1/3; 88/168] END C=10, penalty=l2, solver=newton-cholesky;, score=0.659 total time=   0.1s\n",
      "[CV 2/3; 88/168] START C=10, penalty=l2, solver=newton-cholesky.................\n",
      "[CV 2/3; 88/168] END C=10, penalty=l2, solver=newton-cholesky;, score=0.661 total time=   0.1s\n",
      "[CV 3/3; 88/168] START C=10, penalty=l2, solver=newton-cholesky.................\n",
      "[CV 3/3; 88/168] END C=10, penalty=l2, solver=newton-cholesky;, score=0.640 total time=   0.1s\n",
      "[CV 1/3; 89/168] START C=10, penalty=l2, solver=sag.............................\n"
     ]
    },
    {
     "name": "stderr",
     "output_type": "stream",
     "text": [
      "/Users/angeloturri/opt/anaconda3/envs/learn-env/lib/python3.11/site-packages/sklearn/linear_model/_sag.py:350: ConvergenceWarning: The max_iter was reached which means the coef_ did not converge\n",
      "  warnings.warn(\n"
     ]
    },
    {
     "name": "stdout",
     "output_type": "stream",
     "text": [
      "[CV 1/3; 89/168] END C=10, penalty=l2, solver=sag;, score=0.638 total time=   1.4s\n",
      "[CV 2/3; 89/168] START C=10, penalty=l2, solver=sag.............................\n"
     ]
    },
    {
     "name": "stderr",
     "output_type": "stream",
     "text": [
      "/Users/angeloturri/opt/anaconda3/envs/learn-env/lib/python3.11/site-packages/sklearn/linear_model/_sag.py:350: ConvergenceWarning: The max_iter was reached which means the coef_ did not converge\n",
      "  warnings.warn(\n"
     ]
    },
    {
     "name": "stdout",
     "output_type": "stream",
     "text": [
      "[CV 2/3; 89/168] END C=10, penalty=l2, solver=sag;, score=0.622 total time=   1.4s\n",
      "[CV 3/3; 89/168] START C=10, penalty=l2, solver=sag.............................\n"
     ]
    },
    {
     "name": "stderr",
     "output_type": "stream",
     "text": [
      "/Users/angeloturri/opt/anaconda3/envs/learn-env/lib/python3.11/site-packages/sklearn/linear_model/_sag.py:350: ConvergenceWarning: The max_iter was reached which means the coef_ did not converge\n",
      "  warnings.warn(\n"
     ]
    },
    {
     "name": "stdout",
     "output_type": "stream",
     "text": [
      "[CV 3/3; 89/168] END C=10, penalty=l2, solver=sag;, score=0.643 total time=   1.4s\n",
      "[CV 1/3; 90/168] START C=10, penalty=l2, solver=saga............................\n"
     ]
    },
    {
     "name": "stderr",
     "output_type": "stream",
     "text": [
      "/Users/angeloturri/opt/anaconda3/envs/learn-env/lib/python3.11/site-packages/sklearn/linear_model/_sag.py:350: ConvergenceWarning: The max_iter was reached which means the coef_ did not converge\n",
      "  warnings.warn(\n"
     ]
    },
    {
     "name": "stdout",
     "output_type": "stream",
     "text": [
      "[CV 1/3; 90/168] END C=10, penalty=l2, solver=saga;, score=0.647 total time=   1.6s\n",
      "[CV 2/3; 90/168] START C=10, penalty=l2, solver=saga............................\n"
     ]
    },
    {
     "name": "stderr",
     "output_type": "stream",
     "text": [
      "/Users/angeloturri/opt/anaconda3/envs/learn-env/lib/python3.11/site-packages/sklearn/linear_model/_sag.py:350: ConvergenceWarning: The max_iter was reached which means the coef_ did not converge\n",
      "  warnings.warn(\n"
     ]
    },
    {
     "name": "stdout",
     "output_type": "stream",
     "text": [
      "[CV 2/3; 90/168] END C=10, penalty=l2, solver=saga;, score=0.628 total time=   1.6s\n",
      "[CV 3/3; 90/168] START C=10, penalty=l2, solver=saga............................\n"
     ]
    },
    {
     "name": "stderr",
     "output_type": "stream",
     "text": [
      "/Users/angeloturri/opt/anaconda3/envs/learn-env/lib/python3.11/site-packages/sklearn/linear_model/_sag.py:350: ConvergenceWarning: The max_iter was reached which means the coef_ did not converge\n",
      "  warnings.warn(\n"
     ]
    },
    {
     "name": "stdout",
     "output_type": "stream",
     "text": [
      "[CV 3/3; 90/168] END C=10, penalty=l2, solver=saga;, score=0.640 total time=   1.6s\n",
      "[CV 1/3; 91/168] START C=10, penalty=elasticnet, solver=lbfgs...................\n",
      "[CV 1/3; 91/168] END C=10, penalty=elasticnet, solver=lbfgs;, score=nan total time=   0.0s\n",
      "[CV 2/3; 91/168] START C=10, penalty=elasticnet, solver=lbfgs...................\n",
      "[CV 2/3; 91/168] END C=10, penalty=elasticnet, solver=lbfgs;, score=nan total time=   0.0s\n",
      "[CV 3/3; 91/168] START C=10, penalty=elasticnet, solver=lbfgs...................\n",
      "[CV 3/3; 91/168] END C=10, penalty=elasticnet, solver=lbfgs;, score=nan total time=   0.0s\n",
      "[CV 1/3; 92/168] START C=10, penalty=elasticnet, solver=liblinear...............\n",
      "[CV 1/3; 92/168] END C=10, penalty=elasticnet, solver=liblinear;, score=nan total time=   0.0s\n",
      "[CV 2/3; 92/168] START C=10, penalty=elasticnet, solver=liblinear...............\n",
      "[CV 2/3; 92/168] END C=10, penalty=elasticnet, solver=liblinear;, score=nan total time=   0.0s\n",
      "[CV 3/3; 92/168] START C=10, penalty=elasticnet, solver=liblinear...............\n",
      "[CV 3/3; 92/168] END C=10, penalty=elasticnet, solver=liblinear;, score=nan total time=   0.0s\n",
      "[CV 1/3; 93/168] START C=10, penalty=elasticnet, solver=newton-cg...............\n",
      "[CV 1/3; 93/168] END C=10, penalty=elasticnet, solver=newton-cg;, score=nan total time=   0.0s\n",
      "[CV 2/3; 93/168] START C=10, penalty=elasticnet, solver=newton-cg...............\n",
      "[CV 2/3; 93/168] END C=10, penalty=elasticnet, solver=newton-cg;, score=nan total time=   0.0s\n",
      "[CV 3/3; 93/168] START C=10, penalty=elasticnet, solver=newton-cg...............\n",
      "[CV 3/3; 93/168] END C=10, penalty=elasticnet, solver=newton-cg;, score=nan total time=   0.0s\n",
      "[CV 1/3; 94/168] START C=10, penalty=elasticnet, solver=newton-cholesky.........\n",
      "[CV 1/3; 94/168] END C=10, penalty=elasticnet, solver=newton-cholesky;, score=nan total time=   0.0s\n",
      "[CV 2/3; 94/168] START C=10, penalty=elasticnet, solver=newton-cholesky.........\n",
      "[CV 2/3; 94/168] END C=10, penalty=elasticnet, solver=newton-cholesky;, score=nan total time=   0.0s\n",
      "[CV 3/3; 94/168] START C=10, penalty=elasticnet, solver=newton-cholesky.........\n",
      "[CV 3/3; 94/168] END C=10, penalty=elasticnet, solver=newton-cholesky;, score=nan total time=   0.0s\n",
      "[CV 1/3; 95/168] START C=10, penalty=elasticnet, solver=sag.....................\n",
      "[CV 1/3; 95/168] END C=10, penalty=elasticnet, solver=sag;, score=nan total time=   0.0s\n",
      "[CV 2/3; 95/168] START C=10, penalty=elasticnet, solver=sag.....................\n",
      "[CV 2/3; 95/168] END C=10, penalty=elasticnet, solver=sag;, score=nan total time=   0.0s\n",
      "[CV 3/3; 95/168] START C=10, penalty=elasticnet, solver=sag.....................\n",
      "[CV 3/3; 95/168] END C=10, penalty=elasticnet, solver=sag;, score=nan total time=   0.0s\n",
      "[CV 1/3; 96/168] START C=10, penalty=elasticnet, solver=saga....................\n",
      "[CV 1/3; 96/168] END C=10, penalty=elasticnet, solver=saga;, score=nan total time=   0.0s\n",
      "[CV 2/3; 96/168] START C=10, penalty=elasticnet, solver=saga....................\n",
      "[CV 2/3; 96/168] END C=10, penalty=elasticnet, solver=saga;, score=nan total time=   0.0s\n",
      "[CV 3/3; 96/168] START C=10, penalty=elasticnet, solver=saga....................\n",
      "[CV 3/3; 96/168] END C=10, penalty=elasticnet, solver=saga;, score=nan total time=   0.0s\n",
      "[CV 1/3; 97/168] START C=100, penalty=None, solver=lbfgs........................\n",
      "[CV 1/3; 97/168] END C=100, penalty=None, solver=lbfgs;, score=nan total time=   0.0s\n",
      "[CV 2/3; 97/168] START C=100, penalty=None, solver=lbfgs........................\n",
      "[CV 2/3; 97/168] END C=100, penalty=None, solver=lbfgs;, score=nan total time=   0.0s\n",
      "[CV 3/3; 97/168] START C=100, penalty=None, solver=lbfgs........................\n",
      "[CV 3/3; 97/168] END C=100, penalty=None, solver=lbfgs;, score=nan total time=   0.0s\n",
      "[CV 1/3; 98/168] START C=100, penalty=None, solver=liblinear....................\n",
      "[CV 1/3; 98/168] END C=100, penalty=None, solver=liblinear;, score=nan total time=   0.0s\n",
      "[CV 2/3; 98/168] START C=100, penalty=None, solver=liblinear....................\n",
      "[CV 2/3; 98/168] END C=100, penalty=None, solver=liblinear;, score=nan total time=   0.0s\n",
      "[CV 3/3; 98/168] START C=100, penalty=None, solver=liblinear....................\n",
      "[CV 3/3; 98/168] END C=100, penalty=None, solver=liblinear;, score=nan total time=   0.0s\n",
      "[CV 1/3; 99/168] START C=100, penalty=None, solver=newton-cg....................\n",
      "[CV 1/3; 99/168] END C=100, penalty=None, solver=newton-cg;, score=nan total time=   0.0s\n",
      "[CV 2/3; 99/168] START C=100, penalty=None, solver=newton-cg....................\n",
      "[CV 2/3; 99/168] END C=100, penalty=None, solver=newton-cg;, score=nan total time=   0.0s\n",
      "[CV 3/3; 99/168] START C=100, penalty=None, solver=newton-cg....................\n",
      "[CV 3/3; 99/168] END C=100, penalty=None, solver=newton-cg;, score=nan total time=   0.0s\n",
      "[CV 1/3; 100/168] START C=100, penalty=None, solver=newton-cholesky.............\n",
      "[CV 1/3; 100/168] END C=100, penalty=None, solver=newton-cholesky;, score=nan total time=   0.0s\n",
      "[CV 2/3; 100/168] START C=100, penalty=None, solver=newton-cholesky.............\n",
      "[CV 2/3; 100/168] END C=100, penalty=None, solver=newton-cholesky;, score=nan total time=   0.0s\n",
      "[CV 3/3; 100/168] START C=100, penalty=None, solver=newton-cholesky.............\n",
      "[CV 3/3; 100/168] END C=100, penalty=None, solver=newton-cholesky;, score=nan total time=   0.0s\n",
      "[CV 1/3; 101/168] START C=100, penalty=None, solver=sag.........................\n",
      "[CV 1/3; 101/168] END C=100, penalty=None, solver=sag;, score=nan total time=   0.0s\n",
      "[CV 2/3; 101/168] START C=100, penalty=None, solver=sag.........................\n",
      "[CV 2/3; 101/168] END C=100, penalty=None, solver=sag;, score=nan total time=   0.0s\n",
      "[CV 3/3; 101/168] START C=100, penalty=None, solver=sag.........................\n",
      "[CV 3/3; 101/168] END C=100, penalty=None, solver=sag;, score=nan total time=   0.0s\n",
      "[CV 1/3; 102/168] START C=100, penalty=None, solver=saga........................\n",
      "[CV 1/3; 102/168] END C=100, penalty=None, solver=saga;, score=nan total time=   0.0s\n",
      "[CV 2/3; 102/168] START C=100, penalty=None, solver=saga........................\n",
      "[CV 2/3; 102/168] END C=100, penalty=None, solver=saga;, score=nan total time=   0.0s\n",
      "[CV 3/3; 102/168] START C=100, penalty=None, solver=saga........................\n",
      "[CV 3/3; 102/168] END C=100, penalty=None, solver=saga;, score=nan total time=   0.0s\n",
      "[CV 1/3; 103/168] START C=100, penalty=l1, solver=lbfgs.........................\n",
      "[CV 1/3; 103/168] END C=100, penalty=l1, solver=lbfgs;, score=nan total time=   0.0s\n",
      "[CV 2/3; 103/168] START C=100, penalty=l1, solver=lbfgs.........................\n",
      "[CV 2/3; 103/168] END C=100, penalty=l1, solver=lbfgs;, score=nan total time=   0.0s\n",
      "[CV 3/3; 103/168] START C=100, penalty=l1, solver=lbfgs.........................\n",
      "[CV 3/3; 103/168] END C=100, penalty=l1, solver=lbfgs;, score=nan total time=   0.0s\n",
      "[CV 1/3; 104/168] START C=100, penalty=l1, solver=liblinear.....................\n",
      "[CV 1/3; 104/168] END C=100, penalty=l1, solver=liblinear;, score=0.650 total time=   3.7s\n",
      "[CV 2/3; 104/168] START C=100, penalty=l1, solver=liblinear.....................\n",
      "[CV 2/3; 104/168] END C=100, penalty=l1, solver=liblinear;, score=0.625 total time=  45.2s\n",
      "[CV 3/3; 104/168] START C=100, penalty=l1, solver=liblinear.....................\n",
      "[CV 3/3; 104/168] END C=100, penalty=l1, solver=liblinear;, score=0.643 total time=   4.5s\n",
      "[CV 1/3; 105/168] START C=100, penalty=l1, solver=newton-cg.....................\n",
      "[CV 1/3; 105/168] END C=100, penalty=l1, solver=newton-cg;, score=nan total time=   0.0s\n",
      "[CV 2/3; 105/168] START C=100, penalty=l1, solver=newton-cg.....................\n",
      "[CV 2/3; 105/168] END C=100, penalty=l1, solver=newton-cg;, score=nan total time=   0.0s\n",
      "[CV 3/3; 105/168] START C=100, penalty=l1, solver=newton-cg.....................\n",
      "[CV 3/3; 105/168] END C=100, penalty=l1, solver=newton-cg;, score=nan total time=   0.0s\n",
      "[CV 1/3; 106/168] START C=100, penalty=l1, solver=newton-cholesky...............\n",
      "[CV 1/3; 106/168] END C=100, penalty=l1, solver=newton-cholesky;, score=nan total time=   0.0s\n",
      "[CV 2/3; 106/168] START C=100, penalty=l1, solver=newton-cholesky...............\n",
      "[CV 2/3; 106/168] END C=100, penalty=l1, solver=newton-cholesky;, score=nan total time=   0.0s\n",
      "[CV 3/3; 106/168] START C=100, penalty=l1, solver=newton-cholesky...............\n",
      "[CV 3/3; 106/168] END C=100, penalty=l1, solver=newton-cholesky;, score=nan total time=   0.0s\n",
      "[CV 1/3; 107/168] START C=100, penalty=l1, solver=sag...........................\n",
      "[CV 1/3; 107/168] END C=100, penalty=l1, solver=sag;, score=nan total time=   0.0s\n",
      "[CV 2/3; 107/168] START C=100, penalty=l1, solver=sag...........................\n",
      "[CV 2/3; 107/168] END C=100, penalty=l1, solver=sag;, score=nan total time=   0.0s\n",
      "[CV 3/3; 107/168] START C=100, penalty=l1, solver=sag...........................\n",
      "[CV 3/3; 107/168] END C=100, penalty=l1, solver=sag;, score=nan total time=   0.0s\n",
      "[CV 1/3; 108/168] START C=100, penalty=l1, solver=saga..........................\n"
     ]
    },
    {
     "name": "stderr",
     "output_type": "stream",
     "text": [
      "/Users/angeloturri/opt/anaconda3/envs/learn-env/lib/python3.11/site-packages/sklearn/linear_model/_sag.py:350: ConvergenceWarning: The max_iter was reached which means the coef_ did not converge\n",
      "  warnings.warn(\n"
     ]
    },
    {
     "name": "stdout",
     "output_type": "stream",
     "text": [
      "[CV 1/3; 108/168] END C=100, penalty=l1, solver=saga;, score=0.644 total time=   2.4s\n",
      "[CV 2/3; 108/168] START C=100, penalty=l1, solver=saga..........................\n"
     ]
    },
    {
     "name": "stderr",
     "output_type": "stream",
     "text": [
      "/Users/angeloturri/opt/anaconda3/envs/learn-env/lib/python3.11/site-packages/sklearn/linear_model/_sag.py:350: ConvergenceWarning: The max_iter was reached which means the coef_ did not converge\n",
      "  warnings.warn(\n"
     ]
    },
    {
     "name": "stdout",
     "output_type": "stream",
     "text": [
      "[CV 2/3; 108/168] END C=100, penalty=l1, solver=saga;, score=0.628 total time=   2.5s\n",
      "[CV 3/3; 108/168] START C=100, penalty=l1, solver=saga..........................\n"
     ]
    },
    {
     "name": "stderr",
     "output_type": "stream",
     "text": [
      "/Users/angeloturri/opt/anaconda3/envs/learn-env/lib/python3.11/site-packages/sklearn/linear_model/_sag.py:350: ConvergenceWarning: The max_iter was reached which means the coef_ did not converge\n",
      "  warnings.warn(\n"
     ]
    },
    {
     "name": "stdout",
     "output_type": "stream",
     "text": [
      "[CV 3/3; 108/168] END C=100, penalty=l1, solver=saga;, score=0.640 total time=   2.4s\n",
      "[CV 1/3; 109/168] START C=100, penalty=l2, solver=lbfgs.........................\n",
      "[CV 1/3; 109/168] END C=100, penalty=l2, solver=lbfgs;, score=0.644 total time=   0.3s\n",
      "[CV 2/3; 109/168] START C=100, penalty=l2, solver=lbfgs.........................\n"
     ]
    },
    {
     "name": "stderr",
     "output_type": "stream",
     "text": [
      "/Users/angeloturri/opt/anaconda3/envs/learn-env/lib/python3.11/site-packages/sklearn/linear_model/_logistic.py:458: ConvergenceWarning: lbfgs failed to converge (status=1):\n",
      "STOP: TOTAL NO. of ITERATIONS REACHED LIMIT.\n",
      "\n",
      "Increase the number of iterations (max_iter) or scale the data as shown in:\n",
      "    https://scikit-learn.org/stable/modules/preprocessing.html\n",
      "Please also refer to the documentation for alternative solver options:\n",
      "    https://scikit-learn.org/stable/modules/linear_model.html#logistic-regression\n",
      "  n_iter_i = _check_optimize_result(\n"
     ]
    },
    {
     "name": "stdout",
     "output_type": "stream",
     "text": [
      "[CV 2/3; 109/168] END C=100, penalty=l2, solver=lbfgs;, score=0.625 total time=   0.3s\n",
      "[CV 3/3; 109/168] START C=100, penalty=l2, solver=lbfgs.........................\n"
     ]
    },
    {
     "name": "stderr",
     "output_type": "stream",
     "text": [
      "/Users/angeloturri/opt/anaconda3/envs/learn-env/lib/python3.11/site-packages/sklearn/linear_model/_logistic.py:458: ConvergenceWarning: lbfgs failed to converge (status=1):\n",
      "STOP: TOTAL NO. of ITERATIONS REACHED LIMIT.\n",
      "\n",
      "Increase the number of iterations (max_iter) or scale the data as shown in:\n",
      "    https://scikit-learn.org/stable/modules/preprocessing.html\n",
      "Please also refer to the documentation for alternative solver options:\n",
      "    https://scikit-learn.org/stable/modules/linear_model.html#logistic-regression\n",
      "  n_iter_i = _check_optimize_result(\n"
     ]
    },
    {
     "name": "stdout",
     "output_type": "stream",
     "text": [
      "[CV 3/3; 109/168] END C=100, penalty=l2, solver=lbfgs;, score=0.640 total time=   0.3s\n",
      "[CV 1/3; 110/168] START C=100, penalty=l2, solver=liblinear.....................\n",
      "[CV 1/3; 110/168] END C=100, penalty=l2, solver=liblinear;, score=0.644 total time=   0.4s\n",
      "[CV 2/3; 110/168] START C=100, penalty=l2, solver=liblinear.....................\n",
      "[CV 2/3; 110/168] END C=100, penalty=l2, solver=liblinear;, score=0.631 total time=   0.6s\n",
      "[CV 3/3; 110/168] START C=100, penalty=l2, solver=liblinear.....................\n",
      "[CV 3/3; 110/168] END C=100, penalty=l2, solver=liblinear;, score=0.637 total time=   0.3s\n",
      "[CV 1/3; 111/168] START C=100, penalty=l2, solver=newton-cg.....................\n",
      "[CV 1/3; 111/168] END C=100, penalty=l2, solver=newton-cg;, score=0.647 total time=   0.3s\n",
      "[CV 2/3; 111/168] START C=100, penalty=l2, solver=newton-cg.....................\n",
      "[CV 2/3; 111/168] END C=100, penalty=l2, solver=newton-cg;, score=0.619 total time=   0.5s\n",
      "[CV 3/3; 111/168] START C=100, penalty=l2, solver=newton-cg.....................\n",
      "[CV 3/3; 111/168] END C=100, penalty=l2, solver=newton-cg;, score=0.640 total time=   0.7s\n",
      "[CV 1/3; 112/168] START C=100, penalty=l2, solver=newton-cholesky...............\n",
      "[CV 1/3; 112/168] END C=100, penalty=l2, solver=newton-cholesky;, score=0.647 total time=   0.1s\n",
      "[CV 2/3; 112/168] START C=100, penalty=l2, solver=newton-cholesky...............\n",
      "[CV 2/3; 112/168] END C=100, penalty=l2, solver=newton-cholesky;, score=0.646 total time=   0.1s\n",
      "[CV 3/3; 112/168] START C=100, penalty=l2, solver=newton-cholesky...............\n",
      "[CV 3/3; 112/168] END C=100, penalty=l2, solver=newton-cholesky;, score=0.646 total time=   0.1s\n",
      "[CV 1/3; 113/168] START C=100, penalty=l2, solver=sag...........................\n"
     ]
    },
    {
     "name": "stderr",
     "output_type": "stream",
     "text": [
      "/Users/angeloturri/opt/anaconda3/envs/learn-env/lib/python3.11/site-packages/sklearn/linear_model/_sag.py:350: ConvergenceWarning: The max_iter was reached which means the coef_ did not converge\n",
      "  warnings.warn(\n"
     ]
    },
    {
     "name": "stdout",
     "output_type": "stream",
     "text": [
      "[CV 1/3; 113/168] END C=100, penalty=l2, solver=sag;, score=0.635 total time=   1.5s\n",
      "[CV 2/3; 113/168] START C=100, penalty=l2, solver=sag...........................\n"
     ]
    },
    {
     "name": "stderr",
     "output_type": "stream",
     "text": [
      "/Users/angeloturri/opt/anaconda3/envs/learn-env/lib/python3.11/site-packages/sklearn/linear_model/_sag.py:350: ConvergenceWarning: The max_iter was reached which means the coef_ did not converge\n",
      "  warnings.warn(\n"
     ]
    },
    {
     "name": "stdout",
     "output_type": "stream",
     "text": [
      "[CV 2/3; 113/168] END C=100, penalty=l2, solver=sag;, score=0.622 total time=   1.4s\n",
      "[CV 3/3; 113/168] START C=100, penalty=l2, solver=sag...........................\n"
     ]
    },
    {
     "name": "stderr",
     "output_type": "stream",
     "text": [
      "/Users/angeloturri/opt/anaconda3/envs/learn-env/lib/python3.11/site-packages/sklearn/linear_model/_sag.py:350: ConvergenceWarning: The max_iter was reached which means the coef_ did not converge\n",
      "  warnings.warn(\n"
     ]
    },
    {
     "name": "stdout",
     "output_type": "stream",
     "text": [
      "[CV 3/3; 113/168] END C=100, penalty=l2, solver=sag;, score=0.643 total time=   1.4s\n",
      "[CV 1/3; 114/168] START C=100, penalty=l2, solver=saga..........................\n"
     ]
    },
    {
     "name": "stderr",
     "output_type": "stream",
     "text": [
      "/Users/angeloturri/opt/anaconda3/envs/learn-env/lib/python3.11/site-packages/sklearn/linear_model/_sag.py:350: ConvergenceWarning: The max_iter was reached which means the coef_ did not converge\n",
      "  warnings.warn(\n"
     ]
    },
    {
     "name": "stdout",
     "output_type": "stream",
     "text": [
      "[CV 1/3; 114/168] END C=100, penalty=l2, solver=saga;, score=0.644 total time=   1.6s\n",
      "[CV 2/3; 114/168] START C=100, penalty=l2, solver=saga..........................\n"
     ]
    },
    {
     "name": "stderr",
     "output_type": "stream",
     "text": [
      "/Users/angeloturri/opt/anaconda3/envs/learn-env/lib/python3.11/site-packages/sklearn/linear_model/_sag.py:350: ConvergenceWarning: The max_iter was reached which means the coef_ did not converge\n",
      "  warnings.warn(\n"
     ]
    },
    {
     "name": "stdout",
     "output_type": "stream",
     "text": [
      "[CV 2/3; 114/168] END C=100, penalty=l2, solver=saga;, score=0.628 total time=   1.6s\n",
      "[CV 3/3; 114/168] START C=100, penalty=l2, solver=saga..........................\n"
     ]
    },
    {
     "name": "stderr",
     "output_type": "stream",
     "text": [
      "/Users/angeloturri/opt/anaconda3/envs/learn-env/lib/python3.11/site-packages/sklearn/linear_model/_sag.py:350: ConvergenceWarning: The max_iter was reached which means the coef_ did not converge\n",
      "  warnings.warn(\n"
     ]
    },
    {
     "name": "stdout",
     "output_type": "stream",
     "text": [
      "[CV 3/3; 114/168] END C=100, penalty=l2, solver=saga;, score=0.640 total time=   1.6s\n",
      "[CV 1/3; 115/168] START C=100, penalty=elasticnet, solver=lbfgs.................\n",
      "[CV 1/3; 115/168] END C=100, penalty=elasticnet, solver=lbfgs;, score=nan total time=   0.0s\n",
      "[CV 2/3; 115/168] START C=100, penalty=elasticnet, solver=lbfgs.................\n",
      "[CV 2/3; 115/168] END C=100, penalty=elasticnet, solver=lbfgs;, score=nan total time=   0.0s\n",
      "[CV 3/3; 115/168] START C=100, penalty=elasticnet, solver=lbfgs.................\n",
      "[CV 3/3; 115/168] END C=100, penalty=elasticnet, solver=lbfgs;, score=nan total time=   0.0s\n",
      "[CV 1/3; 116/168] START C=100, penalty=elasticnet, solver=liblinear.............\n",
      "[CV 1/3; 116/168] END C=100, penalty=elasticnet, solver=liblinear;, score=nan total time=   0.0s\n",
      "[CV 2/3; 116/168] START C=100, penalty=elasticnet, solver=liblinear.............\n",
      "[CV 2/3; 116/168] END C=100, penalty=elasticnet, solver=liblinear;, score=nan total time=   0.0s\n",
      "[CV 3/3; 116/168] START C=100, penalty=elasticnet, solver=liblinear.............\n",
      "[CV 3/3; 116/168] END C=100, penalty=elasticnet, solver=liblinear;, score=nan total time=   0.0s\n",
      "[CV 1/3; 117/168] START C=100, penalty=elasticnet, solver=newton-cg.............\n",
      "[CV 1/3; 117/168] END C=100, penalty=elasticnet, solver=newton-cg;, score=nan total time=   0.0s\n",
      "[CV 2/3; 117/168] START C=100, penalty=elasticnet, solver=newton-cg.............\n",
      "[CV 2/3; 117/168] END C=100, penalty=elasticnet, solver=newton-cg;, score=nan total time=   0.0s\n",
      "[CV 3/3; 117/168] START C=100, penalty=elasticnet, solver=newton-cg.............\n",
      "[CV 3/3; 117/168] END C=100, penalty=elasticnet, solver=newton-cg;, score=nan total time=   0.0s\n",
      "[CV 1/3; 118/168] START C=100, penalty=elasticnet, solver=newton-cholesky.......\n",
      "[CV 1/3; 118/168] END C=100, penalty=elasticnet, solver=newton-cholesky;, score=nan total time=   0.0s\n",
      "[CV 2/3; 118/168] START C=100, penalty=elasticnet, solver=newton-cholesky.......\n",
      "[CV 2/3; 118/168] END C=100, penalty=elasticnet, solver=newton-cholesky;, score=nan total time=   0.0s\n",
      "[CV 3/3; 118/168] START C=100, penalty=elasticnet, solver=newton-cholesky.......\n",
      "[CV 3/3; 118/168] END C=100, penalty=elasticnet, solver=newton-cholesky;, score=nan total time=   0.0s\n",
      "[CV 1/3; 119/168] START C=100, penalty=elasticnet, solver=sag...................\n",
      "[CV 1/3; 119/168] END C=100, penalty=elasticnet, solver=sag;, score=nan total time=   0.0s\n",
      "[CV 2/3; 119/168] START C=100, penalty=elasticnet, solver=sag...................\n",
      "[CV 2/3; 119/168] END C=100, penalty=elasticnet, solver=sag;, score=nan total time=   0.0s\n",
      "[CV 3/3; 119/168] START C=100, penalty=elasticnet, solver=sag...................\n",
      "[CV 3/3; 119/168] END C=100, penalty=elasticnet, solver=sag;, score=nan total time=   0.0s\n",
      "[CV 1/3; 120/168] START C=100, penalty=elasticnet, solver=saga..................\n",
      "[CV 1/3; 120/168] END C=100, penalty=elasticnet, solver=saga;, score=nan total time=   0.0s\n",
      "[CV 2/3; 120/168] START C=100, penalty=elasticnet, solver=saga..................\n",
      "[CV 2/3; 120/168] END C=100, penalty=elasticnet, solver=saga;, score=nan total time=   0.0s\n",
      "[CV 3/3; 120/168] START C=100, penalty=elasticnet, solver=saga..................\n",
      "[CV 3/3; 120/168] END C=100, penalty=elasticnet, solver=saga;, score=nan total time=   0.0s\n",
      "[CV 1/3; 121/168] START C=1000, penalty=None, solver=lbfgs......................\n",
      "[CV 1/3; 121/168] END C=1000, penalty=None, solver=lbfgs;, score=nan total time=   0.0s\n",
      "[CV 2/3; 121/168] START C=1000, penalty=None, solver=lbfgs......................\n",
      "[CV 2/3; 121/168] END C=1000, penalty=None, solver=lbfgs;, score=nan total time=   0.0s\n",
      "[CV 3/3; 121/168] START C=1000, penalty=None, solver=lbfgs......................\n",
      "[CV 3/3; 121/168] END C=1000, penalty=None, solver=lbfgs;, score=nan total time=   0.0s\n",
      "[CV 1/3; 122/168] START C=1000, penalty=None, solver=liblinear..................\n",
      "[CV 1/3; 122/168] END C=1000, penalty=None, solver=liblinear;, score=nan total time=   0.0s\n",
      "[CV 2/3; 122/168] START C=1000, penalty=None, solver=liblinear..................\n",
      "[CV 2/3; 122/168] END C=1000, penalty=None, solver=liblinear;, score=nan total time=   0.0s\n",
      "[CV 3/3; 122/168] START C=1000, penalty=None, solver=liblinear..................\n",
      "[CV 3/3; 122/168] END C=1000, penalty=None, solver=liblinear;, score=nan total time=   0.0s\n",
      "[CV 1/3; 123/168] START C=1000, penalty=None, solver=newton-cg..................\n",
      "[CV 1/3; 123/168] END C=1000, penalty=None, solver=newton-cg;, score=nan total time=   0.0s\n",
      "[CV 2/3; 123/168] START C=1000, penalty=None, solver=newton-cg..................\n",
      "[CV 2/3; 123/168] END C=1000, penalty=None, solver=newton-cg;, score=nan total time=   0.0s\n",
      "[CV 3/3; 123/168] START C=1000, penalty=None, solver=newton-cg..................\n",
      "[CV 3/3; 123/168] END C=1000, penalty=None, solver=newton-cg;, score=nan total time=   0.0s\n",
      "[CV 1/3; 124/168] START C=1000, penalty=None, solver=newton-cholesky............\n",
      "[CV 1/3; 124/168] END C=1000, penalty=None, solver=newton-cholesky;, score=nan total time=   0.0s\n",
      "[CV 2/3; 124/168] START C=1000, penalty=None, solver=newton-cholesky............\n",
      "[CV 2/3; 124/168] END C=1000, penalty=None, solver=newton-cholesky;, score=nan total time=   0.0s\n",
      "[CV 3/3; 124/168] START C=1000, penalty=None, solver=newton-cholesky............\n",
      "[CV 3/3; 124/168] END C=1000, penalty=None, solver=newton-cholesky;, score=nan total time=   0.0s\n",
      "[CV 1/3; 125/168] START C=1000, penalty=None, solver=sag........................\n",
      "[CV 1/3; 125/168] END C=1000, penalty=None, solver=sag;, score=nan total time=   0.0s\n",
      "[CV 2/3; 125/168] START C=1000, penalty=None, solver=sag........................\n",
      "[CV 2/3; 125/168] END C=1000, penalty=None, solver=sag;, score=nan total time=   0.0s\n",
      "[CV 3/3; 125/168] START C=1000, penalty=None, solver=sag........................\n",
      "[CV 3/3; 125/168] END C=1000, penalty=None, solver=sag;, score=nan total time=   0.0s\n",
      "[CV 1/3; 126/168] START C=1000, penalty=None, solver=saga.......................\n",
      "[CV 1/3; 126/168] END C=1000, penalty=None, solver=saga;, score=nan total time=   0.0s\n",
      "[CV 2/3; 126/168] START C=1000, penalty=None, solver=saga.......................\n",
      "[CV 2/3; 126/168] END C=1000, penalty=None, solver=saga;, score=nan total time=   0.0s\n",
      "[CV 3/3; 126/168] START C=1000, penalty=None, solver=saga.......................\n",
      "[CV 3/3; 126/168] END C=1000, penalty=None, solver=saga;, score=nan total time=   0.0s\n",
      "[CV 1/3; 127/168] START C=1000, penalty=l1, solver=lbfgs........................\n",
      "[CV 1/3; 127/168] END C=1000, penalty=l1, solver=lbfgs;, score=nan total time=   0.0s\n",
      "[CV 2/3; 127/168] START C=1000, penalty=l1, solver=lbfgs........................\n",
      "[CV 2/3; 127/168] END C=1000, penalty=l1, solver=lbfgs;, score=nan total time=   0.0s\n",
      "[CV 3/3; 127/168] START C=1000, penalty=l1, solver=lbfgs........................\n",
      "[CV 3/3; 127/168] END C=1000, penalty=l1, solver=lbfgs;, score=nan total time=   0.0s\n",
      "[CV 1/3; 128/168] START C=1000, penalty=l1, solver=liblinear....................\n",
      "[CV 1/3; 128/168] END C=1000, penalty=l1, solver=liblinear;, score=0.650 total time=   9.8s\n",
      "[CV 2/3; 128/168] START C=1000, penalty=l1, solver=liblinear....................\n",
      "[CV 2/3; 128/168] END C=1000, penalty=l1, solver=liblinear;, score=0.628 total time=  39.1s\n",
      "[CV 3/3; 128/168] START C=1000, penalty=l1, solver=liblinear....................\n",
      "[CV 3/3; 128/168] END C=1000, penalty=l1, solver=liblinear;, score=0.631 total time=   9.4s\n",
      "[CV 1/3; 129/168] START C=1000, penalty=l1, solver=newton-cg....................\n",
      "[CV 1/3; 129/168] END C=1000, penalty=l1, solver=newton-cg;, score=nan total time=   0.0s\n",
      "[CV 2/3; 129/168] START C=1000, penalty=l1, solver=newton-cg....................\n",
      "[CV 2/3; 129/168] END C=1000, penalty=l1, solver=newton-cg;, score=nan total time=   0.0s\n",
      "[CV 3/3; 129/168] START C=1000, penalty=l1, solver=newton-cg....................\n",
      "[CV 3/3; 129/168] END C=1000, penalty=l1, solver=newton-cg;, score=nan total time=   0.0s\n",
      "[CV 1/3; 130/168] START C=1000, penalty=l1, solver=newton-cholesky..............\n",
      "[CV 1/3; 130/168] END C=1000, penalty=l1, solver=newton-cholesky;, score=nan total time=   0.0s\n",
      "[CV 2/3; 130/168] START C=1000, penalty=l1, solver=newton-cholesky..............\n",
      "[CV 2/3; 130/168] END C=1000, penalty=l1, solver=newton-cholesky;, score=nan total time=   0.0s\n",
      "[CV 3/3; 130/168] START C=1000, penalty=l1, solver=newton-cholesky..............\n",
      "[CV 3/3; 130/168] END C=1000, penalty=l1, solver=newton-cholesky;, score=nan total time=   0.0s\n",
      "[CV 1/3; 131/168] START C=1000, penalty=l1, solver=sag..........................\n",
      "[CV 1/3; 131/168] END C=1000, penalty=l1, solver=sag;, score=nan total time=   0.0s\n",
      "[CV 2/3; 131/168] START C=1000, penalty=l1, solver=sag..........................\n",
      "[CV 2/3; 131/168] END C=1000, penalty=l1, solver=sag;, score=nan total time=   0.0s\n",
      "[CV 3/3; 131/168] START C=1000, penalty=l1, solver=sag..........................\n",
      "[CV 3/3; 131/168] END C=1000, penalty=l1, solver=sag;, score=nan total time=   0.0s\n",
      "[CV 1/3; 132/168] START C=1000, penalty=l1, solver=saga.........................\n"
     ]
    },
    {
     "name": "stderr",
     "output_type": "stream",
     "text": [
      "/Users/angeloturri/opt/anaconda3/envs/learn-env/lib/python3.11/site-packages/sklearn/linear_model/_sag.py:350: ConvergenceWarning: The max_iter was reached which means the coef_ did not converge\n",
      "  warnings.warn(\n"
     ]
    },
    {
     "name": "stdout",
     "output_type": "stream",
     "text": [
      "[CV 1/3; 132/168] END C=1000, penalty=l1, solver=saga;, score=0.644 total time=   2.3s\n",
      "[CV 2/3; 132/168] START C=1000, penalty=l1, solver=saga.........................\n"
     ]
    },
    {
     "name": "stderr",
     "output_type": "stream",
     "text": [
      "/Users/angeloturri/opt/anaconda3/envs/learn-env/lib/python3.11/site-packages/sklearn/linear_model/_sag.py:350: ConvergenceWarning: The max_iter was reached which means the coef_ did not converge\n",
      "  warnings.warn(\n"
     ]
    },
    {
     "name": "stdout",
     "output_type": "stream",
     "text": [
      "[CV 2/3; 132/168] END C=1000, penalty=l1, solver=saga;, score=0.628 total time=   2.3s\n",
      "[CV 3/3; 132/168] START C=1000, penalty=l1, solver=saga.........................\n"
     ]
    },
    {
     "name": "stderr",
     "output_type": "stream",
     "text": [
      "/Users/angeloturri/opt/anaconda3/envs/learn-env/lib/python3.11/site-packages/sklearn/linear_model/_sag.py:350: ConvergenceWarning: The max_iter was reached which means the coef_ did not converge\n",
      "  warnings.warn(\n"
     ]
    },
    {
     "name": "stdout",
     "output_type": "stream",
     "text": [
      "[CV 3/3; 132/168] END C=1000, penalty=l1, solver=saga;, score=0.640 total time=   2.2s\n",
      "[CV 1/3; 133/168] START C=1000, penalty=l2, solver=lbfgs........................\n"
     ]
    },
    {
     "name": "stderr",
     "output_type": "stream",
     "text": [
      "/Users/angeloturri/opt/anaconda3/envs/learn-env/lib/python3.11/site-packages/sklearn/linear_model/_logistic.py:458: ConvergenceWarning: lbfgs failed to converge (status=1):\n",
      "STOP: TOTAL NO. of ITERATIONS REACHED LIMIT.\n",
      "\n",
      "Increase the number of iterations (max_iter) or scale the data as shown in:\n",
      "    https://scikit-learn.org/stable/modules/preprocessing.html\n",
      "Please also refer to the documentation for alternative solver options:\n",
      "    https://scikit-learn.org/stable/modules/linear_model.html#logistic-regression\n",
      "  n_iter_i = _check_optimize_result(\n"
     ]
    },
    {
     "name": "stdout",
     "output_type": "stream",
     "text": [
      "[CV 1/3; 133/168] END C=1000, penalty=l2, solver=lbfgs;, score=0.644 total time=   0.4s\n",
      "[CV 2/3; 133/168] START C=1000, penalty=l2, solver=lbfgs........................\n"
     ]
    },
    {
     "name": "stderr",
     "output_type": "stream",
     "text": [
      "/Users/angeloturri/opt/anaconda3/envs/learn-env/lib/python3.11/site-packages/sklearn/linear_model/_logistic.py:458: ConvergenceWarning: lbfgs failed to converge (status=1):\n",
      "STOP: TOTAL NO. of ITERATIONS REACHED LIMIT.\n",
      "\n",
      "Increase the number of iterations (max_iter) or scale the data as shown in:\n",
      "    https://scikit-learn.org/stable/modules/preprocessing.html\n",
      "Please also refer to the documentation for alternative solver options:\n",
      "    https://scikit-learn.org/stable/modules/linear_model.html#logistic-regression\n",
      "  n_iter_i = _check_optimize_result(\n"
     ]
    },
    {
     "name": "stdout",
     "output_type": "stream",
     "text": [
      "[CV 2/3; 133/168] END C=1000, penalty=l2, solver=lbfgs;, score=0.628 total time=   0.4s\n",
      "[CV 3/3; 133/168] START C=1000, penalty=l2, solver=lbfgs........................\n"
     ]
    },
    {
     "name": "stderr",
     "output_type": "stream",
     "text": [
      "/Users/angeloturri/opt/anaconda3/envs/learn-env/lib/python3.11/site-packages/sklearn/linear_model/_logistic.py:458: ConvergenceWarning: lbfgs failed to converge (status=1):\n",
      "STOP: TOTAL NO. of ITERATIONS REACHED LIMIT.\n",
      "\n",
      "Increase the number of iterations (max_iter) or scale the data as shown in:\n",
      "    https://scikit-learn.org/stable/modules/preprocessing.html\n",
      "Please also refer to the documentation for alternative solver options:\n",
      "    https://scikit-learn.org/stable/modules/linear_model.html#logistic-regression\n",
      "  n_iter_i = _check_optimize_result(\n"
     ]
    },
    {
     "name": "stdout",
     "output_type": "stream",
     "text": [
      "[CV 3/3; 133/168] END C=1000, penalty=l2, solver=lbfgs;, score=0.640 total time=   0.5s\n",
      "[CV 1/3; 134/168] START C=1000, penalty=l2, solver=liblinear....................\n",
      "[CV 1/3; 134/168] END C=1000, penalty=l2, solver=liblinear;, score=0.644 total time=   0.6s\n",
      "[CV 2/3; 134/168] START C=1000, penalty=l2, solver=liblinear....................\n",
      "[CV 2/3; 134/168] END C=1000, penalty=l2, solver=liblinear;, score=0.607 total time=   1.3s\n",
      "[CV 3/3; 134/168] START C=1000, penalty=l2, solver=liblinear....................\n",
      "[CV 3/3; 134/168] END C=1000, penalty=l2, solver=liblinear;, score=0.622 total time=   0.5s\n",
      "[CV 1/3; 135/168] START C=1000, penalty=l2, solver=newton-cg....................\n",
      "[CV 1/3; 135/168] END C=1000, penalty=l2, solver=newton-cg;, score=0.644 total time=   1.2s\n",
      "[CV 2/3; 135/168] START C=1000, penalty=l2, solver=newton-cg....................\n",
      "[CV 2/3; 135/168] END C=1000, penalty=l2, solver=newton-cg;, score=0.619 total time=   2.1s\n",
      "[CV 3/3; 135/168] START C=1000, penalty=l2, solver=newton-cg....................\n",
      "[CV 3/3; 135/168] END C=1000, penalty=l2, solver=newton-cg;, score=0.634 total time=   2.0s\n",
      "[CV 1/3; 136/168] START C=1000, penalty=l2, solver=newton-cholesky..............\n",
      "[CV 1/3; 136/168] END C=1000, penalty=l2, solver=newton-cholesky;, score=0.638 total time=   0.1s\n",
      "[CV 2/3; 136/168] START C=1000, penalty=l2, solver=newton-cholesky..............\n",
      "[CV 2/3; 136/168] END C=1000, penalty=l2, solver=newton-cholesky;, score=0.619 total time=   0.1s\n",
      "[CV 3/3; 136/168] START C=1000, penalty=l2, solver=newton-cholesky..............\n",
      "[CV 3/3; 136/168] END C=1000, penalty=l2, solver=newton-cholesky;, score=0.637 total time=   0.1s\n",
      "[CV 1/3; 137/168] START C=1000, penalty=l2, solver=sag..........................\n"
     ]
    },
    {
     "name": "stderr",
     "output_type": "stream",
     "text": [
      "/Users/angeloturri/opt/anaconda3/envs/learn-env/lib/python3.11/site-packages/sklearn/linear_model/_sag.py:350: ConvergenceWarning: The max_iter was reached which means the coef_ did not converge\n",
      "  warnings.warn(\n"
     ]
    },
    {
     "name": "stdout",
     "output_type": "stream",
     "text": [
      "[CV 1/3; 137/168] END C=1000, penalty=l2, solver=sag;, score=0.635 total time=   1.5s\n",
      "[CV 2/3; 137/168] START C=1000, penalty=l2, solver=sag..........................\n"
     ]
    },
    {
     "name": "stderr",
     "output_type": "stream",
     "text": [
      "/Users/angeloturri/opt/anaconda3/envs/learn-env/lib/python3.11/site-packages/sklearn/linear_model/_sag.py:350: ConvergenceWarning: The max_iter was reached which means the coef_ did not converge\n",
      "  warnings.warn(\n"
     ]
    },
    {
     "name": "stdout",
     "output_type": "stream",
     "text": [
      "[CV 2/3; 137/168] END C=1000, penalty=l2, solver=sag;, score=0.622 total time=   1.4s\n",
      "[CV 3/3; 137/168] START C=1000, penalty=l2, solver=sag..........................\n"
     ]
    },
    {
     "name": "stderr",
     "output_type": "stream",
     "text": [
      "/Users/angeloturri/opt/anaconda3/envs/learn-env/lib/python3.11/site-packages/sklearn/linear_model/_sag.py:350: ConvergenceWarning: The max_iter was reached which means the coef_ did not converge\n",
      "  warnings.warn(\n"
     ]
    },
    {
     "name": "stdout",
     "output_type": "stream",
     "text": [
      "[CV 3/3; 137/168] END C=1000, penalty=l2, solver=sag;, score=0.640 total time=   1.4s\n",
      "[CV 1/3; 138/168] START C=1000, penalty=l2, solver=saga.........................\n"
     ]
    },
    {
     "name": "stderr",
     "output_type": "stream",
     "text": [
      "/Users/angeloturri/opt/anaconda3/envs/learn-env/lib/python3.11/site-packages/sklearn/linear_model/_sag.py:350: ConvergenceWarning: The max_iter was reached which means the coef_ did not converge\n",
      "  warnings.warn(\n"
     ]
    },
    {
     "name": "stdout",
     "output_type": "stream",
     "text": [
      "[CV 1/3; 138/168] END C=1000, penalty=l2, solver=saga;, score=0.644 total time=   1.6s\n",
      "[CV 2/3; 138/168] START C=1000, penalty=l2, solver=saga.........................\n"
     ]
    },
    {
     "name": "stderr",
     "output_type": "stream",
     "text": [
      "/Users/angeloturri/opt/anaconda3/envs/learn-env/lib/python3.11/site-packages/sklearn/linear_model/_sag.py:350: ConvergenceWarning: The max_iter was reached which means the coef_ did not converge\n",
      "  warnings.warn(\n"
     ]
    },
    {
     "name": "stdout",
     "output_type": "stream",
     "text": [
      "[CV 2/3; 138/168] END C=1000, penalty=l2, solver=saga;, score=0.628 total time=   1.6s\n",
      "[CV 3/3; 138/168] START C=1000, penalty=l2, solver=saga.........................\n"
     ]
    },
    {
     "name": "stderr",
     "output_type": "stream",
     "text": [
      "/Users/angeloturri/opt/anaconda3/envs/learn-env/lib/python3.11/site-packages/sklearn/linear_model/_sag.py:350: ConvergenceWarning: The max_iter was reached which means the coef_ did not converge\n",
      "  warnings.warn(\n"
     ]
    },
    {
     "name": "stdout",
     "output_type": "stream",
     "text": [
      "[CV 3/3; 138/168] END C=1000, penalty=l2, solver=saga;, score=0.640 total time=   1.6s\n",
      "[CV 1/3; 139/168] START C=1000, penalty=elasticnet, solver=lbfgs................\n",
      "[CV 1/3; 139/168] END C=1000, penalty=elasticnet, solver=lbfgs;, score=nan total time=   0.0s\n",
      "[CV 2/3; 139/168] START C=1000, penalty=elasticnet, solver=lbfgs................\n",
      "[CV 2/3; 139/168] END C=1000, penalty=elasticnet, solver=lbfgs;, score=nan total time=   0.0s\n",
      "[CV 3/3; 139/168] START C=1000, penalty=elasticnet, solver=lbfgs................\n",
      "[CV 3/3; 139/168] END C=1000, penalty=elasticnet, solver=lbfgs;, score=nan total time=   0.0s\n",
      "[CV 1/3; 140/168] START C=1000, penalty=elasticnet, solver=liblinear............\n",
      "[CV 1/3; 140/168] END C=1000, penalty=elasticnet, solver=liblinear;, score=nan total time=   0.0s\n",
      "[CV 2/3; 140/168] START C=1000, penalty=elasticnet, solver=liblinear............\n",
      "[CV 2/3; 140/168] END C=1000, penalty=elasticnet, solver=liblinear;, score=nan total time=   0.0s\n",
      "[CV 3/3; 140/168] START C=1000, penalty=elasticnet, solver=liblinear............\n",
      "[CV 3/3; 140/168] END C=1000, penalty=elasticnet, solver=liblinear;, score=nan total time=   0.0s\n",
      "[CV 1/3; 141/168] START C=1000, penalty=elasticnet, solver=newton-cg............\n",
      "[CV 1/3; 141/168] END C=1000, penalty=elasticnet, solver=newton-cg;, score=nan total time=   0.0s\n",
      "[CV 2/3; 141/168] START C=1000, penalty=elasticnet, solver=newton-cg............\n",
      "[CV 2/3; 141/168] END C=1000, penalty=elasticnet, solver=newton-cg;, score=nan total time=   0.0s\n",
      "[CV 3/3; 141/168] START C=1000, penalty=elasticnet, solver=newton-cg............\n",
      "[CV 3/3; 141/168] END C=1000, penalty=elasticnet, solver=newton-cg;, score=nan total time=   0.0s\n",
      "[CV 1/3; 142/168] START C=1000, penalty=elasticnet, solver=newton-cholesky......\n",
      "[CV 1/3; 142/168] END C=1000, penalty=elasticnet, solver=newton-cholesky;, score=nan total time=   0.0s\n",
      "[CV 2/3; 142/168] START C=1000, penalty=elasticnet, solver=newton-cholesky......\n",
      "[CV 2/3; 142/168] END C=1000, penalty=elasticnet, solver=newton-cholesky;, score=nan total time=   0.0s\n",
      "[CV 3/3; 142/168] START C=1000, penalty=elasticnet, solver=newton-cholesky......\n",
      "[CV 3/3; 142/168] END C=1000, penalty=elasticnet, solver=newton-cholesky;, score=nan total time=   0.0s\n",
      "[CV 1/3; 143/168] START C=1000, penalty=elasticnet, solver=sag..................\n",
      "[CV 1/3; 143/168] END C=1000, penalty=elasticnet, solver=sag;, score=nan total time=   0.0s\n",
      "[CV 2/3; 143/168] START C=1000, penalty=elasticnet, solver=sag..................\n",
      "[CV 2/3; 143/168] END C=1000, penalty=elasticnet, solver=sag;, score=nan total time=   0.0s\n",
      "[CV 3/3; 143/168] START C=1000, penalty=elasticnet, solver=sag..................\n",
      "[CV 3/3; 143/168] END C=1000, penalty=elasticnet, solver=sag;, score=nan total time=   0.0s\n",
      "[CV 1/3; 144/168] START C=1000, penalty=elasticnet, solver=saga.................\n",
      "[CV 1/3; 144/168] END C=1000, penalty=elasticnet, solver=saga;, score=nan total time=   0.0s\n",
      "[CV 2/3; 144/168] START C=1000, penalty=elasticnet, solver=saga.................\n",
      "[CV 2/3; 144/168] END C=1000, penalty=elasticnet, solver=saga;, score=nan total time=   0.0s\n",
      "[CV 3/3; 144/168] START C=1000, penalty=elasticnet, solver=saga.................\n",
      "[CV 3/3; 144/168] END C=1000, penalty=elasticnet, solver=saga;, score=nan total time=   0.0s\n",
      "[CV 1/3; 145/168] START C=10000, penalty=None, solver=lbfgs.....................\n",
      "[CV 1/3; 145/168] END C=10000, penalty=None, solver=lbfgs;, score=nan total time=   0.0s\n",
      "[CV 2/3; 145/168] START C=10000, penalty=None, solver=lbfgs.....................\n",
      "[CV 2/3; 145/168] END C=10000, penalty=None, solver=lbfgs;, score=nan total time=   0.0s\n",
      "[CV 3/3; 145/168] START C=10000, penalty=None, solver=lbfgs.....................\n",
      "[CV 3/3; 145/168] END C=10000, penalty=None, solver=lbfgs;, score=nan total time=   0.0s\n",
      "[CV 1/3; 146/168] START C=10000, penalty=None, solver=liblinear.................\n",
      "[CV 1/3; 146/168] END C=10000, penalty=None, solver=liblinear;, score=nan total time=   0.0s\n",
      "[CV 2/3; 146/168] START C=10000, penalty=None, solver=liblinear.................\n",
      "[CV 2/3; 146/168] END C=10000, penalty=None, solver=liblinear;, score=nan total time=   0.0s\n",
      "[CV 3/3; 146/168] START C=10000, penalty=None, solver=liblinear.................\n",
      "[CV 3/3; 146/168] END C=10000, penalty=None, solver=liblinear;, score=nan total time=   0.0s\n",
      "[CV 1/3; 147/168] START C=10000, penalty=None, solver=newton-cg.................\n",
      "[CV 1/3; 147/168] END C=10000, penalty=None, solver=newton-cg;, score=nan total time=   0.0s\n",
      "[CV 2/3; 147/168] START C=10000, penalty=None, solver=newton-cg.................\n",
      "[CV 2/3; 147/168] END C=10000, penalty=None, solver=newton-cg;, score=nan total time=   0.0s\n",
      "[CV 3/3; 147/168] START C=10000, penalty=None, solver=newton-cg.................\n",
      "[CV 3/3; 147/168] END C=10000, penalty=None, solver=newton-cg;, score=nan total time=   0.0s\n",
      "[CV 1/3; 148/168] START C=10000, penalty=None, solver=newton-cholesky...........\n",
      "[CV 1/3; 148/168] END C=10000, penalty=None, solver=newton-cholesky;, score=nan total time=   0.0s\n",
      "[CV 2/3; 148/168] START C=10000, penalty=None, solver=newton-cholesky...........\n",
      "[CV 2/3; 148/168] END C=10000, penalty=None, solver=newton-cholesky;, score=nan total time=   0.0s\n",
      "[CV 3/3; 148/168] START C=10000, penalty=None, solver=newton-cholesky...........\n",
      "[CV 3/3; 148/168] END C=10000, penalty=None, solver=newton-cholesky;, score=nan total time=   0.0s\n",
      "[CV 1/3; 149/168] START C=10000, penalty=None, solver=sag.......................\n",
      "[CV 1/3; 149/168] END C=10000, penalty=None, solver=sag;, score=nan total time=   0.0s\n",
      "[CV 2/3; 149/168] START C=10000, penalty=None, solver=sag.......................\n",
      "[CV 2/3; 149/168] END C=10000, penalty=None, solver=sag;, score=nan total time=   0.0s\n",
      "[CV 3/3; 149/168] START C=10000, penalty=None, solver=sag.......................\n",
      "[CV 3/3; 149/168] END C=10000, penalty=None, solver=sag;, score=nan total time=   0.0s\n",
      "[CV 1/3; 150/168] START C=10000, penalty=None, solver=saga......................\n",
      "[CV 1/3; 150/168] END C=10000, penalty=None, solver=saga;, score=nan total time=   0.0s\n",
      "[CV 2/3; 150/168] START C=10000, penalty=None, solver=saga......................\n",
      "[CV 2/3; 150/168] END C=10000, penalty=None, solver=saga;, score=nan total time=   0.0s\n",
      "[CV 3/3; 150/168] START C=10000, penalty=None, solver=saga......................\n",
      "[CV 3/3; 150/168] END C=10000, penalty=None, solver=saga;, score=nan total time=   0.0s\n",
      "[CV 1/3; 151/168] START C=10000, penalty=l1, solver=lbfgs.......................\n",
      "[CV 1/3; 151/168] END C=10000, penalty=l1, solver=lbfgs;, score=nan total time=   0.0s\n",
      "[CV 2/3; 151/168] START C=10000, penalty=l1, solver=lbfgs.......................\n",
      "[CV 2/3; 151/168] END C=10000, penalty=l1, solver=lbfgs;, score=nan total time=   0.0s\n",
      "[CV 3/3; 151/168] START C=10000, penalty=l1, solver=lbfgs.......................\n",
      "[CV 3/3; 151/168] END C=10000, penalty=l1, solver=lbfgs;, score=nan total time=   0.0s\n",
      "[CV 1/3; 152/168] START C=10000, penalty=l1, solver=liblinear...................\n",
      "[CV 1/3; 152/168] END C=10000, penalty=l1, solver=liblinear;, score=0.635 total time=   3.4s\n",
      "[CV 2/3; 152/168] START C=10000, penalty=l1, solver=liblinear...................\n"
     ]
    },
    {
     "name": "stderr",
     "output_type": "stream",
     "text": [
      "/Users/angeloturri/opt/anaconda3/envs/learn-env/lib/python3.11/site-packages/sklearn/svm/_base.py:1244: ConvergenceWarning: Liblinear failed to converge, increase the number of iterations.\n",
      "  warnings.warn(\n"
     ]
    },
    {
     "name": "stdout",
     "output_type": "stream",
     "text": [
      "[CV 2/3; 152/168] END C=10000, penalty=l1, solver=liblinear;, score=0.598 total time= 3.7min\n",
      "[CV 3/3; 152/168] START C=10000, penalty=l1, solver=liblinear...................\n",
      "[CV 3/3; 152/168] END C=10000, penalty=l1, solver=liblinear;, score=0.613 total time=   4.7s\n",
      "[CV 1/3; 153/168] START C=10000, penalty=l1, solver=newton-cg...................\n",
      "[CV 1/3; 153/168] END C=10000, penalty=l1, solver=newton-cg;, score=nan total time=   0.0s\n",
      "[CV 2/3; 153/168] START C=10000, penalty=l1, solver=newton-cg...................\n",
      "[CV 2/3; 153/168] END C=10000, penalty=l1, solver=newton-cg;, score=nan total time=   0.0s\n",
      "[CV 3/3; 153/168] START C=10000, penalty=l1, solver=newton-cg...................\n",
      "[CV 3/3; 153/168] END C=10000, penalty=l1, solver=newton-cg;, score=nan total time=   0.0s\n",
      "[CV 1/3; 154/168] START C=10000, penalty=l1, solver=newton-cholesky.............\n",
      "[CV 1/3; 154/168] END C=10000, penalty=l1, solver=newton-cholesky;, score=nan total time=   0.0s\n",
      "[CV 2/3; 154/168] START C=10000, penalty=l1, solver=newton-cholesky.............\n",
      "[CV 2/3; 154/168] END C=10000, penalty=l1, solver=newton-cholesky;, score=nan total time=   0.0s\n",
      "[CV 3/3; 154/168] START C=10000, penalty=l1, solver=newton-cholesky.............\n",
      "[CV 3/3; 154/168] END C=10000, penalty=l1, solver=newton-cholesky;, score=nan total time=   0.0s\n",
      "[CV 1/3; 155/168] START C=10000, penalty=l1, solver=sag.........................\n",
      "[CV 1/3; 155/168] END C=10000, penalty=l1, solver=sag;, score=nan total time=   0.0s\n",
      "[CV 2/3; 155/168] START C=10000, penalty=l1, solver=sag.........................\n",
      "[CV 2/3; 155/168] END C=10000, penalty=l1, solver=sag;, score=nan total time=   0.0s\n",
      "[CV 3/3; 155/168] START C=10000, penalty=l1, solver=sag.........................\n",
      "[CV 3/3; 155/168] END C=10000, penalty=l1, solver=sag;, score=nan total time=   0.0s\n",
      "[CV 1/3; 156/168] START C=10000, penalty=l1, solver=saga........................\n"
     ]
    },
    {
     "name": "stderr",
     "output_type": "stream",
     "text": [
      "/Users/angeloturri/opt/anaconda3/envs/learn-env/lib/python3.11/site-packages/sklearn/linear_model/_sag.py:350: ConvergenceWarning: The max_iter was reached which means the coef_ did not converge\n",
      "  warnings.warn(\n"
     ]
    },
    {
     "name": "stdout",
     "output_type": "stream",
     "text": [
      "[CV 1/3; 156/168] END C=10000, penalty=l1, solver=saga;, score=0.644 total time=   2.2s\n",
      "[CV 2/3; 156/168] START C=10000, penalty=l1, solver=saga........................\n"
     ]
    },
    {
     "name": "stderr",
     "output_type": "stream",
     "text": [
      "/Users/angeloturri/opt/anaconda3/envs/learn-env/lib/python3.11/site-packages/sklearn/linear_model/_sag.py:350: ConvergenceWarning: The max_iter was reached which means the coef_ did not converge\n",
      "  warnings.warn(\n"
     ]
    },
    {
     "name": "stdout",
     "output_type": "stream",
     "text": [
      "[CV 2/3; 156/168] END C=10000, penalty=l1, solver=saga;, score=0.628 total time=   2.2s\n",
      "[CV 3/3; 156/168] START C=10000, penalty=l1, solver=saga........................\n"
     ]
    },
    {
     "name": "stderr",
     "output_type": "stream",
     "text": [
      "/Users/angeloturri/opt/anaconda3/envs/learn-env/lib/python3.11/site-packages/sklearn/linear_model/_sag.py:350: ConvergenceWarning: The max_iter was reached which means the coef_ did not converge\n",
      "  warnings.warn(\n"
     ]
    },
    {
     "name": "stdout",
     "output_type": "stream",
     "text": [
      "[CV 3/3; 156/168] END C=10000, penalty=l1, solver=saga;, score=0.640 total time=   2.2s\n",
      "[CV 1/3; 157/168] START C=10000, penalty=l2, solver=lbfgs.......................\n",
      "[CV 1/3; 157/168] END C=10000, penalty=l2, solver=lbfgs;, score=0.632 total time=   0.2s\n",
      "[CV 2/3; 157/168] START C=10000, penalty=l2, solver=lbfgs.......................\n"
     ]
    },
    {
     "name": "stderr",
     "output_type": "stream",
     "text": [
      "/Users/angeloturri/opt/anaconda3/envs/learn-env/lib/python3.11/site-packages/sklearn/linear_model/_logistic.py:458: ConvergenceWarning: lbfgs failed to converge (status=1):\n",
      "STOP: TOTAL NO. of ITERATIONS REACHED LIMIT.\n",
      "\n",
      "Increase the number of iterations (max_iter) or scale the data as shown in:\n",
      "    https://scikit-learn.org/stable/modules/preprocessing.html\n",
      "Please also refer to the documentation for alternative solver options:\n",
      "    https://scikit-learn.org/stable/modules/linear_model.html#logistic-regression\n",
      "  n_iter_i = _check_optimize_result(\n"
     ]
    },
    {
     "name": "stdout",
     "output_type": "stream",
     "text": [
      "[CV 2/3; 157/168] END C=10000, penalty=l2, solver=lbfgs;, score=0.598 total time=   0.3s\n",
      "[CV 3/3; 157/168] START C=10000, penalty=l2, solver=lbfgs.......................\n"
     ]
    },
    {
     "name": "stderr",
     "output_type": "stream",
     "text": [
      "/Users/angeloturri/opt/anaconda3/envs/learn-env/lib/python3.11/site-packages/sklearn/linear_model/_logistic.py:458: ConvergenceWarning: lbfgs failed to converge (status=1):\n",
      "STOP: TOTAL NO. of ITERATIONS REACHED LIMIT.\n",
      "\n",
      "Increase the number of iterations (max_iter) or scale the data as shown in:\n",
      "    https://scikit-learn.org/stable/modules/preprocessing.html\n",
      "Please also refer to the documentation for alternative solver options:\n",
      "    https://scikit-learn.org/stable/modules/linear_model.html#logistic-regression\n",
      "  n_iter_i = _check_optimize_result(\n"
     ]
    },
    {
     "name": "stdout",
     "output_type": "stream",
     "text": [
      "[CV 3/3; 157/168] END C=10000, penalty=l2, solver=lbfgs;, score=0.616 total time=   0.4s\n",
      "[CV 1/3; 158/168] START C=10000, penalty=l2, solver=liblinear...................\n",
      "[CV 1/3; 158/168] END C=10000, penalty=l2, solver=liblinear;, score=0.641 total time=   0.6s\n",
      "[CV 2/3; 158/168] START C=10000, penalty=l2, solver=liblinear...................\n",
      "[CV 2/3; 158/168] END C=10000, penalty=l2, solver=liblinear;, score=0.604 total time=   1.2s\n",
      "[CV 3/3; 158/168] START C=10000, penalty=l2, solver=liblinear...................\n",
      "[CV 3/3; 158/168] END C=10000, penalty=l2, solver=liblinear;, score=0.619 total time=   0.5s\n",
      "[CV 1/3; 159/168] START C=10000, penalty=l2, solver=newton-cg...................\n",
      "[CV 1/3; 159/168] END C=10000, penalty=l2, solver=newton-cg;, score=0.644 total time=   2.2s\n",
      "[CV 2/3; 159/168] START C=10000, penalty=l2, solver=newton-cg...................\n",
      "[CV 2/3; 159/168] END C=10000, penalty=l2, solver=newton-cg;, score=0.616 total time=   5.6s\n",
      "[CV 3/3; 159/168] START C=10000, penalty=l2, solver=newton-cg...................\n",
      "[CV 3/3; 159/168] END C=10000, penalty=l2, solver=newton-cg;, score=0.634 total time=   6.9s\n",
      "[CV 1/3; 160/168] START C=10000, penalty=l2, solver=newton-cholesky.............\n",
      "[CV 1/3; 160/168] END C=10000, penalty=l2, solver=newton-cholesky;, score=0.638 total time=   0.1s\n",
      "[CV 2/3; 160/168] START C=10000, penalty=l2, solver=newton-cholesky.............\n",
      "[CV 2/3; 160/168] END C=10000, penalty=l2, solver=newton-cholesky;, score=0.613 total time=   0.2s\n",
      "[CV 3/3; 160/168] START C=10000, penalty=l2, solver=newton-cholesky.............\n",
      "[CV 3/3; 160/168] END C=10000, penalty=l2, solver=newton-cholesky;, score=0.634 total time=   0.1s\n",
      "[CV 1/3; 161/168] START C=10000, penalty=l2, solver=sag.........................\n"
     ]
    },
    {
     "name": "stderr",
     "output_type": "stream",
     "text": [
      "/Users/angeloturri/opt/anaconda3/envs/learn-env/lib/python3.11/site-packages/sklearn/linear_model/_sag.py:350: ConvergenceWarning: The max_iter was reached which means the coef_ did not converge\n",
      "  warnings.warn(\n"
     ]
    },
    {
     "name": "stdout",
     "output_type": "stream",
     "text": [
      "[CV 1/3; 161/168] END C=10000, penalty=l2, solver=sag;, score=0.635 total time=   1.5s\n",
      "[CV 2/3; 161/168] START C=10000, penalty=l2, solver=sag.........................\n"
     ]
    },
    {
     "name": "stderr",
     "output_type": "stream",
     "text": [
      "/Users/angeloturri/opt/anaconda3/envs/learn-env/lib/python3.11/site-packages/sklearn/linear_model/_sag.py:350: ConvergenceWarning: The max_iter was reached which means the coef_ did not converge\n",
      "  warnings.warn(\n"
     ]
    },
    {
     "name": "stdout",
     "output_type": "stream",
     "text": [
      "[CV 2/3; 161/168] END C=10000, penalty=l2, solver=sag;, score=0.622 total time=   1.4s\n",
      "[CV 3/3; 161/168] START C=10000, penalty=l2, solver=sag.........................\n"
     ]
    },
    {
     "name": "stderr",
     "output_type": "stream",
     "text": [
      "/Users/angeloturri/opt/anaconda3/envs/learn-env/lib/python3.11/site-packages/sklearn/linear_model/_sag.py:350: ConvergenceWarning: The max_iter was reached which means the coef_ did not converge\n",
      "  warnings.warn(\n"
     ]
    },
    {
     "name": "stdout",
     "output_type": "stream",
     "text": [
      "[CV 3/3; 161/168] END C=10000, penalty=l2, solver=sag;, score=0.640 total time=   1.4s\n",
      "[CV 1/3; 162/168] START C=10000, penalty=l2, solver=saga........................\n"
     ]
    },
    {
     "name": "stderr",
     "output_type": "stream",
     "text": [
      "/Users/angeloturri/opt/anaconda3/envs/learn-env/lib/python3.11/site-packages/sklearn/linear_model/_sag.py:350: ConvergenceWarning: The max_iter was reached which means the coef_ did not converge\n",
      "  warnings.warn(\n"
     ]
    },
    {
     "name": "stdout",
     "output_type": "stream",
     "text": [
      "[CV 1/3; 162/168] END C=10000, penalty=l2, solver=saga;, score=0.644 total time=   1.6s\n",
      "[CV 2/3; 162/168] START C=10000, penalty=l2, solver=saga........................\n"
     ]
    },
    {
     "name": "stderr",
     "output_type": "stream",
     "text": [
      "/Users/angeloturri/opt/anaconda3/envs/learn-env/lib/python3.11/site-packages/sklearn/linear_model/_sag.py:350: ConvergenceWarning: The max_iter was reached which means the coef_ did not converge\n",
      "  warnings.warn(\n"
     ]
    },
    {
     "name": "stdout",
     "output_type": "stream",
     "text": [
      "[CV 2/3; 162/168] END C=10000, penalty=l2, solver=saga;, score=0.628 total time=   1.6s\n",
      "[CV 3/3; 162/168] START C=10000, penalty=l2, solver=saga........................\n"
     ]
    },
    {
     "name": "stderr",
     "output_type": "stream",
     "text": [
      "/Users/angeloturri/opt/anaconda3/envs/learn-env/lib/python3.11/site-packages/sklearn/linear_model/_sag.py:350: ConvergenceWarning: The max_iter was reached which means the coef_ did not converge\n",
      "  warnings.warn(\n",
      "/Users/angeloturri/opt/anaconda3/envs/learn-env/lib/python3.11/site-packages/sklearn/model_selection/_validation.py:378: FitFailedWarning: \n",
      "360 fits failed out of a total of 504.\n",
      "The score on these train-test partitions for these parameters will be set to nan.\n",
      "If these failures are not expected, you can try to debug them by setting error_score='raise'.\n",
      "\n",
      "Below are more details about the failures:\n",
      "--------------------------------------------------------------------------------\n",
      "72 fits failed with the following error:\n",
      "Traceback (most recent call last):\n",
      "  File \"/Users/angeloturri/opt/anaconda3/envs/learn-env/lib/python3.11/site-packages/sklearn/model_selection/_validation.py\", line 686, in _fit_and_score\n",
      "    estimator.fit(X_train, y_train, **fit_params)\n",
      "  File \"/Users/angeloturri/opt/anaconda3/envs/learn-env/lib/python3.11/site-packages/sklearn/linear_model/_logistic.py\", line 1160, in fit\n",
      "    self._validate_params()\n",
      "  File \"/Users/angeloturri/opt/anaconda3/envs/learn-env/lib/python3.11/site-packages/sklearn/base.py\", line 600, in _validate_params\n",
      "    validate_parameter_constraints(\n",
      "  File \"/Users/angeloturri/opt/anaconda3/envs/learn-env/lib/python3.11/site-packages/sklearn/utils/_param_validation.py\", line 97, in validate_parameter_constraints\n",
      "    raise InvalidParameterError(\n",
      "sklearn.utils._param_validation.InvalidParameterError: The 'C' parameter of LogisticRegression must be a float in the range (0, inf]. Got 0 instead.\n",
      "\n",
      "--------------------------------------------------------------------------------\n",
      "108 fits failed with the following error:\n",
      "Traceback (most recent call last):\n",
      "  File \"/Users/angeloturri/opt/anaconda3/envs/learn-env/lib/python3.11/site-packages/sklearn/model_selection/_validation.py\", line 686, in _fit_and_score\n",
      "    estimator.fit(X_train, y_train, **fit_params)\n",
      "  File \"/Users/angeloturri/opt/anaconda3/envs/learn-env/lib/python3.11/site-packages/sklearn/linear_model/_logistic.py\", line 1160, in fit\n",
      "    self._validate_params()\n",
      "  File \"/Users/angeloturri/opt/anaconda3/envs/learn-env/lib/python3.11/site-packages/sklearn/base.py\", line 600, in _validate_params\n",
      "    validate_parameter_constraints(\n",
      "  File \"/Users/angeloturri/opt/anaconda3/envs/learn-env/lib/python3.11/site-packages/sklearn/utils/_param_validation.py\", line 97, in validate_parameter_constraints\n",
      "    raise InvalidParameterError(\n",
      "sklearn.utils._param_validation.InvalidParameterError: The 'penalty' parameter of LogisticRegression must be a str among {'elasticnet', 'l2', 'none' (deprecated), 'l1'} or None. Got 'None' instead.\n",
      "\n",
      "--------------------------------------------------------------------------------\n",
      "18 fits failed with the following error:\n",
      "Traceback (most recent call last):\n",
      "  File \"/Users/angeloturri/opt/anaconda3/envs/learn-env/lib/python3.11/site-packages/sklearn/model_selection/_validation.py\", line 686, in _fit_and_score\n",
      "    estimator.fit(X_train, y_train, **fit_params)\n",
      "  File \"/Users/angeloturri/opt/anaconda3/envs/learn-env/lib/python3.11/site-packages/sklearn/linear_model/_logistic.py\", line 1162, in fit\n",
      "    solver = _check_solver(self.solver, self.penalty, self.dual)\n",
      "             ^^^^^^^^^^^^^^^^^^^^^^^^^^^^^^^^^^^^^^^^^^^^^^^^^^^\n",
      "  File \"/Users/angeloturri/opt/anaconda3/envs/learn-env/lib/python3.11/site-packages/sklearn/linear_model/_logistic.py\", line 54, in _check_solver\n",
      "    raise ValueError(\n",
      "ValueError: Solver lbfgs supports only 'l2' or 'none' penalties, got l1 penalty.\n",
      "\n",
      "--------------------------------------------------------------------------------\n",
      "18 fits failed with the following error:\n",
      "Traceback (most recent call last):\n",
      "  File \"/Users/angeloturri/opt/anaconda3/envs/learn-env/lib/python3.11/site-packages/sklearn/model_selection/_validation.py\", line 686, in _fit_and_score\n",
      "    estimator.fit(X_train, y_train, **fit_params)\n",
      "  File \"/Users/angeloturri/opt/anaconda3/envs/learn-env/lib/python3.11/site-packages/sklearn/linear_model/_logistic.py\", line 1162, in fit\n",
      "    solver = _check_solver(self.solver, self.penalty, self.dual)\n",
      "             ^^^^^^^^^^^^^^^^^^^^^^^^^^^^^^^^^^^^^^^^^^^^^^^^^^^\n",
      "  File \"/Users/angeloturri/opt/anaconda3/envs/learn-env/lib/python3.11/site-packages/sklearn/linear_model/_logistic.py\", line 54, in _check_solver\n",
      "    raise ValueError(\n",
      "ValueError: Solver newton-cg supports only 'l2' or 'none' penalties, got l1 penalty.\n",
      "\n",
      "--------------------------------------------------------------------------------\n",
      "18 fits failed with the following error:\n",
      "Traceback (most recent call last):\n",
      "  File \"/Users/angeloturri/opt/anaconda3/envs/learn-env/lib/python3.11/site-packages/sklearn/model_selection/_validation.py\", line 686, in _fit_and_score\n",
      "    estimator.fit(X_train, y_train, **fit_params)\n",
      "  File \"/Users/angeloturri/opt/anaconda3/envs/learn-env/lib/python3.11/site-packages/sklearn/linear_model/_logistic.py\", line 1162, in fit\n",
      "    solver = _check_solver(self.solver, self.penalty, self.dual)\n",
      "             ^^^^^^^^^^^^^^^^^^^^^^^^^^^^^^^^^^^^^^^^^^^^^^^^^^^\n",
      "  File \"/Users/angeloturri/opt/anaconda3/envs/learn-env/lib/python3.11/site-packages/sklearn/linear_model/_logistic.py\", line 54, in _check_solver\n",
      "    raise ValueError(\n",
      "ValueError: Solver newton-cholesky supports only 'l2' or 'none' penalties, got l1 penalty.\n",
      "\n",
      "--------------------------------------------------------------------------------\n",
      "18 fits failed with the following error:\n",
      "Traceback (most recent call last):\n",
      "  File \"/Users/angeloturri/opt/anaconda3/envs/learn-env/lib/python3.11/site-packages/sklearn/model_selection/_validation.py\", line 686, in _fit_and_score\n",
      "    estimator.fit(X_train, y_train, **fit_params)\n",
      "  File \"/Users/angeloturri/opt/anaconda3/envs/learn-env/lib/python3.11/site-packages/sklearn/linear_model/_logistic.py\", line 1162, in fit\n",
      "    solver = _check_solver(self.solver, self.penalty, self.dual)\n",
      "             ^^^^^^^^^^^^^^^^^^^^^^^^^^^^^^^^^^^^^^^^^^^^^^^^^^^\n",
      "  File \"/Users/angeloturri/opt/anaconda3/envs/learn-env/lib/python3.11/site-packages/sklearn/linear_model/_logistic.py\", line 54, in _check_solver\n",
      "    raise ValueError(\n",
      "ValueError: Solver sag supports only 'l2' or 'none' penalties, got l1 penalty.\n",
      "\n",
      "--------------------------------------------------------------------------------\n",
      "18 fits failed with the following error:\n",
      "Traceback (most recent call last):\n",
      "  File \"/Users/angeloturri/opt/anaconda3/envs/learn-env/lib/python3.11/site-packages/sklearn/model_selection/_validation.py\", line 686, in _fit_and_score\n",
      "    estimator.fit(X_train, y_train, **fit_params)\n",
      "  File \"/Users/angeloturri/opt/anaconda3/envs/learn-env/lib/python3.11/site-packages/sklearn/linear_model/_logistic.py\", line 1162, in fit\n",
      "    solver = _check_solver(self.solver, self.penalty, self.dual)\n",
      "             ^^^^^^^^^^^^^^^^^^^^^^^^^^^^^^^^^^^^^^^^^^^^^^^^^^^\n",
      "  File \"/Users/angeloturri/opt/anaconda3/envs/learn-env/lib/python3.11/site-packages/sklearn/linear_model/_logistic.py\", line 54, in _check_solver\n",
      "    raise ValueError(\n",
      "ValueError: Solver lbfgs supports only 'l2' or 'none' penalties, got elasticnet penalty.\n",
      "\n",
      "--------------------------------------------------------------------------------\n",
      "18 fits failed with the following error:\n",
      "Traceback (most recent call last):\n",
      "  File \"/Users/angeloturri/opt/anaconda3/envs/learn-env/lib/python3.11/site-packages/sklearn/model_selection/_validation.py\", line 686, in _fit_and_score\n",
      "    estimator.fit(X_train, y_train, **fit_params)\n",
      "  File \"/Users/angeloturri/opt/anaconda3/envs/learn-env/lib/python3.11/site-packages/sklearn/linear_model/_logistic.py\", line 1162, in fit\n",
      "    solver = _check_solver(self.solver, self.penalty, self.dual)\n",
      "             ^^^^^^^^^^^^^^^^^^^^^^^^^^^^^^^^^^^^^^^^^^^^^^^^^^^\n",
      "  File \"/Users/angeloturri/opt/anaconda3/envs/learn-env/lib/python3.11/site-packages/sklearn/linear_model/_logistic.py\", line 64, in _check_solver\n",
      "    raise ValueError(\n",
      "ValueError: Only 'saga' solver supports elasticnet penalty, got solver=liblinear.\n",
      "\n",
      "--------------------------------------------------------------------------------\n",
      "18 fits failed with the following error:\n",
      "Traceback (most recent call last):\n",
      "  File \"/Users/angeloturri/opt/anaconda3/envs/learn-env/lib/python3.11/site-packages/sklearn/model_selection/_validation.py\", line 686, in _fit_and_score\n",
      "    estimator.fit(X_train, y_train, **fit_params)\n",
      "  File \"/Users/angeloturri/opt/anaconda3/envs/learn-env/lib/python3.11/site-packages/sklearn/linear_model/_logistic.py\", line 1162, in fit\n",
      "    solver = _check_solver(self.solver, self.penalty, self.dual)\n",
      "             ^^^^^^^^^^^^^^^^^^^^^^^^^^^^^^^^^^^^^^^^^^^^^^^^^^^\n",
      "  File \"/Users/angeloturri/opt/anaconda3/envs/learn-env/lib/python3.11/site-packages/sklearn/linear_model/_logistic.py\", line 54, in _check_solver\n",
      "    raise ValueError(\n",
      "ValueError: Solver newton-cg supports only 'l2' or 'none' penalties, got elasticnet penalty.\n",
      "\n",
      "--------------------------------------------------------------------------------\n",
      "18 fits failed with the following error:\n",
      "Traceback (most recent call last):\n",
      "  File \"/Users/angeloturri/opt/anaconda3/envs/learn-env/lib/python3.11/site-packages/sklearn/model_selection/_validation.py\", line 686, in _fit_and_score\n",
      "    estimator.fit(X_train, y_train, **fit_params)\n",
      "  File \"/Users/angeloturri/opt/anaconda3/envs/learn-env/lib/python3.11/site-packages/sklearn/linear_model/_logistic.py\", line 1162, in fit\n",
      "    solver = _check_solver(self.solver, self.penalty, self.dual)\n",
      "             ^^^^^^^^^^^^^^^^^^^^^^^^^^^^^^^^^^^^^^^^^^^^^^^^^^^\n",
      "  File \"/Users/angeloturri/opt/anaconda3/envs/learn-env/lib/python3.11/site-packages/sklearn/linear_model/_logistic.py\", line 54, in _check_solver\n",
      "    raise ValueError(\n",
      "ValueError: Solver newton-cholesky supports only 'l2' or 'none' penalties, got elasticnet penalty.\n",
      "\n",
      "--------------------------------------------------------------------------------\n",
      "18 fits failed with the following error:\n",
      "Traceback (most recent call last):\n",
      "  File \"/Users/angeloturri/opt/anaconda3/envs/learn-env/lib/python3.11/site-packages/sklearn/model_selection/_validation.py\", line 686, in _fit_and_score\n",
      "    estimator.fit(X_train, y_train, **fit_params)\n",
      "  File \"/Users/angeloturri/opt/anaconda3/envs/learn-env/lib/python3.11/site-packages/sklearn/linear_model/_logistic.py\", line 1162, in fit\n",
      "    solver = _check_solver(self.solver, self.penalty, self.dual)\n",
      "             ^^^^^^^^^^^^^^^^^^^^^^^^^^^^^^^^^^^^^^^^^^^^^^^^^^^\n",
      "  File \"/Users/angeloturri/opt/anaconda3/envs/learn-env/lib/python3.11/site-packages/sklearn/linear_model/_logistic.py\", line 54, in _check_solver\n",
      "    raise ValueError(\n",
      "ValueError: Solver sag supports only 'l2' or 'none' penalties, got elasticnet penalty.\n",
      "\n",
      "--------------------------------------------------------------------------------\n",
      "18 fits failed with the following error:\n",
      "Traceback (most recent call last):\n",
      "  File \"/Users/angeloturri/opt/anaconda3/envs/learn-env/lib/python3.11/site-packages/sklearn/model_selection/_validation.py\", line 686, in _fit_and_score\n",
      "    estimator.fit(X_train, y_train, **fit_params)\n",
      "  File \"/Users/angeloturri/opt/anaconda3/envs/learn-env/lib/python3.11/site-packages/sklearn/linear_model/_logistic.py\", line 1291, in fit\n",
      "    fold_coefs_ = Parallel(n_jobs=self.n_jobs, verbose=self.verbose, prefer=prefer)(\n",
      "                  ^^^^^^^^^^^^^^^^^^^^^^^^^^^^^^^^^^^^^^^^^^^^^^^^^^^^^^^^^^^^^^^^^^\n",
      "  File \"/Users/angeloturri/opt/anaconda3/envs/learn-env/lib/python3.11/site-packages/sklearn/utils/parallel.py\", line 63, in __call__\n",
      "    return super().__call__(iterable_with_config)\n",
      "           ^^^^^^^^^^^^^^^^^^^^^^^^^^^^^^^^^^^^^^\n",
      "  File \"/Users/angeloturri/opt/anaconda3/envs/learn-env/lib/python3.11/site-packages/joblib/parallel.py\", line 1085, in __call__\n",
      "    if self.dispatch_one_batch(iterator):\n",
      "       ^^^^^^^^^^^^^^^^^^^^^^^^^^^^^^^^^\n",
      "  File \"/Users/angeloturri/opt/anaconda3/envs/learn-env/lib/python3.11/site-packages/joblib/parallel.py\", line 901, in dispatch_one_batch\n",
      "    self._dispatch(tasks)\n",
      "  File \"/Users/angeloturri/opt/anaconda3/envs/learn-env/lib/python3.11/site-packages/joblib/parallel.py\", line 819, in _dispatch\n",
      "    job = self._backend.apply_async(batch, callback=cb)\n",
      "          ^^^^^^^^^^^^^^^^^^^^^^^^^^^^^^^^^^^^^^^^^^^^^\n",
      "  File \"/Users/angeloturri/opt/anaconda3/envs/learn-env/lib/python3.11/site-packages/joblib/_parallel_backends.py\", line 208, in apply_async\n",
      "    result = ImmediateResult(func)\n",
      "             ^^^^^^^^^^^^^^^^^^^^^\n",
      "  File \"/Users/angeloturri/opt/anaconda3/envs/learn-env/lib/python3.11/site-packages/joblib/_parallel_backends.py\", line 597, in __init__\n",
      "    self.results = batch()\n",
      "                   ^^^^^^^\n",
      "  File \"/Users/angeloturri/opt/anaconda3/envs/learn-env/lib/python3.11/site-packages/joblib/parallel.py\", line 288, in __call__\n",
      "    return [func(*args, **kwargs)\n",
      "           ^^^^^^^^^^^^^^^^^^^^^^\n",
      "  File \"/Users/angeloturri/opt/anaconda3/envs/learn-env/lib/python3.11/site-packages/joblib/parallel.py\", line 288, in <listcomp>\n",
      "    return [func(*args, **kwargs)\n",
      "            ^^^^^^^^^^^^^^^^^^^^^\n",
      "  File \"/Users/angeloturri/opt/anaconda3/envs/learn-env/lib/python3.11/site-packages/sklearn/utils/parallel.py\", line 123, in __call__\n",
      "    return self.function(*args, **kwargs)\n",
      "           ^^^^^^^^^^^^^^^^^^^^^^^^^^^^^^\n",
      "  File \"/Users/angeloturri/opt/anaconda3/envs/learn-env/lib/python3.11/site-packages/sklearn/linear_model/_logistic.py\", line 521, in _logistic_regression_path\n",
      "    alpha = (1.0 / C) * (1 - l1_ratio)\n",
      "                         ~~^~~~~~~~~~\n",
      "TypeError: unsupported operand type(s) for -: 'int' and 'NoneType'\n",
      "\n",
      "  warnings.warn(some_fits_failed_message, FitFailedWarning)\n",
      "/Users/angeloturri/opt/anaconda3/envs/learn-env/lib/python3.11/site-packages/sklearn/model_selection/_search.py:952: UserWarning: One or more of the test scores are non-finite: [       nan        nan        nan        nan        nan        nan\n",
      "        nan        nan        nan        nan        nan        nan\n",
      "        nan        nan        nan        nan        nan        nan\n",
      "        nan        nan        nan        nan        nan        nan\n",
      "        nan        nan        nan        nan        nan        nan\n",
      "        nan 0.67400035        nan        nan        nan 0.66900134\n",
      " 0.65300031 0.65297633 0.65300031 0.66199433 0.6509983  0.6489933\n",
      "        nan        nan        nan        nan        nan        nan\n",
      "        nan        nan        nan        nan        nan        nan\n",
      "        nan 0.66599833        nan        nan        nan 0.65299731\n",
      " 0.65199331 0.6449863  0.65199331 0.65599432 0.63999928 0.63999329\n",
      "        nan        nan        nan        nan        nan        nan\n",
      "        nan        nan        nan        nan        nan        nan\n",
      "        nan 0.65899133        nan        nan        nan 0.6459933\n",
      " 0.64698831 0.64198929 0.64698831 0.65299431 0.63399627 0.63799128\n",
      "        nan        nan        nan        nan        nan        nan\n",
      "        nan        nan        nan        nan        nan        nan\n",
      "        nan 0.63898929        nan        nan        nan 0.63699328\n",
      " 0.63599228 0.63699328 0.63498828 0.64599929 0.63299827 0.63699328\n",
      "        nan        nan        nan        nan        nan        nan\n",
      "        nan        nan        nan        nan        nan        nan\n",
      "        nan 0.63598629        nan        nan        nan 0.63699328\n",
      " 0.63699328 0.62398027 0.63198828 0.63099327 0.63199727 0.63699328\n",
      "        nan        nan        nan        nan        nan        nan\n",
      "        nan        nan        nan        nan        nan        nan\n",
      "        nan 0.61498025        nan        nan        nan 0.63699328\n",
      " 0.61498325 0.62098026 0.63098727 0.62799027 0.63199727 0.63699328\n",
      "        nan        nan        nan        nan        nan        nan]\n",
      "  warnings.warn(\n"
     ]
    },
    {
     "name": "stdout",
     "output_type": "stream",
     "text": [
      "[CV 3/3; 162/168] END C=10000, penalty=l2, solver=saga;, score=0.640 total time=   1.6s\n",
      "[CV 1/3; 163/168] START C=10000, penalty=elasticnet, solver=lbfgs...............\n",
      "[CV 1/3; 163/168] END C=10000, penalty=elasticnet, solver=lbfgs;, score=nan total time=   0.0s\n",
      "[CV 2/3; 163/168] START C=10000, penalty=elasticnet, solver=lbfgs...............\n",
      "[CV 2/3; 163/168] END C=10000, penalty=elasticnet, solver=lbfgs;, score=nan total time=   0.0s\n",
      "[CV 3/3; 163/168] START C=10000, penalty=elasticnet, solver=lbfgs...............\n",
      "[CV 3/3; 163/168] END C=10000, penalty=elasticnet, solver=lbfgs;, score=nan total time=   0.0s\n",
      "[CV 1/3; 164/168] START C=10000, penalty=elasticnet, solver=liblinear...........\n",
      "[CV 1/3; 164/168] END C=10000, penalty=elasticnet, solver=liblinear;, score=nan total time=   0.0s\n",
      "[CV 2/3; 164/168] START C=10000, penalty=elasticnet, solver=liblinear...........\n",
      "[CV 2/3; 164/168] END C=10000, penalty=elasticnet, solver=liblinear;, score=nan total time=   0.0s\n",
      "[CV 3/3; 164/168] START C=10000, penalty=elasticnet, solver=liblinear...........\n",
      "[CV 3/3; 164/168] END C=10000, penalty=elasticnet, solver=liblinear;, score=nan total time=   0.0s\n",
      "[CV 1/3; 165/168] START C=10000, penalty=elasticnet, solver=newton-cg...........\n",
      "[CV 1/3; 165/168] END C=10000, penalty=elasticnet, solver=newton-cg;, score=nan total time=   0.0s\n",
      "[CV 2/3; 165/168] START C=10000, penalty=elasticnet, solver=newton-cg...........\n",
      "[CV 2/3; 165/168] END C=10000, penalty=elasticnet, solver=newton-cg;, score=nan total time=   0.0s\n",
      "[CV 3/3; 165/168] START C=10000, penalty=elasticnet, solver=newton-cg...........\n",
      "[CV 3/3; 165/168] END C=10000, penalty=elasticnet, solver=newton-cg;, score=nan total time=   0.0s\n",
      "[CV 1/3; 166/168] START C=10000, penalty=elasticnet, solver=newton-cholesky.....\n",
      "[CV 1/3; 166/168] END C=10000, penalty=elasticnet, solver=newton-cholesky;, score=nan total time=   0.0s\n",
      "[CV 2/3; 166/168] START C=10000, penalty=elasticnet, solver=newton-cholesky.....\n",
      "[CV 2/3; 166/168] END C=10000, penalty=elasticnet, solver=newton-cholesky;, score=nan total time=   0.0s\n",
      "[CV 3/3; 166/168] START C=10000, penalty=elasticnet, solver=newton-cholesky.....\n",
      "[CV 3/3; 166/168] END C=10000, penalty=elasticnet, solver=newton-cholesky;, score=nan total time=   0.0s\n",
      "[CV 1/3; 167/168] START C=10000, penalty=elasticnet, solver=sag.................\n",
      "[CV 1/3; 167/168] END C=10000, penalty=elasticnet, solver=sag;, score=nan total time=   0.0s\n",
      "[CV 2/3; 167/168] START C=10000, penalty=elasticnet, solver=sag.................\n",
      "[CV 2/3; 167/168] END C=10000, penalty=elasticnet, solver=sag;, score=nan total time=   0.0s\n",
      "[CV 3/3; 167/168] START C=10000, penalty=elasticnet, solver=sag.................\n",
      "[CV 3/3; 167/168] END C=10000, penalty=elasticnet, solver=sag;, score=nan total time=   0.0s\n",
      "[CV 1/3; 168/168] START C=10000, penalty=elasticnet, solver=saga................\n",
      "[CV 1/3; 168/168] END C=10000, penalty=elasticnet, solver=saga;, score=nan total time=   0.0s\n",
      "[CV 2/3; 168/168] START C=10000, penalty=elasticnet, solver=saga................\n",
      "[CV 2/3; 168/168] END C=10000, penalty=elasticnet, solver=saga;, score=nan total time=   0.0s\n",
      "[CV 3/3; 168/168] START C=10000, penalty=elasticnet, solver=saga................\n",
      "[CV 3/3; 168/168] END C=10000, penalty=elasticnet, solver=saga;, score=nan total time=   0.0s\n"
     ]
    },
    {
     "data": {
      "text/html": [
       "<style>#sk-container-id-4 {color: black;background-color: white;}#sk-container-id-4 pre{padding: 0;}#sk-container-id-4 div.sk-toggleable {background-color: white;}#sk-container-id-4 label.sk-toggleable__label {cursor: pointer;display: block;width: 100%;margin-bottom: 0;padding: 0.3em;box-sizing: border-box;text-align: center;}#sk-container-id-4 label.sk-toggleable__label-arrow:before {content: \"▸\";float: left;margin-right: 0.25em;color: #696969;}#sk-container-id-4 label.sk-toggleable__label-arrow:hover:before {color: black;}#sk-container-id-4 div.sk-estimator:hover label.sk-toggleable__label-arrow:before {color: black;}#sk-container-id-4 div.sk-toggleable__content {max-height: 0;max-width: 0;overflow: hidden;text-align: left;background-color: #f0f8ff;}#sk-container-id-4 div.sk-toggleable__content pre {margin: 0.2em;color: black;border-radius: 0.25em;background-color: #f0f8ff;}#sk-container-id-4 input.sk-toggleable__control:checked~div.sk-toggleable__content {max-height: 200px;max-width: 100%;overflow: auto;}#sk-container-id-4 input.sk-toggleable__control:checked~label.sk-toggleable__label-arrow:before {content: \"▾\";}#sk-container-id-4 div.sk-estimator input.sk-toggleable__control:checked~label.sk-toggleable__label {background-color: #d4ebff;}#sk-container-id-4 div.sk-label input.sk-toggleable__control:checked~label.sk-toggleable__label {background-color: #d4ebff;}#sk-container-id-4 input.sk-hidden--visually {border: 0;clip: rect(1px 1px 1px 1px);clip: rect(1px, 1px, 1px, 1px);height: 1px;margin: -1px;overflow: hidden;padding: 0;position: absolute;width: 1px;}#sk-container-id-4 div.sk-estimator {font-family: monospace;background-color: #f0f8ff;border: 1px dotted black;border-radius: 0.25em;box-sizing: border-box;margin-bottom: 0.5em;}#sk-container-id-4 div.sk-estimator:hover {background-color: #d4ebff;}#sk-container-id-4 div.sk-parallel-item::after {content: \"\";width: 100%;border-bottom: 1px solid gray;flex-grow: 1;}#sk-container-id-4 div.sk-label:hover label.sk-toggleable__label {background-color: #d4ebff;}#sk-container-id-4 div.sk-serial::before {content: \"\";position: absolute;border-left: 1px solid gray;box-sizing: border-box;top: 0;bottom: 0;left: 50%;z-index: 0;}#sk-container-id-4 div.sk-serial {display: flex;flex-direction: column;align-items: center;background-color: white;padding-right: 0.2em;padding-left: 0.2em;position: relative;}#sk-container-id-4 div.sk-item {position: relative;z-index: 1;}#sk-container-id-4 div.sk-parallel {display: flex;align-items: stretch;justify-content: center;background-color: white;position: relative;}#sk-container-id-4 div.sk-item::before, #sk-container-id-4 div.sk-parallel-item::before {content: \"\";position: absolute;border-left: 1px solid gray;box-sizing: border-box;top: 0;bottom: 0;left: 50%;z-index: -1;}#sk-container-id-4 div.sk-parallel-item {display: flex;flex-direction: column;z-index: 1;position: relative;background-color: white;}#sk-container-id-4 div.sk-parallel-item:first-child::after {align-self: flex-end;width: 50%;}#sk-container-id-4 div.sk-parallel-item:last-child::after {align-self: flex-start;width: 50%;}#sk-container-id-4 div.sk-parallel-item:only-child::after {width: 0;}#sk-container-id-4 div.sk-dashed-wrapped {border: 1px dashed gray;margin: 0 0.4em 0.5em 0.4em;box-sizing: border-box;padding-bottom: 0.4em;background-color: white;}#sk-container-id-4 div.sk-label label {font-family: monospace;font-weight: bold;display: inline-block;line-height: 1.2em;}#sk-container-id-4 div.sk-label-container {text-align: center;}#sk-container-id-4 div.sk-container {/* jupyter's `normalize.less` sets `[hidden] { display: none; }` but bootstrap.min.css set `[hidden] { display: none !important; }` so we also need the `!important` here to be able to override the default hidden behavior on the sphinx rendered scikit-learn.org. See: https://github.com/scikit-learn/scikit-learn/issues/21755 */display: inline-block !important;position: relative;}#sk-container-id-4 div.sk-text-repr-fallback {display: none;}</style><div id=\"sk-container-id-4\" class=\"sk-top-container\"><div class=\"sk-text-repr-fallback\"><pre>GridSearchCV(cv=3, estimator=LogisticRegression(max_iter=1000, random_state=42),\n",
       "             param_grid={&#x27;C&#x27;: [0, 1, 5, 10, 100, 1000, 10000],\n",
       "                         &#x27;penalty&#x27;: [&#x27;None&#x27;, &#x27;l1&#x27;, &#x27;l2&#x27;, &#x27;elasticnet&#x27;],\n",
       "                         &#x27;solver&#x27;: [&#x27;lbfgs&#x27;, &#x27;liblinear&#x27;, &#x27;newton-cg&#x27;,\n",
       "                                    &#x27;newton-cholesky&#x27;, &#x27;sag&#x27;, &#x27;saga&#x27;]},\n",
       "             verbose=10)</pre><b>In a Jupyter environment, please rerun this cell to show the HTML representation or trust the notebook. <br />On GitHub, the HTML representation is unable to render, please try loading this page with nbviewer.org.</b></div><div class=\"sk-container\" hidden><div class=\"sk-item sk-dashed-wrapped\"><div class=\"sk-label-container\"><div class=\"sk-label sk-toggleable\"><input class=\"sk-toggleable__control sk-hidden--visually\" id=\"sk-estimator-id-6\" type=\"checkbox\" ><label for=\"sk-estimator-id-6\" class=\"sk-toggleable__label sk-toggleable__label-arrow\">GridSearchCV</label><div class=\"sk-toggleable__content\"><pre>GridSearchCV(cv=3, estimator=LogisticRegression(max_iter=1000, random_state=42),\n",
       "             param_grid={&#x27;C&#x27;: [0, 1, 5, 10, 100, 1000, 10000],\n",
       "                         &#x27;penalty&#x27;: [&#x27;None&#x27;, &#x27;l1&#x27;, &#x27;l2&#x27;, &#x27;elasticnet&#x27;],\n",
       "                         &#x27;solver&#x27;: [&#x27;lbfgs&#x27;, &#x27;liblinear&#x27;, &#x27;newton-cg&#x27;,\n",
       "                                    &#x27;newton-cholesky&#x27;, &#x27;sag&#x27;, &#x27;saga&#x27;]},\n",
       "             verbose=10)</pre></div></div></div><div class=\"sk-parallel\"><div class=\"sk-parallel-item\"><div class=\"sk-item\"><div class=\"sk-label-container\"><div class=\"sk-label sk-toggleable\"><input class=\"sk-toggleable__control sk-hidden--visually\" id=\"sk-estimator-id-7\" type=\"checkbox\" ><label for=\"sk-estimator-id-7\" class=\"sk-toggleable__label sk-toggleable__label-arrow\">estimator: LogisticRegression</label><div class=\"sk-toggleable__content\"><pre>LogisticRegression(max_iter=1000, random_state=42)</pre></div></div></div><div class=\"sk-serial\"><div class=\"sk-item\"><div class=\"sk-estimator sk-toggleable\"><input class=\"sk-toggleable__control sk-hidden--visually\" id=\"sk-estimator-id-8\" type=\"checkbox\" ><label for=\"sk-estimator-id-8\" class=\"sk-toggleable__label sk-toggleable__label-arrow\">LogisticRegression</label><div class=\"sk-toggleable__content\"><pre>LogisticRegression(max_iter=1000, random_state=42)</pre></div></div></div></div></div></div></div></div></div></div>"
      ],
      "text/plain": [
       "GridSearchCV(cv=3, estimator=LogisticRegression(max_iter=1000, random_state=42),\n",
       "             param_grid={'C': [0, 1, 5, 10, 100, 1000, 10000],\n",
       "                         'penalty': ['None', 'l1', 'l2', 'elasticnet'],\n",
       "                         'solver': ['lbfgs', 'liblinear', 'newton-cg',\n",
       "                                    'newton-cholesky', 'sag', 'saga']},\n",
       "             verbose=10)"
      ]
     },
     "execution_count": 55,
     "metadata": {},
     "output_type": "execute_result"
    }
   ],
   "source": [
    "param_grid = {\n",
    "    'penalty': ['None', 'l1', 'l2', 'elasticnet'], 'C': [0, 1, 5, 10, 100, 1000, 10000], 'solver': ['lbfgs', 'liblinear', 'newton-cg', 'newton-cholesky', 'sag', 'saga']\n",
    "}\n",
    "\n",
    "gs_lr = GridSearchCV(logreg, param_grid, cv=3, verbose=10)\n",
    "gs_lr.fit(X_train_sample, y_train_sample)"
   ]
  },
  {
   "cell_type": "code",
   "execution_count": 56,
   "id": "e3216849",
   "metadata": {},
   "outputs": [
    {
     "data": {
      "text/plain": [
       "{'C': 1, 'penalty': 'l1', 'solver': 'liblinear'}"
      ]
     },
     "execution_count": 56,
     "metadata": {},
     "output_type": "execute_result"
    }
   ],
   "source": [
    "gs_lr.best_params_"
   ]
  },
  {
   "cell_type": "code",
   "execution_count": 49,
   "id": "cb4a72a4",
   "metadata": {},
   "outputs": [
    {
     "name": "stderr",
     "output_type": "stream",
     "text": [
      "/Users/angeloturri/opt/anaconda3/envs/learn-env/lib/python3.11/site-packages/sklearn/linear_model/_sag.py:350: ConvergenceWarning: The max_iter was reached which means the coef_ did not converge\n",
      "  warnings.warn(\n"
     ]
    },
    {
     "data": {
      "text/html": [
       "<style>#sk-container-id-3 {color: black;background-color: white;}#sk-container-id-3 pre{padding: 0;}#sk-container-id-3 div.sk-toggleable {background-color: white;}#sk-container-id-3 label.sk-toggleable__label {cursor: pointer;display: block;width: 100%;margin-bottom: 0;padding: 0.3em;box-sizing: border-box;text-align: center;}#sk-container-id-3 label.sk-toggleable__label-arrow:before {content: \"▸\";float: left;margin-right: 0.25em;color: #696969;}#sk-container-id-3 label.sk-toggleable__label-arrow:hover:before {color: black;}#sk-container-id-3 div.sk-estimator:hover label.sk-toggleable__label-arrow:before {color: black;}#sk-container-id-3 div.sk-toggleable__content {max-height: 0;max-width: 0;overflow: hidden;text-align: left;background-color: #f0f8ff;}#sk-container-id-3 div.sk-toggleable__content pre {margin: 0.2em;color: black;border-radius: 0.25em;background-color: #f0f8ff;}#sk-container-id-3 input.sk-toggleable__control:checked~div.sk-toggleable__content {max-height: 200px;max-width: 100%;overflow: auto;}#sk-container-id-3 input.sk-toggleable__control:checked~label.sk-toggleable__label-arrow:before {content: \"▾\";}#sk-container-id-3 div.sk-estimator input.sk-toggleable__control:checked~label.sk-toggleable__label {background-color: #d4ebff;}#sk-container-id-3 div.sk-label input.sk-toggleable__control:checked~label.sk-toggleable__label {background-color: #d4ebff;}#sk-container-id-3 input.sk-hidden--visually {border: 0;clip: rect(1px 1px 1px 1px);clip: rect(1px, 1px, 1px, 1px);height: 1px;margin: -1px;overflow: hidden;padding: 0;position: absolute;width: 1px;}#sk-container-id-3 div.sk-estimator {font-family: monospace;background-color: #f0f8ff;border: 1px dotted black;border-radius: 0.25em;box-sizing: border-box;margin-bottom: 0.5em;}#sk-container-id-3 div.sk-estimator:hover {background-color: #d4ebff;}#sk-container-id-3 div.sk-parallel-item::after {content: \"\";width: 100%;border-bottom: 1px solid gray;flex-grow: 1;}#sk-container-id-3 div.sk-label:hover label.sk-toggleable__label {background-color: #d4ebff;}#sk-container-id-3 div.sk-serial::before {content: \"\";position: absolute;border-left: 1px solid gray;box-sizing: border-box;top: 0;bottom: 0;left: 50%;z-index: 0;}#sk-container-id-3 div.sk-serial {display: flex;flex-direction: column;align-items: center;background-color: white;padding-right: 0.2em;padding-left: 0.2em;position: relative;}#sk-container-id-3 div.sk-item {position: relative;z-index: 1;}#sk-container-id-3 div.sk-parallel {display: flex;align-items: stretch;justify-content: center;background-color: white;position: relative;}#sk-container-id-3 div.sk-item::before, #sk-container-id-3 div.sk-parallel-item::before {content: \"\";position: absolute;border-left: 1px solid gray;box-sizing: border-box;top: 0;bottom: 0;left: 50%;z-index: -1;}#sk-container-id-3 div.sk-parallel-item {display: flex;flex-direction: column;z-index: 1;position: relative;background-color: white;}#sk-container-id-3 div.sk-parallel-item:first-child::after {align-self: flex-end;width: 50%;}#sk-container-id-3 div.sk-parallel-item:last-child::after {align-self: flex-start;width: 50%;}#sk-container-id-3 div.sk-parallel-item:only-child::after {width: 0;}#sk-container-id-3 div.sk-dashed-wrapped {border: 1px dashed gray;margin: 0 0.4em 0.5em 0.4em;box-sizing: border-box;padding-bottom: 0.4em;background-color: white;}#sk-container-id-3 div.sk-label label {font-family: monospace;font-weight: bold;display: inline-block;line-height: 1.2em;}#sk-container-id-3 div.sk-label-container {text-align: center;}#sk-container-id-3 div.sk-container {/* jupyter's `normalize.less` sets `[hidden] { display: none; }` but bootstrap.min.css set `[hidden] { display: none !important; }` so we also need the `!important` here to be able to override the default hidden behavior on the sphinx rendered scikit-learn.org. See: https://github.com/scikit-learn/scikit-learn/issues/21755 */display: inline-block !important;position: relative;}#sk-container-id-3 div.sk-text-repr-fallback {display: none;}</style><div id=\"sk-container-id-3\" class=\"sk-top-container\"><div class=\"sk-text-repr-fallback\"><pre>LogisticRegression(C=1, penalty=&#x27;l1&#x27;, solver=&#x27;saga&#x27;)</pre><b>In a Jupyter environment, please rerun this cell to show the HTML representation or trust the notebook. <br />On GitHub, the HTML representation is unable to render, please try loading this page with nbviewer.org.</b></div><div class=\"sk-container\" hidden><div class=\"sk-item\"><div class=\"sk-estimator sk-toggleable\"><input class=\"sk-toggleable__control sk-hidden--visually\" id=\"sk-estimator-id-5\" type=\"checkbox\" checked><label for=\"sk-estimator-id-5\" class=\"sk-toggleable__label sk-toggleable__label-arrow\">LogisticRegression</label><div class=\"sk-toggleable__content\"><pre>LogisticRegression(C=1, penalty=&#x27;l1&#x27;, solver=&#x27;saga&#x27;)</pre></div></div></div></div></div>"
      ],
      "text/plain": [
       "LogisticRegression(C=1, penalty='l1', solver='saga')"
      ]
     },
     "execution_count": 49,
     "metadata": {},
     "output_type": "execute_result"
    }
   ],
   "source": [
    "logreg = LogisticRegression(C=1, penalty='l1', solver='saga')\n",
    "logreg.fit(X_train, y_train)"
   ]
  },
  {
   "cell_type": "code",
   "execution_count": 50,
   "id": "abfdc813",
   "metadata": {},
   "outputs": [],
   "source": [
    "preds = logreg.predict(X_test)"
   ]
  },
  {
   "cell_type": "code",
   "execution_count": 51,
   "id": "ab7a2b31",
   "metadata": {},
   "outputs": [],
   "source": [
    "report_columns = ['functional', 'functional needs repair', \n",
    "                  'non functional', 'accuracy', 'macro avg', \n",
    "                  'weighted avg']\n",
    "\n",
    "report_rows = ['precision', 'recall', \n",
    "               'f1-score', 'support']\n",
    "\n",
    "report = pd.DataFrame(classification_report(y_test, preds, output_dict=True), columns=report_columns, index=report_rows)\n",
    "                      \n",
    "matrix = pd.DataFrame(confusion_matrix(y_test, preds))"
   ]
  },
  {
   "cell_type": "code",
   "execution_count": 52,
   "id": "2a6c91be",
   "metadata": {},
   "outputs": [
    {
     "data": {
      "text/html": [
       "<div>\n",
       "<style scoped>\n",
       "    .dataframe tbody tr th:only-of-type {\n",
       "        vertical-align: middle;\n",
       "    }\n",
       "\n",
       "    .dataframe tbody tr th {\n",
       "        vertical-align: top;\n",
       "    }\n",
       "\n",
       "    .dataframe thead th {\n",
       "        text-align: right;\n",
       "    }\n",
       "</style>\n",
       "<table border=\"1\" class=\"dataframe\">\n",
       "  <thead>\n",
       "    <tr style=\"text-align: right;\">\n",
       "      <th></th>\n",
       "      <th>functional</th>\n",
       "      <th>functional needs repair</th>\n",
       "      <th>non functional</th>\n",
       "      <th>accuracy</th>\n",
       "      <th>macro avg</th>\n",
       "      <th>weighted avg</th>\n",
       "    </tr>\n",
       "  </thead>\n",
       "  <tbody>\n",
       "    <tr>\n",
       "      <th>precision</th>\n",
       "      <td>0.732003</td>\n",
       "      <td>0.506276</td>\n",
       "      <td>0.776827</td>\n",
       "      <td>0.742828</td>\n",
       "      <td>0.671702</td>\n",
       "      <td>0.733057</td>\n",
       "    </tr>\n",
       "    <tr>\n",
       "      <th>recall</th>\n",
       "      <td>0.884582</td>\n",
       "      <td>0.114583</td>\n",
       "      <td>0.656608</td>\n",
       "      <td>0.742828</td>\n",
       "      <td>0.551925</td>\n",
       "      <td>0.742828</td>\n",
       "    </tr>\n",
       "    <tr>\n",
       "      <th>f1-score</th>\n",
       "      <td>0.801092</td>\n",
       "      <td>0.186873</td>\n",
       "      <td>0.711676</td>\n",
       "      <td>0.742828</td>\n",
       "      <td>0.566547</td>\n",
       "      <td>0.723292</td>\n",
       "    </tr>\n",
       "    <tr>\n",
       "      <th>support</th>\n",
       "      <td>8127.000000</td>\n",
       "      <td>1056.000000</td>\n",
       "      <td>5667.000000</td>\n",
       "      <td>0.742828</td>\n",
       "      <td>14850.000000</td>\n",
       "      <td>14850.000000</td>\n",
       "    </tr>\n",
       "  </tbody>\n",
       "</table>\n",
       "</div>"
      ],
      "text/plain": [
       "            functional  functional needs repair  non functional  accuracy  \\\n",
       "precision     0.732003                 0.506276        0.776827  0.742828   \n",
       "recall        0.884582                 0.114583        0.656608  0.742828   \n",
       "f1-score      0.801092                 0.186873        0.711676  0.742828   \n",
       "support    8127.000000              1056.000000     5667.000000  0.742828   \n",
       "\n",
       "              macro avg  weighted avg  \n",
       "precision      0.671702      0.733057  \n",
       "recall         0.551925      0.742828  \n",
       "f1-score       0.566547      0.723292  \n",
       "support    14850.000000  14850.000000  "
      ]
     },
     "execution_count": 52,
     "metadata": {},
     "output_type": "execute_result"
    }
   ],
   "source": [
    "report"
   ]
  }
 ],
 "metadata": {
  "kernelspec": {
   "display_name": "Python (learn-env)",
   "language": "python",
   "name": "learn-env"
  },
  "language_info": {
   "codemirror_mode": {
    "name": "ipython",
    "version": 3
   },
   "file_extension": ".py",
   "mimetype": "text/x-python",
   "name": "python",
   "nbconvert_exporter": "python",
   "pygments_lexer": "ipython3",
   "version": "3.11.5"
  }
 },
 "nbformat": 4,
 "nbformat_minor": 5
}
