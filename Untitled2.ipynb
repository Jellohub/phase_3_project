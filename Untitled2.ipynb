{
 "cells": [
  {
   "cell_type": "markdown",
   "id": "2476123f",
   "metadata": {},
   "source": [
    "# Ideas\n",
    "\n",
    "Have histograms distributions for the other variables within each variable section.\n",
    "\n",
    "Could lump together needs repair/non functional\n",
    "\n",
    "Have variables like \"installer = funder\" and such. Those variables seem to be very similar.\n",
    "\n",
    "Number of functional wells over the years, non functional wells over the years, etc.\n",
    "\n",
    "Use SMOTE for data with no null values, all known, and no one-time value variables.\n",
    "\n",
    "Train models with numerical status group variabel and ones with categorical status group variable.\n",
    "\n",
    "Better evaluate which variables you should include in the model. (correlation, etc.)\n",
    "\n",
    "Find a way of evaluating the success of each model graphically, and in a more detailed fashion.\n",
    "\n",
    "Find ways of dissecting how well each model predicts nf, fnr, and f categories.\n",
    "\n",
    "Write functions to make this entire notebook more organized.\n",
    "\n",
    "SMOTE on functional needs repair data\n",
    "\n",
    "Look for patterns in what each individual model says for FNR data points."
   ]
  },
  {
   "cell_type": "code",
   "execution_count": 292,
   "id": "b11a1e43",
   "metadata": {},
   "outputs": [],
   "source": [
    "# !/usr/bin/env python\n",
    "\"\"\"Utility script with functions to be used with the results of GridSearchCV.\n",
    "\n",
    "**plot_grid_search** plots as many graphs as parameters are in the grid search results.\n",
    "\n",
    "**table_grid_search** shows tables with the grid search results.\n",
    "\n",
    "Inspired in [Displaying the results of a Grid Search](https://www.kaggle.com/grfiv4/displaying-the-results-of-a-grid-search) notebook,\n",
    "of [George Fisher](https://www.kaggle.com/grfiv4)\n",
    "\"\"\"\n",
    "\n",
    "import pandas as pd\n",
    "from plotly.subplots import make_subplots\n",
    "import plotly.graph_objs as go\n",
    "import pprint\n",
    "from scipy import stats\n",
    "from IPython.display import display\n",
    "\n",
    "__author__ = \"Juanma Hernández\"\n",
    "__copyright__ = \"Copyright 2019\"\n",
    "__credits__ = [\"Juanma Hernández\", \"George Fisher\"]\n",
    "__license__ = \"GPL\"\n",
    "__maintainer__ = \"Juanma Hernández\"\n",
    "__email__ = \"https://twitter.com/juanmah\"\n",
    "__status__ = \"Utility script\"\n",
    "\n",
    "\n",
    "def plot_grid_search(clf):\n",
    "    \"\"\"Plot as many graphs as parameters are in the grid search results.\n",
    "\n",
    "    Each graph has the values of each parameter in the X axis and the Score in the Y axis.\n",
    "\n",
    "    Parameters\n",
    "    ----------\n",
    "    clf: estimator object result of a GridSearchCV\n",
    "        This object contains all the information of the cross validated results for all the parameters combinations.\n",
    "    \"\"\"\n",
    "    # Convert the cross validated results in a DataFrame ordered by `rank_test_score` and `mean_fit_time`.\n",
    "    # As it is frequent to have more than one combination with the same max score,\n",
    "    # the one with the least mean fit time SHALL appear first.\n",
    "    cv_results = pd.DataFrame(clf.cv_results_).sort_values(by=['rank_test_score', 'mean_fit_time'])\n",
    "\n",
    "    # Get parameters\n",
    "    parameters=cv_results['params'][0].keys()\n",
    "\n",
    "    # Calculate the number of rows and columns necessary\n",
    "    rows = -(-len(parameters) // 2)\n",
    "    columns = min(len(parameters), 2)\n",
    "    # Create the subplot\n",
    "    fig = make_subplots(rows=rows, cols=columns)\n",
    "    # Initialize row and column indexes\n",
    "    row = 1\n",
    "    column = 1\n",
    "\n",
    "    # For each of the parameters\n",
    "    for parameter in parameters:\n",
    "\n",
    "        # As all the graphs have the same traces, and by default all traces are shown in the legend,\n",
    "        # the description appears multiple times. Then, only show legend of the first graph.\n",
    "        if row == 1 and column == 1:\n",
    "            show_legend = True\n",
    "        else:\n",
    "            show_legend = False\n",
    "\n",
    "        # Mean test score\n",
    "        mean_test_score = cv_results[cv_results['rank_test_score'] != 1]\n",
    "        fig.add_trace(go.Scatter(\n",
    "            name='Mean test score',\n",
    "            x=mean_test_score['param_' + parameter],\n",
    "            y=mean_test_score['mean_test_score'],\n",
    "            mode='markers',\n",
    "            marker=dict(size=mean_test_score['mean_fit_time'],\n",
    "                        color='SteelBlue',\n",
    "                        sizeref=2. * cv_results['mean_fit_time'].max() / (40. ** 2),\n",
    "                        sizemin=4,\n",
    "                        sizemode='area'),\n",
    "            text=mean_test_score['params'].apply(\n",
    "                lambda x: pprint.pformat(x, width=-1).replace('{', '').replace('}', '').replace('\\n', '<br />')),\n",
    "            showlegend=show_legend),\n",
    "            row=row,\n",
    "            col=column)\n",
    "\n",
    "        # Best estimators\n",
    "        rank_1 = cv_results[cv_results['rank_test_score'] == 1]\n",
    "        fig.add_trace(go.Scatter(\n",
    "            name='Best estimators',\n",
    "            x=rank_1['param_' + parameter],\n",
    "            y=rank_1['mean_test_score'],\n",
    "            mode='markers',\n",
    "            marker=dict(size=rank_1['mean_fit_time'],\n",
    "                        color='Crimson',\n",
    "                        sizeref=2. * cv_results['mean_fit_time'].max() / (40. ** 2),\n",
    "                        sizemin=4,\n",
    "                        sizemode='area'),\n",
    "            text=rank_1['params'].apply(str),\n",
    "            showlegend=show_legend),\n",
    "            row=row,\n",
    "            col=column)\n",
    "\n",
    "        fig.update_xaxes(title_text=parameter, row=row, col=column)\n",
    "        fig.update_yaxes(title_text='Score', row=row, col=column)\n",
    "\n",
    "        # Check the linearity of the series\n",
    "        # Only for numeric series\n",
    "        if pd.to_numeric(cv_results['param_' + parameter], errors='coerce').notnull().all():\n",
    "            x_values = cv_results['param_' + parameter].sort_values().unique().tolist()\n",
    "            r = stats.linregress(x_values, range(0, len(x_values))).rvalue\n",
    "            # If not so linear, then represent the data as logarithmic\n",
    "            if r < 0.86:\n",
    "                fig.update_xaxes(type='log', row=row, col=column)\n",
    "\n",
    "        # Increment the row and column indexes\n",
    "        column += 1\n",
    "        if column > columns:\n",
    "            column = 1\n",
    "            row += 1\n",
    "\n",
    "            # Show first the best estimators\n",
    "    fig.update_layout(legend=dict(traceorder='reversed'),\n",
    "                      width=columns * 360 + 100,\n",
    "                      height=rows * 360,\n",
    "                      title='Best score: {:.6f} with {}'.format(cv_results['mean_test_score'].iloc[0],\n",
    "                                                                str(cv_results['params'].iloc[0]).replace('{',\n",
    "                                                                                                          '').replace(\n",
    "                                                                    '}', '')),\n",
    "                      hovermode='closest',\n",
    "                      template='none')\n",
    "    fig.show()\n",
    "\n",
    "\n",
    "def table_grid_search(clf, all_columns=False, all_ranks=False, save=True):\n",
    "    \"\"\"Show tables with the grid search results.\n",
    "\n",
    "    Parameters\n",
    "    ----------\n",
    "    clf: estimator object result of a GridSearchCV\n",
    "        This object contains all the information of the cross validated results for all the parameters combinations.\n",
    "\n",
    "    all_columns: boolean, default: False\n",
    "        If true all columns are returned. If false, the following columns are dropped:\n",
    "\n",
    "        - params. As each parameter has a column with the value.\n",
    "        - std_*. Standard deviations.\n",
    "        - split*. Split scores.\n",
    "\n",
    "    all_ranks: boolean, default: False\n",
    "        If true all ranks are returned. If false, only the rows with rank equal to 1 are returned.\n",
    "\n",
    "    save: boolean, default: True\n",
    "        If true, results are saved to a CSV file.\n",
    "    \"\"\"\n",
    "    # Convert the cross validated results in a DataFrame ordered by `rank_test_score` and `mean_fit_time`.\n",
    "    # As it is frequent to have more than one combination with the same max score,\n",
    "    # the one with the least mean fit time SHALL appear first.\n",
    "    cv_results = pd.DataFrame(clf.cv_results_).sort_values(by=['rank_test_score', 'mean_fit_time'])\n",
    "\n",
    "    # Reorder\n",
    "    columns = cv_results.columns.tolist()\n",
    "    # rank_test_score first, mean_test_score second and std_test_score third\n",
    "    columns = columns[-1:] + columns[-3:-1] + columns[:-3]\n",
    "    cv_results = cv_results[columns]\n",
    "\n",
    "    if save:\n",
    "        cv_results.to_csv('--'.join(cv_results['params'][0].keys()) + '.csv', index=True, index_label='Id')\n",
    "\n",
    "    # Unless all_columns are True, drop not wanted columns: params, std_* split*\n",
    "    if not all_columns:\n",
    "        cv_results.drop('params', axis='columns', inplace=True)\n",
    "        cv_results.drop(list(cv_results.filter(regex='^std_.*')), axis='columns', inplace=True)\n",
    "        cv_results.drop(list(cv_results.filter(regex='^split.*')), axis='columns', inplace=True)\n",
    "\n",
    "    # Unless all_ranks are True, filter out those rows which have rank equal to one\n",
    "    if not all_ranks:\n",
    "        cv_results = cv_results[cv_results['rank_test_score'] == 1]\n",
    "        cv_results.drop('rank_test_score', axis = 'columns', inplace = True)        \n",
    "\n",
    "    display(cv_results)"
   ]
  },
  {
   "cell_type": "code",
   "execution_count": 361,
   "id": "2fd19ab7",
   "metadata": {},
   "outputs": [],
   "source": [
    "import numpy as np\n",
    "import pandas as pd\n",
    "from tqdm import tqdm\n",
    "from sklearn.model_selection import train_test_split, cross_val_score, StratifiedKFold\n",
    "from sklearn.linear_model import LinearRegression, LogisticRegression, Ridge, Lasso\n",
    "from sklearn.preprocessing import MinMaxScaler, StandardScaler, OneHotEncoder\n",
    "from sklearn.metrics import accuracy_score, get_scorer_names, confusion_matrix, classification_report\n",
    "from sklearn.tree import DecisionTreeClassifier\n",
    "from sklearn import tree\n",
    "from sklearn.model_selection import GridSearchCV\n",
    "from sklearn.neighbors import KNeighborsClassifier\n",
    "from sklearn.ensemble import BaggingClassifier, RandomForestClassifier, AdaBoostClassifier, GradientBoostingClassifier, VotingClassifier\n",
    "from sklearn.ensemble import HistGradientBoostingClassifier, ExtraTreesClassifier\n",
    "from sklearn.naive_bayes import GaussianNB, CategoricalNB\n",
    "from xgboost import XGBClassifier\n",
    "import xgboost as xgb\n",
    "import matplotlib.pyplot as plt\n",
    "from sklearn.pipeline import Pipeline\n",
    "from imblearn.over_sampling import SMOTE\n",
    "import warnings\n",
    "warnings.simplefilter(action='ignore', category=FutureWarning)"
   ]
  },
  {
   "cell_type": "code",
   "execution_count": 260,
   "id": "6c692095",
   "metadata": {},
   "outputs": [],
   "source": [
    "X_test = pd.read_csv(\"tanzanian_water_wells/X_test.csv\")\n",
    "X_train = pd.read_csv(\"tanzanian_water_wells/X_train.csv\")\n",
    "y_train = pd.read_csv(\"tanzanian_water_wells/y_train.csv\")\n",
    "\n",
    "df = pd.concat([X_train, y_train], axis=1)"
   ]
  },
  {
   "cell_type": "code",
   "execution_count": 261,
   "id": "1ad219ae",
   "metadata": {},
   "outputs": [],
   "source": [
    "desc = {'amount_tsh': 'Total static head (amount water available to waterpoint)',\n",
    "                    'date_recorded': 'The date the row was entered',\n",
    "                    'funder': 'Who funded the well',\n",
    "                    'gps_height': 'Altitude of the well',\n",
    "                    'installer': 'Organization that installed the well',\n",
    "                    'longitude': 'GPS coordinate',\n",
    "                    'latitude': 'GPS coordinate',\n",
    "                    'wpt_name': 'Name of the waterpoint if there is one',\n",
    "                    'subvillage': 'Geographic location',\n",
    "                    'region': 'Geographic location',\n",
    "                    'region_code': 'Geographic location (coded)',\n",
    "                    'district_code': 'Geographic location (coded)',\n",
    "                    'lga': 'Geographic location',\n",
    "                    'ward': 'Geographic location',\n",
    "                    'population': 'Population around the well',\n",
    "                    'public_meeting': 'True/False',\n",
    "                    'recorded_by': 'Group entering this row of data',\n",
    "                    'scheme_management': 'Who operates the waterpoint',\n",
    "                    'scheme_name': 'Who operates the waterpoint',\n",
    "                    'permit': 'If the waterpoint is permitted',\n",
    "                    'construction_year': 'Year the waterpoint was constructed',\n",
    "                    'extraction_type': 'The kind of extraction the waterpoint uses',\n",
    "                    'extraction_type_group': 'The kind of extraction the waterpoint uses',\n",
    "                    'extraction_type_class': 'The kind of extraction the waterpoint uses',\n",
    "                    'management': 'How the waterpoint is managed',\n",
    "                    'management_group': 'How the waterpoint is managed',\n",
    "                    'payment': 'What the water costs',\n",
    "                    'payment_type': 'What the water costs',\n",
    "                    'water_quality': 'The quality of the water',\n",
    "                    'quality_group': 'The quality of the water',\n",
    "                    'quantity': 'The quantity of water',\n",
    "                    'quantity_group': 'The quantity of water',\n",
    "                    'source': 'The source of the water',\n",
    "                    'source_type': 'The source of the water',\n",
    "                    'source_class': 'The source of the water',\n",
    "                    'waterpoint_type': 'The kind of waterpoint',\n",
    "                    'waterpoint_type_group': 'The kind of waterpoint'}"
   ]
  },
  {
   "cell_type": "code",
   "execution_count": 262,
   "id": "474b21d9",
   "metadata": {},
   "outputs": [],
   "source": [
    "# Eliminating null values\n",
    "\n",
    "df.funder.fillna(\"Unknown\", inplace=True)\n",
    "df.installer.fillna(\"Unknown\", inplace=True)\n",
    "df.scheme_management.fillna(\"None\", inplace=True)\n",
    "df.permit.fillna('Unknown', inplace=True)\n",
    "df.scheme_name.fillna('Unknown', inplace=True)\n",
    "df.subvillage.fillna('Unknown', inplace=True)\n",
    "df.public_meeting.fillna('Unknown', inplace=True)"
   ]
  },
  {
   "cell_type": "code",
   "execution_count": 263,
   "id": "920f04c7",
   "metadata": {},
   "outputs": [],
   "source": [
    "# df['fundernum'] = df['funder'].map(df.funder.value_counts())\n",
    "\n",
    "# df['funder_installer'] = df['funder'] == df['installer']\n",
    "# df['funder_installer'] = df['funder_installer'].astype('int')\n",
    "\n",
    "# df['permit'] = df['permit'].map({True: 1, False: 0, 'Unknown': 2})\n",
    "\n",
    "# df['status_id'] = df['status_group'].map({'non functional': 0, 'functional needs repair': 1, 'functional': 2})"
   ]
  },
  {
   "cell_type": "markdown",
   "id": "89146789",
   "metadata": {},
   "source": [
    "# Defining the train and test sets"
   ]
  },
  {
   "cell_type": "code",
   "execution_count": 264,
   "id": "c2ec08b1",
   "metadata": {},
   "outputs": [],
   "source": [
    "X = df.copy()\n",
    "\n",
    "columns = ['amount_tsh', 'gps_height', 'population', 'region', 'lga', \n",
    "           'scheme_management', 'permit', 'construction_year',\n",
    "           'extraction_type_group', 'payment', 'management', \n",
    "           'quality_group', 'quantity', 'source', 'waterpoint_type']\n",
    "\n",
    "X = X[columns]\n",
    "\n",
    "# X['public_meeting'] = X['public_meeting'].map({True: 'Yes', False: 'No', 'Unknown': 'Unknown'})\n",
    "X['permit'] = X['permit'].map({True: 'Yes', False: 'No', 'Unknown': 'Unknown'})\n",
    "X['gps_height'] = X['gps_height'].astype('float64')\n",
    "# X['district_code'] = X['district_code'].astype('float64')\n",
    "X['population'] = X['population'].astype('float64')\n",
    "# X['district_code'] = X['district_code'].astype('object')\n",
    "\n",
    "X_cat = X.drop(list(X.select_dtypes(['float64']).columns), axis=1)\n",
    "X_numeric = X[list(X.select_dtypes(['float64']).columns)]\n",
    "\n",
    "y = df['status_group']\n",
    "\n",
    "X_cat = pd.get_dummies(X_cat)\n",
    "\n",
    "X = pd.concat([X_numeric, X_cat], axis=1)\n",
    "\n",
    "X_train, X_test, y_train, y_test = train_test_split(X, y)\n",
    "\n",
    "scaler = StandardScaler()\n",
    "scaler.fit(X_train)\n",
    "X_train = pd.DataFrame(scaler.transform(X_train),\n",
    "                index = X_train.index,\n",
    "                columns = X_train.columns)\n",
    "X_test = pd.DataFrame(scaler.transform(X_test),\n",
    "                index = X_test.index,\n",
    "                columns = X_test.columns)"
   ]
  },
  {
   "cell_type": "code",
   "execution_count": 265,
   "id": "5d76bf73",
   "metadata": {},
   "outputs": [
    {
     "data": {
      "text/plain": [
       "status_group\n",
       "functional                 0.544691\n",
       "non functional             0.383075\n",
       "functional needs repair    0.072233\n",
       "Name: count, dtype: float64"
      ]
     },
     "execution_count": 265,
     "metadata": {},
     "output_type": "execute_result"
    }
   ],
   "source": [
    "y_train.value_counts()/len(y_train)"
   ]
  },
  {
   "cell_type": "code",
   "execution_count": 266,
   "id": "d6e9e0a3",
   "metadata": {},
   "outputs": [
    {
     "data": {
      "text/plain": [
       "status_group\n",
       "functional                 24266\n",
       "non functional             17066\n",
       "functional needs repair     3218\n",
       "Name: count, dtype: int64"
      ]
     },
     "execution_count": 266,
     "metadata": {},
     "output_type": "execute_result"
    }
   ],
   "source": [
    "y_train.value_counts()"
   ]
  },
  {
   "cell_type": "code",
   "execution_count": 267,
   "id": "067a7a81",
   "metadata": {},
   "outputs": [],
   "source": [
    "strategy = {'functional needs repair': 10000}\n",
    "smote = SMOTE(sampling_strategy=strategy)\n",
    "X_train_resampled, y_train_resampled = smote.fit_resample(X_train, y_train)"
   ]
  },
  {
   "cell_type": "code",
   "execution_count": 268,
   "id": "5bbcf87d",
   "metadata": {},
   "outputs": [
    {
     "data": {
      "text/plain": [
       "status_group\n",
       "functional                 0.472727\n",
       "non functional             0.332463\n",
       "functional needs repair    0.194810\n",
       "Name: count, dtype: float64"
      ]
     },
     "execution_count": 268,
     "metadata": {},
     "output_type": "execute_result"
    }
   ],
   "source": [
    "y_train_resampled.value_counts()/len(y_train_resampled)"
   ]
  },
  {
   "cell_type": "markdown",
   "id": "d8ca3391",
   "metadata": {},
   "source": [
    "# Base Model – Logistic Regression, No Regularization"
   ]
  },
  {
   "cell_type": "code",
   "execution_count": 269,
   "id": "47d4b6d6",
   "metadata": {},
   "outputs": [
    {
     "data": {
      "text/plain": [
       "0.6591470258136924"
      ]
     },
     "execution_count": 269,
     "metadata": {},
     "output_type": "execute_result"
    }
   ],
   "source": [
    "base_model = LogisticRegression(solver='liblinear', fit_intercept=False)\n",
    "base_model.fit(X_train_resampled, y_train_resampled)\n",
    "\n",
    "base_y_hat_train = base_model.predict(X_train)\n",
    "base_y_hat_test = base_model.predict(X_test)\n",
    "\n",
    "accuracy_score(y_train, base_y_hat_train)"
   ]
  },
  {
   "cell_type": "code",
   "execution_count": 270,
   "id": "c6389e3f",
   "metadata": {},
   "outputs": [
    {
     "data": {
      "text/plain": [
       "array([0.6976431 , 0.72233446, 0.70965208, 0.70381594, 0.7047138 ])"
      ]
     },
     "execution_count": 270,
     "metadata": {},
     "output_type": "execute_result"
    }
   ],
   "source": [
    "cross_val_score(base_model, X_train, y_train, cv=5)"
   ]
  },
  {
   "cell_type": "code",
   "execution_count": 383,
   "id": "eeb762f9",
   "metadata": {},
   "outputs": [
    {
     "data": {
      "text/plain": [
       "array([[17326,  5326,  1614],\n",
       "       [  802,  2212,   204],\n",
       "       [ 3917,  3322,  9827]])"
      ]
     },
     "execution_count": 383,
     "metadata": {},
     "output_type": "execute_result"
    }
   ],
   "source": [
    "confusion_matrix(y_train, base_y_hat_train)"
   ]
  },
  {
   "cell_type": "code",
   "execution_count": 272,
   "id": "5ba88015",
   "metadata": {},
   "outputs": [
    {
     "name": "stdout",
     "output_type": "stream",
     "text": [
      "                         precision    recall  f1-score   support\n",
      "\n",
      "             functional       0.79      0.71      0.75     24266\n",
      "functional needs repair       0.20      0.69      0.31      3218\n",
      "         non functional       0.84      0.58      0.68     17066\n",
      "\n",
      "               accuracy                           0.66     44550\n",
      "              macro avg       0.61      0.66      0.58     44550\n",
      "           weighted avg       0.77      0.66      0.69     44550\n",
      "\n"
     ]
    }
   ],
   "source": [
    "print(classification_report(y_train, base_y_hat_train))"
   ]
  },
  {
   "cell_type": "code",
   "execution_count": 375,
   "id": "99e7c5cd",
   "metadata": {},
   "outputs": [
    {
     "name": "stdout",
     "output_type": "stream",
     "text": [
      "                         precision    recall  f1-score   support\n",
      "\n",
      "             functional       0.77      0.78      0.78      4853\n",
      "functional needs repair       0.23      0.48      0.31       643\n",
      "         non functional       0.80      0.62      0.70      3414\n",
      "\n",
      "               accuracy                           0.70      8910\n",
      "              macro avg       0.60      0.63      0.60      8910\n",
      "           weighted avg       0.74      0.70      0.71      8910\n",
      "\n",
      "\n",
      "\n",
      "\n",
      "                         precision    recall  f1-score   support\n",
      "\n",
      "             functional       0.75      0.83      0.79      4854\n",
      "functional needs repair       0.28      0.38      0.32       643\n",
      "         non functional       0.81      0.64      0.71      3413\n",
      "\n",
      "               accuracy                           0.72      8910\n",
      "              macro avg       0.61      0.61      0.61      8910\n",
      "           weighted avg       0.74      0.72      0.73      8910\n",
      "\n",
      "\n",
      "\n",
      "\n",
      "                         precision    recall  f1-score   support\n",
      "\n",
      "             functional       0.77      0.79      0.78      4853\n",
      "functional needs repair       0.24      0.45      0.31       644\n",
      "         non functional       0.81      0.64      0.72      3413\n",
      "\n",
      "               accuracy                           0.71      8910\n",
      "              macro avg       0.61      0.63      0.60      8910\n",
      "           weighted avg       0.75      0.71      0.72      8910\n",
      "\n",
      "\n",
      "\n",
      "\n",
      "                         precision    recall  f1-score   support\n",
      "\n",
      "             functional       0.77      0.79      0.78      4853\n",
      "functional needs repair       0.25      0.49      0.33       644\n",
      "         non functional       0.81      0.62      0.70      3413\n",
      "\n",
      "               accuracy                           0.70      8910\n",
      "              macro avg       0.61      0.63      0.60      8910\n",
      "           weighted avg       0.74      0.70      0.72      8910\n",
      "\n",
      "\n",
      "\n",
      "\n",
      "                         precision    recall  f1-score   support\n",
      "\n",
      "             functional       0.77      0.80      0.78      4853\n",
      "functional needs repair       0.23      0.46      0.31       644\n",
      "         non functional       0.82      0.62      0.70      3413\n",
      "\n",
      "               accuracy                           0.70      8910\n",
      "              macro avg       0.61      0.63      0.60      8910\n",
      "           weighted avg       0.75      0.70      0.72      8910\n",
      "\n",
      "\n",
      "\n",
      "\n",
      "[0.6976431  0.72233446 0.70965208 0.70381594 0.7047138 ]\n"
     ]
    }
   ],
   "source": [
    "from sklearn.metrics import classification_report, accuracy_score, make_scorer\n",
    "\n",
    "def classification_report_with_accuracy_score(y_true, y_pred):\n",
    "\n",
    "    print (classification_report(y_true, y_pred)) # print classification report\n",
    "    print('\\n\\n')\n",
    "    return accuracy_score(y_true, y_pred) # return accuracy score\n",
    "\n",
    "# Nested CV with parameter optimization\n",
    "nested_score = cross_val_score(base_model, X=X_train, y=y_train, cv=5, \\\n",
    "               scoring=make_scorer(classification_report_with_accuracy_score))\n",
    "print (nested_score)"
   ]
  },
  {
   "cell_type": "code",
   "execution_count": 380,
   "id": "eed5069a",
   "metadata": {},
   "outputs": [
    {
     "data": {
      "text/plain": [
       "{'functional': {'precision': 0.7859378543887503,\n",
       "  'recall': 0.7140031319541745,\n",
       "  'f1-score': 0.7482455572110298,\n",
       "  'support': 24266},\n",
       " 'functional needs repair': {'precision': 0.20368324125230203,\n",
       "  'recall': 0.6873834679925419,\n",
       "  'f1-score': 0.3142491831226027,\n",
       "  'support': 3218},\n",
       " 'non functional': {'precision': 0.8438814942035209,\n",
       "  'recall': 0.5758232743466541,\n",
       "  'f1-score': 0.6845459928250497,\n",
       "  'support': 17066},\n",
       " 'accuracy': 0.6591470258136924,\n",
       " 'macro avg': {'precision': 0.611167529948191,\n",
       "  'recall': 0.6590699580977901,\n",
       "  'f1-score': 0.582346911052894,\n",
       "  'support': 44550},\n",
       " 'weighted avg': {'precision': 0.766076368687421,\n",
       "  'recall': 0.6591470258136924,\n",
       "  'f1-score': 0.692494780608837,\n",
       "  'support': 44550}}"
      ]
     },
     "execution_count": 380,
     "metadata": {},
     "output_type": "execute_result"
    }
   ],
   "source": [
    "report = classification_report(y_train, base_y_hat_train, output_dict=True)\n",
    "report"
   ]
  },
  {
   "cell_type": "markdown",
   "id": "4fd4181b",
   "metadata": {},
   "source": [
    "# Second Model – Decision Tree"
   ]
  },
  {
   "cell_type": "code",
   "execution_count": 273,
   "id": "661be811",
   "metadata": {},
   "outputs": [],
   "source": [
    "dtc = DecisionTreeClassifier()"
   ]
  },
  {
   "cell_type": "code",
   "execution_count": 274,
   "id": "1bf5971a",
   "metadata": {
    "scrolled": false
   },
   "outputs": [
    {
     "data": {
      "text/plain": [
       "{'criterion': 'entropy',\n",
       " 'max_depth': 10,\n",
       " 'min_samples_leaf': 5,\n",
       " 'min_samples_split': 10,\n",
       " 'splitter': 'best'}"
      ]
     },
     "execution_count": 274,
     "metadata": {},
     "output_type": "execute_result"
    }
   ],
   "source": [
    "param_grid = {\n",
    "    'criterion': ['gini', 'entropy'],\n",
    "    'max_depth': [1, 2, 5, 10],\n",
    "    'min_samples_split': [5, 10, 20, 40],\n",
    "    'min_samples_leaf': [5, 10, 20],\n",
    "    'splitter': ['best', 'random']\n",
    "}\n",
    "\n",
    "gs_tree = GridSearchCV(dtc, param_grid, cv=3)\n",
    "gs_tree.fit(X_train_resampled, y_train_resampled)\n",
    "\n",
    "gs_tree.best_params_"
   ]
  },
  {
   "cell_type": "code",
   "execution_count": 275,
   "id": "bd8a35b8",
   "metadata": {},
   "outputs": [],
   "source": [
    "dtc = DecisionTreeClassifier(criterion= 'gini', max_depth= 10, min_samples_split= 5, min_samples_leaf=5, splitter='best')"
   ]
  },
  {
   "cell_type": "code",
   "execution_count": 276,
   "id": "80f08432",
   "metadata": {},
   "outputs": [
    {
     "data": {
      "text/html": [
       "<style>#sk-container-id-22 {color: black;background-color: white;}#sk-container-id-22 pre{padding: 0;}#sk-container-id-22 div.sk-toggleable {background-color: white;}#sk-container-id-22 label.sk-toggleable__label {cursor: pointer;display: block;width: 100%;margin-bottom: 0;padding: 0.3em;box-sizing: border-box;text-align: center;}#sk-container-id-22 label.sk-toggleable__label-arrow:before {content: \"▸\";float: left;margin-right: 0.25em;color: #696969;}#sk-container-id-22 label.sk-toggleable__label-arrow:hover:before {color: black;}#sk-container-id-22 div.sk-estimator:hover label.sk-toggleable__label-arrow:before {color: black;}#sk-container-id-22 div.sk-toggleable__content {max-height: 0;max-width: 0;overflow: hidden;text-align: left;background-color: #f0f8ff;}#sk-container-id-22 div.sk-toggleable__content pre {margin: 0.2em;color: black;border-radius: 0.25em;background-color: #f0f8ff;}#sk-container-id-22 input.sk-toggleable__control:checked~div.sk-toggleable__content {max-height: 200px;max-width: 100%;overflow: auto;}#sk-container-id-22 input.sk-toggleable__control:checked~label.sk-toggleable__label-arrow:before {content: \"▾\";}#sk-container-id-22 div.sk-estimator input.sk-toggleable__control:checked~label.sk-toggleable__label {background-color: #d4ebff;}#sk-container-id-22 div.sk-label input.sk-toggleable__control:checked~label.sk-toggleable__label {background-color: #d4ebff;}#sk-container-id-22 input.sk-hidden--visually {border: 0;clip: rect(1px 1px 1px 1px);clip: rect(1px, 1px, 1px, 1px);height: 1px;margin: -1px;overflow: hidden;padding: 0;position: absolute;width: 1px;}#sk-container-id-22 div.sk-estimator {font-family: monospace;background-color: #f0f8ff;border: 1px dotted black;border-radius: 0.25em;box-sizing: border-box;margin-bottom: 0.5em;}#sk-container-id-22 div.sk-estimator:hover {background-color: #d4ebff;}#sk-container-id-22 div.sk-parallel-item::after {content: \"\";width: 100%;border-bottom: 1px solid gray;flex-grow: 1;}#sk-container-id-22 div.sk-label:hover label.sk-toggleable__label {background-color: #d4ebff;}#sk-container-id-22 div.sk-serial::before {content: \"\";position: absolute;border-left: 1px solid gray;box-sizing: border-box;top: 0;bottom: 0;left: 50%;z-index: 0;}#sk-container-id-22 div.sk-serial {display: flex;flex-direction: column;align-items: center;background-color: white;padding-right: 0.2em;padding-left: 0.2em;position: relative;}#sk-container-id-22 div.sk-item {position: relative;z-index: 1;}#sk-container-id-22 div.sk-parallel {display: flex;align-items: stretch;justify-content: center;background-color: white;position: relative;}#sk-container-id-22 div.sk-item::before, #sk-container-id-22 div.sk-parallel-item::before {content: \"\";position: absolute;border-left: 1px solid gray;box-sizing: border-box;top: 0;bottom: 0;left: 50%;z-index: -1;}#sk-container-id-22 div.sk-parallel-item {display: flex;flex-direction: column;z-index: 1;position: relative;background-color: white;}#sk-container-id-22 div.sk-parallel-item:first-child::after {align-self: flex-end;width: 50%;}#sk-container-id-22 div.sk-parallel-item:last-child::after {align-self: flex-start;width: 50%;}#sk-container-id-22 div.sk-parallel-item:only-child::after {width: 0;}#sk-container-id-22 div.sk-dashed-wrapped {border: 1px dashed gray;margin: 0 0.4em 0.5em 0.4em;box-sizing: border-box;padding-bottom: 0.4em;background-color: white;}#sk-container-id-22 div.sk-label label {font-family: monospace;font-weight: bold;display: inline-block;line-height: 1.2em;}#sk-container-id-22 div.sk-label-container {text-align: center;}#sk-container-id-22 div.sk-container {/* jupyter's `normalize.less` sets `[hidden] { display: none; }` but bootstrap.min.css set `[hidden] { display: none !important; }` so we also need the `!important` here to be able to override the default hidden behavior on the sphinx rendered scikit-learn.org. See: https://github.com/scikit-learn/scikit-learn/issues/21755 */display: inline-block !important;position: relative;}#sk-container-id-22 div.sk-text-repr-fallback {display: none;}</style><div id=\"sk-container-id-22\" class=\"sk-top-container\"><div class=\"sk-text-repr-fallback\"><pre>DecisionTreeClassifier(max_depth=10, min_samples_leaf=5, min_samples_split=5)</pre><b>In a Jupyter environment, please rerun this cell to show the HTML representation or trust the notebook. <br />On GitHub, the HTML representation is unable to render, please try loading this page with nbviewer.org.</b></div><div class=\"sk-container\" hidden><div class=\"sk-item\"><div class=\"sk-estimator sk-toggleable\"><input class=\"sk-toggleable__control sk-hidden--visually\" id=\"sk-estimator-id-26\" type=\"checkbox\" checked><label for=\"sk-estimator-id-26\" class=\"sk-toggleable__label sk-toggleable__label-arrow\">DecisionTreeClassifier</label><div class=\"sk-toggleable__content\"><pre>DecisionTreeClassifier(max_depth=10, min_samples_leaf=5, min_samples_split=5)</pre></div></div></div></div></div>"
      ],
      "text/plain": [
       "DecisionTreeClassifier(max_depth=10, min_samples_leaf=5, min_samples_split=5)"
      ]
     },
     "execution_count": 276,
     "metadata": {},
     "output_type": "execute_result"
    }
   ],
   "source": [
    "dtc.fit(X_train_resampled, y_train_resampled)"
   ]
  },
  {
   "cell_type": "code",
   "execution_count": 277,
   "id": "20fad8f1",
   "metadata": {},
   "outputs": [],
   "source": [
    "# plt.figure(figsize=(12,12), dpi=500)\n",
    "# tree.plot_tree(dtc, \n",
    "#                feature_names=X_train.columns,\n",
    "#                class_names=np.unique(y).astype('str'),\n",
    "#                filled=True, rounded=True)\n",
    "# plt.show()"
   ]
  },
  {
   "cell_type": "code",
   "execution_count": 278,
   "id": "2cd330d0",
   "metadata": {},
   "outputs": [
    {
     "data": {
      "text/plain": [
       "0.7278338945005611"
      ]
     },
     "execution_count": 278,
     "metadata": {},
     "output_type": "execute_result"
    }
   ],
   "source": [
    "dtc_y_hat_train = dtc.predict(X_train)\n",
    "dtc_y_hat_test = dtc.predict(X_test)\n",
    "\n",
    "accuracy_score(y_train, dtc_y_hat_train)"
   ]
  },
  {
   "cell_type": "code",
   "execution_count": 279,
   "id": "806abbed",
   "metadata": {},
   "outputs": [
    {
     "data": {
      "text/plain": [
       "array([0.73905724, 0.73434343, 0.74141414, 0.74287318, 0.74489338])"
      ]
     },
     "execution_count": 279,
     "metadata": {},
     "output_type": "execute_result"
    }
   ],
   "source": [
    "cross_val_score(dtc, X_train, y_train, cv=5)"
   ]
  },
  {
   "cell_type": "code",
   "execution_count": 280,
   "id": "14675b33",
   "metadata": {},
   "outputs": [
    {
     "data": {
      "text/plain": [
       "array([[ 8777,   234,  8055],\n",
       "       [  165,   736,  2317],\n",
       "       [  763,   591, 22912]])"
      ]
     },
     "execution_count": 280,
     "metadata": {},
     "output_type": "execute_result"
    }
   ],
   "source": [
    "confusion_matrix(y_train, dtc_y_hat_train, labels = ['non functional', 'functional needs repair', 'functional'])"
   ]
  },
  {
   "cell_type": "code",
   "execution_count": 281,
   "id": "525c25cc",
   "metadata": {},
   "outputs": [
    {
     "name": "stdout",
     "output_type": "stream",
     "text": [
      "                         precision    recall  f1-score   support\n",
      "\n",
      "             functional       0.69      0.94      0.80     24266\n",
      "functional needs repair       0.47      0.23      0.31      3218\n",
      "         non functional       0.90      0.51      0.66     17066\n",
      "\n",
      "               accuracy                           0.73     44550\n",
      "              macro avg       0.69      0.56      0.59     44550\n",
      "           weighted avg       0.76      0.73      0.71     44550\n",
      "\n"
     ]
    }
   ],
   "source": [
    "print(classification_report(y_train, dtc_y_hat_train))"
   ]
  },
  {
   "cell_type": "code",
   "execution_count": 282,
   "id": "7da17975",
   "metadata": {},
   "outputs": [
    {
     "data": {
      "text/plain": [
       "0.7278338945005611"
      ]
     },
     "execution_count": 282,
     "metadata": {},
     "output_type": "execute_result"
    }
   ],
   "source": [
    "len(pd.DataFrame({'true': y_train, 'pred': dtc_y_hat_train}).query('true == pred')) / len(X_train)"
   ]
  },
  {
   "cell_type": "markdown",
   "id": "15b5a83d",
   "metadata": {},
   "source": [
    "# Third Model – K Nearest Neighbors"
   ]
  },
  {
   "cell_type": "code",
   "execution_count": 283,
   "id": "e50b597b",
   "metadata": {},
   "outputs": [
    {
     "data": {
      "text/html": [
       "<style>#sk-container-id-23 {color: black;background-color: white;}#sk-container-id-23 pre{padding: 0;}#sk-container-id-23 div.sk-toggleable {background-color: white;}#sk-container-id-23 label.sk-toggleable__label {cursor: pointer;display: block;width: 100%;margin-bottom: 0;padding: 0.3em;box-sizing: border-box;text-align: center;}#sk-container-id-23 label.sk-toggleable__label-arrow:before {content: \"▸\";float: left;margin-right: 0.25em;color: #696969;}#sk-container-id-23 label.sk-toggleable__label-arrow:hover:before {color: black;}#sk-container-id-23 div.sk-estimator:hover label.sk-toggleable__label-arrow:before {color: black;}#sk-container-id-23 div.sk-toggleable__content {max-height: 0;max-width: 0;overflow: hidden;text-align: left;background-color: #f0f8ff;}#sk-container-id-23 div.sk-toggleable__content pre {margin: 0.2em;color: black;border-radius: 0.25em;background-color: #f0f8ff;}#sk-container-id-23 input.sk-toggleable__control:checked~div.sk-toggleable__content {max-height: 200px;max-width: 100%;overflow: auto;}#sk-container-id-23 input.sk-toggleable__control:checked~label.sk-toggleable__label-arrow:before {content: \"▾\";}#sk-container-id-23 div.sk-estimator input.sk-toggleable__control:checked~label.sk-toggleable__label {background-color: #d4ebff;}#sk-container-id-23 div.sk-label input.sk-toggleable__control:checked~label.sk-toggleable__label {background-color: #d4ebff;}#sk-container-id-23 input.sk-hidden--visually {border: 0;clip: rect(1px 1px 1px 1px);clip: rect(1px, 1px, 1px, 1px);height: 1px;margin: -1px;overflow: hidden;padding: 0;position: absolute;width: 1px;}#sk-container-id-23 div.sk-estimator {font-family: monospace;background-color: #f0f8ff;border: 1px dotted black;border-radius: 0.25em;box-sizing: border-box;margin-bottom: 0.5em;}#sk-container-id-23 div.sk-estimator:hover {background-color: #d4ebff;}#sk-container-id-23 div.sk-parallel-item::after {content: \"\";width: 100%;border-bottom: 1px solid gray;flex-grow: 1;}#sk-container-id-23 div.sk-label:hover label.sk-toggleable__label {background-color: #d4ebff;}#sk-container-id-23 div.sk-serial::before {content: \"\";position: absolute;border-left: 1px solid gray;box-sizing: border-box;top: 0;bottom: 0;left: 50%;z-index: 0;}#sk-container-id-23 div.sk-serial {display: flex;flex-direction: column;align-items: center;background-color: white;padding-right: 0.2em;padding-left: 0.2em;position: relative;}#sk-container-id-23 div.sk-item {position: relative;z-index: 1;}#sk-container-id-23 div.sk-parallel {display: flex;align-items: stretch;justify-content: center;background-color: white;position: relative;}#sk-container-id-23 div.sk-item::before, #sk-container-id-23 div.sk-parallel-item::before {content: \"\";position: absolute;border-left: 1px solid gray;box-sizing: border-box;top: 0;bottom: 0;left: 50%;z-index: -1;}#sk-container-id-23 div.sk-parallel-item {display: flex;flex-direction: column;z-index: 1;position: relative;background-color: white;}#sk-container-id-23 div.sk-parallel-item:first-child::after {align-self: flex-end;width: 50%;}#sk-container-id-23 div.sk-parallel-item:last-child::after {align-self: flex-start;width: 50%;}#sk-container-id-23 div.sk-parallel-item:only-child::after {width: 0;}#sk-container-id-23 div.sk-dashed-wrapped {border: 1px dashed gray;margin: 0 0.4em 0.5em 0.4em;box-sizing: border-box;padding-bottom: 0.4em;background-color: white;}#sk-container-id-23 div.sk-label label {font-family: monospace;font-weight: bold;display: inline-block;line-height: 1.2em;}#sk-container-id-23 div.sk-label-container {text-align: center;}#sk-container-id-23 div.sk-container {/* jupyter's `normalize.less` sets `[hidden] { display: none; }` but bootstrap.min.css set `[hidden] { display: none !important; }` so we also need the `!important` here to be able to override the default hidden behavior on the sphinx rendered scikit-learn.org. See: https://github.com/scikit-learn/scikit-learn/issues/21755 */display: inline-block !important;position: relative;}#sk-container-id-23 div.sk-text-repr-fallback {display: none;}</style><div id=\"sk-container-id-23\" class=\"sk-top-container\"><div class=\"sk-text-repr-fallback\"><pre>KNeighborsClassifier(n_neighbors=3)</pre><b>In a Jupyter environment, please rerun this cell to show the HTML representation or trust the notebook. <br />On GitHub, the HTML representation is unable to render, please try loading this page with nbviewer.org.</b></div><div class=\"sk-container\" hidden><div class=\"sk-item\"><div class=\"sk-estimator sk-toggleable\"><input class=\"sk-toggleable__control sk-hidden--visually\" id=\"sk-estimator-id-27\" type=\"checkbox\" checked><label for=\"sk-estimator-id-27\" class=\"sk-toggleable__label sk-toggleable__label-arrow\">KNeighborsClassifier</label><div class=\"sk-toggleable__content\"><pre>KNeighborsClassifier(n_neighbors=3)</pre></div></div></div></div></div>"
      ],
      "text/plain": [
       "KNeighborsClassifier(n_neighbors=3)"
      ]
     },
     "execution_count": 283,
     "metadata": {},
     "output_type": "execute_result"
    }
   ],
   "source": [
    "knn = KNeighborsClassifier(n_neighbors=3)\n",
    "\n",
    "knn.fit(X_train_resampled, y_train_resampled)"
   ]
  },
  {
   "cell_type": "code",
   "execution_count": 284,
   "id": "1f0d53ed",
   "metadata": {},
   "outputs": [
    {
     "data": {
      "text/plain": [
       "0.8384960718294051"
      ]
     },
     "execution_count": 284,
     "metadata": {},
     "output_type": "execute_result"
    }
   ],
   "source": [
    "knn_y_hat_train = knn.predict(X_train)\n",
    "knn_y_hat_test = knn.predict(X_test)\n",
    "\n",
    "accuracy_score(y_train, knn_y_hat_train)"
   ]
  },
  {
   "cell_type": "code",
   "execution_count": 285,
   "id": "11278ea8",
   "metadata": {},
   "outputs": [
    {
     "data": {
      "text/plain": [
       "array([0.75207632, 0.75140292, 0.75993266, 0.76139169, 0.75342312])"
      ]
     },
     "execution_count": 285,
     "metadata": {},
     "output_type": "execute_result"
    }
   ],
   "source": [
    "cross_val_score(knn, X_train, y_train, cv=5)"
   ]
  },
  {
   "cell_type": "code",
   "execution_count": 286,
   "id": "edbf9585",
   "metadata": {},
   "outputs": [
    {
     "data": {
      "text/plain": [
       "array([[13812,   417,  2837],\n",
       "       [  256,  1957,  1005],\n",
       "       [ 1835,   845, 21586]])"
      ]
     },
     "execution_count": 286,
     "metadata": {},
     "output_type": "execute_result"
    }
   ],
   "source": [
    "confusion_matrix(y_train, knn_y_hat_train, labels = ['non functional', 'functional needs repair', 'functional'])"
   ]
  },
  {
   "cell_type": "markdown",
   "id": "dca99492",
   "metadata": {},
   "source": [
    "# Fourth Model – Bagging Classifier"
   ]
  },
  {
   "cell_type": "code",
   "execution_count": 295,
   "id": "27d38ae0",
   "metadata": {},
   "outputs": [],
   "source": [
    "bg_clf = BaggingClassifier()"
   ]
  },
  {
   "cell_type": "code",
   "execution_count": 299,
   "id": "536a2a42",
   "metadata": {},
   "outputs": [],
   "source": [
    "# parameters = {\n",
    "#     'n_estimators': [20, 50, 100]\n",
    "# }\n",
    "# clf = GridSearchCV(bg_clf, parameters, cv=5)\n",
    "# clf.fit(X_train_resampled, y_train_resampled)\n",
    "# plot_grid_search(clf)\n",
    "# table_grid_search(clf)"
   ]
  },
  {
   "cell_type": "code",
   "execution_count": 300,
   "id": "e917d810",
   "metadata": {},
   "outputs": [],
   "source": [
    "# parameters = {\n",
    "#     'max_samples': [x / 10 for x in range(1, 11)]\n",
    "# }\n",
    "# clf = GridSearchCV(bg_clf, parameters, cv=5)\n",
    "# clf.fit(X_train, y_train)\n",
    "# plot_grid_search(clf)\n",
    "# table_grid_search(clf)"
   ]
  },
  {
   "cell_type": "code",
   "execution_count": 301,
   "id": "060ba600",
   "metadata": {},
   "outputs": [],
   "source": [
    "# parameters = {\n",
    "#     'max_features': [0.1, 0.2, 0.3, 0.4, 0.5, 0.6, 0.7, 0.8, 0.85, 0.90, 0.92, 0.95, 1.0]\n",
    "# }\n",
    "# clf = GridSearchCV(bg_clf, parameters, cv=5)\n",
    "# clf.fit(X_train_resampled, y_train_resampled)\n",
    "# plot_grid_search(clf)\n",
    "# table_grid_search(clf)"
   ]
  },
  {
   "cell_type": "code",
   "execution_count": 302,
   "id": "43735402",
   "metadata": {},
   "outputs": [],
   "source": [
    "# parameters = {\n",
    "#     'bootstrap': [True, False]\n",
    "# }\n",
    "# clf = GridSearchCV(bg_clf, parameters, cv=5)\n",
    "# clf.fit(X_train_resampled, y_train_resampled)\n",
    "# plot_grid_search(clf)\n",
    "# table_grid_search(clf)"
   ]
  },
  {
   "cell_type": "code",
   "execution_count": 303,
   "id": "c881bd6c",
   "metadata": {},
   "outputs": [],
   "source": [
    "# parameters = {\n",
    "#     'bootstrap_features': [True, False]\n",
    "# }\n",
    "# clf = GridSearchCV(bg_clf, parameters, cv=5)\n",
    "# clf.fit(X_train_resampled, y_train_resampled)\n",
    "# plot_grid_search(clf)\n",
    "# table_grid_search(clf)"
   ]
  },
  {
   "cell_type": "code",
   "execution_count": 304,
   "id": "c95c965f",
   "metadata": {},
   "outputs": [],
   "source": [
    "# parameters = {\n",
    "#     'bootstrap_features': [True, False]\n",
    "# }\n",
    "# clf = GridSearchCV(bg_clf, parameters, cv=5)\n",
    "# clf.fit(X_train_resampled, y_train_resampled)\n",
    "# plot_grid_search(clf)\n",
    "# table_grid_search(clf)"
   ]
  },
  {
   "cell_type": "code",
   "execution_count": 305,
   "id": "7641f1e4",
   "metadata": {},
   "outputs": [],
   "source": [
    "# parameters = {\n",
    "#     'oob_score': [True, False]\n",
    "# }\n",
    "# clf = GridSearchCV(bg_clf, parameters, cv=5)\n",
    "# clf.fit(X_train_resampled, y_train_resampled)\n",
    "# plot_grid_search(clf)\n",
    "# table_grid_search(clf)"
   ]
  },
  {
   "cell_type": "code",
   "execution_count": 306,
   "id": "85fe0391",
   "metadata": {},
   "outputs": [],
   "source": [
    "# parameters = {\n",
    "#     'warm_start': [True, False]\n",
    "# }\n",
    "# clf = GridSearchCV(bg_clf, parameters, cv=5)\n",
    "# clf.fit(X_train_resampled, y_train_resampled)\n",
    "# plot_grid_search(clf)\n",
    "# table_grid_search(clf)"
   ]
  },
  {
   "cell_type": "code",
   "execution_count": 307,
   "id": "ac272151",
   "metadata": {},
   "outputs": [
    {
     "data": {
      "text/html": [
       "<style>#sk-container-id-24 {color: black;background-color: white;}#sk-container-id-24 pre{padding: 0;}#sk-container-id-24 div.sk-toggleable {background-color: white;}#sk-container-id-24 label.sk-toggleable__label {cursor: pointer;display: block;width: 100%;margin-bottom: 0;padding: 0.3em;box-sizing: border-box;text-align: center;}#sk-container-id-24 label.sk-toggleable__label-arrow:before {content: \"▸\";float: left;margin-right: 0.25em;color: #696969;}#sk-container-id-24 label.sk-toggleable__label-arrow:hover:before {color: black;}#sk-container-id-24 div.sk-estimator:hover label.sk-toggleable__label-arrow:before {color: black;}#sk-container-id-24 div.sk-toggleable__content {max-height: 0;max-width: 0;overflow: hidden;text-align: left;background-color: #f0f8ff;}#sk-container-id-24 div.sk-toggleable__content pre {margin: 0.2em;color: black;border-radius: 0.25em;background-color: #f0f8ff;}#sk-container-id-24 input.sk-toggleable__control:checked~div.sk-toggleable__content {max-height: 200px;max-width: 100%;overflow: auto;}#sk-container-id-24 input.sk-toggleable__control:checked~label.sk-toggleable__label-arrow:before {content: \"▾\";}#sk-container-id-24 div.sk-estimator input.sk-toggleable__control:checked~label.sk-toggleable__label {background-color: #d4ebff;}#sk-container-id-24 div.sk-label input.sk-toggleable__control:checked~label.sk-toggleable__label {background-color: #d4ebff;}#sk-container-id-24 input.sk-hidden--visually {border: 0;clip: rect(1px 1px 1px 1px);clip: rect(1px, 1px, 1px, 1px);height: 1px;margin: -1px;overflow: hidden;padding: 0;position: absolute;width: 1px;}#sk-container-id-24 div.sk-estimator {font-family: monospace;background-color: #f0f8ff;border: 1px dotted black;border-radius: 0.25em;box-sizing: border-box;margin-bottom: 0.5em;}#sk-container-id-24 div.sk-estimator:hover {background-color: #d4ebff;}#sk-container-id-24 div.sk-parallel-item::after {content: \"\";width: 100%;border-bottom: 1px solid gray;flex-grow: 1;}#sk-container-id-24 div.sk-label:hover label.sk-toggleable__label {background-color: #d4ebff;}#sk-container-id-24 div.sk-serial::before {content: \"\";position: absolute;border-left: 1px solid gray;box-sizing: border-box;top: 0;bottom: 0;left: 50%;z-index: 0;}#sk-container-id-24 div.sk-serial {display: flex;flex-direction: column;align-items: center;background-color: white;padding-right: 0.2em;padding-left: 0.2em;position: relative;}#sk-container-id-24 div.sk-item {position: relative;z-index: 1;}#sk-container-id-24 div.sk-parallel {display: flex;align-items: stretch;justify-content: center;background-color: white;position: relative;}#sk-container-id-24 div.sk-item::before, #sk-container-id-24 div.sk-parallel-item::before {content: \"\";position: absolute;border-left: 1px solid gray;box-sizing: border-box;top: 0;bottom: 0;left: 50%;z-index: -1;}#sk-container-id-24 div.sk-parallel-item {display: flex;flex-direction: column;z-index: 1;position: relative;background-color: white;}#sk-container-id-24 div.sk-parallel-item:first-child::after {align-self: flex-end;width: 50%;}#sk-container-id-24 div.sk-parallel-item:last-child::after {align-self: flex-start;width: 50%;}#sk-container-id-24 div.sk-parallel-item:only-child::after {width: 0;}#sk-container-id-24 div.sk-dashed-wrapped {border: 1px dashed gray;margin: 0 0.4em 0.5em 0.4em;box-sizing: border-box;padding-bottom: 0.4em;background-color: white;}#sk-container-id-24 div.sk-label label {font-family: monospace;font-weight: bold;display: inline-block;line-height: 1.2em;}#sk-container-id-24 div.sk-label-container {text-align: center;}#sk-container-id-24 div.sk-container {/* jupyter's `normalize.less` sets `[hidden] { display: none; }` but bootstrap.min.css set `[hidden] { display: none !important; }` so we also need the `!important` here to be able to override the default hidden behavior on the sphinx rendered scikit-learn.org. See: https://github.com/scikit-learn/scikit-learn/issues/21755 */display: inline-block !important;position: relative;}#sk-container-id-24 div.sk-text-repr-fallback {display: none;}</style><div id=\"sk-container-id-24\" class=\"sk-top-container\"><div class=\"sk-text-repr-fallback\"><pre>BaggingClassifier(estimator=DecisionTreeClassifier(), max_features=50,\n",
       "                  n_estimators=50)</pre><b>In a Jupyter environment, please rerun this cell to show the HTML representation or trust the notebook. <br />On GitHub, the HTML representation is unable to render, please try loading this page with nbviewer.org.</b></div><div class=\"sk-container\" hidden><div class=\"sk-item sk-dashed-wrapped\"><div class=\"sk-label-container\"><div class=\"sk-label sk-toggleable\"><input class=\"sk-toggleable__control sk-hidden--visually\" id=\"sk-estimator-id-28\" type=\"checkbox\" ><label for=\"sk-estimator-id-28\" class=\"sk-toggleable__label sk-toggleable__label-arrow\">BaggingClassifier</label><div class=\"sk-toggleable__content\"><pre>BaggingClassifier(estimator=DecisionTreeClassifier(), max_features=50,\n",
       "                  n_estimators=50)</pre></div></div></div><div class=\"sk-parallel\"><div class=\"sk-parallel-item\"><div class=\"sk-item\"><div class=\"sk-label-container\"><div class=\"sk-label sk-toggleable\"><input class=\"sk-toggleable__control sk-hidden--visually\" id=\"sk-estimator-id-29\" type=\"checkbox\" ><label for=\"sk-estimator-id-29\" class=\"sk-toggleable__label sk-toggleable__label-arrow\">estimator: DecisionTreeClassifier</label><div class=\"sk-toggleable__content\"><pre>DecisionTreeClassifier()</pre></div></div></div><div class=\"sk-serial\"><div class=\"sk-item\"><div class=\"sk-estimator sk-toggleable\"><input class=\"sk-toggleable__control sk-hidden--visually\" id=\"sk-estimator-id-30\" type=\"checkbox\" ><label for=\"sk-estimator-id-30\" class=\"sk-toggleable__label sk-toggleable__label-arrow\">DecisionTreeClassifier</label><div class=\"sk-toggleable__content\"><pre>DecisionTreeClassifier()</pre></div></div></div></div></div></div></div></div></div></div>"
      ],
      "text/plain": [
       "BaggingClassifier(estimator=DecisionTreeClassifier(), max_features=50,\n",
       "                  n_estimators=50)"
      ]
     },
     "execution_count": 307,
     "metadata": {},
     "output_type": "execute_result"
    }
   ],
   "source": [
    "bagged_tree = BaggingClassifier(estimator=DecisionTreeClassifier(), n_estimators=50, max_features=50)\n",
    "bagged_tree.fit(X_train_resampled, y_train_resampled)"
   ]
  },
  {
   "cell_type": "code",
   "execution_count": 308,
   "id": "4682147b",
   "metadata": {},
   "outputs": [],
   "source": [
    "bagged_preds = bagged_tree.predict(X_train)"
   ]
  },
  {
   "cell_type": "code",
   "execution_count": 309,
   "id": "f3e8856d",
   "metadata": {},
   "outputs": [
    {
     "data": {
      "text/plain": [
       "array([0.7630752 , 0.77407407, 0.76734007, 0.76565657, 0.77025814])"
      ]
     },
     "execution_count": 309,
     "metadata": {},
     "output_type": "execute_result"
    }
   ],
   "source": [
    "cross_val_score(bagged_tree, X_train, y_train, cv=5)"
   ]
  },
  {
   "cell_type": "code",
   "execution_count": 310,
   "id": "7e57d4fe",
   "metadata": {},
   "outputs": [
    {
     "data": {
      "text/plain": [
       "array([[13835,   175,  3056],\n",
       "       [  180,  1668,  1370],\n",
       "       [  432,   365, 23469]])"
      ]
     },
     "execution_count": 310,
     "metadata": {},
     "output_type": "execute_result"
    }
   ],
   "source": [
    "confusion_matrix(y_train, bagged_preds, labels = ['non functional', 'functional needs repair', 'functional'])"
   ]
  },
  {
   "cell_type": "code",
   "execution_count": 311,
   "id": "a538df21",
   "metadata": {},
   "outputs": [
    {
     "name": "stdout",
     "output_type": "stream",
     "text": [
      "                         precision    recall  f1-score   support\n",
      "\n",
      "             functional       0.84      0.97      0.90     24266\n",
      "functional needs repair       0.76      0.52      0.61      3218\n",
      "         non functional       0.96      0.81      0.88     17066\n",
      "\n",
      "               accuracy                           0.87     44550\n",
      "              macro avg       0.85      0.77      0.80     44550\n",
      "           weighted avg       0.88      0.87      0.87     44550\n",
      "\n"
     ]
    }
   ],
   "source": [
    "print(classification_report(y_train, bagged_preds))"
   ]
  },
  {
   "cell_type": "code",
   "execution_count": 312,
   "id": "d26e58ec",
   "metadata": {},
   "outputs": [
    {
     "data": {
      "text/plain": [
       "0.8747923681257015"
      ]
     },
     "execution_count": 312,
     "metadata": {},
     "output_type": "execute_result"
    }
   ],
   "source": [
    "len(pd.DataFrame({'true': y_train, 'pred': bagged_preds}).query('true == pred')) / len(X_train)"
   ]
  },
  {
   "cell_type": "markdown",
   "id": "2a77e8a1",
   "metadata": {},
   "source": [
    "# Fifth Model – Random Forest"
   ]
  },
  {
   "cell_type": "code",
   "execution_count": 313,
   "id": "be892adb",
   "metadata": {},
   "outputs": [
    {
     "data": {
      "text/plain": [
       "{'criterion': 'entropy',\n",
       " 'max_depth': 10,\n",
       " 'min_samples_leaf': 5,\n",
       " 'min_samples_split': 10}"
      ]
     },
     "execution_count": 313,
     "metadata": {},
     "output_type": "execute_result"
    }
   ],
   "source": [
    "forest = RandomForestClassifier()\n",
    "\n",
    "param_grid = {\n",
    "    'criterion': ['gini', 'entropy'],\n",
    "    'max_depth': [1, 2, 5, 10],\n",
    "    'min_samples_split': [5, 10, 20, 40],\n",
    "    'min_samples_leaf': [5, 10, 20]\n",
    "}\n",
    "\n",
    "gs_forest = GridSearchCV(forest, param_grid, cv=3)\n",
    "gs_forest.fit(X_train_resampled, y_train_resampled)\n",
    "\n",
    "gs_forest.best_params_"
   ]
  },
  {
   "cell_type": "code",
   "execution_count": 314,
   "id": "32c3d0d1",
   "metadata": {},
   "outputs": [],
   "source": [
    "forest_preds = gs_forest.predict(X_train)"
   ]
  },
  {
   "cell_type": "code",
   "execution_count": 315,
   "id": "5c951934",
   "metadata": {},
   "outputs": [
    {
     "data": {
      "text/plain": [
       "0.7387654320987654"
      ]
     },
     "execution_count": 315,
     "metadata": {},
     "output_type": "execute_result"
    }
   ],
   "source": [
    "# Training accuracy score\n",
    "gs_forest.score(X_train, y_train)"
   ]
  },
  {
   "cell_type": "code",
   "execution_count": 316,
   "id": "8a01640f",
   "metadata": {},
   "outputs": [
    {
     "data": {
      "text/plain": [
       "array([0.74163861, 0.74118967, 0.74657688, 0.73928171, 0.73894501])"
      ]
     },
     "execution_count": 316,
     "metadata": {},
     "output_type": "execute_result"
    }
   ],
   "source": [
    "cross_val_score(gs_forest, X_train, y_train, cv=5)"
   ]
  },
  {
   "cell_type": "code",
   "execution_count": 317,
   "id": "5b13897b",
   "metadata": {},
   "outputs": [
    {
     "data": {
      "text/plain": [
       "array([[ 9144,   206,  7716],\n",
       "       [  223,   728,  2267],\n",
       "       [  752,   474, 23040]])"
      ]
     },
     "execution_count": 317,
     "metadata": {},
     "output_type": "execute_result"
    }
   ],
   "source": [
    "confusion_matrix(y_train, forest_preds, labels = ['non functional', 'functional needs repair', 'functional'])"
   ]
  },
  {
   "cell_type": "code",
   "execution_count": 318,
   "id": "f86e2765",
   "metadata": {},
   "outputs": [
    {
     "name": "stdout",
     "output_type": "stream",
     "text": [
      "                         precision    recall  f1-score   support\n",
      "\n",
      "             functional       0.70      0.95      0.80     24266\n",
      "functional needs repair       0.52      0.23      0.31      3218\n",
      "         non functional       0.90      0.54      0.67     17066\n",
      "\n",
      "               accuracy                           0.74     44550\n",
      "              macro avg       0.71      0.57      0.60     44550\n",
      "           weighted avg       0.76      0.74      0.72     44550\n",
      "\n"
     ]
    }
   ],
   "source": [
    "print(classification_report(y_train, forest_preds))"
   ]
  },
  {
   "cell_type": "markdown",
   "id": "6b6d28f6",
   "metadata": {},
   "source": [
    "# Sixth Model – XGBoost"
   ]
  },
  {
   "cell_type": "code",
   "execution_count": 319,
   "id": "9bdcc953",
   "metadata": {},
   "outputs": [],
   "source": [
    "xgboost_y_train_resampled = y_train_resampled.map({'non functional': 0, 'functional needs repair': 1, 'functional': 2})"
   ]
  },
  {
   "cell_type": "code",
   "execution_count": 320,
   "id": "384c3446",
   "metadata": {},
   "outputs": [],
   "source": [
    "xgboost_y_train = y_train.map({'non functional': 0, 'functional needs repair': 1, 'functional': 2})"
   ]
  },
  {
   "cell_type": "code",
   "execution_count": 321,
   "id": "150ddbc6",
   "metadata": {},
   "outputs": [
    {
     "data": {
      "text/html": [
       "<style>#sk-container-id-25 {color: black;background-color: white;}#sk-container-id-25 pre{padding: 0;}#sk-container-id-25 div.sk-toggleable {background-color: white;}#sk-container-id-25 label.sk-toggleable__label {cursor: pointer;display: block;width: 100%;margin-bottom: 0;padding: 0.3em;box-sizing: border-box;text-align: center;}#sk-container-id-25 label.sk-toggleable__label-arrow:before {content: \"▸\";float: left;margin-right: 0.25em;color: #696969;}#sk-container-id-25 label.sk-toggleable__label-arrow:hover:before {color: black;}#sk-container-id-25 div.sk-estimator:hover label.sk-toggleable__label-arrow:before {color: black;}#sk-container-id-25 div.sk-toggleable__content {max-height: 0;max-width: 0;overflow: hidden;text-align: left;background-color: #f0f8ff;}#sk-container-id-25 div.sk-toggleable__content pre {margin: 0.2em;color: black;border-radius: 0.25em;background-color: #f0f8ff;}#sk-container-id-25 input.sk-toggleable__control:checked~div.sk-toggleable__content {max-height: 200px;max-width: 100%;overflow: auto;}#sk-container-id-25 input.sk-toggleable__control:checked~label.sk-toggleable__label-arrow:before {content: \"▾\";}#sk-container-id-25 div.sk-estimator input.sk-toggleable__control:checked~label.sk-toggleable__label {background-color: #d4ebff;}#sk-container-id-25 div.sk-label input.sk-toggleable__control:checked~label.sk-toggleable__label {background-color: #d4ebff;}#sk-container-id-25 input.sk-hidden--visually {border: 0;clip: rect(1px 1px 1px 1px);clip: rect(1px, 1px, 1px, 1px);height: 1px;margin: -1px;overflow: hidden;padding: 0;position: absolute;width: 1px;}#sk-container-id-25 div.sk-estimator {font-family: monospace;background-color: #f0f8ff;border: 1px dotted black;border-radius: 0.25em;box-sizing: border-box;margin-bottom: 0.5em;}#sk-container-id-25 div.sk-estimator:hover {background-color: #d4ebff;}#sk-container-id-25 div.sk-parallel-item::after {content: \"\";width: 100%;border-bottom: 1px solid gray;flex-grow: 1;}#sk-container-id-25 div.sk-label:hover label.sk-toggleable__label {background-color: #d4ebff;}#sk-container-id-25 div.sk-serial::before {content: \"\";position: absolute;border-left: 1px solid gray;box-sizing: border-box;top: 0;bottom: 0;left: 50%;z-index: 0;}#sk-container-id-25 div.sk-serial {display: flex;flex-direction: column;align-items: center;background-color: white;padding-right: 0.2em;padding-left: 0.2em;position: relative;}#sk-container-id-25 div.sk-item {position: relative;z-index: 1;}#sk-container-id-25 div.sk-parallel {display: flex;align-items: stretch;justify-content: center;background-color: white;position: relative;}#sk-container-id-25 div.sk-item::before, #sk-container-id-25 div.sk-parallel-item::before {content: \"\";position: absolute;border-left: 1px solid gray;box-sizing: border-box;top: 0;bottom: 0;left: 50%;z-index: -1;}#sk-container-id-25 div.sk-parallel-item {display: flex;flex-direction: column;z-index: 1;position: relative;background-color: white;}#sk-container-id-25 div.sk-parallel-item:first-child::after {align-self: flex-end;width: 50%;}#sk-container-id-25 div.sk-parallel-item:last-child::after {align-self: flex-start;width: 50%;}#sk-container-id-25 div.sk-parallel-item:only-child::after {width: 0;}#sk-container-id-25 div.sk-dashed-wrapped {border: 1px dashed gray;margin: 0 0.4em 0.5em 0.4em;box-sizing: border-box;padding-bottom: 0.4em;background-color: white;}#sk-container-id-25 div.sk-label label {font-family: monospace;font-weight: bold;display: inline-block;line-height: 1.2em;}#sk-container-id-25 div.sk-label-container {text-align: center;}#sk-container-id-25 div.sk-container {/* jupyter's `normalize.less` sets `[hidden] { display: none; }` but bootstrap.min.css set `[hidden] { display: none !important; }` so we also need the `!important` here to be able to override the default hidden behavior on the sphinx rendered scikit-learn.org. See: https://github.com/scikit-learn/scikit-learn/issues/21755 */display: inline-block !important;position: relative;}#sk-container-id-25 div.sk-text-repr-fallback {display: none;}</style><div id=\"sk-container-id-25\" class=\"sk-top-container\"><div class=\"sk-text-repr-fallback\"><pre>XGBClassifier(base_score=None, booster=None, callbacks=None,\n",
       "              colsample_bylevel=None, colsample_bynode=None,\n",
       "              colsample_bytree=None, early_stopping_rounds=None,\n",
       "              enable_categorical=False, eval_metric=None, feature_types=None,\n",
       "              gamma=None, gpu_id=None, grow_policy=None, importance_type=None,\n",
       "              interaction_constraints=None, learning_rate=None, max_bin=None,\n",
       "              max_cat_threshold=None, max_cat_to_onehot=None,\n",
       "              max_delta_step=None, max_depth=None, max_leaves=None,\n",
       "              min_child_weight=None, missing=nan, monotone_constraints=None,\n",
       "              n_estimators=100, n_jobs=None, num_parallel_tree=None,\n",
       "              objective=&#x27;multi:softprob&#x27;, predictor=None, ...)</pre><b>In a Jupyter environment, please rerun this cell to show the HTML representation or trust the notebook. <br />On GitHub, the HTML representation is unable to render, please try loading this page with nbviewer.org.</b></div><div class=\"sk-container\" hidden><div class=\"sk-item\"><div class=\"sk-estimator sk-toggleable\"><input class=\"sk-toggleable__control sk-hidden--visually\" id=\"sk-estimator-id-31\" type=\"checkbox\" checked><label for=\"sk-estimator-id-31\" class=\"sk-toggleable__label sk-toggleable__label-arrow\">XGBClassifier</label><div class=\"sk-toggleable__content\"><pre>XGBClassifier(base_score=None, booster=None, callbacks=None,\n",
       "              colsample_bylevel=None, colsample_bynode=None,\n",
       "              colsample_bytree=None, early_stopping_rounds=None,\n",
       "              enable_categorical=False, eval_metric=None, feature_types=None,\n",
       "              gamma=None, gpu_id=None, grow_policy=None, importance_type=None,\n",
       "              interaction_constraints=None, learning_rate=None, max_bin=None,\n",
       "              max_cat_threshold=None, max_cat_to_onehot=None,\n",
       "              max_delta_step=None, max_depth=None, max_leaves=None,\n",
       "              min_child_weight=None, missing=nan, monotone_constraints=None,\n",
       "              n_estimators=100, n_jobs=None, num_parallel_tree=None,\n",
       "              objective=&#x27;multi:softprob&#x27;, predictor=None, ...)</pre></div></div></div></div></div>"
      ],
      "text/plain": [
       "XGBClassifier(base_score=None, booster=None, callbacks=None,\n",
       "              colsample_bylevel=None, colsample_bynode=None,\n",
       "              colsample_bytree=None, early_stopping_rounds=None,\n",
       "              enable_categorical=False, eval_metric=None, feature_types=None,\n",
       "              gamma=None, gpu_id=None, grow_policy=None, importance_type=None,\n",
       "              interaction_constraints=None, learning_rate=None, max_bin=None,\n",
       "              max_cat_threshold=None, max_cat_to_onehot=None,\n",
       "              max_delta_step=None, max_depth=None, max_leaves=None,\n",
       "              min_child_weight=None, missing=nan, monotone_constraints=None,\n",
       "              n_estimators=100, n_jobs=None, num_parallel_tree=None,\n",
       "              objective='multi:softprob', predictor=None, ...)"
      ]
     },
     "execution_count": 321,
     "metadata": {},
     "output_type": "execute_result"
    }
   ],
   "source": [
    "xgb = XGBClassifier()\n",
    "xgb.fit(X_train_resampled, xgboost_y_train_resampled)"
   ]
  },
  {
   "cell_type": "code",
   "execution_count": 322,
   "id": "caf4535c",
   "metadata": {},
   "outputs": [],
   "source": [
    "xgboost_train_preds = xgb.predict(X_train)\n",
    "xgboost_test_preds = xgb.predict(X_test)"
   ]
  },
  {
   "cell_type": "code",
   "execution_count": 323,
   "id": "571e4692",
   "metadata": {
    "scrolled": true
   },
   "outputs": [
    {
     "data": {
      "text/plain": [
       "0.8000224466891134"
      ]
     },
     "execution_count": 323,
     "metadata": {},
     "output_type": "execute_result"
    }
   ],
   "source": [
    "accuracy_score(xgboost_y_train, xgboost_train_preds)"
   ]
  },
  {
   "cell_type": "code",
   "execution_count": 324,
   "id": "3742d328",
   "metadata": {
    "scrolled": true
   },
   "outputs": [
    {
     "data": {
      "text/plain": [
       "array([0.78170595, 0.78226712, 0.78395062, 0.78496072, 0.78361392])"
      ]
     },
     "execution_count": 324,
     "metadata": {},
     "output_type": "execute_result"
    }
   ],
   "source": [
    "cross_val_score(xgb, X_train, xgboost_y_train, cv=5)"
   ]
  },
  {
   "cell_type": "code",
   "execution_count": 325,
   "id": "9fd63794",
   "metadata": {},
   "outputs": [
    {
     "data": {
      "text/plain": [
       "array([[12441,   597,  4028],\n",
       "       [  337,  1499,  1382],\n",
       "       [ 1451,  1114, 21701]])"
      ]
     },
     "execution_count": 325,
     "metadata": {},
     "output_type": "execute_result"
    }
   ],
   "source": [
    "confusion_matrix(xgboost_y_train, xgboost_train_preds)"
   ]
  },
  {
   "cell_type": "code",
   "execution_count": 326,
   "id": "99bd9f6c",
   "metadata": {},
   "outputs": [
    {
     "name": "stdout",
     "output_type": "stream",
     "text": [
      "              precision    recall  f1-score   support\n",
      "\n",
      "           0       0.87      0.73      0.80     17066\n",
      "           1       0.47      0.47      0.47      3218\n",
      "           2       0.80      0.89      0.84     24266\n",
      "\n",
      "    accuracy                           0.80     44550\n",
      "   macro avg       0.71      0.70      0.70     44550\n",
      "weighted avg       0.80      0.80      0.80     44550\n",
      "\n"
     ]
    }
   ],
   "source": [
    "print(classification_report(xgboost_y_train, xgboost_train_preds))"
   ]
  },
  {
   "cell_type": "markdown",
   "id": "87099d95",
   "metadata": {},
   "source": [
    "# Eigth Model – Adaboost Classifier"
   ]
  },
  {
   "cell_type": "code",
   "execution_count": 327,
   "id": "ac1e7aea",
   "metadata": {},
   "outputs": [],
   "source": [
    "# Instantiate an AdaBoostClassifier\n",
    "adaboost_clf = AdaBoostClassifier(estimator=DecisionTreeClassifier(), n_estimators=100, random_state=42)"
   ]
  },
  {
   "cell_type": "code",
   "execution_count": 328,
   "id": "6e472bbe",
   "metadata": {},
   "outputs": [
    {
     "data": {
      "text/html": [
       "<style>#sk-container-id-26 {color: black;background-color: white;}#sk-container-id-26 pre{padding: 0;}#sk-container-id-26 div.sk-toggleable {background-color: white;}#sk-container-id-26 label.sk-toggleable__label {cursor: pointer;display: block;width: 100%;margin-bottom: 0;padding: 0.3em;box-sizing: border-box;text-align: center;}#sk-container-id-26 label.sk-toggleable__label-arrow:before {content: \"▸\";float: left;margin-right: 0.25em;color: #696969;}#sk-container-id-26 label.sk-toggleable__label-arrow:hover:before {color: black;}#sk-container-id-26 div.sk-estimator:hover label.sk-toggleable__label-arrow:before {color: black;}#sk-container-id-26 div.sk-toggleable__content {max-height: 0;max-width: 0;overflow: hidden;text-align: left;background-color: #f0f8ff;}#sk-container-id-26 div.sk-toggleable__content pre {margin: 0.2em;color: black;border-radius: 0.25em;background-color: #f0f8ff;}#sk-container-id-26 input.sk-toggleable__control:checked~div.sk-toggleable__content {max-height: 200px;max-width: 100%;overflow: auto;}#sk-container-id-26 input.sk-toggleable__control:checked~label.sk-toggleable__label-arrow:before {content: \"▾\";}#sk-container-id-26 div.sk-estimator input.sk-toggleable__control:checked~label.sk-toggleable__label {background-color: #d4ebff;}#sk-container-id-26 div.sk-label input.sk-toggleable__control:checked~label.sk-toggleable__label {background-color: #d4ebff;}#sk-container-id-26 input.sk-hidden--visually {border: 0;clip: rect(1px 1px 1px 1px);clip: rect(1px, 1px, 1px, 1px);height: 1px;margin: -1px;overflow: hidden;padding: 0;position: absolute;width: 1px;}#sk-container-id-26 div.sk-estimator {font-family: monospace;background-color: #f0f8ff;border: 1px dotted black;border-radius: 0.25em;box-sizing: border-box;margin-bottom: 0.5em;}#sk-container-id-26 div.sk-estimator:hover {background-color: #d4ebff;}#sk-container-id-26 div.sk-parallel-item::after {content: \"\";width: 100%;border-bottom: 1px solid gray;flex-grow: 1;}#sk-container-id-26 div.sk-label:hover label.sk-toggleable__label {background-color: #d4ebff;}#sk-container-id-26 div.sk-serial::before {content: \"\";position: absolute;border-left: 1px solid gray;box-sizing: border-box;top: 0;bottom: 0;left: 50%;z-index: 0;}#sk-container-id-26 div.sk-serial {display: flex;flex-direction: column;align-items: center;background-color: white;padding-right: 0.2em;padding-left: 0.2em;position: relative;}#sk-container-id-26 div.sk-item {position: relative;z-index: 1;}#sk-container-id-26 div.sk-parallel {display: flex;align-items: stretch;justify-content: center;background-color: white;position: relative;}#sk-container-id-26 div.sk-item::before, #sk-container-id-26 div.sk-parallel-item::before {content: \"\";position: absolute;border-left: 1px solid gray;box-sizing: border-box;top: 0;bottom: 0;left: 50%;z-index: -1;}#sk-container-id-26 div.sk-parallel-item {display: flex;flex-direction: column;z-index: 1;position: relative;background-color: white;}#sk-container-id-26 div.sk-parallel-item:first-child::after {align-self: flex-end;width: 50%;}#sk-container-id-26 div.sk-parallel-item:last-child::after {align-self: flex-start;width: 50%;}#sk-container-id-26 div.sk-parallel-item:only-child::after {width: 0;}#sk-container-id-26 div.sk-dashed-wrapped {border: 1px dashed gray;margin: 0 0.4em 0.5em 0.4em;box-sizing: border-box;padding-bottom: 0.4em;background-color: white;}#sk-container-id-26 div.sk-label label {font-family: monospace;font-weight: bold;display: inline-block;line-height: 1.2em;}#sk-container-id-26 div.sk-label-container {text-align: center;}#sk-container-id-26 div.sk-container {/* jupyter's `normalize.less` sets `[hidden] { display: none; }` but bootstrap.min.css set `[hidden] { display: none !important; }` so we also need the `!important` here to be able to override the default hidden behavior on the sphinx rendered scikit-learn.org. See: https://github.com/scikit-learn/scikit-learn/issues/21755 */display: inline-block !important;position: relative;}#sk-container-id-26 div.sk-text-repr-fallback {display: none;}</style><div id=\"sk-container-id-26\" class=\"sk-top-container\"><div class=\"sk-text-repr-fallback\"><pre>AdaBoostClassifier(estimator=DecisionTreeClassifier(), n_estimators=100,\n",
       "                   random_state=42)</pre><b>In a Jupyter environment, please rerun this cell to show the HTML representation or trust the notebook. <br />On GitHub, the HTML representation is unable to render, please try loading this page with nbviewer.org.</b></div><div class=\"sk-container\" hidden><div class=\"sk-item sk-dashed-wrapped\"><div class=\"sk-label-container\"><div class=\"sk-label sk-toggleable\"><input class=\"sk-toggleable__control sk-hidden--visually\" id=\"sk-estimator-id-32\" type=\"checkbox\" ><label for=\"sk-estimator-id-32\" class=\"sk-toggleable__label sk-toggleable__label-arrow\">AdaBoostClassifier</label><div class=\"sk-toggleable__content\"><pre>AdaBoostClassifier(estimator=DecisionTreeClassifier(), n_estimators=100,\n",
       "                   random_state=42)</pre></div></div></div><div class=\"sk-parallel\"><div class=\"sk-parallel-item\"><div class=\"sk-item\"><div class=\"sk-label-container\"><div class=\"sk-label sk-toggleable\"><input class=\"sk-toggleable__control sk-hidden--visually\" id=\"sk-estimator-id-33\" type=\"checkbox\" ><label for=\"sk-estimator-id-33\" class=\"sk-toggleable__label sk-toggleable__label-arrow\">estimator: DecisionTreeClassifier</label><div class=\"sk-toggleable__content\"><pre>DecisionTreeClassifier()</pre></div></div></div><div class=\"sk-serial\"><div class=\"sk-item\"><div class=\"sk-estimator sk-toggleable\"><input class=\"sk-toggleable__control sk-hidden--visually\" id=\"sk-estimator-id-34\" type=\"checkbox\" ><label for=\"sk-estimator-id-34\" class=\"sk-toggleable__label sk-toggleable__label-arrow\">DecisionTreeClassifier</label><div class=\"sk-toggleable__content\"><pre>DecisionTreeClassifier()</pre></div></div></div></div></div></div></div></div></div></div>"
      ],
      "text/plain": [
       "AdaBoostClassifier(estimator=DecisionTreeClassifier(), n_estimators=100,\n",
       "                   random_state=42)"
      ]
     },
     "execution_count": 328,
     "metadata": {},
     "output_type": "execute_result"
    }
   ],
   "source": [
    "# Fit AdaBoostClassifier\n",
    "adaboost_clf.fit(X_train_resampled, y_train_resampled)"
   ]
  },
  {
   "cell_type": "code",
   "execution_count": 329,
   "id": "fdae793c",
   "metadata": {},
   "outputs": [],
   "source": [
    "adaboost_train_preds = adaboost_clf.predict(X_train)"
   ]
  },
  {
   "cell_type": "code",
   "execution_count": 330,
   "id": "340e533e",
   "metadata": {},
   "outputs": [
    {
     "data": {
      "text/plain": [
       "0.9362289562289562"
      ]
     },
     "execution_count": 330,
     "metadata": {},
     "output_type": "execute_result"
    }
   ],
   "source": [
    "accuracy_score(y_train, adaboost_train_preds)"
   ]
  },
  {
   "cell_type": "code",
   "execution_count": 331,
   "id": "d198c05b",
   "metadata": {
    "scrolled": true
   },
   "outputs": [
    {
     "data": {
      "text/plain": [
       "array([0.74107744, 0.75241302, 0.75712682, 0.75521886, 0.75420875])"
      ]
     },
     "execution_count": 331,
     "metadata": {},
     "output_type": "execute_result"
    }
   ],
   "source": [
    "cross_val_score(adaboost_clf, X_train, y_train, cv=5)"
   ]
  },
  {
   "cell_type": "code",
   "execution_count": 332,
   "id": "5d5e44b7",
   "metadata": {},
   "outputs": [
    {
     "data": {
      "text/plain": [
       "array([[15728,   303,  1035],\n",
       "       [   82,  2712,   424],\n",
       "       [  437,   560, 23269]])"
      ]
     },
     "execution_count": 332,
     "metadata": {},
     "output_type": "execute_result"
    }
   ],
   "source": [
    "confusion_matrix(y_train, adaboost_train_preds, labels = ['non functional', 'functional needs repair', 'functional'])"
   ]
  },
  {
   "cell_type": "code",
   "execution_count": 333,
   "id": "ffef2e52",
   "metadata": {},
   "outputs": [
    {
     "name": "stdout",
     "output_type": "stream",
     "text": [
      "                         precision    recall  f1-score   support\n",
      "\n",
      "             functional       0.94      0.96      0.95     24266\n",
      "functional needs repair       0.76      0.84      0.80      3218\n",
      "         non functional       0.97      0.92      0.94     17066\n",
      "\n",
      "               accuracy                           0.94     44550\n",
      "              macro avg       0.89      0.91      0.90     44550\n",
      "           weighted avg       0.94      0.94      0.94     44550\n",
      "\n"
     ]
    }
   ],
   "source": [
    "print(classification_report(y_train, adaboost_train_preds))"
   ]
  },
  {
   "cell_type": "markdown",
   "id": "754f0622",
   "metadata": {},
   "source": [
    "# Ninth Model – Gradient Boosting Classifier"
   ]
  },
  {
   "cell_type": "code",
   "execution_count": 334,
   "id": "c0b7cb64",
   "metadata": {},
   "outputs": [],
   "source": [
    "# Instantiate an GradientBoostingClassifier\n",
    "gbt_clf = GradientBoostingClassifier(random_state=42, n_estimators=50, max_features=50)"
   ]
  },
  {
   "cell_type": "code",
   "execution_count": 335,
   "id": "ca3fcaf6",
   "metadata": {},
   "outputs": [
    {
     "data": {
      "text/html": [
       "<style>#sk-container-id-27 {color: black;background-color: white;}#sk-container-id-27 pre{padding: 0;}#sk-container-id-27 div.sk-toggleable {background-color: white;}#sk-container-id-27 label.sk-toggleable__label {cursor: pointer;display: block;width: 100%;margin-bottom: 0;padding: 0.3em;box-sizing: border-box;text-align: center;}#sk-container-id-27 label.sk-toggleable__label-arrow:before {content: \"▸\";float: left;margin-right: 0.25em;color: #696969;}#sk-container-id-27 label.sk-toggleable__label-arrow:hover:before {color: black;}#sk-container-id-27 div.sk-estimator:hover label.sk-toggleable__label-arrow:before {color: black;}#sk-container-id-27 div.sk-toggleable__content {max-height: 0;max-width: 0;overflow: hidden;text-align: left;background-color: #f0f8ff;}#sk-container-id-27 div.sk-toggleable__content pre {margin: 0.2em;color: black;border-radius: 0.25em;background-color: #f0f8ff;}#sk-container-id-27 input.sk-toggleable__control:checked~div.sk-toggleable__content {max-height: 200px;max-width: 100%;overflow: auto;}#sk-container-id-27 input.sk-toggleable__control:checked~label.sk-toggleable__label-arrow:before {content: \"▾\";}#sk-container-id-27 div.sk-estimator input.sk-toggleable__control:checked~label.sk-toggleable__label {background-color: #d4ebff;}#sk-container-id-27 div.sk-label input.sk-toggleable__control:checked~label.sk-toggleable__label {background-color: #d4ebff;}#sk-container-id-27 input.sk-hidden--visually {border: 0;clip: rect(1px 1px 1px 1px);clip: rect(1px, 1px, 1px, 1px);height: 1px;margin: -1px;overflow: hidden;padding: 0;position: absolute;width: 1px;}#sk-container-id-27 div.sk-estimator {font-family: monospace;background-color: #f0f8ff;border: 1px dotted black;border-radius: 0.25em;box-sizing: border-box;margin-bottom: 0.5em;}#sk-container-id-27 div.sk-estimator:hover {background-color: #d4ebff;}#sk-container-id-27 div.sk-parallel-item::after {content: \"\";width: 100%;border-bottom: 1px solid gray;flex-grow: 1;}#sk-container-id-27 div.sk-label:hover label.sk-toggleable__label {background-color: #d4ebff;}#sk-container-id-27 div.sk-serial::before {content: \"\";position: absolute;border-left: 1px solid gray;box-sizing: border-box;top: 0;bottom: 0;left: 50%;z-index: 0;}#sk-container-id-27 div.sk-serial {display: flex;flex-direction: column;align-items: center;background-color: white;padding-right: 0.2em;padding-left: 0.2em;position: relative;}#sk-container-id-27 div.sk-item {position: relative;z-index: 1;}#sk-container-id-27 div.sk-parallel {display: flex;align-items: stretch;justify-content: center;background-color: white;position: relative;}#sk-container-id-27 div.sk-item::before, #sk-container-id-27 div.sk-parallel-item::before {content: \"\";position: absolute;border-left: 1px solid gray;box-sizing: border-box;top: 0;bottom: 0;left: 50%;z-index: -1;}#sk-container-id-27 div.sk-parallel-item {display: flex;flex-direction: column;z-index: 1;position: relative;background-color: white;}#sk-container-id-27 div.sk-parallel-item:first-child::after {align-self: flex-end;width: 50%;}#sk-container-id-27 div.sk-parallel-item:last-child::after {align-self: flex-start;width: 50%;}#sk-container-id-27 div.sk-parallel-item:only-child::after {width: 0;}#sk-container-id-27 div.sk-dashed-wrapped {border: 1px dashed gray;margin: 0 0.4em 0.5em 0.4em;box-sizing: border-box;padding-bottom: 0.4em;background-color: white;}#sk-container-id-27 div.sk-label label {font-family: monospace;font-weight: bold;display: inline-block;line-height: 1.2em;}#sk-container-id-27 div.sk-label-container {text-align: center;}#sk-container-id-27 div.sk-container {/* jupyter's `normalize.less` sets `[hidden] { display: none; }` but bootstrap.min.css set `[hidden] { display: none !important; }` so we also need the `!important` here to be able to override the default hidden behavior on the sphinx rendered scikit-learn.org. See: https://github.com/scikit-learn/scikit-learn/issues/21755 */display: inline-block !important;position: relative;}#sk-container-id-27 div.sk-text-repr-fallback {display: none;}</style><div id=\"sk-container-id-27\" class=\"sk-top-container\"><div class=\"sk-text-repr-fallback\"><pre>GradientBoostingClassifier(max_features=50, n_estimators=50, random_state=42)</pre><b>In a Jupyter environment, please rerun this cell to show the HTML representation or trust the notebook. <br />On GitHub, the HTML representation is unable to render, please try loading this page with nbviewer.org.</b></div><div class=\"sk-container\" hidden><div class=\"sk-item\"><div class=\"sk-estimator sk-toggleable\"><input class=\"sk-toggleable__control sk-hidden--visually\" id=\"sk-estimator-id-35\" type=\"checkbox\" checked><label for=\"sk-estimator-id-35\" class=\"sk-toggleable__label sk-toggleable__label-arrow\">GradientBoostingClassifier</label><div class=\"sk-toggleable__content\"><pre>GradientBoostingClassifier(max_features=50, n_estimators=50, random_state=42)</pre></div></div></div></div></div>"
      ],
      "text/plain": [
       "GradientBoostingClassifier(max_features=50, n_estimators=50, random_state=42)"
      ]
     },
     "execution_count": 335,
     "metadata": {},
     "output_type": "execute_result"
    }
   ],
   "source": [
    "# Fit GradientBoostingClassifier\n",
    "gbt_clf.fit(X_train_resampled, y_train_resampled)"
   ]
  },
  {
   "cell_type": "code",
   "execution_count": 336,
   "id": "f68faaf6",
   "metadata": {},
   "outputs": [],
   "source": [
    "gbt_clf_train_preds = gbt_clf.predict(X_train)"
   ]
  },
  {
   "cell_type": "code",
   "execution_count": 337,
   "id": "b1bc528a",
   "metadata": {},
   "outputs": [
    {
     "data": {
      "text/plain": [
       "array([0.7342312 , 0.7312009 , 0.73815937, 0.7342312 , 0.73546577])"
      ]
     },
     "execution_count": 337,
     "metadata": {},
     "output_type": "execute_result"
    }
   ],
   "source": [
    "cross_val_score(gbt_clf, X_train, y_train, cv=5)"
   ]
  },
  {
   "cell_type": "code",
   "execution_count": 338,
   "id": "a4b90710",
   "metadata": {},
   "outputs": [
    {
     "data": {
      "text/plain": [
       "array([[ 9312,   397,  7357],\n",
       "       [  301,   777,  2140],\n",
       "       [ 1084,   615, 22567]])"
      ]
     },
     "execution_count": 338,
     "metadata": {},
     "output_type": "execute_result"
    }
   ],
   "source": [
    "confusion_matrix(y_train, gbt_clf_train_preds, labels = ['non functional', 'functional needs repair', 'functional'])"
   ]
  },
  {
   "cell_type": "code",
   "execution_count": 339,
   "id": "80f0cf8a",
   "metadata": {},
   "outputs": [
    {
     "name": "stdout",
     "output_type": "stream",
     "text": [
      "                         precision    recall  f1-score   support\n",
      "\n",
      "             functional       0.70      0.93      0.80     24266\n",
      "functional needs repair       0.43      0.24      0.31      3218\n",
      "         non functional       0.87      0.55      0.67     17066\n",
      "\n",
      "               accuracy                           0.73     44550\n",
      "              macro avg       0.67      0.57      0.59     44550\n",
      "           weighted avg       0.75      0.73      0.72     44550\n",
      "\n"
     ]
    }
   ],
   "source": [
    "print(classification_report(y_train, gbt_clf_train_preds))"
   ]
  },
  {
   "cell_type": "markdown",
   "id": "0146da95",
   "metadata": {},
   "source": [
    "# Tenth Model – Histogram Gradient Boosting Classifier"
   ]
  },
  {
   "cell_type": "code",
   "execution_count": 340,
   "id": "27d3348a",
   "metadata": {},
   "outputs": [
    {
     "data": {
      "text/html": [
       "<style>#sk-container-id-28 {color: black;background-color: white;}#sk-container-id-28 pre{padding: 0;}#sk-container-id-28 div.sk-toggleable {background-color: white;}#sk-container-id-28 label.sk-toggleable__label {cursor: pointer;display: block;width: 100%;margin-bottom: 0;padding: 0.3em;box-sizing: border-box;text-align: center;}#sk-container-id-28 label.sk-toggleable__label-arrow:before {content: \"▸\";float: left;margin-right: 0.25em;color: #696969;}#sk-container-id-28 label.sk-toggleable__label-arrow:hover:before {color: black;}#sk-container-id-28 div.sk-estimator:hover label.sk-toggleable__label-arrow:before {color: black;}#sk-container-id-28 div.sk-toggleable__content {max-height: 0;max-width: 0;overflow: hidden;text-align: left;background-color: #f0f8ff;}#sk-container-id-28 div.sk-toggleable__content pre {margin: 0.2em;color: black;border-radius: 0.25em;background-color: #f0f8ff;}#sk-container-id-28 input.sk-toggleable__control:checked~div.sk-toggleable__content {max-height: 200px;max-width: 100%;overflow: auto;}#sk-container-id-28 input.sk-toggleable__control:checked~label.sk-toggleable__label-arrow:before {content: \"▾\";}#sk-container-id-28 div.sk-estimator input.sk-toggleable__control:checked~label.sk-toggleable__label {background-color: #d4ebff;}#sk-container-id-28 div.sk-label input.sk-toggleable__control:checked~label.sk-toggleable__label {background-color: #d4ebff;}#sk-container-id-28 input.sk-hidden--visually {border: 0;clip: rect(1px 1px 1px 1px);clip: rect(1px, 1px, 1px, 1px);height: 1px;margin: -1px;overflow: hidden;padding: 0;position: absolute;width: 1px;}#sk-container-id-28 div.sk-estimator {font-family: monospace;background-color: #f0f8ff;border: 1px dotted black;border-radius: 0.25em;box-sizing: border-box;margin-bottom: 0.5em;}#sk-container-id-28 div.sk-estimator:hover {background-color: #d4ebff;}#sk-container-id-28 div.sk-parallel-item::after {content: \"\";width: 100%;border-bottom: 1px solid gray;flex-grow: 1;}#sk-container-id-28 div.sk-label:hover label.sk-toggleable__label {background-color: #d4ebff;}#sk-container-id-28 div.sk-serial::before {content: \"\";position: absolute;border-left: 1px solid gray;box-sizing: border-box;top: 0;bottom: 0;left: 50%;z-index: 0;}#sk-container-id-28 div.sk-serial {display: flex;flex-direction: column;align-items: center;background-color: white;padding-right: 0.2em;padding-left: 0.2em;position: relative;}#sk-container-id-28 div.sk-item {position: relative;z-index: 1;}#sk-container-id-28 div.sk-parallel {display: flex;align-items: stretch;justify-content: center;background-color: white;position: relative;}#sk-container-id-28 div.sk-item::before, #sk-container-id-28 div.sk-parallel-item::before {content: \"\";position: absolute;border-left: 1px solid gray;box-sizing: border-box;top: 0;bottom: 0;left: 50%;z-index: -1;}#sk-container-id-28 div.sk-parallel-item {display: flex;flex-direction: column;z-index: 1;position: relative;background-color: white;}#sk-container-id-28 div.sk-parallel-item:first-child::after {align-self: flex-end;width: 50%;}#sk-container-id-28 div.sk-parallel-item:last-child::after {align-self: flex-start;width: 50%;}#sk-container-id-28 div.sk-parallel-item:only-child::after {width: 0;}#sk-container-id-28 div.sk-dashed-wrapped {border: 1px dashed gray;margin: 0 0.4em 0.5em 0.4em;box-sizing: border-box;padding-bottom: 0.4em;background-color: white;}#sk-container-id-28 div.sk-label label {font-family: monospace;font-weight: bold;display: inline-block;line-height: 1.2em;}#sk-container-id-28 div.sk-label-container {text-align: center;}#sk-container-id-28 div.sk-container {/* jupyter's `normalize.less` sets `[hidden] { display: none; }` but bootstrap.min.css set `[hidden] { display: none !important; }` so we also need the `!important` here to be able to override the default hidden behavior on the sphinx rendered scikit-learn.org. See: https://github.com/scikit-learn/scikit-learn/issues/21755 */display: inline-block !important;position: relative;}#sk-container-id-28 div.sk-text-repr-fallback {display: none;}</style><div id=\"sk-container-id-28\" class=\"sk-top-container\"><div class=\"sk-text-repr-fallback\"><pre>HistGradientBoostingClassifier()</pre><b>In a Jupyter environment, please rerun this cell to show the HTML representation or trust the notebook. <br />On GitHub, the HTML representation is unable to render, please try loading this page with nbviewer.org.</b></div><div class=\"sk-container\" hidden><div class=\"sk-item\"><div class=\"sk-estimator sk-toggleable\"><input class=\"sk-toggleable__control sk-hidden--visually\" id=\"sk-estimator-id-36\" type=\"checkbox\" checked><label for=\"sk-estimator-id-36\" class=\"sk-toggleable__label sk-toggleable__label-arrow\">HistGradientBoostingClassifier</label><div class=\"sk-toggleable__content\"><pre>HistGradientBoostingClassifier()</pre></div></div></div></div></div>"
      ],
      "text/plain": [
       "HistGradientBoostingClassifier()"
      ]
     },
     "execution_count": 340,
     "metadata": {},
     "output_type": "execute_result"
    }
   ],
   "source": [
    "hbg = HistGradientBoostingClassifier(max_iter=100)\n",
    "hbg.fit(X_train_resampled, y_train_resampled)"
   ]
  },
  {
   "cell_type": "code",
   "execution_count": 341,
   "id": "b82902e9",
   "metadata": {},
   "outputs": [],
   "source": [
    "hbg_preds = hbg.predict(X_train)"
   ]
  },
  {
   "cell_type": "code",
   "execution_count": 342,
   "id": "66e8b2b1",
   "metadata": {},
   "outputs": [
    {
     "data": {
      "text/plain": [
       "array([0.78271605, 0.78136925, 0.78574635, 0.78473625, 0.77968575])"
      ]
     },
     "execution_count": 342,
     "metadata": {},
     "output_type": "execute_result"
    }
   ],
   "source": [
    "cross_val_score(hbg, X_train, y_train, cv=5)"
   ]
  },
  {
   "cell_type": "code",
   "execution_count": 343,
   "id": "a247c225",
   "metadata": {},
   "outputs": [
    {
     "data": {
      "text/plain": [
       "array([[12432,   596,  4038],\n",
       "       [  326,  1581,  1311],\n",
       "       [ 1617,  1179, 21470]])"
      ]
     },
     "execution_count": 343,
     "metadata": {},
     "output_type": "execute_result"
    }
   ],
   "source": [
    "confusion_matrix(y_train, hbg_preds, labels = ['non functional', 'functional needs repair', 'functional'])"
   ]
  },
  {
   "cell_type": "code",
   "execution_count": 344,
   "id": "3ca85a93",
   "metadata": {},
   "outputs": [
    {
     "name": "stdout",
     "output_type": "stream",
     "text": [
      "                         precision    recall  f1-score   support\n",
      "\n",
      "             functional       0.80      0.88      0.84     24266\n",
      "functional needs repair       0.47      0.49      0.48      3218\n",
      "         non functional       0.86      0.73      0.79     17066\n",
      "\n",
      "               accuracy                           0.80     44550\n",
      "              macro avg       0.71      0.70      0.70     44550\n",
      "           weighted avg       0.80      0.80      0.80     44550\n",
      "\n"
     ]
    }
   ],
   "source": [
    "print(classification_report(y_train, hbg_preds))"
   ]
  },
  {
   "cell_type": "markdown",
   "id": "f0183d98",
   "metadata": {},
   "source": [
    "# Eleventh Model – Extra Randomized Trees"
   ]
  },
  {
   "cell_type": "code",
   "execution_count": 345,
   "id": "63025cc2",
   "metadata": {},
   "outputs": [
    {
     "data": {
      "text/plain": [
       "0.9360942760942761"
      ]
     },
     "execution_count": 345,
     "metadata": {},
     "output_type": "execute_result"
    }
   ],
   "source": [
    "extra_trees = ExtraTreesClassifier(n_estimators=50, random_state=42)\n",
    "extra_trees.fit(X_train_resampled, y_train_resampled)\n",
    "extra_trees_train_preds = extra_trees.predict(X_train)\n",
    "accuracy_score(y_train, extra_trees_train_preds)"
   ]
  },
  {
   "cell_type": "code",
   "execution_count": 346,
   "id": "fc346ea2",
   "metadata": {},
   "outputs": [
    {
     "data": {
      "text/plain": [
       "array([0.77037037, 0.77396184, 0.77968575, 0.78125701, 0.77384961])"
      ]
     },
     "execution_count": 346,
     "metadata": {},
     "output_type": "execute_result"
    }
   ],
   "source": [
    "cross_val_score(extra_trees, X_train, y_train, cv=5)"
   ]
  },
  {
   "cell_type": "code",
   "execution_count": 347,
   "id": "b727a2e6",
   "metadata": {},
   "outputs": [
    {
     "data": {
      "text/plain": [
       "array([[15587,   336,  1143],\n",
       "       [   57,  2723,   438],\n",
       "       [  333,   540, 23393]])"
      ]
     },
     "execution_count": 347,
     "metadata": {},
     "output_type": "execute_result"
    }
   ],
   "source": [
    "confusion_matrix(y_train, extra_trees_train_preds, labels = ['non functional', 'functional needs repair', 'functional'])"
   ]
  },
  {
   "cell_type": "code",
   "execution_count": 348,
   "id": "d2a3820a",
   "metadata": {},
   "outputs": [
    {
     "name": "stdout",
     "output_type": "stream",
     "text": [
      "                         precision    recall  f1-score   support\n",
      "\n",
      "             functional       0.94      0.96      0.95     24266\n",
      "functional needs repair       0.76      0.85      0.80      3218\n",
      "         non functional       0.98      0.91      0.94     17066\n",
      "\n",
      "               accuracy                           0.94     44550\n",
      "              macro avg       0.89      0.91      0.90     44550\n",
      "           weighted avg       0.94      0.94      0.94     44550\n",
      "\n"
     ]
    }
   ],
   "source": [
    "print(classification_report(y_train, extra_trees_train_preds))"
   ]
  },
  {
   "cell_type": "markdown",
   "id": "3f344547",
   "metadata": {},
   "source": [
    "# Thirteenth Model – Gaussian Naive Bayes"
   ]
  },
  {
   "cell_type": "code",
   "execution_count": 349,
   "id": "b0af191f",
   "metadata": {},
   "outputs": [],
   "source": [
    "X_train_GNB_resampled = X_train_resampled[['amount_tsh', 'gps_height', 'population']]\n",
    "X_train_GNB = X_train[['amount_tsh', 'gps_height', 'population']]"
   ]
  },
  {
   "cell_type": "code",
   "execution_count": 350,
   "id": "e9ddfacb",
   "metadata": {},
   "outputs": [
    {
     "data": {
      "text/plain": [
       "0.41672278338945007"
      ]
     },
     "execution_count": 350,
     "metadata": {},
     "output_type": "execute_result"
    }
   ],
   "source": [
    "gnb = GaussianNB()\n",
    "gnb.fit(X_train_GNB_resampled, y_train_resampled)\n",
    "gnb_preds = gnb.predict(X_train_GNB)\n",
    "accuracy_score(y_train, gnb_preds)"
   ]
  },
  {
   "cell_type": "code",
   "execution_count": 351,
   "id": "5026d7f3",
   "metadata": {},
   "outputs": [
    {
     "data": {
      "text/plain": [
       "array(['functional', 'functional needs repair', 'non functional'],\n",
       "      dtype='<U23')"
      ]
     },
     "execution_count": 351,
     "metadata": {},
     "output_type": "execute_result"
    }
   ],
   "source": [
    "gnb.classes_"
   ]
  },
  {
   "cell_type": "code",
   "execution_count": 352,
   "id": "2ccee3f5",
   "metadata": {},
   "outputs": [
    {
     "data": {
      "text/plain": [
       "array([0.41683502, 0.41705948, 0.41885522, 0.41728395, 0.41054994,\n",
       "       0.41324355, 0.42312009, 0.41369248, 0.41997755, 0.42334456])"
      ]
     },
     "execution_count": 352,
     "metadata": {},
     "output_type": "execute_result"
    }
   ],
   "source": [
    "cross_val_score(gnb, X_train_GNB, y_train, cv=10)"
   ]
  },
  {
   "cell_type": "code",
   "execution_count": 353,
   "id": "229d8597",
   "metadata": {},
   "outputs": [
    {
     "data": {
      "text/plain": [
       "array([[ 2221,     0, 22045],\n",
       "       [  179,     0,  3039],\n",
       "       [  722,     0, 16344]])"
      ]
     },
     "execution_count": 353,
     "metadata": {},
     "output_type": "execute_result"
    }
   ],
   "source": [
    "confusion_matrix(y_train, gnb_preds, labels = gnb.classes_)"
   ]
  },
  {
   "cell_type": "code",
   "execution_count": 354,
   "id": "124d9cd7",
   "metadata": {},
   "outputs": [
    {
     "name": "stderr",
     "output_type": "stream",
     "text": [
      "/Users/angeloturri/opt/anaconda3/envs/learn-env/lib/python3.11/site-packages/sklearn/metrics/_classification.py:1344: UndefinedMetricWarning:\n",
      "\n",
      "Precision and F-score are ill-defined and being set to 0.0 in labels with no predicted samples. Use `zero_division` parameter to control this behavior.\n",
      "\n"
     ]
    },
    {
     "name": "stdout",
     "output_type": "stream",
     "text": [
      "                         precision    recall  f1-score   support\n",
      "\n",
      "             functional       0.71      0.09      0.16     24266\n",
      "functional needs repair       0.00      0.00      0.00      3218\n",
      "         non functional       0.39      0.96      0.56     17066\n",
      "\n",
      "               accuracy                           0.42     44550\n",
      "              macro avg       0.37      0.35      0.24     44550\n",
      "           weighted avg       0.54      0.42      0.30     44550\n",
      "\n"
     ]
    },
    {
     "name": "stderr",
     "output_type": "stream",
     "text": [
      "/Users/angeloturri/opt/anaconda3/envs/learn-env/lib/python3.11/site-packages/sklearn/metrics/_classification.py:1344: UndefinedMetricWarning:\n",
      "\n",
      "Precision and F-score are ill-defined and being set to 0.0 in labels with no predicted samples. Use `zero_division` parameter to control this behavior.\n",
      "\n",
      "/Users/angeloturri/opt/anaconda3/envs/learn-env/lib/python3.11/site-packages/sklearn/metrics/_classification.py:1344: UndefinedMetricWarning:\n",
      "\n",
      "Precision and F-score are ill-defined and being set to 0.0 in labels with no predicted samples. Use `zero_division` parameter to control this behavior.\n",
      "\n"
     ]
    }
   ],
   "source": [
    "print(classification_report(y_train, gnb_preds))"
   ]
  },
  {
   "cell_type": "markdown",
   "id": "66bd3533",
   "metadata": {},
   "source": [
    "# VotingClassifier"
   ]
  },
  {
   "cell_type": "code",
   "execution_count": 355,
   "id": "95ce7bb1",
   "metadata": {
    "scrolled": false
   },
   "outputs": [
    {
     "data": {
      "text/plain": [
       "0.8296296296296296"
      ]
     },
     "execution_count": 355,
     "metadata": {},
     "output_type": "execute_result"
    }
   ],
   "source": [
    "eclf = VotingClassifier(estimators=[('lr', base_model), ('dtc', dtc), ('knn', knn), ('bag', bagged_tree), ('forest', gs_forest), ('ada', adaboost_clf), ('gbt', gbt_clf), ('hbg', hbg), ('extra_trees', extra_trees)])\n",
    "eclf.fit(X_train_resampled, y_train_resampled)\n",
    "eclf_preds = eclf.predict(X_train)\n",
    "accuracy_score(y_train, eclf_preds)"
   ]
  },
  {
   "cell_type": "code",
   "execution_count": 356,
   "id": "e1baa5d6",
   "metadata": {},
   "outputs": [
    {
     "data": {
      "text/plain": [
       "array([0.77609428, 0.77654321, 0.78204265, 0.77699214, 0.78226712])"
      ]
     },
     "execution_count": 356,
     "metadata": {},
     "output_type": "execute_result"
    }
   ],
   "source": [
    "cross_val_score(eclf, X_train, y_train, cv=5)"
   ]
  },
  {
   "cell_type": "code",
   "execution_count": 357,
   "id": "3e4baeea",
   "metadata": {},
   "outputs": [
    {
     "data": {
      "text/plain": [
       "array([[23183,   544,   539],\n",
       "       [ 1430,  1664,   124],\n",
       "       [ 4610,   343, 12113]])"
      ]
     },
     "execution_count": 357,
     "metadata": {},
     "output_type": "execute_result"
    }
   ],
   "source": [
    "confusion_matrix(y_train, eclf_preds)"
   ]
  },
  {
   "cell_type": "code",
   "execution_count": 359,
   "id": "c30471d5",
   "metadata": {},
   "outputs": [
    {
     "name": "stdout",
     "output_type": "stream",
     "text": [
      "                         precision    recall  f1-score   support\n",
      "\n",
      "             functional       0.79      0.96      0.87     24266\n",
      "functional needs repair       0.65      0.52      0.58      3218\n",
      "         non functional       0.95      0.71      0.81     17066\n",
      "\n",
      "               accuracy                           0.83     44550\n",
      "              macro avg       0.80      0.73      0.75     44550\n",
      "           weighted avg       0.84      0.83      0.82     44550\n",
      "\n"
     ]
    }
   ],
   "source": [
    "print(classification_report(y_train, eclf_preds))"
   ]
  },
  {
   "cell_type": "code",
   "execution_count": null,
   "id": "af0b99db",
   "metadata": {},
   "outputs": [],
   "source": []
  }
 ],
 "metadata": {
  "kernelspec": {
   "display_name": "Python (learn-env)",
   "language": "python",
   "name": "learn-env"
  },
  "language_info": {
   "codemirror_mode": {
    "name": "ipython",
    "version": 3
   },
   "file_extension": ".py",
   "mimetype": "text/x-python",
   "name": "python",
   "nbconvert_exporter": "python",
   "pygments_lexer": "ipython3",
   "version": "3.11.5"
  }
 },
 "nbformat": 4,
 "nbformat_minor": 5
}
