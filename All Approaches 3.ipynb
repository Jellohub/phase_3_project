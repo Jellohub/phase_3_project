{
 "cells": [
  {
   "cell_type": "code",
   "execution_count": 1,
   "id": "660be687",
   "metadata": {},
   "outputs": [],
   "source": [
    "import numpy as np\n",
    "import pandas as pd\n",
    "from tqdm import tqdm\n",
    "from sklearn.model_selection import train_test_split, cross_val_score, StratifiedKFold\n",
    "from sklearn.linear_model import LinearRegression, LogisticRegression, Ridge, Lasso\n",
    "from sklearn.preprocessing import MinMaxScaler, StandardScaler, OneHotEncoder, OrdinalEncoder\n",
    "from sklearn.metrics import accuracy_score, get_scorer_names, confusion_matrix, classification_report\n",
    "from sklearn.tree import DecisionTreeClassifier\n",
    "from sklearn import tree\n",
    "from sklearn.model_selection import GridSearchCV\n",
    "from sklearn.neighbors import KNeighborsClassifier\n",
    "from sklearn.ensemble import BaggingClassifier, RandomForestClassifier, AdaBoostClassifier, GradientBoostingClassifier, VotingClassifier\n",
    "from sklearn.ensemble import HistGradientBoostingClassifier, ExtraTreesClassifier\n",
    "from sklearn.ensemble import StackingClassifier\n",
    "from sklearn.naive_bayes import GaussianNB, CategoricalNB\n",
    "from sklearn.feature_selection import SelectKBest, chi2, mutual_info_classif\n",
    "from xgboost import XGBClassifier\n",
    "import xgboost as xgb\n",
    "import matplotlib.pyplot as plt\n",
    "import seaborn as sns\n",
    "from sklearn.pipeline import Pipeline\n",
    "from imblearn.over_sampling import SMOTE\n",
    "import warnings\n",
    "warnings.simplefilter(action='ignore', category=FutureWarning)\n",
    "from statistics import mode as md\n",
    "from matplotlib import pyplot as plt\n",
    "from IPython.display import clear_output, display_html \n",
    "from collections import Counter"
   ]
  },
  {
   "cell_type": "code",
   "execution_count": 2,
   "id": "f4a93e3a",
   "metadata": {},
   "outputs": [],
   "source": [
    "class color:\n",
    "   PURPLE = '\\033[95m'\n",
    "   CYAN = '\\033[96m'\n",
    "   DARKCYAN = '\\033[36m'\n",
    "   BLUE = '\\033[94m'\n",
    "   GREEN = '\\033[92m'\n",
    "   YELLOW = '\\033[93m'\n",
    "   RED = '\\033[91m'\n",
    "   BOLD = '\\033[1m'\n",
    "   UNDERLINE = '\\033[4m'\n",
    "   END = '\\033[0m'"
   ]
  },
  {
   "cell_type": "code",
   "execution_count": 3,
   "id": "7f83abc9",
   "metadata": {},
   "outputs": [],
   "source": [
    "testing = pd.read_csv(\"tanzanian_water_wells/X_test.csv\")\n",
    "X = pd.read_csv(\"tanzanian_water_wells/X_train.csv\")\n",
    "y = pd.read_csv(\"tanzanian_water_wells/y_train.csv\")['status_group'].map({'functional': 2, 'functional needs repair': 0, 'non functional': 1})"
   ]
  },
  {
   "cell_type": "code",
   "execution_count": 7,
   "id": "67e3f808",
   "metadata": {},
   "outputs": [
    {
     "name": "stdout",
     "output_type": "stream",
     "text": [
      "id 59400\n",
      "amount_tsh 98\n",
      "date_recorded 356\n",
      "funder 1896\n",
      "gps_height 2428\n",
      "installer 2145\n",
      "longitude 57516\n",
      "latitude 57517\n",
      "wpt_name 37399\n",
      "num_private 65\n",
      "basin 9\n",
      "subvillage 19287\n",
      "region 21\n",
      "region_code 27\n",
      "district_code 20\n",
      "lga 125\n",
      "ward 2092\n",
      "population 1049\n",
      "public_meeting 2\n",
      "recorded_by 1\n",
      "scheme_management 11\n",
      "scheme_name 2695\n",
      "permit 2\n",
      "construction_year 55\n",
      "extraction_type 18\n",
      "extraction_type_group 13\n",
      "extraction_type_class 7\n",
      "management 12\n",
      "management_group 5\n",
      "payment 7\n",
      "payment_type 7\n",
      "water_quality 8\n",
      "quality_group 6\n",
      "quantity 5\n",
      "quantity_group 5\n",
      "source 10\n",
      "source_type 7\n",
      "source_class 3\n",
      "waterpoint_type 7\n",
      "waterpoint_type_group 6\n"
     ]
    }
   ],
   "source": [
    "for col in X.columns:\n",
    "    print(col, X[col].nunique())"
   ]
  },
  {
   "cell_type": "code",
   "execution_count": null,
   "id": "ccfd6ba6",
   "metadata": {
    "scrolled": false
   },
   "outputs": [],
   "source": [
    "#Dropping unecessary columns\n",
    "X = X.drop(['id', 'wpt_name', 'date_recorded', 'funder'], axis=1)\n",
    "\n",
    "testing = testing.drop(['id', 'wpt_name', 'date_recorded', 'funder'], axis=1)\n",
    "\n",
    "# Eliminating null values from X_train\n",
    "X.scheme_management.fillna(\"None\", inplace=True)\n",
    "# X.permit.fillna('Unknown', inplace=True)\n",
    "# X.public_meeting.fillna('Unknown', inplace=True)\n",
    "\n",
    "# Turning certain dtypes into others\n",
    "# X['permit'] = X['permit'].map({True: 'Yes', False: 'No', 'Unknown': 'Unknown'})\n",
    "X['gps_height'] = X['gps_height'].astype('float64')\n",
    "X['population'] = X['population'].astype('float64')\n",
    "X['construction_year'] = X['construction_year'].astype('int64')\n",
    "X['district_code'] = X['district_code'].astype('str')\n",
    "\n",
    "#Defining X_cat\n",
    "X_cat = X.select_dtypes(exclude=['float64', 'int64'])\n",
    "X_cat = X_cat.astype('str')\n",
    "X_cat = pd.get_dummies(X_cat)\n",
    "\n",
    "#Defining X_numeric\n",
    "X_numeric = X.select_dtypes(['float64', 'int64'])\n",
    "scaler = StandardScaler()\n",
    "scaler.fit(X_numeric)\n",
    "X_numeric = pd.DataFrame(scaler.transform(X_numeric), columns = X_numeric.columns, index = X_numeric.index)\n",
    "\n",
    "#Defining X\n",
    "X = pd.concat([X_numeric, X_cat], axis=1)\n",
    "\n",
    "#Defining df\n",
    "df = pd.concat([X, y], axis=1)\n",
    "\n",
    "#Creating a train-test-split for X and y\n",
    "X_train, X_test, y_train, y_test = train_test_split(X, y)\n",
    "\n",
    "#Resampling dataframes for model creation\n",
    "smote = SMOTE()\n",
    "X_train_resampled, y_train_resampled = smote.fit_resample(X_train, y_train)\n",
    "    \n",
    "X_train = X_train.reset_index(drop=True)\n",
    "X_test = X_test.reset_index(drop=True)\n",
    "y_train = y_train.reset_index(drop=True)\n",
    "y_test = y_test.reset_index(drop=True)\n",
    "X_train_resampled = X_train_resampled.reset_index(drop=True)\n",
    "y_train_resampled = y_train_resampled.reset_index(drop=True)\n",
    "    \n",
    "df_resampled = pd.concat([X_train_resampled, y_train_resampled], axis=1)"
   ]
  },
  {
   "cell_type": "code",
   "execution_count": 45,
   "id": "e008916e",
   "metadata": {},
   "outputs": [],
   "source": [
    "estimators = { \n",
    "              'Random Forest': RandomForestClassifier(), \n",
    "            }"
   ]
  },
  {
   "cell_type": "markdown",
   "id": "78b96539",
   "metadata": {},
   "source": [
    "# Approach #1 – Single Model with Original Data\n",
    "\n",
    "Here we use a single estimator on a training dataset and make predictions on a test dataset."
   ]
  },
  {
   "cell_type": "code",
   "execution_count": 46,
   "id": "b576771a",
   "metadata": {},
   "outputs": [
    {
     "name": "stdout",
     "output_type": "stream",
     "text": [
      "Estimator Random Forest completed.\n"
     ]
    }
   ],
   "source": [
    "ap1_dict = {}\n",
    "\n",
    "for name, estimator in estimators.items():\n",
    "    \n",
    "    estimator.fit(X_train, y_train)\n",
    "    predictions = estimator.predict(X_test)\n",
    "    matrix = pd.DataFrame(confusion_matrix(y_test, predictions))\n",
    "    report = pd.DataFrame(classification_report(y_test, predictions, output_dict=True))\n",
    "    ap1_dict[name] = [predictions, matrix, report]\n",
    "    \n",
    "    print(f\"Estimator {name} completed.\")"
   ]
  },
  {
   "cell_type": "markdown",
   "id": "401858ea",
   "metadata": {},
   "source": [
    "# Approach #2 – Single Model with Resampled Data\n",
    "\n",
    "Here we use a single estimator on a resampled training dataset and make predictions on a test dataset."
   ]
  },
  {
   "cell_type": "code",
   "execution_count": 47,
   "id": "996d93a9",
   "metadata": {},
   "outputs": [],
   "source": [
    "smote = SMOTE()"
   ]
  },
  {
   "cell_type": "code",
   "execution_count": 48,
   "id": "1aa9d7f5",
   "metadata": {},
   "outputs": [
    {
     "name": "stdout",
     "output_type": "stream",
     "text": [
      "Estimator Random Forest completed.\n"
     ]
    }
   ],
   "source": [
    "ap2_dict = {}\n",
    "\n",
    "for name, estimator in estimators.items():\n",
    "    \n",
    "    estimator.fit(X_train_resampled, y_train_resampled)\n",
    "    predictions = estimator.predict(X_test)\n",
    "    matrix = pd.DataFrame(confusion_matrix(y_test, predictions))\n",
    "    report = pd.DataFrame(classification_report(y_test, predictions, output_dict=True))\n",
    "    ap2_dict[name] = [predictions, matrix, report]\n",
    "    \n",
    "    print(f\"Estimator {name} completed.\")"
   ]
  },
  {
   "cell_type": "markdown",
   "id": "decc54e6",
   "metadata": {},
   "source": [
    "# Approach #3 – Single Model with Resampled Data (Different Ratio)"
   ]
  },
  {
   "cell_type": "code",
   "execution_count": 49,
   "id": "1e74d9e5",
   "metadata": {},
   "outputs": [],
   "source": [
    "strategy = {0: 10000} #optional strategy\n",
    "smote = SMOTE(sampling_strategy=strategy)\n",
    "X_train_resampled, y_train_resampled = smote.fit_resample(X_train, y_train)"
   ]
  },
  {
   "cell_type": "code",
   "execution_count": 50,
   "id": "e4ca9a3c",
   "metadata": {},
   "outputs": [
    {
     "name": "stdout",
     "output_type": "stream",
     "text": [
      "Estimator Random Forest completed.\n"
     ]
    }
   ],
   "source": [
    "ap3_dict = {}\n",
    "\n",
    "for name, estimator in estimators.items():\n",
    "    \n",
    "    estimator.fit(X_train_resampled, y_train_resampled)\n",
    "    predictions = estimator.predict(X_test)\n",
    "    matrix = pd.DataFrame(confusion_matrix(y_test, predictions))\n",
    "    report = pd.DataFrame(classification_report(y_test, predictions, output_dict=True))\n",
    "    ap3_dict[name] = [predictions, matrix, report]\n",
    "    \n",
    "    print(f\"Estimator {name} completed.\")"
   ]
  },
  {
   "cell_type": "markdown",
   "id": "7207233b",
   "metadata": {},
   "source": [
    "# Approach #4 – Single Model with Resampled Data (Different Ratio)"
   ]
  },
  {
   "cell_type": "code",
   "execution_count": 51,
   "id": "e862183c",
   "metadata": {},
   "outputs": [],
   "source": [
    "strategy = {0: 15000} #optional strategy\n",
    "smote = SMOTE(sampling_strategy=strategy)\n",
    "X_train_resampled, y_train_resampled = smote.fit_resample(X_train, y_train)"
   ]
  },
  {
   "cell_type": "code",
   "execution_count": 52,
   "id": "e921b720",
   "metadata": {},
   "outputs": [
    {
     "name": "stdout",
     "output_type": "stream",
     "text": [
      "Estimator Random Forest completed.\n"
     ]
    }
   ],
   "source": [
    "ap4_dict = {}\n",
    "\n",
    "for name, estimator in estimators.items():\n",
    "    \n",
    "    estimator.fit(X_train_resampled, y_train_resampled)\n",
    "    predictions = estimator.predict(X_test)\n",
    "    matrix = pd.DataFrame(confusion_matrix(y_test, predictions))\n",
    "    report = pd.DataFrame(classification_report(y_test, predictions, output_dict=True))\n",
    "    ap4_dict[name] = [predictions, matrix, report]\n",
    "    \n",
    "    print(f\"Estimator {name} completed.\")"
   ]
  },
  {
   "cell_type": "markdown",
   "id": "aa98d444",
   "metadata": {},
   "source": [
    "# Approach #5 – Single Model with Resampled Data (Different Ratio)"
   ]
  },
  {
   "cell_type": "code",
   "execution_count": 53,
   "id": "f5448674",
   "metadata": {},
   "outputs": [],
   "source": [
    "strategy = {0: 20000} #optional strategy\n",
    "smote = SMOTE(sampling_strategy=strategy)\n",
    "X_train_resampled, y_train_resampled = smote.fit_resample(X_train, y_train)"
   ]
  },
  {
   "cell_type": "code",
   "execution_count": 54,
   "id": "e27db205",
   "metadata": {},
   "outputs": [
    {
     "name": "stdout",
     "output_type": "stream",
     "text": [
      "Estimator Random Forest completed.\n"
     ]
    }
   ],
   "source": [
    "ap5_dict = {}\n",
    "\n",
    "for name, estimator in estimators.items():\n",
    "    \n",
    "    estimator.fit(X_train_resampled, y_train_resampled)\n",
    "    predictions = estimator.predict(X_test)\n",
    "    matrix = pd.DataFrame(confusion_matrix(y_test, predictions))\n",
    "    report = pd.DataFrame(classification_report(y_test, predictions, output_dict=True))\n",
    "    ap5_dict[name] = [predictions, matrix, report]\n",
    "    \n",
    "    print(f\"Estimator {name} completed.\")"
   ]
  },
  {
   "cell_type": "markdown",
   "id": "06ac2b59",
   "metadata": {},
   "source": [
    "# Looking at All of our Approaches"
   ]
  },
  {
   "cell_type": "code",
   "execution_count": 55,
   "id": "af60f4da",
   "metadata": {
    "scrolled": false
   },
   "outputs": [
    {
     "name": "stdout",
     "output_type": "stream",
     "text": [
      "\n",
      "\n",
      "\u001b[1mRandom Forest\u001b[0m\n"
     ]
    },
    {
     "data": {
      "text/html": [
       "<style type=\"text/css\">\n",
       "</style>\n",
       "<table id=\"T_90b8c\">\n",
       "  <caption>original data</caption>\n",
       "  <thead>\n",
       "    <tr>\n",
       "      <th class=\"blank level0\" >&nbsp;</th>\n",
       "      <th id=\"T_90b8c_level0_col0\" class=\"col_heading level0 col0\" >0</th>\n",
       "      <th id=\"T_90b8c_level0_col1\" class=\"col_heading level0 col1\" >1</th>\n",
       "      <th id=\"T_90b8c_level0_col2\" class=\"col_heading level0 col2\" >2</th>\n",
       "      <th id=\"T_90b8c_level0_col3\" class=\"col_heading level0 col3\" >accuracy</th>\n",
       "      <th id=\"T_90b8c_level0_col4\" class=\"col_heading level0 col4\" >macro avg</th>\n",
       "      <th id=\"T_90b8c_level0_col5\" class=\"col_heading level0 col5\" >weighted avg</th>\n",
       "    </tr>\n",
       "  </thead>\n",
       "  <tbody>\n",
       "    <tr>\n",
       "      <th id=\"T_90b8c_level0_row0\" class=\"row_heading level0 row0\" >precision</th>\n",
       "      <td id=\"T_90b8c_row0_col0\" class=\"data row0 col0\" >0.488140</td>\n",
       "      <td id=\"T_90b8c_row0_col1\" class=\"data row0 col1\" >0.814897</td>\n",
       "      <td id=\"T_90b8c_row0_col2\" class=\"data row0 col2\" >0.808715</td>\n",
       "      <td id=\"T_90b8c_row0_col3\" class=\"data row0 col3\" >0.793670</td>\n",
       "      <td id=\"T_90b8c_row0_col4\" class=\"data row0 col4\" >0.703917</td>\n",
       "      <td id=\"T_90b8c_row0_col5\" class=\"data row0 col5\" >0.787368</td>\n",
       "    </tr>\n",
       "    <tr>\n",
       "      <th id=\"T_90b8c_level0_row1\" class=\"row_heading level0 row1\" >recall</th>\n",
       "      <td id=\"T_90b8c_row1_col0\" class=\"data row1 col0\" >0.356102</td>\n",
       "      <td id=\"T_90b8c_row1_col1\" class=\"data row1 col1\" >0.776895</td>\n",
       "      <td id=\"T_90b8c_row1_col2\" class=\"data row1 col2\" >0.864788</td>\n",
       "      <td id=\"T_90b8c_row1_col3\" class=\"data row1 col3\" >0.793670</td>\n",
       "      <td id=\"T_90b8c_row1_col4\" class=\"data row1 col4\" >0.665928</td>\n",
       "      <td id=\"T_90b8c_row1_col5\" class=\"data row1 col5\" >0.793670</td>\n",
       "    </tr>\n",
       "    <tr>\n",
       "      <th id=\"T_90b8c_level0_row2\" class=\"row_heading level0 row2\" >f1-score</th>\n",
       "      <td id=\"T_90b8c_row2_col0\" class=\"data row2 col0\" >0.411796</td>\n",
       "      <td id=\"T_90b8c_row2_col1\" class=\"data row2 col1\" >0.795442</td>\n",
       "      <td id=\"T_90b8c_row2_col2\" class=\"data row2 col2\" >0.835812</td>\n",
       "      <td id=\"T_90b8c_row2_col3\" class=\"data row2 col3\" >0.793670</td>\n",
       "      <td id=\"T_90b8c_row2_col4\" class=\"data row2 col4\" >0.681017</td>\n",
       "      <td id=\"T_90b8c_row2_col5\" class=\"data row2 col5\" >0.789071</td>\n",
       "    </tr>\n",
       "    <tr>\n",
       "      <th id=\"T_90b8c_level0_row3\" class=\"row_heading level0 row3\" >support</th>\n",
       "      <td id=\"T_90b8c_row3_col0\" class=\"data row3 col0\" >1098.000000</td>\n",
       "      <td id=\"T_90b8c_row3_col1\" class=\"data row3 col1\" >5661.000000</td>\n",
       "      <td id=\"T_90b8c_row3_col2\" class=\"data row3 col2\" >8091.000000</td>\n",
       "      <td id=\"T_90b8c_row3_col3\" class=\"data row3 col3\" >0.793670</td>\n",
       "      <td id=\"T_90b8c_row3_col4\" class=\"data row3 col4\" >14850.000000</td>\n",
       "      <td id=\"T_90b8c_row3_col5\" class=\"data row3 col5\" >14850.000000</td>\n",
       "    </tr>\n",
       "  </tbody>\n",
       "</table>\n"
      ],
      "text/plain": [
       "<pandas.io.formats.style.Styler at 0x109fce990>"
      ]
     },
     "metadata": {},
     "output_type": "display_data"
    },
    {
     "data": {
      "text/html": [
       "<style type=\"text/css\">\n",
       "</style>\n",
       "<table id=\"T_ad903\">\n",
       "  <caption>resampled data</caption>\n",
       "  <thead>\n",
       "    <tr>\n",
       "      <th class=\"blank level0\" >&nbsp;</th>\n",
       "      <th id=\"T_ad903_level0_col0\" class=\"col_heading level0 col0\" >0</th>\n",
       "      <th id=\"T_ad903_level0_col1\" class=\"col_heading level0 col1\" >1</th>\n",
       "      <th id=\"T_ad903_level0_col2\" class=\"col_heading level0 col2\" >2</th>\n",
       "      <th id=\"T_ad903_level0_col3\" class=\"col_heading level0 col3\" >accuracy</th>\n",
       "      <th id=\"T_ad903_level0_col4\" class=\"col_heading level0 col4\" >macro avg</th>\n",
       "      <th id=\"T_ad903_level0_col5\" class=\"col_heading level0 col5\" >weighted avg</th>\n",
       "    </tr>\n",
       "  </thead>\n",
       "  <tbody>\n",
       "    <tr>\n",
       "      <th id=\"T_ad903_level0_row0\" class=\"row_heading level0 row0\" >precision</th>\n",
       "      <td id=\"T_ad903_row0_col0\" class=\"data row0 col0\" >0.389675</td>\n",
       "      <td id=\"T_ad903_row0_col1\" class=\"data row0 col1\" >0.808589</td>\n",
       "      <td id=\"T_ad903_row0_col2\" class=\"data row0 col2\" >0.823088</td>\n",
       "      <td id=\"T_ad903_row0_col3\" class=\"data row0 col3\" >0.776498</td>\n",
       "      <td id=\"T_ad903_row0_col4\" class=\"data row0 col4\" >0.673784</td>\n",
       "      <td id=\"T_ad903_row0_col5\" class=\"data row0 col5\" >0.785514</td>\n",
       "    </tr>\n",
       "    <tr>\n",
       "      <th id=\"T_ad903_level0_row1\" class=\"row_heading level0 row1\" >recall</th>\n",
       "      <td id=\"T_ad903_row1_col0\" class=\"data row1 col0\" >0.501821</td>\n",
       "      <td id=\"T_ad903_row1_col1\" class=\"data row1 col1\" >0.778308</td>\n",
       "      <td id=\"T_ad903_row1_col2\" class=\"data row1 col2\" >0.812508</td>\n",
       "      <td id=\"T_ad903_row1_col3\" class=\"data row1 col3\" >0.776498</td>\n",
       "      <td id=\"T_ad903_row1_col4\" class=\"data row1 col4\" >0.697546</td>\n",
       "      <td id=\"T_ad903_row1_col5\" class=\"data row1 col5\" >0.776498</td>\n",
       "    </tr>\n",
       "    <tr>\n",
       "      <th id=\"T_ad903_level0_row2\" class=\"row_heading level0 row2\" >f1-score</th>\n",
       "      <td id=\"T_ad903_row2_col0\" class=\"data row2 col0\" >0.438694</td>\n",
       "      <td id=\"T_ad903_row2_col1\" class=\"data row2 col1\" >0.793159</td>\n",
       "      <td id=\"T_ad903_row2_col2\" class=\"data row2 col2\" >0.817763</td>\n",
       "      <td id=\"T_ad903_row2_col3\" class=\"data row2 col3\" >0.776498</td>\n",
       "      <td id=\"T_ad903_row2_col4\" class=\"data row2 col4\" >0.683206</td>\n",
       "      <td id=\"T_ad903_row2_col5\" class=\"data row2 col5\" >0.780356</td>\n",
       "    </tr>\n",
       "    <tr>\n",
       "      <th id=\"T_ad903_level0_row3\" class=\"row_heading level0 row3\" >support</th>\n",
       "      <td id=\"T_ad903_row3_col0\" class=\"data row3 col0\" >1098.000000</td>\n",
       "      <td id=\"T_ad903_row3_col1\" class=\"data row3 col1\" >5661.000000</td>\n",
       "      <td id=\"T_ad903_row3_col2\" class=\"data row3 col2\" >8091.000000</td>\n",
       "      <td id=\"T_ad903_row3_col3\" class=\"data row3 col3\" >0.776498</td>\n",
       "      <td id=\"T_ad903_row3_col4\" class=\"data row3 col4\" >14850.000000</td>\n",
       "      <td id=\"T_ad903_row3_col5\" class=\"data row3 col5\" >14850.000000</td>\n",
       "    </tr>\n",
       "  </tbody>\n",
       "</table>\n"
      ],
      "text/plain": [
       "<pandas.io.formats.style.Styler at 0x167159690>"
      ]
     },
     "metadata": {},
     "output_type": "display_data"
    },
    {
     "data": {
      "text/html": [
       "<style type=\"text/css\">\n",
       "</style>\n",
       "<table id=\"T_cf826\">\n",
       "  <caption>resampled data (n = 10000)</caption>\n",
       "  <thead>\n",
       "    <tr>\n",
       "      <th class=\"blank level0\" >&nbsp;</th>\n",
       "      <th id=\"T_cf826_level0_col0\" class=\"col_heading level0 col0\" >0</th>\n",
       "      <th id=\"T_cf826_level0_col1\" class=\"col_heading level0 col1\" >1</th>\n",
       "      <th id=\"T_cf826_level0_col2\" class=\"col_heading level0 col2\" >2</th>\n",
       "      <th id=\"T_cf826_level0_col3\" class=\"col_heading level0 col3\" >accuracy</th>\n",
       "      <th id=\"T_cf826_level0_col4\" class=\"col_heading level0 col4\" >macro avg</th>\n",
       "      <th id=\"T_cf826_level0_col5\" class=\"col_heading level0 col5\" >weighted avg</th>\n",
       "    </tr>\n",
       "  </thead>\n",
       "  <tbody>\n",
       "    <tr>\n",
       "      <th id=\"T_cf826_level0_row0\" class=\"row_heading level0 row0\" >precision</th>\n",
       "      <td id=\"T_cf826_row0_col0\" class=\"data row0 col0\" >0.413502</td>\n",
       "      <td id=\"T_cf826_row0_col1\" class=\"data row0 col1\" >0.821100</td>\n",
       "      <td id=\"T_cf826_row0_col2\" class=\"data row0 col2\" >0.814344</td>\n",
       "      <td id=\"T_cf826_row0_col3\" class=\"data row0 col3\" >0.784781</td>\n",
       "      <td id=\"T_cf826_row0_col4\" class=\"data row0 col4\" >0.682982</td>\n",
       "      <td id=\"T_cf826_row0_col5\" class=\"data row0 col5\" >0.787281</td>\n",
       "    </tr>\n",
       "    <tr>\n",
       "      <th id=\"T_cf826_level0_row1\" class=\"row_heading level0 row1\" >recall</th>\n",
       "      <td id=\"T_cf826_row1_col0\" class=\"data row1 col0\" >0.446266</td>\n",
       "      <td id=\"T_cf826_row1_col1\" class=\"data row1 col1\" >0.772655</td>\n",
       "      <td id=\"T_cf826_row1_col2\" class=\"data row1 col2\" >0.839204</td>\n",
       "      <td id=\"T_cf826_row1_col3\" class=\"data row1 col3\" >0.784781</td>\n",
       "      <td id=\"T_cf826_row1_col4\" class=\"data row1 col4\" >0.686042</td>\n",
       "      <td id=\"T_cf826_row1_col5\" class=\"data row1 col5\" >0.784781</td>\n",
       "    </tr>\n",
       "    <tr>\n",
       "      <th id=\"T_cf826_level0_row2\" class=\"row_heading level0 row2\" >f1-score</th>\n",
       "      <td id=\"T_cf826_row2_col0\" class=\"data row2 col0\" >0.429260</td>\n",
       "      <td id=\"T_cf826_row2_col1\" class=\"data row2 col1\" >0.796141</td>\n",
       "      <td id=\"T_cf826_row2_col2\" class=\"data row2 col2\" >0.826587</td>\n",
       "      <td id=\"T_cf826_row2_col3\" class=\"data row2 col3\" >0.784781</td>\n",
       "      <td id=\"T_cf826_row2_col4\" class=\"data row2 col4\" >0.683996</td>\n",
       "      <td id=\"T_cf826_row2_col5\" class=\"data row2 col5\" >0.785603</td>\n",
       "    </tr>\n",
       "    <tr>\n",
       "      <th id=\"T_cf826_level0_row3\" class=\"row_heading level0 row3\" >support</th>\n",
       "      <td id=\"T_cf826_row3_col0\" class=\"data row3 col0\" >1098.000000</td>\n",
       "      <td id=\"T_cf826_row3_col1\" class=\"data row3 col1\" >5661.000000</td>\n",
       "      <td id=\"T_cf826_row3_col2\" class=\"data row3 col2\" >8091.000000</td>\n",
       "      <td id=\"T_cf826_row3_col3\" class=\"data row3 col3\" >0.784781</td>\n",
       "      <td id=\"T_cf826_row3_col4\" class=\"data row3 col4\" >14850.000000</td>\n",
       "      <td id=\"T_cf826_row3_col5\" class=\"data row3 col5\" >14850.000000</td>\n",
       "    </tr>\n",
       "  </tbody>\n",
       "</table>\n"
      ],
      "text/plain": [
       "<pandas.io.formats.style.Styler at 0x16264b890>"
      ]
     },
     "metadata": {},
     "output_type": "display_data"
    },
    {
     "data": {
      "text/html": [
       "<style type=\"text/css\">\n",
       "</style>\n",
       "<table id=\"T_99c40\">\n",
       "  <caption>resampled data (n = 15000)</caption>\n",
       "  <thead>\n",
       "    <tr>\n",
       "      <th class=\"blank level0\" >&nbsp;</th>\n",
       "      <th id=\"T_99c40_level0_col0\" class=\"col_heading level0 col0\" >0</th>\n",
       "      <th id=\"T_99c40_level0_col1\" class=\"col_heading level0 col1\" >1</th>\n",
       "      <th id=\"T_99c40_level0_col2\" class=\"col_heading level0 col2\" >2</th>\n",
       "      <th id=\"T_99c40_level0_col3\" class=\"col_heading level0 col3\" >accuracy</th>\n",
       "      <th id=\"T_99c40_level0_col4\" class=\"col_heading level0 col4\" >macro avg</th>\n",
       "      <th id=\"T_99c40_level0_col5\" class=\"col_heading level0 col5\" >weighted avg</th>\n",
       "    </tr>\n",
       "  </thead>\n",
       "  <tbody>\n",
       "    <tr>\n",
       "      <th id=\"T_99c40_level0_row0\" class=\"row_heading level0 row0\" >precision</th>\n",
       "      <td id=\"T_99c40_row0_col0\" class=\"data row0 col0\" >0.401991</td>\n",
       "      <td id=\"T_99c40_row0_col1\" class=\"data row0 col1\" >0.821820</td>\n",
       "      <td id=\"T_99c40_row0_col2\" class=\"data row0 col2\" >0.816396</td>\n",
       "      <td id=\"T_99c40_row0_col3\" class=\"data row0 col3\" >0.781886</td>\n",
       "      <td id=\"T_99c40_row0_col4\" class=\"data row0 col4\" >0.680069</td>\n",
       "      <td id=\"T_99c40_row0_col5\" class=\"data row0 col5\" >0.787823</td>\n",
       "    </tr>\n",
       "    <tr>\n",
       "      <th id=\"T_99c40_level0_row1\" class=\"row_heading level0 row1\" >recall</th>\n",
       "      <td id=\"T_99c40_row1_col0\" class=\"data row1 col0\" >0.478142</td>\n",
       "      <td id=\"T_99c40_row1_col1\" class=\"data row1 col1\" >0.769122</td>\n",
       "      <td id=\"T_99c40_row1_col2\" class=\"data row1 col2\" >0.832036</td>\n",
       "      <td id=\"T_99c40_row1_col3\" class=\"data row1 col3\" >0.781886</td>\n",
       "      <td id=\"T_99c40_row1_col4\" class=\"data row1 col4\" >0.693100</td>\n",
       "      <td id=\"T_99c40_row1_col5\" class=\"data row1 col5\" >0.781886</td>\n",
       "    </tr>\n",
       "    <tr>\n",
       "      <th id=\"T_99c40_level0_row2\" class=\"row_heading level0 row2\" >f1-score</th>\n",
       "      <td id=\"T_99c40_row2_col0\" class=\"data row2 col0\" >0.436772</td>\n",
       "      <td id=\"T_99c40_row2_col1\" class=\"data row2 col1\" >0.794598</td>\n",
       "      <td id=\"T_99c40_row2_col2\" class=\"data row2 col2\" >0.824142</td>\n",
       "      <td id=\"T_99c40_row2_col3\" class=\"data row2 col3\" >0.781886</td>\n",
       "      <td id=\"T_99c40_row2_col4\" class=\"data row2 col4\" >0.685171</td>\n",
       "      <td id=\"T_99c40_row2_col5\" class=\"data row2 col5\" >0.784237</td>\n",
       "    </tr>\n",
       "    <tr>\n",
       "      <th id=\"T_99c40_level0_row3\" class=\"row_heading level0 row3\" >support</th>\n",
       "      <td id=\"T_99c40_row3_col0\" class=\"data row3 col0\" >1098.000000</td>\n",
       "      <td id=\"T_99c40_row3_col1\" class=\"data row3 col1\" >5661.000000</td>\n",
       "      <td id=\"T_99c40_row3_col2\" class=\"data row3 col2\" >8091.000000</td>\n",
       "      <td id=\"T_99c40_row3_col3\" class=\"data row3 col3\" >0.781886</td>\n",
       "      <td id=\"T_99c40_row3_col4\" class=\"data row3 col4\" >14850.000000</td>\n",
       "      <td id=\"T_99c40_row3_col5\" class=\"data row3 col5\" >14850.000000</td>\n",
       "    </tr>\n",
       "  </tbody>\n",
       "</table>\n"
      ],
      "text/plain": [
       "<pandas.io.formats.style.Styler at 0x109fce990>"
      ]
     },
     "metadata": {},
     "output_type": "display_data"
    },
    {
     "data": {
      "text/html": [
       "<style type=\"text/css\">\n",
       "</style>\n",
       "<table id=\"T_e45f2\">\n",
       "  <caption>resampled data (n = 20000)</caption>\n",
       "  <thead>\n",
       "    <tr>\n",
       "      <th class=\"blank level0\" >&nbsp;</th>\n",
       "      <th id=\"T_e45f2_level0_col0\" class=\"col_heading level0 col0\" >0</th>\n",
       "      <th id=\"T_e45f2_level0_col1\" class=\"col_heading level0 col1\" >1</th>\n",
       "      <th id=\"T_e45f2_level0_col2\" class=\"col_heading level0 col2\" >2</th>\n",
       "      <th id=\"T_e45f2_level0_col3\" class=\"col_heading level0 col3\" >accuracy</th>\n",
       "      <th id=\"T_e45f2_level0_col4\" class=\"col_heading level0 col4\" >macro avg</th>\n",
       "      <th id=\"T_e45f2_level0_col5\" class=\"col_heading level0 col5\" >weighted avg</th>\n",
       "    </tr>\n",
       "  </thead>\n",
       "  <tbody>\n",
       "    <tr>\n",
       "      <th id=\"T_e45f2_level0_row0\" class=\"row_heading level0 row0\" >precision</th>\n",
       "      <td id=\"T_e45f2_row0_col0\" class=\"data row0 col0\" >0.387755</td>\n",
       "      <td id=\"T_e45f2_row0_col1\" class=\"data row0 col1\" >0.824558</td>\n",
       "      <td id=\"T_e45f2_row0_col2\" class=\"data row0 col2\" >0.815991</td>\n",
       "      <td id=\"T_e45f2_row0_col3\" class=\"data row0 col3\" >0.779461</td>\n",
       "      <td id=\"T_e45f2_row0_col4\" class=\"data row0 col4\" >0.676101</td>\n",
       "      <td id=\"T_e45f2_row0_col5\" class=\"data row0 col5\" >0.787593</td>\n",
       "    </tr>\n",
       "    <tr>\n",
       "      <th id=\"T_e45f2_level0_row1\" class=\"row_heading level0 row1\" >recall</th>\n",
       "      <td id=\"T_e45f2_row1_col0\" class=\"data row1 col0\" >0.484517</td>\n",
       "      <td id=\"T_e45f2_row1_col1\" class=\"data row1 col1\" >0.766296</td>\n",
       "      <td id=\"T_e45f2_row1_col2\" class=\"data row1 col2\" >0.828699</td>\n",
       "      <td id=\"T_e45f2_row1_col3\" class=\"data row1 col3\" >0.779461</td>\n",
       "      <td id=\"T_e45f2_row1_col4\" class=\"data row1 col4\" >0.693171</td>\n",
       "      <td id=\"T_e45f2_row1_col5\" class=\"data row1 col5\" >0.779461</td>\n",
       "    </tr>\n",
       "    <tr>\n",
       "      <th id=\"T_e45f2_level0_row2\" class=\"row_heading level0 row2\" >f1-score</th>\n",
       "      <td id=\"T_e45f2_row2_col0\" class=\"data row2 col0\" >0.430769</td>\n",
       "      <td id=\"T_e45f2_row2_col1\" class=\"data row2 col1\" >0.794360</td>\n",
       "      <td id=\"T_e45f2_row2_col2\" class=\"data row2 col2\" >0.822296</td>\n",
       "      <td id=\"T_e45f2_row2_col3\" class=\"data row2 col3\" >0.779461</td>\n",
       "      <td id=\"T_e45f2_row2_col4\" class=\"data row2 col4\" >0.682475</td>\n",
       "      <td id=\"T_e45f2_row2_col5\" class=\"data row2 col5\" >0.782697</td>\n",
       "    </tr>\n",
       "    <tr>\n",
       "      <th id=\"T_e45f2_level0_row3\" class=\"row_heading level0 row3\" >support</th>\n",
       "      <td id=\"T_e45f2_row3_col0\" class=\"data row3 col0\" >1098.000000</td>\n",
       "      <td id=\"T_e45f2_row3_col1\" class=\"data row3 col1\" >5661.000000</td>\n",
       "      <td id=\"T_e45f2_row3_col2\" class=\"data row3 col2\" >8091.000000</td>\n",
       "      <td id=\"T_e45f2_row3_col3\" class=\"data row3 col3\" >0.779461</td>\n",
       "      <td id=\"T_e45f2_row3_col4\" class=\"data row3 col4\" >14850.000000</td>\n",
       "      <td id=\"T_e45f2_row3_col5\" class=\"data row3 col5\" >14850.000000</td>\n",
       "    </tr>\n",
       "  </tbody>\n",
       "</table>\n"
      ],
      "text/plain": [
       "<pandas.io.formats.style.Styler at 0x167159690>"
      ]
     },
     "metadata": {},
     "output_type": "display_data"
    },
    {
     "name": "stdout",
     "output_type": "stream",
     "text": [
      "\n",
      "\n",
      "\n"
     ]
    }
   ],
   "source": [
    "master_dict = {}\n",
    "for name in estimators.keys():\n",
    "    ap1 = ap1_dict[name][2]\n",
    "    ap2 = ap2_dict[name][2]\n",
    "    ap3 = ap3_dict[name][2]\n",
    "    ap4 = ap4_dict[name][2]\n",
    "    ap5 = ap5_dict[name][2]\n",
    "#     ap6 = ap6_dict[name][3]\n",
    "    master_dict[name]=[ap1,ap2,ap3,ap4,ap5]\n",
    "    \n",
    "print(\"\\n\")\n",
    "for name, results in master_dict.items():\n",
    "    print(color.BOLD + name + color.END)\n",
    "    display(results[0].style.set_caption(\"original data\"))\n",
    "    display(results[1].style.set_caption(\"resampled data\"))\n",
    "    display(results[2].style.set_caption(\"resampled data (n = 10000)\"))\n",
    "    display(results[3].style.set_caption(\"resampled data (n = 15000)\"))\n",
    "    display(results[4].style.set_caption(\"resampled data (n = 20000)\"))\n",
    "#     display(results[5].style.set_caption(\"resampled samples\"))\n",
    "    print(\"\\n\\n\")"
   ]
  },
  {
   "cell_type": "code",
   "execution_count": null,
   "id": "154dc1ca",
   "metadata": {},
   "outputs": [],
   "source": []
  }
 ],
 "metadata": {
  "kernelspec": {
   "display_name": "Python (learn-env)",
   "language": "python",
   "name": "learn-env"
  },
  "language_info": {
   "codemirror_mode": {
    "name": "ipython",
    "version": 3
   },
   "file_extension": ".py",
   "mimetype": "text/x-python",
   "name": "python",
   "nbconvert_exporter": "python",
   "pygments_lexer": "ipython3",
   "version": "3.11.5"
  }
 },
 "nbformat": 4,
 "nbformat_minor": 5
}
