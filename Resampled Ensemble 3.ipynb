{
 "cells": [
  {
   "cell_type": "code",
   "execution_count": 172,
   "id": "fc642572",
   "metadata": {},
   "outputs": [],
   "source": [
    "import numpy as np\n",
    "import pandas as pd\n",
    "from tqdm import tqdm\n",
    "from sklearn.model_selection import train_test_split, cross_val_score, StratifiedKFold\n",
    "from sklearn.linear_model import LinearRegression, LogisticRegression, Ridge, Lasso\n",
    "from sklearn.preprocessing import MinMaxScaler, StandardScaler, OneHotEncoder, OrdinalEncoder\n",
    "from sklearn.metrics import accuracy_score, get_scorer_names, confusion_matrix, classification_report\n",
    "from sklearn.tree import DecisionTreeClassifier\n",
    "from sklearn import tree\n",
    "from sklearn.model_selection import GridSearchCV\n",
    "from sklearn.neighbors import KNeighborsClassifier\n",
    "from sklearn.ensemble import BaggingClassifier, RandomForestClassifier, AdaBoostClassifier, GradientBoostingClassifier, VotingClassifier\n",
    "from sklearn.ensemble import HistGradientBoostingClassifier, ExtraTreesClassifier\n",
    "from sklearn.ensemble import StackingClassifier\n",
    "from sklearn.naive_bayes import GaussianNB, CategoricalNB\n",
    "from sklearn.feature_selection import SelectKBest, chi2, mutual_info_classif\n",
    "from xgboost import XGBClassifier\n",
    "import xgboost as xgb\n",
    "import matplotlib.pyplot as plt\n",
    "import seaborn as sns\n",
    "from sklearn.pipeline import Pipeline\n",
    "from imblearn.over_sampling import SMOTE\n",
    "import warnings\n",
    "warnings.simplefilter(action='ignore', category=FutureWarning)\n",
    "from statistics import mode as md\n",
    "from matplotlib import pyplot as plt\n",
    "from IPython.display import clear_output\n",
    "from collections import Counter"
   ]
  },
  {
   "cell_type": "code",
   "execution_count": 173,
   "id": "7f83abc9",
   "metadata": {},
   "outputs": [],
   "source": [
    "testing = pd.read_csv(\"tanzanian_water_wells/X_test.csv\")\n",
    "X = pd.read_csv(\"tanzanian_water_wells/X_train.csv\")\n",
    "y = pd.read_csv(\"tanzanian_water_wells/y_train.csv\")['status_group'].map({'functional': 0, 'functional needs repair': 1, 'non functional': 2})"
   ]
  },
  {
   "cell_type": "code",
   "execution_count": 174,
   "id": "d75f0047",
   "metadata": {},
   "outputs": [],
   "source": [
    "X = X.drop(['id', 'wpt_name', 'subvillage', 'installer', 'funder', 'scheme_name', 'ward', 'date_recorded', 'recorded_by'], axis=1)\n",
    "testing = testing.drop(['id', 'wpt_name', 'subvillage', 'installer', 'funder', 'scheme_name', 'ward', 'date_recorded', 'recorded_by'], axis=1)"
   ]
  },
  {
   "cell_type": "code",
   "execution_count": 175,
   "id": "b3f9c3d0",
   "metadata": {},
   "outputs": [],
   "source": [
    "# Eliminating null values from X_train\n",
    "X.scheme_management.fillna(\"None\", inplace=True)\n",
    "X.permit.fillna('Unknown', inplace=True)\n",
    "X.public_meeting.fillna('Unknown', inplace=True)"
   ]
  },
  {
   "cell_type": "code",
   "execution_count": 176,
   "id": "106e4f98",
   "metadata": {},
   "outputs": [],
   "source": [
    "# X['public_meeting'] = X['public_meeting'].map({True: 'Yes', False: 'No', 'Unknown': 'Unknown'})\n",
    "X['permit'] = X['permit'].map({True: 'Yes', False: 'No', 'Unknown': 'Unknown'})\n",
    "X['gps_height'] = X['gps_height'].astype('float64')\n",
    "# X['district_code'] = X['district_code'].astype('float64')\n",
    "X['population'] = X['population'].astype('float64')\n",
    "X['construction_year'] = X['construction_year'].astype('int64')\n",
    "X['region_code'] = X['region_code'].astype('str')\n",
    "X['district_code'] = X['district_code'].astype('str')\n",
    "\n",
    "X_cat = X.select_dtypes(exclude=['float64', 'int64'])\n",
    "X_cat = X_cat.astype('str')\n",
    "X_numeric = X.select_dtypes(['float64', 'int64'])"
   ]
  },
  {
   "cell_type": "code",
   "execution_count": 177,
   "id": "747af6d5",
   "metadata": {},
   "outputs": [],
   "source": [
    "X_cat = X_cat.drop(['quantity', 'waterpoint_type_group', 'extraction_type_group', \n",
    "                    'region', 'extraction_type', 'payment_type', 'source_type', \n",
    "                    'management_group', 'water_quality', 'source_class', \n",
    "                    'region_code', 'district_code'], axis=1)\n",
    "\n",
    "testing = testing.drop(['quantity', 'waterpoint_type_group', 'extraction_type_group', \n",
    "                    'region', 'extraction_type', 'payment_type', 'source_type', \n",
    "                    'management_group', 'water_quality', 'source_class', \n",
    "                    'region_code', 'district_code'], axis=1)"
   ]
  },
  {
   "cell_type": "code",
   "execution_count": 178,
   "id": "65924cae",
   "metadata": {},
   "outputs": [],
   "source": [
    "X_cat = pd.get_dummies(X_cat)"
   ]
  },
  {
   "cell_type": "code",
   "execution_count": 179,
   "id": "119fc712",
   "metadata": {},
   "outputs": [],
   "source": [
    "scaler = StandardScaler()\n",
    "scaler.fit(X_numeric)\n",
    "X_numeric = pd.DataFrame(scaler.transform(X_numeric), columns = X_numeric.columns, index = X_numeric.index)"
   ]
  },
  {
   "cell_type": "code",
   "execution_count": 180,
   "id": "48ca4e4f",
   "metadata": {},
   "outputs": [],
   "source": [
    "X = pd.concat([X_numeric, X_cat], axis=1)"
   ]
  },
  {
   "cell_type": "code",
   "execution_count": 181,
   "id": "82a36c90",
   "metadata": {},
   "outputs": [],
   "source": [
    "df = pd.concat([X, y], axis=1)"
   ]
  },
  {
   "cell_type": "code",
   "execution_count": 182,
   "id": "fbc61775",
   "metadata": {},
   "outputs": [],
   "source": [
    "estimators = {'logreg': LogisticRegression(solver='liblinear', fit_intercept=False), \n",
    "              'dtc': DecisionTreeClassifier(), \n",
    "              'knn': KNeighborsClassifier(n_neighbors=3), \n",
    "              'bg_clf': BaggingClassifier(estimator=DecisionTreeClassifier(), n_estimators=50, max_features=50), \n",
    "              'forest': RandomForestClassifier(), \n",
    "              'xgb': XGBClassifier(), \n",
    "              'adaboost': AdaBoostClassifier(estimator=DecisionTreeClassifier(), n_estimators=100, random_state=42), \n",
    "              'gb_clf': GradientBoostingClassifier(random_state=42, n_estimators=200, max_features=50), \n",
    "              'extra_trees': ExtraTreesClassifier(n_estimators=100, random_state=42), \n",
    "              'stck': StackingClassifier(\n",
    "        estimators = [('logistic_regression', LogisticRegression(solver='liblinear', fit_intercept=False)), \n",
    "                      ('bagging_classifier', BaggingClassifier(estimator=DecisionTreeClassifier(), n_estimators=50, max_features=50))], \n",
    "        final_estimator = XGBClassifier())}"
   ]
  },
  {
   "cell_type": "code",
   "execution_count": 183,
   "id": "bcfeb9b0",
   "metadata": {},
   "outputs": [],
   "source": [
    "strategy = {1: 20000}\n",
    "smote = SMOTE()\n",
    "\n",
    "X_train, X_test, y_train, y_test = train_test_split(X, y)\n",
    "\n",
    "X_train = X_train.reset_index(drop=True)\n",
    "X_test = X_test.reset_index(drop=True)\n",
    "y_train = y_train.reset_index(drop=True)\n",
    "y_test = y_test.reset_index(drop=True)\n",
    "\n",
    "X_train_resampled, y_train_resampled = smote.fit_resample(X_train, y_train)\n",
    "X_test_resampled, y_test_resampled = smote.fit_resample(X_test, y_test) #don't need\n",
    "\n",
    "X_train_resampled = X_train_resampled.reset_index(drop=True)\n",
    "X_test_resampled = X_test_resampled.reset_index(drop=True) #don't need\n",
    "y_train_resampled = y_train_resampled.reset_index(drop=True)\n",
    "y_test_resampled = y_test_resampled.reset_index(drop=True) #don't need\n",
    "\n",
    "df_resampled = pd.concat([X_train_resampled, y_train_resampled], axis=1)\n",
    "\n",
    "f = df_resampled[df_resampled.status_group == 0].reset_index(drop=True).copy()\n",
    "nf = df_resampled[df_resampled.status_group == 2].reset_index(drop=True).copy()\n",
    "fnr = df_resampled[df_resampled.status_group == 1].reset_index(drop=True).copy()\n",
    "\n",
    "f = f.sample(frac=1)\n",
    "nf = nf.sample(frac=1)\n",
    "fnr = fnr.sample(frac=1)\n",
    "\n",
    "fs = [pd.DataFrame(i) for i in np.array_split(f, len(f)//1000)]\n",
    "nfs = [pd.DataFrame(i) for i in np.array_split(nf, len(nf)//1000)]\n",
    "fnrs = [pd.DataFrame(i) for i in np.array_split(fnr, len(fnr)//1000)]\n",
    "\n",
    "resamples = []\n",
    "\n",
    "for i in range(len(fnrs)):\n",
    "    resample = pd.concat([fs[i], nfs[i], fnrs[i]])\n",
    "    resamples.append(resample)"
   ]
  },
  {
   "cell_type": "code",
   "execution_count": 184,
   "id": "c91172a3",
   "metadata": {},
   "outputs": [
    {
     "name": "stdout",
     "output_type": "stream",
     "text": [
      "Sample: #23\n",
      "Estimator: StackingClassifier(estimators=[('logistic_regression',\n",
      "                                LogisticRegression(fit_intercept=False,\n",
      "                                                   solver='liblinear')),\n",
      "                               ('bagging_classifier',\n",
      "                                BaggingClassifier(estimator=DecisionTreeClassifier(),\n",
      "                                                  max_features=50,\n",
      "                                                  n_estimators=50))],\n",
      "                   final_estimator=XGBClassifier(base_score=None, booster=None,\n",
      "                                                 callbacks=None,\n",
      "                                                 colsample_bylevel=None,\n",
      "                                                 colsample_bynode=None,\n",
      "                                                 colsamp...\n",
      "                                                 gpu_id=None, grow_policy=None,\n",
      "                                                 importance_type=None,\n",
      "                                                 interaction_constraints=None,\n",
      "                                                 learning_rate=None,\n",
      "                                                 max_bin=None,\n",
      "                                                 max_cat_threshold=None,\n",
      "                                                 max_cat_to_onehot=None,\n",
      "                                                 max_delta_step=None,\n",
      "                                                 max_depth=None,\n",
      "                                                 max_leaves=None,\n",
      "                                                 min_child_weight=None,\n",
      "                                                 missing=nan,\n",
      "                                                 monotone_constraints=None,\n",
      "                                                 n_estimators=100, n_jobs=None,\n",
      "                                                 num_parallel_tree=None,\n",
      "                                                 predictor=None,\n",
      "                                                 random_state=None, ...))\n"
     ]
    }
   ],
   "source": [
    "master_preds = []\n",
    "\n",
    "for est in estimators.values():\n",
    "\n",
    "    models = []\n",
    "    preds = []\n",
    "    modes=[]\n",
    "    counters=[]\n",
    "    dfs = []\n",
    "\n",
    "    for i in range(len(resamples)):\n",
    "        estimator =  est\n",
    "        X = resamples[i].drop(['status_group'], axis=1)\n",
    "        y = resamples[i]['status_group']\n",
    "        estimator.fit(X, y)\n",
    "        pred = estimator.predict(X_test)\n",
    "        preds.append(pred)\n",
    "        models.append(estimator)\n",
    "        \n",
    "        clear_output(wait=True)\n",
    "        print(f\"Sample: #{i}\")\n",
    "        print(f\"Estimator: {est}\")\n",
    "        clear_output(wait=True)\n",
    "\n",
    "\n",
    "    for i in range(len(preds[0])):\n",
    "        mode = md([pred[i] for pred in preds])\n",
    "        counter = Counter([pred[i] for pred in preds])\n",
    "        counters.append(counter)\n",
    "        modes.append(mode)\n",
    "\n",
    "    pred_df = pd.DataFrame({n: preds[n] for n in range(len(preds))})\n",
    "    pred_df['mode'] = modes\n",
    "    pred_df['original'] = y_test\n",
    "    dfs.append(pred_df)\n",
    "    \n",
    "    master_preds.append(modes)"
   ]
  },
  {
   "cell_type": "code",
   "execution_count": 185,
   "id": "9855db21",
   "metadata": {},
   "outputs": [],
   "source": [
    "master_pred_df = pd.DataFrame({list(estimators.keys())[i]: master_preds[i] for i in range(len(master_preds))})\n",
    "\n",
    "master_modes = []\n",
    "\n",
    "for i in range(len(master_preds[0])):\n",
    "    mode = md([master_pred[i] for master_pred in master_preds])\n",
    "    counter = Counter([master_pred[i] for master_pred in master_preds])\n",
    "    counters.append(counter)\n",
    "    master_modes.append(mode)\n",
    "\n",
    "master_pred_df['mode'] = master_modes\n",
    "master_pred_df['original'] = y_test\n",
    "\n",
    "matrix_labels = ['functional', 'functional needs repair', \n",
    "                 'non functional']\n",
    "\n",
    "matrix = pd.DataFrame(confusion_matrix(master_pred_df['mode'], y_test), columns=matrix_labels, index=matrix_labels)\n",
    "report = pd.DataFrame(classification_report(master_pred_df['mode'], y_test, output_dict=True))"
   ]
  },
  {
   "cell_type": "code",
   "execution_count": 186,
   "id": "e01130fd",
   "metadata": {},
   "outputs": [
    {
     "data": {
      "text/html": [
       "<div>\n",
       "<style scoped>\n",
       "    .dataframe tbody tr th:only-of-type {\n",
       "        vertical-align: middle;\n",
       "    }\n",
       "\n",
       "    .dataframe tbody tr th {\n",
       "        vertical-align: top;\n",
       "    }\n",
       "\n",
       "    .dataframe thead th {\n",
       "        text-align: right;\n",
       "    }\n",
       "</style>\n",
       "<table border=\"1\" class=\"dataframe\">\n",
       "  <thead>\n",
       "    <tr style=\"text-align: right;\">\n",
       "      <th></th>\n",
       "      <th>functional</th>\n",
       "      <th>functional needs repair</th>\n",
       "      <th>non functional</th>\n",
       "    </tr>\n",
       "  </thead>\n",
       "  <tbody>\n",
       "    <tr>\n",
       "      <th>functional</th>\n",
       "      <td>6019</td>\n",
       "      <td>215</td>\n",
       "      <td>1256</td>\n",
       "    </tr>\n",
       "    <tr>\n",
       "      <th>functional needs repair</th>\n",
       "      <td>1338</td>\n",
       "      <td>729</td>\n",
       "      <td>558</td>\n",
       "    </tr>\n",
       "    <tr>\n",
       "      <th>non functional</th>\n",
       "      <td>687</td>\n",
       "      <td>108</td>\n",
       "      <td>3940</td>\n",
       "    </tr>\n",
       "  </tbody>\n",
       "</table>\n",
       "</div>"
      ],
      "text/plain": [
       "                         functional  functional needs repair  non functional\n",
       "functional                     6019                      215            1256\n",
       "functional needs repair        1338                      729             558\n",
       "non functional                  687                      108            3940"
      ]
     },
     "execution_count": 186,
     "metadata": {},
     "output_type": "execute_result"
    }
   ],
   "source": [
    "matrix"
   ]
  },
  {
   "cell_type": "code",
   "execution_count": 187,
   "id": "3c0ffb70",
   "metadata": {},
   "outputs": [
    {
     "data": {
      "text/html": [
       "<div>\n",
       "<style scoped>\n",
       "    .dataframe tbody tr th:only-of-type {\n",
       "        vertical-align: middle;\n",
       "    }\n",
       "\n",
       "    .dataframe tbody tr th {\n",
       "        vertical-align: top;\n",
       "    }\n",
       "\n",
       "    .dataframe thead th {\n",
       "        text-align: right;\n",
       "    }\n",
       "</style>\n",
       "<table border=\"1\" class=\"dataframe\">\n",
       "  <thead>\n",
       "    <tr style=\"text-align: right;\">\n",
       "      <th></th>\n",
       "      <th>0</th>\n",
       "      <th>1</th>\n",
       "      <th>2</th>\n",
       "      <th>accuracy</th>\n",
       "      <th>macro avg</th>\n",
       "      <th>weighted avg</th>\n",
       "    </tr>\n",
       "  </thead>\n",
       "  <tbody>\n",
       "    <tr>\n",
       "      <th>precision</th>\n",
       "      <td>0.748260</td>\n",
       "      <td>0.692966</td>\n",
       "      <td>0.684741</td>\n",
       "      <td>0.719731</td>\n",
       "      <td>0.708655</td>\n",
       "      <td>0.718232</td>\n",
       "    </tr>\n",
       "    <tr>\n",
       "      <th>recall</th>\n",
       "      <td>0.803605</td>\n",
       "      <td>0.277714</td>\n",
       "      <td>0.832101</td>\n",
       "      <td>0.719731</td>\n",
       "      <td>0.637807</td>\n",
       "      <td>0.719731</td>\n",
       "    </tr>\n",
       "    <tr>\n",
       "      <th>f1-score</th>\n",
       "      <td>0.774945</td>\n",
       "      <td>0.396519</td>\n",
       "      <td>0.751263</td>\n",
       "      <td>0.719731</td>\n",
       "      <td>0.640909</td>\n",
       "      <td>0.700501</td>\n",
       "    </tr>\n",
       "    <tr>\n",
       "      <th>support</th>\n",
       "      <td>7490.000000</td>\n",
       "      <td>2625.000000</td>\n",
       "      <td>4735.000000</td>\n",
       "      <td>0.719731</td>\n",
       "      <td>14850.000000</td>\n",
       "      <td>14850.000000</td>\n",
       "    </tr>\n",
       "  </tbody>\n",
       "</table>\n",
       "</div>"
      ],
      "text/plain": [
       "                     0            1            2  accuracy     macro avg  \\\n",
       "precision     0.748260     0.692966     0.684741  0.719731      0.708655   \n",
       "recall        0.803605     0.277714     0.832101  0.719731      0.637807   \n",
       "f1-score      0.774945     0.396519     0.751263  0.719731      0.640909   \n",
       "support    7490.000000  2625.000000  4735.000000  0.719731  14850.000000   \n",
       "\n",
       "           weighted avg  \n",
       "precision      0.718232  \n",
       "recall         0.719731  \n",
       "f1-score       0.700501  \n",
       "support    14850.000000  "
      ]
     },
     "execution_count": 187,
     "metadata": {},
     "output_type": "execute_result"
    }
   ],
   "source": [
    "report"
   ]
  },
  {
   "cell_type": "code",
   "execution_count": 188,
   "id": "b3adeaf0",
   "metadata": {},
   "outputs": [
    {
     "data": {
      "text/plain": [
       "logreg         0.761048\n",
       "dtc            0.787200\n",
       "knn            0.728264\n",
       "bg_clf         0.810855\n",
       "forest         0.835966\n",
       "xgb            0.821709\n",
       "adaboost       0.792570\n",
       "gb_clf         0.799033\n",
       "extra_trees    0.810397\n",
       "stck           0.818594\n",
       "dtype: float64"
      ]
     },
     "execution_count": 188,
     "metadata": {},
     "output_type": "execute_result"
    }
   ],
   "source": [
    "master_pred_df.drop(['mode', 'original'], axis=1).corr().mean()"
   ]
  },
  {
   "cell_type": "code",
   "execution_count": 194,
   "id": "a03da84a",
   "metadata": {},
   "outputs": [
    {
     "data": {
      "text/plain": [
       "<Axes: >"
      ]
     },
     "execution_count": 194,
     "metadata": {},
     "output_type": "execute_result"
    },
    {
     "data": {
      "image/png": "[encoded data removed]",
      "text/plain": [
       "<Figure size 640x480 with 2 Axes>"
      ]
     },
     "metadata": {},
     "output_type": "display_data"
    }
   ],
   "source": [
    "sns.heatmap(master_pred_df.drop(['mode', 'original'], axis=1).corr())"
   ]
  },
  {
   "cell_type": "code",
   "execution_count": null,
   "id": "7752a2c4",
   "metadata": {},
   "outputs": [],
   "source": []
  }
 ],
 "metadata": {
  "kernelspec": {
   "display_name": "Python (learn-env)",
   "language": "python",
   "name": "learn-env"
  },
  "language_info": {
   "codemirror_mode": {
    "name": "ipython",
    "version": 3
   },
   "file_extension": ".py",
   "mimetype": "text/x-python",
   "name": "python",
   "nbconvert_exporter": "python",
   "pygments_lexer": "ipython3",
   "version": "3.11.5"
  }
 },
 "nbformat": 4,
 "nbformat_minor": 5
}
